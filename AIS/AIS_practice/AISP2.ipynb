{
 "nbformat": 4,
 "nbformat_minor": 0,
 "metadata": {
  "colab": {
   "provenance": []
  },
  "kernelspec": {
   "name": "python3",
   "display_name": "Python 3 (ipykernel)",
   "language": "python"
  },
  "language_info": {
   "name": "python"
  }
 },
 "cells": [
  {
   "cell_type": "markdown",
   "source": [
    "# Практическая работа №2\n",
    "## по предмету \"Системы искусственного интеллекта\"\n",
    "\n",
    "Целью практической работы является изучение моделей машинного обучения для задачи регрессии.\n",
    "\n",
    "Выполните предварительную обработку и анализ набора данных.\n",
    "\n",
    "Затем вам необходимо выбрать 3 модели машинного обучения, которые могут решать задачу регрессии, и обучить их на основе данного набора данных. Обязательным условием является построение графика изменения loss для каждой из выбранных моделей. В результате выполнения работы необходимо сделать вывод, какая из моделей лучше подошла для решения поставленной задачи."
   ],
   "metadata": {
    "id": "wwHZs5pbv5lw"
   }
  },
  {
   "cell_type": "code",
   "source": [
    "import pandas as pd\n",
    "import numpy as np\n",
    "import matplotlib.pyplot as plt\n",
    "import seaborn as sns\n"
   ],
   "metadata": {
    "id": "EP_MhQGkw5sW",
    "ExecuteTime": {
     "end_time": "2024-10-28T16:21:18.278540Z",
     "start_time": "2024-10-28T16:21:18.274239Z"
    }
   },
   "execution_count": 1,
   "outputs": []
  },
  {
   "metadata": {
    "ExecuteTime": {
     "end_time": "2024-10-28T16:21:18.707413Z",
     "start_time": "2024-10-28T16:21:18.684391Z"
    }
   },
   "cell_type": "code",
   "source": [
    "df = pd.read_csv('Datasets/AISP2.csv')\n",
    "df"
   ],
   "execution_count": 2,
   "outputs": []
  },
  {
   "metadata": {
    "ExecuteTime": {
     "end_time": "2024-10-28T16:21:19.147069Z",
     "start_time": "2024-10-28T16:21:19.139535Z"
    }
   },
   "cell_type": "code",
   "source": "df.info()",
   "execution_count": 3,
   "outputs": []
  },
  {
   "metadata": {
    "ExecuteTime": {
     "end_time": "2024-10-28T16:21:19.621018Z",
     "start_time": "2024-10-28T16:21:19.615436Z"
    }
   },
   "cell_type": "code",
   "source": "df.processor_gnrtn.value_counts()",
   "execution_count": 4,
   "outputs": []
  },
  {
   "metadata": {
    "ExecuteTime": {
     "end_time": "2024-10-28T16:21:20.380654Z",
     "start_time": "2024-10-28T16:21:20.377041Z"
    }
   },
   "cell_type": "code",
   "source": "df.loc[df.processor_gnrtn == 'Not Available', 'processor_gnrtn'] = np.nan",
   "execution_count": 5,
   "outputs": []
  },
  {
   "metadata": {
    "ExecuteTime": {
     "end_time": "2024-10-28T16:21:21.239609Z",
     "start_time": "2024-10-28T16:21:21.226278Z"
    }
   },
   "cell_type": "code",
   "source": "df = df.fillna(df.mode().iloc[0])",
   "execution_count": 6,
   "outputs": []
  },
  {
   "metadata": {},
   "cell_type": "markdown",
   "source": ""
  },
  {
   "metadata": {
    "ExecuteTime": {
     "end_time": "2024-10-28T16:21:22.282528Z",
     "start_time": "2024-10-28T16:21:22.136607Z"
    }
   },
   "cell_type": "code",
   "source": "from DataFrameOperations import *",
   "execution_count": 7,
   "outputs": []
  },
  {
   "metadata": {
    "ExecuteTime": {
     "end_time": "2024-10-28T16:21:22.641634Z",
     "start_time": "2024-10-28T16:21:22.620561Z"
    }
   },
   "cell_type": "code",
   "source": [
    "full_df: pd.DataFrame = kill_0GB(df, ['ssd', 'hdd', 'graphic_card_gb'])\n",
    "full_df"
   ],
   "execution_count": 8,
   "outputs": []
  },
  {
   "metadata": {
    "ExecuteTime": {
     "end_time": "2024-10-28T16:22:10.137013Z",
     "start_time": "2024-10-28T16:22:10.117979Z"
    }
   },
   "cell_type": "code",
   "source": "full_df_final: pd.DataFrame = made_all_to_categorical(full_df)",
   "execution_count": 11,
   "outputs": []
  },
  {
   "metadata": {
    "ExecuteTime": {
     "end_time": "2024-10-28T16:22:14.385003Z",
     "start_time": "2024-10-28T16:22:14.379773Z"
    }
   },
   "cell_type": "code",
   "source": "full_df_final.graphic_card_gb.value_counts()",
   "execution_count": 12,
   "outputs": []
  },
  {
   "metadata": {
    "ExecuteTime": {
     "end_time": "2024-10-28T16:22:19.108812Z",
     "start_time": "2024-10-28T16:22:18.909815Z"
    }
   },
   "cell_type": "code",
   "source": "sns.histplot(data=full_df_final, x='Price')",
   "execution_count": 13,
   "outputs": []
  },
  {
   "metadata": {
    "ExecuteTime": {
     "end_time": "2024-10-28T16:22:25.647765Z",
     "start_time": "2024-10-28T16:22:25.643163Z"
    }
   },
   "cell_type": "code",
   "source": "full_df_final: pd.DataFrame = full_df_final.drop(full_df_final[full_df_final['Price'] > 400_000].index)",
   "execution_count": 14,
   "outputs": []
  },
  {
   "metadata": {
    "ExecuteTime": {
     "end_time": "2024-10-28T16:22:28.304351Z",
     "start_time": "2024-10-28T16:22:28.043320Z"
    }
   },
   "cell_type": "code",
   "source": "sns.histplot(data=full_df_final, x='Price')",
   "execution_count": 15,
   "outputs": []
  },
  {
   "metadata": {},
   "cell_type": "markdown",
   "source": ""
  },
  {
   "metadata": {},
   "cell_type": "code",
   "source": "",
   "execution_count": null,
   "outputs": []
  },
  {
   "metadata": {},
   "cell_type": "markdown",
   "source": ""
  },
  {
   "metadata": {
    "ExecuteTime": {
     "end_time": "2024-10-28T16:22:36.620445Z",
     "start_time": "2024-10-28T16:22:36.576976Z"
    }
   },
   "cell_type": "code",
   "source": [
    "from sklearn.model_selection import train_test_split\n",
    "RANDOM_SEED: int = 42"
   ],
   "execution_count": 16,
   "outputs": []
  },
  {
   "metadata": {
    "ExecuteTime": {
     "end_time": "2024-10-28T16:22:37.049460Z",
     "start_time": "2024-10-28T16:22:37.045885Z"
    }
   },
   "cell_type": "code",
   "source": [
    "X = full_df_final.drop(columns='Price')\n",
    "y = full_df_final['Price']"
   ],
   "execution_count": 17,
   "outputs": []
  },
  {
   "metadata": {
    "ExecuteTime": {
     "end_time": "2024-10-28T16:22:37.454763Z",
     "start_time": "2024-10-28T16:22:37.449402Z"
    }
   },
   "cell_type": "code",
   "source": "X_train, X_test, y_train, y_test = train_test_split(X, y, random_state=RANDOM_SEED, test_size=0.2)",
   "execution_count": 18,
   "outputs": []
  },
  {
   "metadata": {},
   "cell_type": "markdown",
   "source": ""
  },
  {
   "metadata": {
    "ExecuteTime": {
     "end_time": "2024-10-28T16:33:22.096995Z",
     "start_time": "2024-10-28T16:33:22.088556Z"
    }
   },
   "cell_type": "code",
   "source": [
    "from sklearn.linear_model import LinearRegression\n",
    "\n",
    "lr = LinearRegression()\n",
    "lr.fit(X_train, y_train)\n",
    "lr.score(X_test, y_test)"
   ],
   "execution_count": 36,
   "outputs": []
  },
  {
   "metadata": {
    "ExecuteTime": {
     "end_time": "2024-10-28T16:33:38.733608Z",
     "start_time": "2024-10-28T16:33:38.503227Z"
    }
   },
   "cell_type": "code",
   "source": [
    "from sklearn.model_selection import LearningCurveDisplay\n",
    "\n",
    "LearningCurveDisplay.from_estimator(lr, X_test, y_test, cv=7, scoring='r2', n_jobs=-1)"
   ],
   "execution_count": 39,
   "outputs": []
  },
  {
   "metadata": {},
   "cell_type": "markdown",
   "source": ""
  },
  {
   "metadata": {},
   "cell_type": "markdown",
   "source": ""
  },
  {
   "metadata": {
    "ExecuteTime": {
     "end_time": "2024-10-28T16:38:42.214726Z",
     "start_time": "2024-10-28T16:38:42.204014Z"
    }
   },
   "cell_type": "code",
   "source": [
    "from sklearn.tree import DecisionTreeRegressor\n",
    "\n",
    "tree: DecisionTreeRegressor = DecisionTreeRegressor(random_state=RANDOM_SEED)\n",
    "tree.fit(X_train, y_train)\n",
    "tree.score(X_test, y_test)"
   ],
   "execution_count": 51,
   "outputs": []
  },
  {
   "metadata": {
    "ExecuteTime": {
     "end_time": "2024-10-28T16:39:11.493122Z",
     "start_time": "2024-10-28T16:39:11.273229Z"
    }
   },
   "cell_type": "code",
   "source": "LearningCurveDisplay.from_estimator(tree, X_test, y_test, cv=7, scoring='r2', n_jobs=-1)",
   "execution_count": 54,
   "outputs": []
  },
  {
   "metadata": {},
   "cell_type": "markdown",
   "source": ""
  },
  {
   "metadata": {
    "ExecuteTime": {
     "end_time": "2024-10-28T18:23:27.093797Z",
     "start_time": "2024-10-28T18:22:57.715996Z"
    }
   },
   "cell_type": "code",
   "source": [
    "from sklearn.ensemble import RandomForestRegressor\n",
    "\n",
    "RFS: RandomForestRegressor = RandomForestRegressor(n_estimators=10_000, random_state=RANDOM_SEED)\n",
    "\n",
    "RFS.fit(X_train, y_train)\n",
    "RFS.score(X_test, y_test)"
   ],
   "execution_count": 55,
   "outputs": []
  },
  {
   "metadata": {
    "ExecuteTime": {
     "end_time": "2024-10-28T18:24:19.808541Z",
     "start_time": "2024-10-28T18:23:27.094803Z"
    }
   },
   "cell_type": "code",
   "source": "LearningCurveDisplay.from_estimator(RFS, X_test, y_test, cv=7, scoring='r2', n_jobs=-1)",
   "execution_count": 56,
   "outputs": []
  },
  {
   "metadata": {},
   "cell_type": "code",
   "execution_count": null,
   "source": "",
   "outputs": []
  }
 ]
}
