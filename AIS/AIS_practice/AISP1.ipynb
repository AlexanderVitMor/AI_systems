{
 "cells": [
  {
   "cell_type": "markdown",
   "metadata": {},
   "source": [
    "# Практическая работа №1 \n",
    "## по предмету \"Системы искусственного интеллекта\""
   ]
  },
  {
   "cell_type": "markdown",
   "metadata": {},
   "source": [
    "В данной практической работе Вы будете работать с базой данных, посвященной баскетболу, которая включает в себя информацию об игроках, играх и командах. \n"
   ]
  },
  {
   "cell_type": "markdown",
   "metadata": {},
   "source": [
    "### Задание 1\n",
    "Вам необходимо запустить в docker базу данных PostgreSQL и выгрузить туда все данные из файла nba.sqlite, приложенного к лабороторной работе.\n",
    "Выгрузить данные можно с помощью утилиты pgloader (https://pgloader.readthedocs.io/en/latest/ref/sqlite.html)"
   ]
  },
  {
   "cell_type": "markdown",
   "metadata": {},
   "source": [
    "### Задание 2"
   ]
  },
  {
   "cell_type": "markdown",
   "metadata": {},
   "source": [
    "Загрузите данные из таблицы game. Посмотрите, какие есть типы игр в сезоне (season_type) и количество этих игр."
   ]
  },
  {
   "metadata": {
    "SqlCellData": {
     "data_source_name": "nba",
     "variableName$1": "df_sql"
    },
    "ExecuteTime": {
     "end_time": "2024-10-14T17:24:56.338516Z",
     "start_time": "2024-10-14T17:24:43.850736500Z"
    }
   },
   "cell_type": "code",
   "source": [
    "%%sql\n",
    "select *\n",
    "from game;\n"
   ],
   "execution_count": 1,
   "outputs": []
  },
  {
   "cell_type": "code",
   "metadata": {
    "ExecuteTime": {
     "end_time": "2024-10-14T17:24:56.342812Z",
     "start_time": "2024-10-14T17:24:56.339524Z"
    }
   },
   "source": "import pandas as pd",
   "execution_count": 2,
   "outputs": []
  },
  {
   "metadata": {
    "ExecuteTime": {
     "end_time": "2024-10-14T17:24:56.352693Z",
     "start_time": "2024-10-14T17:24:56.342812Z"
    }
   },
   "cell_type": "code",
   "source": [
    "df_game = df_sql\n",
    "df_game['season_type'].value_counts()"
   ],
   "execution_count": 3,
   "outputs": []
  },
  {
   "cell_type": "markdown",
   "metadata": {},
   "source": [
    "Нам понадобятся только регулярные игры сезона и play-off. Отделите эти игры в новый датафрейм."
   ]
  },
  {
   "cell_type": "code",
   "metadata": {
    "ExecuteTime": {
     "end_time": "2024-10-14T17:24:56.385204Z",
     "start_time": "2024-10-14T17:24:56.353700Z"
    }
   },
   "source": [
    "df_regular_play_off = df_game[(df_game['season_type'] == 'Playoffs') | (df_game['season_type'] == 'Regular Season')]\n",
    "df_regular_play_off['season_type'].value_counts()"
   ],
   "execution_count": 4,
   "outputs": []
  },
  {
   "cell_type": "markdown",
   "metadata": {},
   "source": [
    "В датах игр выделите только год, убрав день и месяц, в которых была проведена игра"
   ]
  },
  {
   "cell_type": "code",
   "metadata": {
    "ExecuteTime": {
     "end_time": "2024-10-14T17:24:56.412115Z",
     "start_time": "2024-10-14T17:24:56.386213Z"
    }
   },
   "source": [
    "df_regular_play_off['game_year'] = df_regular_play_off['game_date'].apply(lambda x: x.split('-')[0])\n",
    "df_regular_play_off['game_year']"
   ],
   "execution_count": 5,
   "outputs": []
  },
  {
   "cell_type": "markdown",
   "metadata": {},
   "source": [
    "Нас интересует общий счет, поэтому уберите столбцы pts_home и pts_away, заменив их стобцом с их суммой"
   ]
  },
  {
   "cell_type": "code",
   "metadata": {
    "ExecuteTime": {
     "end_time": "2024-10-14T17:24:56.420191Z",
     "start_time": "2024-10-14T17:24:56.413122Z"
    }
   },
   "source": [
    "df_regular_play_off['pts_home_away'] = df_regular_play_off['pts_home'] + df_regular_play_off['pts_away']\n",
    "df_regular_play_off['pts_home_away']"
   ],
   "execution_count": 6,
   "outputs": []
  },
  {
   "metadata": {
    "ExecuteTime": {
     "end_time": "2024-10-14T17:24:56.465629Z",
     "start_time": "2024-10-14T17:24:56.421198Z"
    }
   },
   "cell_type": "code",
   "source": "df_regular_play_off",
   "execution_count": 7,
   "outputs": []
  },
  {
   "cell_type": "markdown",
   "metadata": {},
   "source": [
    "Постройте график, где по оси Х будет год игр, а по оси Y - среднее количество очков за игру в этом году."
   ]
  },
  {
   "cell_type": "code",
   "metadata": {
    "ExecuteTime": {
     "end_time": "2024-10-14T17:24:58.823716Z",
     "start_time": "2024-10-14T17:24:56.466634Z"
    }
   },
   "source": [
    "import seaborn as sns\n",
    "\n",
    "sns.scatterplot(data=df_regular_play_off, x='game_year', y='pts_home_away', hue='season_type')"
   ],
   "execution_count": 8,
   "outputs": []
  },
  {
   "cell_type": "markdown",
   "metadata": {},
   "source": [
    "### Задание 3"
   ]
  },
  {
   "cell_type": "markdown",
   "metadata": {},
   "source": [
    "Выполните запрос к таблице draft_history, получив датафрейм."
   ]
  },
  {
   "metadata": {
    "SqlCellData": {
     "data_source_name": "nba",
     "variableName$1": "df_sql1"
    },
    "ExecuteTime": {
     "end_time": "2024-10-14T17:24:59.123819Z",
     "start_time": "2024-10-14T17:24:56.318225Z"
    }
   },
   "cell_type": "code",
   "source": [
    "%%sql\n",
    "SELECT * FROM draft_history;"
   ],
   "execution_count": 9,
   "outputs": []
  },
  {
   "cell_type": "code",
   "metadata": {
    "ExecuteTime": {
     "end_time": "2024-10-14T17:24:59.138750Z",
     "start_time": "2024-10-14T17:24:59.124332Z"
    }
   },
   "source": [
    "df = df_sql1\n",
    "df"
   ],
   "execution_count": 10,
   "outputs": []
  },
  {
   "cell_type": "markdown",
   "metadata": {},
   "source": [
    "Постройте график, где по оси X будет год, а по оси Y - количество выбранных игроков в этот год (каждая строка в таблице - выбранный игрок)."
   ]
  },
  {
   "cell_type": "code",
   "metadata": {
    "ExecuteTime": {
     "end_time": "2024-10-14T17:24:59.799708Z",
     "start_time": "2024-10-14T17:24:59.139757Z"
    }
   },
   "source": "sns.countplot(data=df, x='season')",
   "execution_count": 11,
   "outputs": []
  },
  {
   "cell_type": "markdown",
   "metadata": {},
   "source": [
    "### Задание 4"
   ]
  },
  {
   "cell_type": "markdown",
   "metadata": {},
   "source": [
    "Необходимо построить график, показывающий топ 10 школ, игроки из которых были выбраны. Для этого вам понадобятся таблицы common_player_info и draft_history."
   ]
  },
  {
   "metadata": {
    "SqlCellData": {
     "data_source_name": "nba",
     "variableName$1": "df_sql2"
    },
    "ExecuteTime": {
     "end_time": "2024-10-14T17:25:00.122250Z",
     "start_time": "2024-10-14T17:24:59.114938400Z"
    }
   },
   "cell_type": "code",
   "source": [
    "%%sql\n",
    "SELECT * FROM common_player_info;"
   ],
   "execution_count": 12,
   "outputs": []
  },
  {
   "metadata": {
    "SqlCellData": {
     "data_source_name": "nba",
     "variableName$1": "df_sql3"
    },
    "ExecuteTime": {
     "end_time": "2024-10-14T17:25:00.799Z",
     "start_time": "2024-10-14T17:25:00.107448700Z"
    }
   },
   "cell_type": "code",
   "source": [
    "%%sql\n",
    "SELECT * FROM draft_history"
   ],
   "execution_count": 13,
   "outputs": []
  },
  {
   "metadata": {
    "SqlCellData": {
     "data_source_name": "nba",
     "variableName$1": "df_sql4"
    },
    "ExecuteTime": {
     "end_time": "2024-10-14T17:25:01.511549Z",
     "start_time": "2024-10-14T17:25:00.787091400Z"
    }
   },
   "cell_type": "code",
   "source": [
    "%%sql\n",
    "SELECT * \n",
    "FROM common_player_info AS C\n",
    "INNER JOIN main.draft_history dh \n",
    "    ON C.person_id = dh.person_id"
   ],
   "execution_count": 14,
   "outputs": []
  },
  {
   "cell_type": "code",
   "metadata": {
    "ExecuteTime": {
     "end_time": "2024-10-14T17:25:01.517709Z",
     "start_time": "2024-10-14T17:25:01.512555Z"
    }
   },
   "source": [
    "df_draft = df_sql4\n",
    "df_draft['school'].value_counts().head(10)\n"
   ],
   "execution_count": 15,
   "outputs": []
  },
  {
   "metadata": {
    "ExecuteTime": {
     "end_time": "2024-10-14T17:25:01.523650Z",
     "start_time": "2024-10-14T17:25:01.518715Z"
    }
   },
   "cell_type": "code",
   "source": [
    "schools = df_draft['school'].value_counts().head(10)\n",
    "list(schools.index)"
   ],
   "execution_count": 16,
   "outputs": []
  },
  {
   "metadata": {
    "ExecuteTime": {
     "end_time": "2024-10-14T17:25:01.540905Z",
     "start_time": "2024-10-14T17:25:01.524658Z"
    }
   },
   "cell_type": "code",
   "source": [
    "df_top_10_school = df_draft[df_draft['school'].isin(schools.index)]\n",
    "df_top_10_school"
   ],
   "execution_count": 17,
   "outputs": []
  },
  {
   "metadata": {
    "ExecuteTime": {
     "end_time": "2024-10-14T17:25:01.724267Z",
     "start_time": "2024-10-14T17:25:01.541911Z"
    }
   },
   "cell_type": "code",
   "source": "sns.countplot(data=df_top_10_school, x='school')",
   "execution_count": 18,
   "outputs": []
  },
  {
   "cell_type": "markdown",
   "metadata": {},
   "source": [
    "### Задание 5"
   ]
  },
  {
   "cell_type": "markdown",
   "metadata": {},
   "source": [
    "Постройте график сравнения выигранных домашних и выездных игр в каждом году. Для этого используйте таблицу game."
   ]
  },
  {
   "cell_type": "code",
   "metadata": {
    "ExecuteTime": {
     "end_time": "2024-10-14T17:25:01.762238Z",
     "start_time": "2024-10-14T17:25:01.725273Z"
    }
   },
   "source": [
    "df_game = df_sql\n",
    "df_game"
   ],
   "execution_count": 19,
   "outputs": []
  },
  {
   "metadata": {
    "ExecuteTime": {
     "end_time": "2024-10-14T17:25:01.818547Z",
     "start_time": "2024-10-14T17:25:01.763245Z"
    }
   },
   "cell_type": "code",
   "source": [
    "df_game['game_year'] = df_game['game_date'].apply(lambda x: x.split('-')[0])\n",
    "df_game"
   ],
   "execution_count": 20,
   "outputs": []
  },
  {
   "metadata": {
    "ExecuteTime": {
     "end_time": "2024-10-14T17:25:10.660576Z",
     "start_time": "2024-10-14T17:25:01.819554Z"
    }
   },
   "cell_type": "code",
   "source": [
    "import matplotlib.pyplot as plt\n",
    "\n",
    "fig, axes = plt.subplots(1, 2, figsize=(15,7), dpi=300)\n",
    "\n",
    "sns.scatterplot(data=df_game, x='game_year', y='pts_home', hue='pts_away', ax=axes[0])\n",
    "sns.scatterplot(data=df_game, x='game_year', y='pts_away', hue='pts_home', ax=axes[1])\n"
   ],
   "execution_count": 21,
   "outputs": []
  },
  {
   "cell_type": "markdown",
   "metadata": {},
   "source": [
    "### Задание 6"
   ]
  },
  {
   "cell_type": "markdown",
   "metadata": {},
   "source": [
    "Какова средняя продолжительность карьеры активного игрока NBA? Используйте таблицы common_player_info и player. Активный игрок - это тот, у которого в колонке is_active стоит 1."
   ]
  },
  {
   "metadata": {
    "SqlCellData": {
     "data_source_name": "nba",
     "variableName$1": "df_sql6"
    },
    "ExecuteTime": {
     "end_time": "2024-10-14T17:25:11.553513Z",
     "start_time": "2024-10-14T17:25:01.574969100Z"
    }
   },
   "cell_type": "code",
   "source": [
    "%%sql\n",
    "SELECT * FROM common_player_info;"
   ],
   "execution_count": 22,
   "outputs": []
  },
  {
   "metadata": {
    "SqlCellData": {
     "data_source_name": "nba",
     "variableName$1": "df_sql7"
    },
    "ExecuteTime": {
     "end_time": "2024-10-14T17:25:11.731834Z",
     "start_time": "2024-10-14T17:25:11.536228300Z"
    }
   },
   "cell_type": "code",
   "source": [
    "%%sql\n",
    "SELECT * FROM player"
   ],
   "execution_count": 23,
   "outputs": []
  },
  {
   "metadata": {
    "ExecuteTime": {
     "end_time": "2024-10-14T17:25:11.741149Z",
     "start_time": "2024-10-14T17:25:11.732843Z"
    }
   },
   "cell_type": "code",
   "source": "df_sql7[df_sql7['is_active'] == 1]",
   "execution_count": 24,
   "outputs": []
  },
  {
   "metadata": {
    "SqlCellData": {
     "data_source_name": "nba",
     "variableName$1": "df_sql8"
    },
    "ExecuteTime": {
     "end_time": "2024-10-14T17:25:12.481994Z",
     "start_time": "2024-10-14T17:25:11.725367600Z"
    }
   },
   "cell_type": "code",
   "source": [
    "%%sql\n",
    "SELECT * \n",
    "FROM common_player_info AS C\n",
    "INNER JOIN main.player p \n",
    "    ON C.person_id = p.id"
   ],
   "execution_count": 25,
   "outputs": []
  },
  {
   "cell_type": "code",
   "metadata": {
    "ExecuteTime": {
     "end_time": "2024-10-14T17:25:12.501995Z",
     "start_time": "2024-10-14T17:25:12.483Z"
    }
   },
   "source": [
    "df_active = df_sql8[df_sql8['is_active'] == 1]\n",
    "df_active['career'] = df_active[['from_year', 'to_year']].apply(lambda df: df['to_year'] - df['from_year'], axis=1)\n",
    "df_active\n"
   ],
   "execution_count": 26,
   "outputs": []
  },
  {
   "metadata": {
    "ExecuteTime": {
     "end_time": "2024-10-14T17:25:12.507884Z",
     "start_time": "2024-10-14T17:25:12.501995Z"
    }
   },
   "cell_type": "code",
   "source": "df_active['career'].describe()",
   "execution_count": 27,
   "outputs": []
  },
  {
   "metadata": {
    "ExecuteTime": {
     "end_time": "2024-10-14T17:25:12.510813Z",
     "start_time": "2024-10-14T17:25:12.508395Z"
    }
   },
   "cell_type": "code",
   "source": "",
   "execution_count": 27,
   "outputs": []
  },
  {
   "metadata": {
    "ExecuteTime": {
     "end_time": "2024-10-14T17:25:12.513261Z",
     "start_time": "2024-10-14T17:25:12.510813Z"
    }
   },
   "cell_type": "code",
   "source": "",
   "execution_count": 27,
   "outputs": []
  },
  {
   "cell_type": "markdown",
   "metadata": {},
   "source": [
    "### Задание 7"
   ]
  },
  {
   "cell_type": "markdown",
   "metadata": {},
   "source": [
    "Каково соотношение позиций, на которых играют игроки? Используйте таблицу common_player_info."
   ]
  },
  {
   "cell_type": "code",
   "metadata": {
    "ExecuteTime": {
     "end_time": "2024-10-14T17:25:12.528291Z",
     "start_time": "2024-10-14T17:25:12.513261Z"
    }
   },
   "source": "df_sql6",
   "execution_count": 28,
   "outputs": []
  },
  {
   "metadata": {
    "ExecuteTime": {
     "end_time": "2024-10-14T17:25:12.666864Z",
     "start_time": "2024-10-14T17:25:12.528291Z"
    }
   },
   "cell_type": "code",
   "source": "sns.countplot(data=df_sql6, x='position')",
   "execution_count": 29,
   "outputs": []
  },
  {
   "metadata": {
    "ExecuteTime": {
     "end_time": "2024-10-14T17:25:12.669894Z",
     "start_time": "2024-10-14T17:25:12.666864Z"
    }
   },
   "cell_type": "code",
   "source": "",
   "execution_count": 29,
   "outputs": []
  }
 ],
 "metadata": {
  "kernelspec": {
   "display_name": "Python 3",
   "language": "python",
   "name": "python3"
  },
  "language_info": {
   "codemirror_mode": {
    "name": "ipython",
    "version": 3
   },
   "file_extension": ".py",
   "mimetype": "text/x-python",
   "name": "python",
   "nbconvert_exporter": "python",
   "pygments_lexer": "ipython3",
   "version": "3.12.3"
  }
 },
 "nbformat": 4,
 "nbformat_minor": 2
}
