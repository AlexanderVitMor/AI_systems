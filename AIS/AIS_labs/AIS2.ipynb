{
 "nbformat": 4,
 "nbformat_minor": 0,
 "metadata": {
  "colab": {
   "provenance": []
  },
  "kernelspec": {
   "name": "python3",
   "display_name": "Python 3 (ipykernel)",
   "language": "python"
  },
  "language_info": {
   "name": "python"
  }
 },
 "cells": [
  {
   "cell_type": "markdown",
   "source": [
    "# Лабораторная работа №2\n",
    "## по предмету \"Системы искусственного интеллекта\"\n",
    "\n",
    "В данной лабораторной работе вы будете работать с набором данных, который содержит информацию о технических характеристиках ноутбуков и их цену.\n",
    "Целью работы является изучение теоретических основ методов машинного обучения.\n",
    "\n",
    "В наборе данных для лабораторной работы содержится абор характеристик  мобильных телефонов, включая мощность аккумулятора, характеристики камеры, поддержку сети, память, размеры экрана и другие атрибуты. Столбец «price_range» классифицирует телефоны по ценовым диапазонам (этот столбец необходимо предсказать)."
   ],
   "metadata": {
    "id": "CvmiakWDcuyf"
   }
  },
  {
   "cell_type": "markdown",
   "source": [
    "### Задание 1\n",
    "\n",
    "Выгрузите данные из датасета. Изучите колонки, проверьте наличие пропусков. Постройте матрицу корреляции между признаками и целевой переменной. Сделайте выводы, что показывает эта матрица."
   ],
   "metadata": {
    "id": "YEZ0T1uwj34v"
   }
  },
  {
   "cell_type": "code",
   "source": [
    "import pandas as pd\n",
    "import seaborn as sns\n",
    "import matplotlib.pyplot as plt\n",
    "import numpy as np\n",
    "from sklearn.model_selection import train_test_split\n",
    "from sklearn.metrics import accuracy_score"
   ],
   "metadata": {
    "id": "91NHysjQj26f",
    "ExecuteTime": {
     "end_time": "2024-10-28T16:20:37.929133Z",
     "start_time": "2024-10-28T16:20:37.693499Z"
    }
   },
   "execution_count": 1,
   "outputs": []
  },
  {
   "metadata": {
    "ExecuteTime": {
     "end_time": "2024-10-28T16:20:38.099979Z",
     "start_time": "2024-10-28T16:20:38.076613Z"
    }
   },
   "cell_type": "code",
   "source": [
    "df = pd.read_csv('Datasets/AIS2.csv')\n",
    "X = df.drop(columns='price_range')\n",
    "y = df['price_range']\n",
    "df"
   ],
   "execution_count": 2,
   "outputs": []
  },
  {
   "metadata": {
    "ExecuteTime": {
     "end_time": "2024-10-28T16:20:38.581735Z",
     "start_time": "2024-10-28T16:20:38.577718Z"
    }
   },
   "cell_type": "code",
   "source": "df.columns",
   "execution_count": 3,
   "outputs": []
  },
  {
   "metadata": {
    "ExecuteTime": {
     "end_time": "2024-10-28T16:20:39.281653Z",
     "start_time": "2024-10-28T16:20:39.275673Z"
    }
   },
   "cell_type": "code",
   "source": "gi = pd.DataFrame(df.corr()['price_range'].sort_values(ascending=False))",
   "execution_count": 4,
   "outputs": []
  },
  {
   "metadata": {
    "ExecuteTime": {
     "end_time": "2024-10-28T10:26:02.399784Z",
     "start_time": "2024-10-28T10:26:02.120494Z"
    }
   },
   "cell_type": "code",
   "source": [
    "plt.figure(figsize=(15,10))\n",
    "sns.heatmap(gi, annot=True, cmap='viridis')"
   ],
   "execution_count": 17,
   "outputs": []
  },
  {
   "cell_type": "markdown",
   "source": [
    "### Задание 2\n",
    "\n",
    "Реализуйте с нуля алгоритм логистической регрессии для многоклассовой классификации."
   ],
   "metadata": {
    "id": "hgqsngyck7xl"
   }
  },
  {
   "metadata": {
    "ExecuteTime": {
     "end_time": "2024-10-28T10:45:40.709647Z",
     "start_time": "2024-10-28T10:45:40.700104Z"
    }
   },
   "cell_type": "code",
   "source": [
    "class LogisticRegression:\n",
    "  def __init__(self, num_classes):\n",
    "    \"\"\"\n",
    "    Initializes the logistic regression model.\n",
    "\n",
    "    Parameters:\n",
    "        num_classes (int): The number of classes in the classification problem.\n",
    "    \"\"\"\n",
    "    self.num_classes = num_classes\n",
    "    self.weights = None\n",
    "\n",
    "  def _sigmoid(self, x):\n",
    "    \"\"\"\n",
    "    Computes the sigmoid function for a given array.\n",
    "\n",
    "    Parameters:\n",
    "        x (numpy.array): The input array.\n",
    "\n",
    "    Returns:\n",
    "        numpy.array: The output of the sigmoid function.\n",
    "    \"\"\"\n",
    "    return 1 / (1 + np.exp(-x))\n",
    "\n",
    "  def fit(self, X, y):\n",
    "    \"\"\"\n",
    "    Fits the model to the training data.\n",
    "\n",
    "    Parameters:\n",
    "        X (numpy.array): The feature matrix.\n",
    "        y (numpy.array): The target vector.\n",
    "    \"\"\"\n",
    "    n_samples, n_features = X.shape\n",
    "    self.weights = np.random.rand(n_features, self.num_classes)\n",
    "\n",
    "    for _ in range(100):  # You can adjust the number of iterations here\n",
    "      predictions = self._sigmoid(np.dot(X, self.weights))\n",
    "      predictions_class = np.argmax(predictions, axis=1)\n",
    "      labels_onehot = np.eye(self.num_classes)[y]\n",
    "\n",
    "      # Compute the cross-entropy loss\n",
    "      loss = -np.mean(labels_onehot * np.log(predictions))\n",
    "\n",
    "      # Compute the gradients of the loss with respect to the weights\n",
    "      dW = np.dot(X.T, (predictions - labels_onehot))\n",
    "      self.weights -= 0.01 * dW\n",
    "\n",
    "  def predict(self, X):\n",
    "    \"\"\"\n",
    "    Makes predictions on new data.\n",
    "\n",
    "    Parameters:\n",
    "        X (numpy.array): The feature matrix.\n",
    "\n",
    "    Returns:\n",
    "        numpy.array: The predicted class labels.\n",
    "    \"\"\"\n",
    "    predictions = self._sigmoid(np.dot(X, self.weights))\n",
    "    return np.argmax(predictions, axis=1)\n",
    "\n",
    "  def evaluate(self, X_test, y_test):\n",
    "    \"\"\"\n",
    "    Evaluates the model on test data and returns the accuracy.\n",
    "\n",
    "    Parameters:\n",
    "        X_test (numpy.array): The feature matrix of the test data.\n",
    "        y_test (numpy.array): The target vector of the test data.\n",
    "\n",
    "    Returns:\n",
    "        float: The accuracy of the model's predictions.\n",
    "    \"\"\"\n",
    "    predictions = self.predict(X_test)\n",
    "    accuracy = np.mean(predictions == y_test)\n",
    "    return accuracy\n"
   ],
   "execution_count": 53,
   "outputs": []
  },
  {
   "metadata": {
    "ExecuteTime": {
     "end_time": "2024-10-28T10:45:41.476210Z",
     "start_time": "2024-10-28T10:45:41.462846Z"
    }
   },
   "cell_type": "code",
   "source": [
    "X = (X - X.mean()) / X.std()\n",
    "\n",
    "num_classes: int = len(y.value_counts())\n",
    "X_train, X_test, y_train, y_test = train_test_split(X, y, test_size=0.3, random_state=42)"
   ],
   "execution_count": 54,
   "outputs": []
  },
  {
   "metadata": {
    "ExecuteTime": {
     "end_time": "2024-10-28T10:45:49.715050Z",
     "start_time": "2024-10-28T10:45:49.670044Z"
    }
   },
   "cell_type": "code",
   "source": [
    "model = LogisticRegression(num_classes=num_classes)\n",
    "model.fit(X_train, y_train)\n",
    "accuracy = model.evaluate(X_test, y_test)\n",
    "print(\"Accuracy:\", accuracy)"
   ],
   "execution_count": 58,
   "outputs": []
  },
  {
   "metadata": {
    "ExecuteTime": {
     "end_time": "2024-10-28T10:23:26.935185Z",
     "start_time": "2024-10-28T10:23:26.614813Z"
    }
   },
   "cell_type": "code",
   "source": [
    "plt.figure(figsize = (10, 8))\n",
    "\n",
    "sns.scatterplot(x = df['battery_power'], y = df['ram'], hue = df['price_range'], palette = 'bright', s = 100)\n",
    "\n",
    "plt.legend(loc = 'upper left', prop = {'size': 15})\n",
    "plt.show()"
   ],
   "execution_count": 11,
   "outputs": []
  },
  {
   "metadata": {},
   "cell_type": "markdown",
   "source": "Обучите модель."
  },
  {
   "cell_type": "markdown",
   "source": [
    "### Задание 3\n",
    "\n",
    "Реализуйте с нуля алгоритм Наивный Байес."
   ],
   "metadata": {
    "id": "eWc9D163lKPB"
   }
  },
  {
   "metadata": {
    "ExecuteTime": {
     "end_time": "2024-10-28T13:40:17.819744Z",
     "start_time": "2024-10-28T13:40:17.787909Z"
    }
   },
   "cell_type": "code",
   "source": [
    "class NaiveBayes:\n",
    "  def __init__(self):\n",
    "    self.classes = None\n",
    "    self.mean = {}\n",
    "    self.stddev = {}\n",
    "    self.priors = {}\n",
    "\n",
    "  def _gaussian_likelihood(self, x, class_label):\n",
    "    \"\"\"Рассчитывает вероятность данных признаков для конкретного класса\"\"\"\n",
    "    numerator = np.exp(-((x - self.mean[class_label]) / (2 * self.stddev[class_label] ** 2)))\n",
    "    denominator = np.sqrt(2 * np.pi * self.stddev[class_label] ** 2)\n",
    "    return numerator / denominator\n",
    "\n",
    "  def _predict(self, test_data):\n",
    "    \"\"\"Рассчитывает предсказания по тестовым данным\"\"\"\n",
    "    predictions = []\n",
    "    for sample in test_data:\n",
    "      log_likelihoods = {}\n",
    "      for class_label in self.classes:\n",
    "        log_likelihood = np.sum(np.log(self._gaussian_likelihood(sample, class_label)))\n",
    "        log_likelihoods[class_label] = log_likelihood + np.log(self.priors[class_label])\n",
    "      max_log_likelihood_class = max(log_likelihoods, key=log_likelihoods.get)\n",
    "      predictions.append(max_log_likelihood_class)\n",
    "    return np.array(predictions)\n",
    "\n",
    "  def fit(self, X, y):\n",
    "    \"\"\"Обучает Naive Bayes\"\"\"\n",
    "    self.classes = set(y)\n",
    "    for class_label in self.classes:\n",
    "      x_for_class = [X[i] for i in range(len(X)) if y[i] == class_label]\n",
    "      mean_vector = np.mean(x_for_class, axis=0)\n",
    "      stddev_vector = np.std(x_for_class, axis=0)\n",
    "\n",
    "      self.mean[class_label] = mean_vector\n",
    "      self.stddev[class_label] = stddev_vector\n",
    "      count = sum(y == class_label)\n",
    "      self.priors[class_label] = count / len(y)\n",
    "\n",
    "\n",
    "# Загрузка данных\n",
    "df = pd.read_csv('Datasets/AIS2.csv')\n",
    "X = df.drop(columns='price_range')\n",
    "y = df['price_range']\n",
    "\n",
    "\n",
    "X_np = np.array(X)\n",
    "y_np = np.array(y)\n",
    "# Разделение данных на обучающую и тестовую выборки.\n",
    "test_size = 0.2\n",
    "X_train, X_test, y_train, y_test = train_test_split(X_np, y_np, test_size=test_size, random_state=42)\n",
    "\n",
    "# Обучаем Naive Bayes\n",
    "model = NaiveBayes()\n",
    "model.fit(X_train, y_train)\n",
    "\n",
    "# Делаем предсказание на тестовой выборке\n",
    "predictions = model._predict(X_test)\n"
   ],
   "execution_count": 239,
   "outputs": []
  },
  {
   "metadata": {},
   "cell_type": "markdown",
   "source": "Обучите модель."
  },
  {
   "metadata": {
    "ExecuteTime": {
     "end_time": "2024-10-28T13:43:18.055935Z",
     "start_time": "2024-10-28T13:43:18.051380Z"
    }
   },
   "cell_type": "code",
   "source": [
    "accuracy = accuracy_score(y_test, predictions)\n",
    "accuracy"
   ],
   "execution_count": 244,
   "outputs": []
  },
  {
   "cell_type": "markdown",
   "source": [
    "### Задание 4\n",
    "\n",
    "Реализуйте с нуля алгоритм kNN."
   ],
   "metadata": {
    "id": "RYFhErkHlmFV"
   }
  },
  {
   "cell_type": "code",
   "source": [
    "class KNN:\n",
    "  def __init__(self, k):\n",
    "    self.k = k  # Количество ближайших соседей для подсчета прогноза\n",
    "\n",
    "  def fit(self, X_train, y_train):\n",
    "    \"\"\"\n",
    "    Подготовка модели.\n",
    "\n",
    "    :param X_train: Данные обучения\n",
    "    :param y_train: Метки обучения\n",
    "    \"\"\"\n",
    "    self.X_train = X_train\n",
    "    self.y_train = y_train\n",
    "\n",
    "  def predict(self, X_test):\n",
    "    \"\"\"\n",
    "    Предсказание для новых данных.\n",
    "\n",
    "    :param X_test: Данные для предсказания\n",
    "    :return: Прогнозы классов\n",
    "    \"\"\"\n",
    "    predictions = []\n",
    "    for x in X_test:\n",
    "      distances = np.linalg.norm(self.X_train - x, axis=1)  # Расчет расстояния до каждого обучающего образца\n",
    "      indices = np.argsort(distances)[:self.k]  # Идентификаторы k ближайших соседей\n",
    "      labels = self.y_train[indices]\n",
    "      prediction = np.bincount(labels).argmax()  # Выбор наиболее часто встречающегося класса\n",
    "      predictions.append(prediction)\n",
    "    return np.array(predictions)"
   ],
   "metadata": {
    "id": "fUQ70y9Plq9u",
    "ExecuteTime": {
     "end_time": "2024-10-28T13:54:23.932974Z",
     "start_time": "2024-10-28T13:54:23.916846Z"
    }
   },
   "execution_count": 265,
   "outputs": []
  },
  {
   "cell_type": "markdown",
   "source": [
    "Обучите модель."
   ],
   "metadata": {
    "id": "ASfoCDdSlrJh"
   }
  },
  {
   "metadata": {
    "ExecuteTime": {
     "end_time": "2024-10-28T13:54:24.645279Z",
     "start_time": "2024-10-28T13:54:24.580023Z"
    }
   },
   "cell_type": "code",
   "source": [
    "# Загрузка данных\n",
    "df = pd.read_csv('Datasets/AIS2.csv')\n",
    "X = df.drop(columns='price_range')\n",
    "y = df['price_range']\n",
    "\n",
    "X_np = np.array(X)\n",
    "y_np = np.array(y)\n",
    "\n",
    "# Разделение данных на обучающую и тестовую выборки.\n",
    "test_size = 0.2\n",
    "X_train, X_test, y_train, y_test = train_test_split(X_np, y_np, test_size=test_size, random_state=42)\n",
    "\n",
    "\n",
    "knn = KNN(k=7)  # Создание экземпляра классификатора kNN с k=7\n",
    "knn.fit(X_train, y_train)  # Подготовка модели\n",
    "\n",
    "predictions = knn.predict(X_test)  # Предсказание меток\n",
    "print(accuracy_score(y_test, predictions))  # Вывод прогнозов классов"
   ],
   "execution_count": 266,
   "outputs": []
  },
  {
   "metadata": {},
   "cell_type": "code",
   "execution_count": null,
   "source": "",
   "outputs": []
  }
 ]
}
