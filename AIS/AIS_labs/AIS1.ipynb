{
 "nbformat": 4,
 "nbformat_minor": 0,
 "metadata": {
  "colab": {
   "provenance": []
  },
  "kernelspec": {
   "name": "python3",
   "display_name": "Python 3 (ipykernel)",
   "language": "python"
  },
  "language_info": {
   "name": "python"
  }
 },
 "cells": [
  {
   "cell_type": "markdown",
   "source": [
    "# Лабораторная работа №1\n",
    "## по дисциплине \"Системы искусственного интеллекта\"\n",
    "\n",
    "Лабораторная работа посвящена работе с табличными данными с помощью библиотеки pandas и визуализации с помощью matplotlib.\n",
    "Для выполнения работы вам был предоставлен набор данных, содержащий информацию об атлетах, принявших участие в Летних Олимпийских играх 2024 в Париже.\n",
    "Описание каждой колоноки в наборе данных приведено дальше.\n",
    "\n",
    "code - код спортсмена;\n",
    "\n",
    "name - полное имя спортсмена;\n",
    "\n",
    "name_short - сокращенное имя;\n",
    "\n",
    "name_tv - имя, отображаемое в эфире;\n",
    "\n",
    "gender - пол спортсмена;\n",
    "\n",
    "function - роль на олимпиаде;\n",
    "\n",
    "country_code - код страны;\n",
    "\n",
    "country - название страны;\n",
    "\n",
    "country_full - полное название страны;\n",
    "\n",
    "nationality - сокращенная национальность спортсмена;\n",
    "\n",
    "nationality_full - полная национальность;\n",
    "\n",
    "nationality_code - код национальности;\n",
    "\n",
    "height - рост;\n",
    "\n",
    "weight - вес;\n",
    "\n",
    "disciplines - дисциплины, в которых принимает участие спортсмен;\n",
    "\n",
    "events - состязания, в которых участвует спортсмен;\n",
    "\n",
    "birth_date - дата рождения спортсмена.\n"
   ],
   "metadata": {
    "id": "kU6mKXJpxPwQ"
   }
  },
  {
   "cell_type": "markdown",
   "source": [
    "Импортируйте необходимые библиотеки.\n",
    "\n",
    "Загрузите набор данных из csv-файла. Выведите информацию обо всех колонках, количестве данных в наборе и их статистических показателях (среднее, медиана и т.д.)."
   ],
   "metadata": {
    "id": "aMR4h5Ok15nq"
   }
  },
  {
   "cell_type": "code",
   "source": [
    "import numpy as np\n",
    "import matplotlib.pyplot as plt\n",
    "import seaborn as sns\n",
    "import pandas as pd"
   ],
   "metadata": {
    "id": "PA0A4lVR2IgW",
    "ExecuteTime": {
     "end_time": "2024-10-07T08:27:47.356881Z",
     "start_time": "2024-10-07T08:27:47.354472Z"
    }
   },
   "execution_count": 1,
   "outputs": []
  },
  {
   "metadata": {
    "ExecuteTime": {
     "end_time": "2024-10-07T08:27:48.155081Z",
     "start_time": "2024-10-07T08:27:48.107353Z"
    }
   },
   "cell_type": "code",
   "source": [
    "df = pd.read_csv('Datasets/athletes new.csv')\n",
    "df.info()"
   ],
   "execution_count": 2,
   "outputs": []
  },
  {
   "metadata": {
    "ExecuteTime": {
     "end_time": "2024-10-07T08:28:06.157740Z",
     "start_time": "2024-10-07T08:28:06.142402Z"
    }
   },
   "cell_type": "code",
   "source": "df",
   "execution_count": 4,
   "outputs": []
  },
  {
   "metadata": {
    "ExecuteTime": {
     "end_time": "2024-09-17T08:24:02.925067Z",
     "start_time": "2024-09-17T08:24:02.900662Z"
    }
   },
   "cell_type": "code",
   "source": [
    "df.describe()"
   ],
   "execution_count": 4,
   "outputs": []
  },
  {
   "cell_type": "markdown",
   "source": [
    "Проверьте наличие пропусков в данных и заполните их, выбрав стратегию работы с пропусками."
   ],
   "metadata": {
    "id": "uesSsuuD2bY7"
   }
  },
  {
   "cell_type": "code",
   "source": [
    "df.isna().sum()"
   ],
   "metadata": {
    "id": "1p9b-wqB2pn7",
    "ExecuteTime": {
     "end_time": "2024-09-17T08:24:02.941689Z",
     "start_time": "2024-09-17T08:24:02.926135Z"
    }
   },
   "execution_count": 5,
   "outputs": []
  },
  {
   "metadata": {
    "ExecuteTime": {
     "end_time": "2024-09-17T08:24:02.956904Z",
     "start_time": "2024-09-17T08:24:02.943858Z"
    }
   },
   "cell_type": "code",
   "source": [
    "mean_height: int = int(df[df['height'] != 0]['height'].mean())\n",
    "mean_height"
   ],
   "execution_count": 6,
   "outputs": []
  },
  {
   "metadata": {
    "ExecuteTime": {
     "end_time": "2024-09-17T08:24:02.968609Z",
     "start_time": "2024-09-17T08:24:02.958914Z"
    }
   },
   "cell_type": "code",
   "source": [
    "mean_weight: int = int(df[df['weight'] != 0]['weight'].mean())\n",
    "mean_weight"
   ],
   "execution_count": 7,
   "outputs": []
  },
  {
   "metadata": {
    "ExecuteTime": {
     "end_time": "2024-09-17T08:24:02.990713Z",
     "start_time": "2024-09-17T08:24:02.971561Z"
    }
   },
   "cell_type": "code",
   "source": [
    "df['height'] = df['height'].apply(lambda x: mean_height if x == 0 else x)\n",
    "df['height']"
   ],
   "execution_count": 8,
   "outputs": []
  },
  {
   "metadata": {
    "ExecuteTime": {
     "end_time": "2024-09-17T08:24:03.012479Z",
     "start_time": "2024-09-17T08:24:02.992717Z"
    }
   },
   "cell_type": "code",
   "source": [
    "df['weight'] = df['weight'].apply(lambda x: mean_weight if x == 0 else x)\n",
    "df['weight']"
   ],
   "execution_count": 9,
   "outputs": []
  },
  {
   "metadata": {
    "ExecuteTime": {
     "end_time": "2024-09-17T08:24:03.049640Z",
     "start_time": "2024-09-17T08:24:03.017564Z"
    }
   },
   "cell_type": "code",
   "source": [
    "df['weight'].fillna(df['weight'].mean(), inplace=True)\n",
    "df"
   ],
   "execution_count": 10,
   "outputs": []
  },
  {
   "metadata": {
    "ExecuteTime": {
     "end_time": "2024-09-17T08:24:03.055510Z",
     "start_time": "2024-09-17T08:24:03.051721Z"
    }
   },
   "cell_type": "code",
   "execution_count": 10,
   "source": [],
   "outputs": []
  },
  {
   "cell_type": "markdown",
   "source": [
    "Удалите колонки code, name_short, name_tv"
   ],
   "metadata": {
    "id": "gZZoTM-x4yTI"
   }
  },
  {
   "cell_type": "code",
   "source": [
    "df = df.drop(['code', 'name_short', 'name_tv'], axis=1)\n",
    "df"
   ],
   "metadata": {
    "id": "0sV9BdDP5eKg",
    "ExecuteTime": {
     "end_time": "2024-09-17T08:24:03.085725Z",
     "start_time": "2024-09-17T08:24:03.057522Z"
    }
   },
   "execution_count": 11,
   "outputs": []
  },
  {
   "cell_type": "markdown",
   "source": [
    "Из какой страны было больше всего атлетов? Сколько их было?"
   ],
   "metadata": {
    "id": "Q6MxGujF5ecN"
   }
  },
  {
   "cell_type": "code",
   "source": [
    "df['country'].value_counts()[0]"
   ],
   "metadata": {
    "id": "tzcVTPBj5tpi",
    "ExecuteTime": {
     "end_time": "2024-09-17T08:24:03.098834Z",
     "start_time": "2024-09-17T08:24:03.088666Z"
    }
   },
   "execution_count": 12,
   "outputs": []
  },
  {
   "cell_type": "markdown",
   "source": [
    "Найдите 15 стран, из которых было больше всего спортсменов. Постройте гистограмму, где по горизонтальной оси будет отображаться код страны, а по вертикальной - количество спортсменов."
   ],
   "metadata": {
    "id": "MCnLpnXz5t4_"
   }
  },
  {
   "metadata": {},
   "cell_type": "markdown",
   "source": []
  },
  {
   "cell_type": "code",
   "source": [
    "country_df = df.groupby(['country', 'country_code']).size().reset_index(name='count')\n",
    "\n",
    "country_df_top = country_df[country_df['count'] >= 177]\n",
    "\n",
    "country_df_top = df[df['country_code'].isin(country_df_top['country_code'])]\n",
    "country_df_top['country_code'].value_counts()"
   ],
   "metadata": {
    "id": "lTAa0uOc6nJz",
    "ExecuteTime": {
     "end_time": "2024-09-17T08:24:03.130898Z",
     "start_time": "2024-09-17T08:24:03.100844Z"
    }
   },
   "execution_count": 13,
   "outputs": []
  },
  {
   "metadata": {
    "ExecuteTime": {
     "end_time": "2024-09-17T08:24:03.775993Z",
     "start_time": "2024-09-17T08:24:03.134913Z"
    }
   },
   "cell_type": "code",
   "source": [
    "sns.histplot(data=country_df_top, x='country_code')\n",
    "plt.xticks(rotation=90);"
   ],
   "execution_count": 14,
   "outputs": []
  },
  {
   "cell_type": "markdown",
   "source": [
    "Сколько женщин и мужчин участвовало в Олимпиаде?"
   ],
   "metadata": {
    "id": "uA-Ae_Wa67zb"
   }
  },
  {
   "cell_type": "code",
   "source": [
    "df[df['gender'] == 'Female']"
   ],
   "metadata": {
    "id": "wBM2BwJR8lPH",
    "ExecuteTime": {
     "end_time": "2024-09-17T10:56:25.263575Z",
     "start_time": "2024-09-17T10:56:25.233181Z"
    }
   },
   "execution_count": 83,
   "outputs": []
  },
  {
   "cell_type": "markdown",
   "source": [
    "Выведите количество женщин, которые участвовали только в одной соревновательной группе (колонка events)."
   ],
   "metadata": {
    "id": "ZrJDz_ZU8lcB"
   }
  },
  {
   "cell_type": "code",
   "source": [
    "df['count_events'] = df['events'].apply(lambda x: len(x.split(',')))\n",
    "df\n"
   ],
   "metadata": {
    "id": "EwCr00ny-CZn",
    "ExecuteTime": {
     "end_time": "2024-09-17T09:57:00.959894Z",
     "start_time": "2024-09-17T09:57:00.935496Z"
    }
   },
   "execution_count": 43,
   "outputs": []
  },
  {
   "cell_type": "code",
   "source": [
    "len(df[(df['gender'] == 'Female') & (df['count_events'] == 1)])"
   ],
   "metadata": {
    "collapsed": false,
    "ExecuteTime": {
     "end_time": "2024-09-17T09:57:35.165157Z",
     "start_time": "2024-09-17T09:57:35.155827Z"
    }
   },
   "execution_count": 45,
   "outputs": []
  },
  {
   "cell_type": "markdown",
   "source": [
    "Выведите количество спортсменов, у которых национальность не совпадает со страной, за которую они выступают."
   ],
   "metadata": {
    "id": "_5__lGjSBvBW"
   }
  },
  {
   "cell_type": "code",
   "source": [
    "len(df[df['country_code'] != df['nationality_code']])"
   ],
   "metadata": {
    "id": "khISD9_HB2LF",
    "ExecuteTime": {
     "end_time": "2024-09-17T10:01:33.309460Z",
     "start_time": "2024-09-17T10:01:33.300987Z"
    }
   },
   "execution_count": 48,
   "outputs": []
  },
  {
   "cell_type": "markdown",
   "source": [
    "Какой процент мужчин моложе 23 участвовало в этой Олимпиаде?"
   ],
   "metadata": {
    "id": "B9kM7gIK-Cla"
   }
  },
  {
   "cell_type": "code",
   "source": [
    "df['age'] = df['birth_date'].apply(lambda x: 2024 - int(x.split('-')[0]))\n",
    "df"
   ],
   "metadata": {
    "id": "YcEA3Ani-JHv",
    "ExecuteTime": {
     "end_time": "2024-09-17T10:23:30.476336Z",
     "start_time": "2024-09-17T10:23:30.444257Z"
    }
   },
   "execution_count": 54,
   "outputs": []
  },
  {
   "cell_type": "code",
   "source": [
    "len(df[(df['age'] < 23) & (df['gender'] == 'Male')]) / len(df[df['gender'] == 'Male']) * 100"
   ],
   "metadata": {
    "collapsed": false,
    "ExecuteTime": {
     "end_time": "2024-09-17T10:26:43.049873Z",
     "start_time": "2024-09-17T10:26:43.036067Z"
    }
   },
   "execution_count": 61,
   "outputs": []
  },
  {
   "cell_type": "markdown",
   "source": [
    "Постройте график зависимости роста от веса у женщин (scatter plot)."
   ],
   "metadata": {
    "id": "uK1liVxz-JVi"
   }
  },
  {
   "cell_type": "code",
   "source": [
    "sns.scatterplot(data=df[df['gender'] == 'Female'], x='height', y='weight')"
   ],
   "metadata": {
    "id": "D37_Ncmj-e_2",
    "ExecuteTime": {
     "end_time": "2024-09-17T10:28:57.852037Z",
     "start_time": "2024-09-17T10:28:57.489554Z"
    }
   },
   "execution_count": 62,
   "outputs": []
  },
  {
   "cell_type": "markdown",
   "source": [
    "Постройте график распределения, где по оси X будет показан возраст, а по оси Y - процент спортсменов этого возраста, принявших участие в Олимпиаде для женщин и мужчин на одном графике."
   ],
   "metadata": {
    "id": "PE57eW19-fNM"
   }
  },
  {
   "cell_type": "code",
   "source": [
    "def percentage(age: int):\n",
    "    return round(df['age'].value_counts()[age] / len(df) * 100, 2)"
   ],
   "metadata": {
    "collapsed": false,
    "ExecuteTime": {
     "end_time": "2024-09-17T10:38:08.526496Z",
     "start_time": "2024-09-17T10:38:08.521927Z"
    }
   },
   "execution_count": 71,
   "outputs": []
  },
  {
   "cell_type": "code",
   "source": [
    "df['age'].value_counts()[24] / len(df) * 100"
   ],
   "metadata": {
    "collapsed": false,
    "ExecuteTime": {
     "end_time": "2024-09-17T10:36:52.512033Z",
     "start_time": "2024-09-17T10:36:52.503868Z"
    }
   },
   "execution_count": 67,
   "outputs": []
  },
  {
   "cell_type": "code",
   "source": [
    "df['percentage_age'] = df['age'].apply(lambda x: percentage(x))\n",
    "df"
   ],
   "metadata": {
    "id": "GPiewHIz_IUg",
    "ExecuteTime": {
     "end_time": "2024-09-17T10:38:14.513254Z",
     "start_time": "2024-09-17T10:38:10.595013Z"
    }
   },
   "execution_count": 72,
   "outputs": []
  },
  {
   "cell_type": "code",
   "source": [
    "sns.barplot(data=df, x='age', y='percentage_age', hue='gender')\n",
    "plt.xticks(rotation=90);"
   ],
   "metadata": {
    "collapsed": false,
    "ExecuteTime": {
     "end_time": "2024-09-17T10:40:27.672651Z",
     "start_time": "2024-09-17T10:40:24.036971Z"
    }
   },
   "execution_count": 76,
   "outputs": []
  },
  {
   "cell_type": "code",
   "source": [
    "sns.barplot(data=df[df['gender'] == 'Male'], x='age', y='percentage_age')\n",
    "sns.barplot(data=df[df['gender'] == 'Female'], x='age', y='percentage_age')"
   ],
   "metadata": {
    "collapsed": false,
    "ExecuteTime": {
     "end_time": "2024-09-17T10:46:23.332026Z",
     "start_time": "2024-09-17T10:46:20.222069Z"
    }
   },
   "execution_count": 80,
   "outputs": []
  },
  {
   "cell_type": "code",
   "source": [
    "sns.scatterplot(data=df, x='age', y='percentage_age', hue='gender')"
   ],
   "metadata": {
    "collapsed": false,
    "ExecuteTime": {
     "end_time": "2024-09-17T10:43:01.300652Z",
     "start_time": "2024-09-17T10:43:00.343513Z"
    }
   },
   "execution_count": 78,
   "outputs": []
  },
  {
   "cell_type": "markdown",
   "source": [
    "Постройте круговую диаграмму, чтобы отобразить долю спортсменов по пяти странам с наибольшим количеством участников."
   ],
   "metadata": {
    "id": "9ocREq3J_IsU"
   }
  },
  {
   "cell_type": "code",
   "source": [
    "topcountries = df['country'].value_counts().head(5)\n",
    "\n",
    "plt.figure(figsize=(10, 10))\n",
    "plt.pie(topcountries, labels=topcountries.index, autopct='%1.1f%%', startangle=90)\n",
    "plt.axis('equal')\n",
    "plt.show()"
   ],
   "metadata": {
    "id": "PkpF_i1V_dgH",
    "ExecuteTime": {
     "end_time": "2024-09-17T10:47:41.322246Z",
     "start_time": "2024-09-17T10:47:41.174501Z"
    }
   },
   "execution_count": 82,
   "outputs": []
  },
  {
   "cell_type": "code",
   "source": [],
   "metadata": {
    "collapsed": false
   },
   "execution_count": null,
   "outputs": []
  }
 ]
}
