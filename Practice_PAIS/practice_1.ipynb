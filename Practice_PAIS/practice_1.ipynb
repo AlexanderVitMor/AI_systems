{
 "cells": [
  {
   "cell_type": "code",
   "id": "initial_id",
   "metadata": {
    "collapsed": true,
    "ExecuteTime": {
     "end_time": "2024-09-16T14:20:23.462638Z",
     "start_time": "2024-09-16T14:20:23.458376Z"
    }
   },
   "source": [
    "import math\n",
    "\n",
    "\n",
    "def count_aeiou(string: str) -> dict:\n",
    "    letters: str = string.lower()\n",
    "    result: dict = {'a': letters.count('a'),\n",
    "                    'e': letters.count('e'),\n",
    "                    'i': letters.count('i'),\n",
    "                    'o': letters.count('o'),\n",
    "                    'u': letters.count('u'),        \n",
    "    }\n",
    "    \n",
    "    return result\n",
    "\n",
    "\n",
    "for k, v in count_aeiou('Hello aeiou Burger chicken Artificial Intelligence Systems').items():\n",
    "    print(f'{k}: {v}')\n",
    "    "
   ],
   "outputs": [
    {
     "name": "stdout",
     "output_type": "stream",
     "text": [
      "a: 3\n",
      "e: 8\n",
      "i: 7\n",
      "o: 2\n",
      "u: 2\n"
     ]
    }
   ],
   "execution_count": 47
  },
  {
   "metadata": {
    "ExecuteTime": {
     "end_time": "2024-09-16T13:12:16.989176Z",
     "start_time": "2024-09-16T13:12:16.984165Z"
    }
   },
   "cell_type": "code",
   "source": [
    "def unique_letters(string: str) -> bool:\n",
    "    letters: str = ''\n",
    "    for letter in string:\n",
    "        if letter not in letters:\n",
    "            letters += letter\n",
    "        else:\n",
    "            return False\n",
    "        \n",
    "    return True\n",
    "\n",
    "\n",
    "print(unique_letters('Hello aeiou'))\n",
    "print(unique_letters('1234567890-=!@#$%^&*()_+ qwertyuiop[]asdfghjkl;zxcvbnm,./'))"
   ],
   "id": "700edeb0db0ae300",
   "outputs": [
    {
     "name": "stdout",
     "output_type": "stream",
     "text": [
      "False\n",
      "True\n"
     ]
    }
   ],
   "execution_count": 4
  },
  {
   "metadata": {
    "ExecuteTime": {
     "end_time": "2024-09-16T13:20:13.440838Z",
     "start_time": "2024-09-16T13:20:13.435769Z"
    }
   },
   "cell_type": "code",
   "source": [
    "def one_bits(number: int) -> int:\n",
    "    result: str = bin(number)\n",
    "    print(result)\n",
    "    return f'{number: b}'.count('1')\n",
    "\n",
    "\n",
    "one_bits(100)"
   ],
   "id": "865b141e29983889",
   "outputs": [
    {
     "name": "stdout",
     "output_type": "stream",
     "text": [
      "0b1100100\n"
     ]
    },
    {
     "data": {
      "text/plain": [
       "3"
      ]
     },
     "execution_count": 16,
     "metadata": {},
     "output_type": "execute_result"
    }
   ],
   "execution_count": 16
  },
  {
   "metadata": {
    "ExecuteTime": {
     "end_time": "2024-09-16T13:30:40.725528Z",
     "start_time": "2024-09-16T13:30:40.721106Z"
    }
   },
   "cell_type": "code",
   "source": [
    "from functools import reduce\n",
    "from operator import *\n",
    "\n",
    "\n",
    "def iterations_to_one(number: int, iterations: int = 0) -> int:\n",
    "    nums: list =  [int(n) for n in str(number)]\n",
    "    \n",
    "    if len(nums) == 1:\n",
    "        return iterations\n",
    "    else:\n",
    "        iterations += 1\n",
    "        return iterations_to_one(reduce(mul, nums, 1), iterations)\n",
    "        \n",
    "        \n",
    "print(iterations_to_one(39))\n",
    "print(iterations_to_one(4))\n",
    "print(iterations_to_one(999))"
   ],
   "id": "4de365b720857c1e",
   "outputs": [
    {
     "name": "stdout",
     "output_type": "stream",
     "text": [
      "3\n",
      "0\n",
      "4\n"
     ]
    }
   ],
   "execution_count": 18
  },
  {
   "metadata": {
    "ExecuteTime": {
     "end_time": "2024-09-16T13:53:05.576994Z",
     "start_time": "2024-09-16T13:53:05.571728Z"
    }
   },
   "cell_type": "code",
   "source": [
    "import numpy as np\n",
    "\n",
    "\n",
    "def RMSD(coord_1: tuple, coord_2: tuple) -> float:\n",
    "    coordination_1 = np.array(coord_1)\n",
    "    coordination_2 = np.array(coord_2)\n",
    "    \n",
    "    return np.sqrt(np.sum((coordination_1 - coordination_2) ** 2).sum().mean())\n",
    "    \n",
    "    \n",
    "print(RMSD((1, 2), (3, 4)))"
   ],
   "id": "8b63f93599f187e0",
   "outputs": [
    {
     "name": "stdout",
     "output_type": "stream",
     "text": [
      "2.8284271247461903\n"
     ]
    }
   ],
   "execution_count": 21
  },
  {
   "metadata": {
    "ExecuteTime": {
     "end_time": "2024-09-16T14:20:26.082246Z",
     "start_time": "2024-09-16T14:20:26.078746Z"
    }
   },
   "cell_type": "code",
   "source": [
    "def M(numbers: list) -> float:\n",
    "    \n",
    "    return sum(numbers) / len(numbers)\n",
    "\n",
    "\n",
    "def SKO(numbers: list) -> float:\n",
    "    return math.sqrt(sum([(n - M(numbers)) ** 2 for n in numbers]) / len(numbers))\n",
    "\n",
    "\n",
    "print(SKO([1, 2, 3]))"
   ],
   "id": "69e9d89630dd7170",
   "outputs": [
    {
     "name": "stdout",
     "output_type": "stream",
     "text": [
      "0.816496580927726\n"
     ]
    }
   ],
   "execution_count": 48
  },
  {
   "metadata": {
    "ExecuteTime": {
     "end_time": "2024-09-16T14:19:26.043438Z",
     "start_time": "2024-09-16T14:19:26.041409Z"
    }
   },
   "cell_type": "code",
   "source": "\n",
   "id": "440dcd7cd181dd23",
   "outputs": [],
   "execution_count": 44
  },
  {
   "metadata": {
    "ExecuteTime": {
     "end_time": "2024-09-16T14:05:00.680181Z",
     "start_time": "2024-09-16T14:05:00.665688Z"
    }
   },
   "cell_type": "code",
   "source": "",
   "id": "341fc984fd62ed82",
   "outputs": [
    {
     "ename": "TypeError",
     "evalue": "can't multiply sequence by non-int of type 'list'",
     "output_type": "error",
     "traceback": [
      "\u001B[1;31m---------------------------------------------------------------------------\u001B[0m",
      "\u001B[1;31mTypeError\u001B[0m                                 Traceback (most recent call last)",
      "Cell \u001B[1;32mIn[30], line 1\u001B[0m\n\u001B[1;32m----> 1\u001B[0m mul([\u001B[38;5;241m1\u001B[39m, \u001B[38;5;241m2\u001B[39m], [\u001B[38;5;241m2\u001B[39m, \u001B[38;5;241m3\u001B[39m])\n",
      "\u001B[1;31mTypeError\u001B[0m: can't multiply sequence by non-int of type 'list'"
     ]
    }
   ],
   "execution_count": 30
  },
  {
   "metadata": {},
   "cell_type": "code",
   "outputs": [],
   "execution_count": null,
   "source": "",
   "id": "cda618b6c1f6b9aa"
  }
 ],
 "metadata": {
  "kernelspec": {
   "display_name": "Python 3",
   "language": "python",
   "name": "python3"
  },
  "language_info": {
   "codemirror_mode": {
    "name": "ipython",
    "version": 2
   },
   "file_extension": ".py",
   "mimetype": "text/x-python",
   "name": "python",
   "nbconvert_exporter": "python",
   "pygments_lexer": "ipython2",
   "version": "2.7.6"
  }
 },
 "nbformat": 4,
 "nbformat_minor": 5
}
