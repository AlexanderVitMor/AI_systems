{
 "cells": [
  {
   "metadata": {},
   "cell_type": "markdown",
   "source": [
    "# MAV - Practice 1 -> PAIS"
   ],
   "id": "1fec3d1a613fed2a"
  },
  {
   "metadata": {},
   "cell_type": "markdown",
   "source": [
    "## Task 1\n",
    "Написать функцию, на вход которой подается строка, состоящая из латинских букв. Функция должна вернуть количество гласных букв (a, e, i, o, u) в этой строке."
   ],
   "id": "251c61ff35d00d15"
  },
  {
   "cell_type": "code",
   "id": "initial_id",
   "metadata": {
    "collapsed": true,
    "ExecuteTime": {
     "end_time": "2024-09-23T14:20:58.985726Z",
     "start_time": "2024-09-23T14:20:58.981431Z"
    }
   },
   "source": [
    "import math\n",
    "\n",
    "\n",
    "def count_aeiou(string: str) -> dict:\n",
    "    letters: str = string.lower()\n",
    "    result: dict = {'a': letters.count('a'),\n",
    "                    'e': letters.count('e'),\n",
    "                    'i': letters.count('i'),\n",
    "                    'o': letters.count('o'),\n",
    "                    'u': letters.count('u'),        \n",
    "    }\n",
    "    \n",
    "    return result\n",
    "\n",
    "\n",
    "for k, v in count_aeiou('Hello aeiou Burger chicken Artificial Intelligence Systems').items():\n",
    "    print(f'{k}: {v}')\n",
    "    "
   ],
   "outputs": [
    {
     "name": "stdout",
     "output_type": "stream",
     "text": [
      "a: 3\n",
      "e: 8\n",
      "i: 7\n",
      "o: 2\n",
      "u: 2\n"
     ]
    }
   ],
   "execution_count": 268
  },
  {
   "metadata": {},
   "cell_type": "markdown",
   "source": [
    "## Task 2 \n",
    "Написать функцию на вход, которой подается строка. Функция должна вернуть true, если каждый символ в строке встречается только 1 раз, иначе должна вернуть false."
   ],
   "id": "16e72e836dee4ac3"
  },
  {
   "metadata": {
    "ExecuteTime": {
     "end_time": "2024-09-23T14:20:59.051155Z",
     "start_time": "2024-09-23T14:20:59.047830Z"
    }
   },
   "cell_type": "code",
   "source": [
    "def unique_letters(string: str) -> bool:\n",
    "    letters: str = ''\n",
    "    for letter in string:\n",
    "        if letter not in letters:\n",
    "            letters += letter\n",
    "        else:\n",
    "            return False\n",
    "        \n",
    "    return True\n",
    "\n",
    "\n",
    "print(unique_letters('Hello aeiou'))\n",
    "print(unique_letters('1234567890-=!@#$%^&*()_+ qwertyuiop[]asdfghjkl;zxcvbnm,./'))"
   ],
   "id": "700edeb0db0ae300",
   "outputs": [
    {
     "name": "stdout",
     "output_type": "stream",
     "text": [
      "False\n",
      "True\n"
     ]
    }
   ],
   "execution_count": 269
  },
  {
   "metadata": {},
   "cell_type": "markdown",
   "source": [
    "## Task 3\n",
    "Написать функцию, которая принимает положительное число и возвращает количество бит равных 1 в этом числе\n"
   ],
   "id": "e7440ceac6f166fe"
  },
  {
   "metadata": {
    "ExecuteTime": {
     "end_time": "2024-09-23T14:20:59.055826Z",
     "start_time": "2024-09-23T14:20:59.052172Z"
    }
   },
   "cell_type": "code",
   "source": [
    "def one_bits(number: int) -> int:\n",
    "    print(f'{number: b}')\n",
    "    return f'{number: b}'.count('1')\n",
    "\n",
    "\n",
    "one_bits(100)"
   ],
   "id": "865b141e29983889",
   "outputs": [
    {
     "name": "stdout",
     "output_type": "stream",
     "text": [
      " 1100100\n"
     ]
    },
    {
     "data": {
      "text/plain": [
       "3"
      ]
     },
     "execution_count": 270,
     "metadata": {},
     "output_type": "execute_result"
    }
   ],
   "execution_count": 270
  },
  {
   "metadata": {},
   "cell_type": "markdown",
   "source": [
    "## Task 4\n",
    "Написать функцию, которая принимает положительное. Функция должна вернуть то, сколько раз необходимо перемножать цифры числа или результат перемножения, чтобы получилось число, состоящее из одной цифры.\n",
    "Например, для входного числа:\n",
    "·       39 функция должна вернуть 3, так как 3*9=27 => 2*7=14 => 1*4=4\n",
    "·       4 функция должна вернуть 0, так как число уже состоит из одной цифры\n",
    "·       999 функция должна вернуть 4, так как 9*9*9=729 => 7*2*9=126 => 1*2*6=12 => 1*2=2\n"
   ],
   "id": "bd06a4e052f17375"
  },
  {
   "metadata": {
    "ExecuteTime": {
     "end_time": "2024-09-23T14:20:59.074148Z",
     "start_time": "2024-09-23T14:20:59.069347Z"
    }
   },
   "cell_type": "code",
   "source": [
    "from functools import reduce\n",
    "from operator import *\n",
    "\n",
    "\n",
    "def iterations_to_one(number: int, iterations: int = 0) -> int:\n",
    "    nums: list =  [int(n) for n in str(number)]\n",
    "    \n",
    "    if len(nums) == 1:\n",
    "        return iterations\n",
    "    else:\n",
    "        iterations += 1\n",
    "        return iterations_to_one(reduce(mul, nums, 1), iterations)\n",
    "        \n",
    "        \n",
    "print(iterations_to_one(39))\n",
    "print(iterations_to_one(4))\n",
    "print(iterations_to_one(999))"
   ],
   "id": "4de365b720857c1e",
   "outputs": [
    {
     "name": "stdout",
     "output_type": "stream",
     "text": [
      "3\n",
      "0\n",
      "4\n"
     ]
    }
   ],
   "execution_count": 271
  },
  {
   "metadata": {},
   "cell_type": "markdown",
   "source": [
    "## Task 5\n",
    "Написать функция, которая принимает два целочисленных вектора одинаковой длины и возвращает среднеквадратическое отклонение двух векторов."
   ],
   "id": "b600edc0a792d53f"
  },
  {
   "metadata": {
    "ExecuteTime": {
     "end_time": "2024-09-23T14:20:59.078614Z",
     "start_time": "2024-09-23T14:20:59.075155Z"
    }
   },
   "cell_type": "code",
   "source": [
    "import numpy as np\n",
    "\n",
    "\n",
    "def RMSD(coord_1: tuple, coord_2: tuple) -> float:\n",
    "    coordination_1 = np.array(coord_1)\n",
    "    coordination_2 = np.array(coord_2)\n",
    "    \n",
    "    return np.sqrt(np.sum((coordination_1 - coordination_2) ** 2).sum().mean())\n",
    "    \n",
    "    \n",
    "print(RMSD((1, 2), (3, 4)))"
   ],
   "id": "8b63f93599f187e0",
   "outputs": [
    {
     "name": "stdout",
     "output_type": "stream",
     "text": [
      "2.8284271247461903\n"
     ]
    }
   ],
   "execution_count": 272
  },
  {
   "metadata": {},
   "cell_type": "markdown",
   "source": [
    "## Task 6\n",
    "\n",
    "Написать функцию, которая принимает список чисел и возвращает кортеж из двух элементов. Первый элемент кортежа – мат. ожидание, второй элемент – СКО. Запрещается использовать функции для расчета соответствующих характеристик"
   ],
   "id": "b564097045593b27"
  },
  {
   "metadata": {
    "ExecuteTime": {
     "end_time": "2024-09-23T14:20:59.108655Z",
     "start_time": "2024-09-23T14:20:59.104666Z"
    }
   },
   "cell_type": "code",
   "source": [
    "\n",
    "def tuple_M_SKO(nums: list) -> tuple:\n",
    "    def M(numbers: list) -> float:\n",
    "        \n",
    "        return sum(numbers) / len(numbers)\n",
    "    \n",
    "    \n",
    "    def SKO(numbers: list) -> float:\n",
    "        return math.sqrt(sum([(n - M(numbers)) ** 2 for n in numbers]) / len(numbers))\n",
    "    \n",
    "    return M(nums), SKO(nums)\n",
    "\n",
    "\n",
    "print(tuple_M_SKO([1, 2, 3]))"
   ],
   "id": "69e9d89630dd7170",
   "outputs": [
    {
     "name": "stdout",
     "output_type": "stream",
     "text": [
      "(2.0, 0.816496580927726)\n"
     ]
    }
   ],
   "execution_count": 273
  },
  {
   "metadata": {},
   "cell_type": "markdown",
   "source": [
    "## Task 7\n",
    "\n",
    "Написать функцию, принимающая целое положительное число. Функция должна вернуть строку вида “(n1**p1)(n2**p2)…(nk**pk)” представляющая разложение числа на простые множители (если pi == 1, то выводить только ni).\n",
    "Например, для числа 86240 функция должна вернуть “(2**5)(5)(7**2)(11)”\n"
   ],
   "id": "9a08712aa6079699"
  },
  {
   "metadata": {
    "ExecuteTime": {
     "end_time": "2024-09-23T14:20:59.113021Z",
     "start_time": "2024-09-23T14:20:59.109661Z"
    }
   },
   "cell_type": "code",
   "source": [
    "def prime_factorization(number: int) -> dict:\n",
    "    primes: dict = dict()\n",
    "    \n",
    "    while number > 1:\n",
    "        \n",
    "        for i in range(2, number + 1, 1):\n",
    "            if number % i == 0:\n",
    "                number = number // i\n",
    "            \n",
    "                if i not in primes:\n",
    "                    primes[i] = 1\n",
    "                else:\n",
    "                    primes[i] += 1\n",
    "                break                \n",
    "    return primes\n",
    "                 \n",
    "\n",
    "def output(k: int, value: int) -> str:\n",
    "    return (f'({k}**{value})', f'({value})')[value == 1]\n"
   ],
   "id": "440dcd7cd181dd23",
   "outputs": [],
   "execution_count": 274
  },
  {
   "metadata": {
    "ExecuteTime": {
     "end_time": "2024-09-23T14:20:59.123767Z",
     "start_time": "2024-09-23T14:20:59.120034Z"
    }
   },
   "cell_type": "code",
   "source": [
    "result: dict = prime_factorization(86240 )\n",
    "output_str: str = ''\n",
    "\n",
    "for k, v in result.items():\n",
    "    output_str += output(k, v)\n",
    "    \n",
    "print(output_str)"
   ],
   "id": "341fc984fd62ed82",
   "outputs": [
    {
     "name": "stdout",
     "output_type": "stream",
     "text": [
      "(2**5)(1)(7**2)(1)\n"
     ]
    }
   ],
   "execution_count": 275
  },
  {
   "metadata": {},
   "cell_type": "markdown",
   "source": [
    "## Task 8\n",
    "Написать функцию, принимающая 2 строки вида “xxx.xxx.xxx.xxx” представляющие ip-адрес и маску сети. Функция должна вернуть 2 строки: адрес сети и широковещательный адрес.\n"
   ],
   "id": "ac7a8e8b3046bed3"
  },
  {
   "metadata": {
    "ExecuteTime": {
     "end_time": "2024-09-23T14:20:59.131449Z",
     "start_time": "2024-09-23T14:20:59.124776Z"
    }
   },
   "cell_type": "code",
   "source": [
    "def network_address(ip_address: str, netmask: str):\n",
    "    \n",
    "    \"\"\"bi -> binary\"\"\"\n",
    "   \n",
    "    bi_ip_address:  list = [[int(bi) for bi in f'{int(ip): b}'.strip()] for ip in ip_address.split('.')]\n",
    "    full_bi_ip_address: list = list(map(lambda x: (8 - len(x))*[0] + x if len(x) < 8 else x, bi_ip_address))\n",
    "    \n",
    "    bi_netmask: list = [[int(bi) for bi in f'{int(mask): b}'.strip()] for mask in netmask.split('.')]\n",
    "    full_bi_netmask: list = list(map(lambda x: (8 - len(x))*[0] + x if len(x) < 8 else x, bi_netmask))\n",
    "    reversed_bi_netmask: list = [list(map(lambda x: 1 if x == 0 else 0, nm)) for nm in full_bi_netmask]\n",
    "    \n",
    "    '''\n",
    "    BIA -> binary ip address\n",
    "    BIA -> binary network mask\n",
    "    '''\n",
    "    \n",
    "    bi_net_address: list = [list(map(lambda x, y: x * y, bia, bnm)) for bia, bnm in zip(full_bi_ip_address, full_bi_netmask)]\n",
    "    des_net_address: list = [''.join(map(str, a)) for a in bi_net_address]\n",
    "    \n",
    "    '''\n",
    "    BNA -> binary network address\n",
    "    RBNM -> reversed binary network mask\n",
    "    '''\n",
    "    \n",
    "    bi_broadcast_address: list = [list(map(lambda x, y: 1 if x == 1 and y == 1 else x + y, bna, rbnm)) for bna, rbnm in zip(bi_net_address, reversed_bi_netmask)]\n",
    "    des_broadcast_address: list = [''.join(map(str, a)) for a in bi_broadcast_address]\n",
    "    \n",
    "    net_address: str = '.'.join(list(map(lambda x: str(int(x, 2)), des_net_address)))\n",
    "    broadcast_address: str = '.'.join(list(map(lambda x: str(int(x, 2)), des_broadcast_address)))\n",
    "    \n",
    "    print(f'net address: {net_address}')\n",
    "    print(f'broadcast address: {broadcast_address}')"
   ],
   "id": "cda618b6c1f6b9aa",
   "outputs": [],
   "execution_count": 276
  },
  {
   "metadata": {
    "ExecuteTime": {
     "end_time": "2024-09-23T14:20:59.135303Z",
     "start_time": "2024-09-23T14:20:59.132366Z"
    }
   },
   "cell_type": "code",
   "source": [
    "network_address('210.1.1.100', '255.255.254.0')"
   ],
   "id": "dfb46e6eef5e491e",
   "outputs": [
    {
     "name": "stdout",
     "output_type": "stream",
     "text": [
      "net address: 210.1.0.0\n",
      "broadcast address: 210.1.1.255\n"
     ]
    }
   ],
   "execution_count": 277
  },
  {
   "metadata": {},
   "cell_type": "markdown",
   "source": [
    "## Task 9\n",
    "Написать функцию, принимающая целое число n, задающее количество кубиков. Функция должна определить, можно ли из данного кол-ва кубиков построить пирамиду, то есть можно ли представить число n как 1^2+2^2+3^2+…+k^2. Если можно, то функция должна вернуть k, иначе строку “It is impossible”."
   ],
   "id": "3375b04a78a820d0"
  },
  {
   "metadata": {},
   "cell_type": "markdown",
   "source": [
    "Добавил свой параметр `m - измерение (2, 3 ... m-мерное) - 1` можно проверять, выставляя свои измерения `default = 2 - 1  (2-мерное)`"
   ],
   "id": "58692ecb5a142038"
  },
  {
   "metadata": {
    "ExecuteTime": {
     "end_time": "2024-09-23T14:20:59.183104Z",
     "start_time": "2024-09-23T14:20:59.179086Z"
    }
   },
   "cell_type": "code",
   "source": [
    "def pyramid(n: int, m: int = 1):\n",
    "    i: int = 1\n",
    "    cub: int = 0\n",
    "    \n",
    "    while True:\n",
    "        cub += i**m\n",
    "        \n",
    "        if cub == n:\n",
    "            return f'{i} need in in {m + 1}-measurement for Pyramid'\n",
    "        elif cub > n:\n",
    "            return f\"It's Impossible in {m + 1}-measurement\"\n",
    "        \n",
    "        i += 1\n",
    "       "
   ],
   "id": "8f7284dd85e365d7",
   "outputs": [],
   "execution_count": 278
  },
  {
   "metadata": {
    "ExecuteTime": {
     "end_time": "2024-09-23T14:20:59.195851Z",
     "start_time": "2024-09-23T14:20:59.192611Z"
    }
   },
   "cell_type": "code",
   "source": [
    "pyramid(100, 3)\n"
   ],
   "id": "e362126223a952b2",
   "outputs": [
    {
     "data": {
      "text/plain": [
       "'4 need in in 4-measurement for Pyramid'"
      ]
     },
     "execution_count": 279,
     "metadata": {},
     "output_type": "execute_result"
    }
   ],
   "execution_count": 279
  },
  {
   "metadata": {
    "ExecuteTime": {
     "end_time": "2024-09-23T14:20:59.213745Z",
     "start_time": "2024-09-23T14:20:59.210297Z"
    }
   },
   "cell_type": "code",
   "source": [
    "pyramid(14, 2)"
   ],
   "id": "1399c371734dda85",
   "outputs": [
    {
     "data": {
      "text/plain": [
       "'3 need in in 3-measurement for Pyramid'"
      ]
     },
     "execution_count": 280,
     "metadata": {},
     "output_type": "execute_result"
    }
   ],
   "execution_count": 280
  },
  {
   "metadata": {},
   "cell_type": "markdown",
   "source": [
    "## Task 10\n",
    "Написать функцию, которая принимает положительное целое число n и определяющая является ли число n сбалансированным. Число является сбалансированным, если сумма цифр до средних цифр равна сумме цифр после средней цифры. Если число нечетное, то средняя цифра одна, если четное, то средних цифр две. При расчете, средние числа не участвуют.\n",
    "Например:\n",
    "·       Число 23441 сбалансированное, так как 2+3=4+1\n",
    "·       Число 7 сбалансированное, так как 0=0\n",
    "·       Число 1231 сбалансированное, так как 1=1\n",
    "·       Число 123456 несбалансированное, так как 1+2!=5+6\n"
   ],
   "id": "68aae3f68b2de2ff"
  },
  {
   "metadata": {
    "ExecuteTime": {
     "end_time": "2024-09-23T14:20:59.239397Z",
     "start_time": "2024-09-23T14:20:59.234769Z"
    }
   },
   "cell_type": "code",
   "source": [
    "def balance_number(number: int) -> bool:\n",
    "    number_str: str = str(number)\n",
    "    center: int = (1, 2)[number % 2 == 0]\n",
    "    count: int = (len(number_str) - center) // 2\n",
    "    \n",
    "    if len(number_str) in (1, 2):\n",
    "        return True\n",
    "\n",
    "    return sum(map(int, number_str[:count])) == sum(map(int, number_str[~(count-1):]))\n",
    "       "
   ],
   "id": "6119d01e4f76d854",
   "outputs": [],
   "execution_count": 281
  },
  {
   "metadata": {
    "ExecuteTime": {
     "end_time": "2024-09-23T14:20:59.245020Z",
     "start_time": "2024-09-23T14:20:59.240350Z"
    }
   },
   "cell_type": "code",
   "source": [
    "n: int = 123456\n",
    "(f'nothing balance <- {n}', f'balance -> {n}')[balance_number(n)]"
   ],
   "id": "bdac2e5422375831",
   "outputs": [
    {
     "data": {
      "text/plain": [
       "'nothing balance <- 123456'"
      ]
     },
     "execution_count": 282,
     "metadata": {},
     "output_type": "execute_result"
    }
   ],
   "execution_count": 282
  },
  {
   "metadata": {},
   "cell_type": "markdown",
   "source": [
    "## Task 11\n",
    "\n",
    "Написать функцию, которая принимает двумерный массив M в первой колонке которой стоит буква латинского алфавита (данная буква обозначает принадлежность к классу) и вещественное число r, которое удовлетворяет условию 0<r<1. Функция должна разбить данный массив на 2 так, что количество строк в новых массивах пропорционально r и (r-1). Также, в каждом новом массиве, количество строк одного класса должно быть пропорционально количеству строк этого класса в исходном массиве."
   ],
   "id": "1e08799103aa4177"
  },
  {
   "metadata": {
    "ExecuteTime": {
     "end_time": "2024-09-23T14:20:59.260262Z",
     "start_time": "2024-09-23T14:20:59.255536Z"
    }
   },
   "cell_type": "code",
   "source": [
    "def split_data(data: list, r: float = 0.5) -> tuple:\n",
    "    data.sort()\n",
    "        \n",
    "    classes: set = set(list(zip(*data))[0])\n",
    "    split_size: int = int((len(data) // len(classes) )* r)\n",
    "    \n",
    "    division_by_class: list = sorted([list(filter(lambda x: x[0] == c, data)) for c in classes])\n",
    "        \n",
    "    left_data: list = [d[:split_size] for d in division_by_class]    \n",
    "    right_data: list = [d[split_size:] for d in division_by_class]\n",
    "    \n",
    "    return left_data, right_data\n",
    "\n",
    "\n",
    "m= [['c', 11, 12],\n",
    "    ['a', 1, 2],\n",
    "    ['c', 9, 10],\n",
    "    ['b', 5, 6],\n",
    "    ['b', 7, 8],\n",
    "    ['a', 3, 4],\n",
    "    ['a', 13, 14],\n",
    "    ['a', 15, 16],\n",
    "    ['b', 17, 18],\n",
    "    ['b', 19, 20],\n",
    "    ['c', 21, 22],\n",
    "    ['c', 23, 24],\n",
    "    ]\n",
    "\n",
    "left, right = split_data(m, r=0.25)"
   ],
   "id": "52c4e511008bd104",
   "outputs": [],
   "execution_count": 283
  },
  {
   "metadata": {
    "ExecuteTime": {
     "end_time": "2024-09-23T14:20:59.290031Z",
     "start_time": "2024-09-23T14:20:59.286633Z"
    }
   },
   "cell_type": "code",
   "source": [
    "for row in left:\n",
    "    print(*row, sep='\\n')"
   ],
   "id": "2c3186b28826650c",
   "outputs": [
    {
     "name": "stdout",
     "output_type": "stream",
     "text": [
      "['a', 1, 2]\n",
      "['b', 5, 6]\n",
      "['c', 9, 10]\n"
     ]
    }
   ],
   "execution_count": 284
  },
  {
   "metadata": {
    "ExecuteTime": {
     "end_time": "2024-09-23T14:20:59.304262Z",
     "start_time": "2024-09-23T14:20:59.300547Z"
    }
   },
   "cell_type": "code",
   "source": [
    "for row in right:\n",
    "    print(*row, sep='\\n')"
   ],
   "id": "84003515406d7283",
   "outputs": [
    {
     "name": "stdout",
     "output_type": "stream",
     "text": [
      "['a', 3, 4]\n",
      "['a', 13, 14]\n",
      "['a', 15, 16]\n",
      "['b', 7, 8]\n",
      "['b', 17, 18]\n",
      "['b', 19, 20]\n",
      "['c', 11, 12]\n",
      "['c', 21, 22]\n",
      "['c', 23, 24]\n"
     ]
    }
   ],
   "execution_count": 285
  },
  {
   "metadata": {
    "ExecuteTime": {
     "end_time": "2024-09-23T14:20:59.307573Z",
     "start_time": "2024-09-23T14:20:59.305270Z"
    }
   },
   "cell_type": "code",
   "source": [],
   "id": "90ee4cfadf667787",
   "outputs": [],
   "execution_count": 285
  }
 ],
 "metadata": {
  "kernelspec": {
   "display_name": "Python 3",
   "language": "python",
   "name": "python3"
  },
  "language_info": {
   "codemirror_mode": {
    "name": "ipython",
    "version": 2
   },
   "file_extension": ".py",
   "mimetype": "text/x-python",
   "name": "python",
   "nbconvert_exporter": "python",
   "pygments_lexer": "ipython2",
   "version": "2.7.6"
  }
 },
 "nbformat": 4,
 "nbformat_minor": 5
}
