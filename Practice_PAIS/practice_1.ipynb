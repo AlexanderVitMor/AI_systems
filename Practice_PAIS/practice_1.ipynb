{
 "cells": [
  {
   "cell_type": "code",
   "outputs": [],
   "source": [
    "import math\n",
    "\n",
    "\n",
    "def count_aeiou(string: str) -> dict:\n",
    "    letters: str = string.lower()\n",
    "    result: dict = {'a': letters.count('a'),\n",
    "                    'e': letters.count('e'),\n",
    "                    'i': letters.count('i'),\n",
    "                    'o': letters.count('o'),\n",
    "                    'u': letters.count('u'),        \n",
    "    }\n",
    "    \n",
    "    return result\n",
    "\n",
    "\n",
    "for k, v in count_aeiou('Hello aeiou Burger chicken Artificial Intelligence Systems').items():\n",
    "    print(f'{k}: {v}')\n",
    "    "
   ],
   "metadata": {
    "collapsed": false
   },
   "id": "c197c62f9cd751b8"
  },
  {
   "cell_type": "code",
   "outputs": [],
   "source": [
    "def unique_letters(string: str) -> bool:\n",
    "    letters: str = ''\n",
    "    for letter in string:\n",
    "        if letter not in letters:\n",
    "            letters += letter\n",
    "        else:\n",
    "            return False\n",
    "        \n",
    "    return True\n",
    "\n",
    "\n",
    "print(unique_letters('Hello aeiou'))\n",
    "print(unique_letters('1234567890-=!@#$%^&*()_+ qwertyuiop[]asdfghjkl;zxcvbnm,./'))\n"
   ],
   "metadata": {
    "collapsed": false
   },
   "id": "ab398e29b89af917"
  },
  {
   "cell_type": "code",
   "outputs": [],
   "source": [
    "def one_bits(number: int) -> int:\n",
    "    result: str = bin(number)\n",
    "    print(result)\n",
    "    return f'{number: b}'.count('1')\n",
    "\n",
    "\n",
    "one_bits(100)"
   ],
   "metadata": {
    "collapsed": false
   },
   "id": "4dfa9fa1e36dac9e"
  },
  {
   "cell_type": "code",
   "outputs": [],
   "source": [
    "from functools import reduce\n",
    "from operator import *\n",
    "\n",
    "\n",
    "def iterations_to_one(number: int, iterations: int = 0) -> int:\n",
    "    nums: list =  [int(n) for n in str(number)]\n",
    "    \n",
    "    if len(nums) == 1:\n",
    "        return iterations\n",
    "    else:\n",
    "        iterations += 1\n",
    "        return iterations_to_one(reduce(mul, nums, 1), iterations)\n",
    "        \n",
    "        \n",
    "print(iterations_to_one(39))\n",
    "print(iterations_to_one(4))\n",
    "print(iterations_to_one(999))"
   ],
   "metadata": {
    "collapsed": false
   },
   "id": "f583f804f0b8b74f"
  },
  {
   "cell_type": "code",
   "outputs": [],
   "source": [
    "import numpy as np\n",
    "\n",
    "\n",
    "def RMSD(coord_1: tuple, coord_2: tuple) -> float:\n",
    "    coordination_1 = np.array(coord_1)\n",
    "    coordination_2 = np.array(coord_2)\n",
    "    \n",
    "    return np.sqrt(np.sum((coordination_1 - coordination_2) ** 2).sum().mean())\n",
    "    \n",
    "    \n",
    "print(RMSD((1, 2), (3, 4)))"
   ],
   "metadata": {
    "collapsed": false
   },
   "id": "27fb80a629ef4a50"
  },
  {
   "cell_type": "code",
   "outputs": [],
   "source": [
    "def M(numbers: list) -> float:\n",
    "    \n",
    "    return sum(numbers) / len(numbers)\n",
    "\n",
    "\n",
    "def SKO(numbers: list) -> float:\n",
    "    return math.sqrt(sum([(n - M(numbers)) ** 2 for n in numbers]) / len(numbers))\n",
    "\n",
    "\n",
    "print(SKO([1, 2, 3]))"
   ],
   "metadata": {
    "collapsed": false
   },
   "id": "ae9498095aee8a05"
  },
  {
   "cell_type": "code",
   "outputs": [],
   "source": [
    "\n"
   ],
   "metadata": {
    "collapsed": false
   },
   "id": "64749983150db659"
  },
  {
   "cell_type": "code",
   "outputs": [],
   "source": [],
   "metadata": {
    "collapsed": false
   },
   "id": "ef23d4d5f04d27b1"
  },
  {
   "metadata": {
    "ExecuteTime": {
     "end_time": "2024-09-23T14:20:59.307573Z",
     "start_time": "2024-09-23T14:20:59.305270Z"
    }
   },
   "cell_type": "code",
   "source": "",
   "id": "90ee4cfadf667787",
   "outputs": [],
   "execution_count": 285
  }
 ],
 "metadata": {
  "kernelspec": {
   "display_name": "Python 3",
   "language": "python",
   "name": "python3"
  },
  "language_info": {
   "codemirror_mode": {
    "name": "ipython",
    "version": 2
   },
   "file_extension": ".py",
   "mimetype": "text/x-python",
   "name": "python",
   "nbconvert_exporter": "python",
   "pygments_lexer": "ipython2",
   "version": "2.7.6"
  }
 },
 "nbformat": 4,
 "nbformat_minor": 5
}
