{
 "cells": [
  {
   "metadata": {},
   "cell_type": "markdown",
   "source": "# MAV - Practice 2 -> PAIS\n",
   "id": "76fa269c016e92ea"
  },
  {
   "metadata": {},
   "cell_type": "markdown",
   "source": [
    "## Task\n",
    "\n",
    "Необходимо дополнить следующий фрагмент кода моделью ИНС, которая способна провести бинарную классификацию по сгенерированным данным:"
   ],
   "id": "a6a9f398ebaf2f38"
  },
  {
   "cell_type": "code",
   "id": "initial_id",
   "metadata": {
    "collapsed": true,
    "ExecuteTime": {
     "end_time": "2024-10-04T11:19:18.126243Z",
     "start_time": "2024-10-04T11:19:18.122252Z"
    }
   },
   "source": [
    "import numpy as np\n",
    "import matplotlib.pyplot as plt\n",
    "import matplotlib.colors as mclr\n",
    "from tensorflow.keras.layers import Dense\n",
    "from tensorflow.keras.models import Sequential \n"
   ],
   "execution_count": 11,
   "outputs": []
  },
  {
   "metadata": {},
   "cell_type": "markdown",
   "source": "### `Личный вариант:`",
   "id": "19bb421bcfe8c09c"
  },
  {
   "cell_type": "code",
   "source": [
    "def genData(size:int=100):\n",
    "    data = np.random.rand(size, 2)*2 - 1\n",
    "    label = np.zeros([size, 1])\n",
    "\n",
    "    for i, p in enumerate(data):\n",
    "        if (p[0]+0.2)**2 + (0.6*p[1])**2 >= 0.25:\n",
    "            label[i] = 0.\n",
    "        else:\n",
    "            label[i] = 1.\n",
    "\n",
    "    div = round(size*0.8)\n",
    "    \n",
    "    train_data = data[:div, :]\n",
    "    test_data = data[div:, :]\n",
    "    train_label = label[:div, :]\n",
    "    test_label = label[div:, :]\n",
    "\n",
    "    return (train_data, train_label), (test_data, test_label)"
   ],
   "metadata": {
    "collapsed": false,
    "ExecuteTime": {
     "end_time": "2024-10-04T11:19:18.173008Z",
     "start_time": "2024-10-04T11:19:18.168251Z"
    }
   },
   "id": "ed067975996f384b",
   "execution_count": 12,
   "outputs": []
  },
  {
   "cell_type": "code",
   "source": [
    "def drawResults(data, label, prediction):\n",
    "    p_label = np.array([round(x[0]) for x in prediction])\n",
    "    plt.scatter(data[:, 0], data[:, 1], s=30, c=label[:, 0], cmap=mclr.ListedColormap(['red', 'blue']))\n",
    "    plt.scatter(data[:, 0], data[:, 1], s=10, c=p_label, cmap=mclr.ListedColormap(['red', 'blue']))\n",
    "    plt.grid()\n",
    "    plt.show()\n"
   ],
   "metadata": {
    "collapsed": false,
    "ExecuteTime": {
     "end_time": "2024-10-04T11:19:18.218526Z",
     "start_time": "2024-10-04T11:19:18.214014Z"
    }
   },
   "id": "43d520ed7fb070ae",
   "execution_count": 13,
   "outputs": []
  },
  {
   "metadata": {},
   "cell_type": "markdown",
   "source": [
    "Для создания модели используем простую архитектуру сети состоящую из входного, скрытого и выходного полного слоя \n",
    "\n",
    "- По интуиции бинарной классификации выбрал архитектуру нейронной сети 60 -> 40 -> 1\n",
    "- Хватает `100` эпох.\n",
    "- Оптимизатор, метрику, и функцию потерь используем не самые сложные. ---> \n",
    "\n",
    "P.s. бинарная классификация -> `loss='binary_crossentropy'` -> Слой активации на выходе -> `activation='sigmoid'`"
   ],
   "id": "1333bcbbae6c2cc"
  },
  {
   "cell_type": "code",
   "source": [
    "(train_data, train_label), (test_data, test_label) = genData()\n",
    "\n",
    "model = Sequential()\n",
    "model.add(Dense(60, activation='relu'))\n",
    "model.add(Dense(40, activation='relu'))\n",
    "model.add(Dense(1, activation='sigmoid'))\n",
    "\n",
    "model.compile(loss='binary_crossentropy', optimizer='adam', metrics=['accuracy'])\n",
    "\n",
    "H = model.fit(train_data, train_label, epochs=100, batch_size=10, validation_split=0.1)\n"
   ],
   "metadata": {
    "collapsed": false,
    "ExecuteTime": {
     "end_time": "2024-10-04T11:19:23.459401Z",
     "start_time": "2024-10-04T11:19:18.219532Z"
    }
   },
   "id": "9c3db57f3ce1fb50",
   "execution_count": 14,
   "outputs": []
  },
  {
   "cell_type": "code",
   "source": [
    "loss = H.history['loss']\n",
    "val_loss = H.history['val_loss']\n",
    "acc = H.history['accuracy']\n",
    "val_acc = H.history['val_accuracy']\n",
    "epochs = range(1, len(loss) + 1)\n"
   ],
   "metadata": {
    "collapsed": false,
    "ExecuteTime": {
     "end_time": "2024-10-04T11:19:23.464009Z",
     "start_time": "2024-10-04T11:19:23.460407Z"
    }
   },
   "id": "d67a6df7155315ff",
   "execution_count": 15,
   "outputs": []
  },
  {
   "cell_type": "code",
   "source": [
    "#Построение графика ошибки\n",
    "plt.plot(epochs, loss, 'bo', label='Training loss')\n",
    "plt.plot(epochs, val_loss, 'b', label='Validation loss')\n",
    "plt.title('Training and validation loss')\n",
    "plt.xlabel('Epochs')\n",
    "plt.ylabel('Loss')\n",
    "plt.legend()\n",
    "plt.show()"
   ],
   "metadata": {
    "collapsed": false,
    "ExecuteTime": {
     "end_time": "2024-10-04T11:19:23.590839Z",
     "start_time": "2024-10-04T11:19:23.465016Z"
    }
   },
   "id": "947e3751a94553fb",
   "execution_count": 16,
   "outputs": []
  },
  {
   "cell_type": "code",
   "source": [
    "#Построение графика точности\n",
    "plt.clf()\n",
    "plt.plot(epochs, acc, 'bo', label='Training acc')\n",
    "plt.plot(epochs, val_acc, 'b', label='Validation acc')\n",
    "plt.title('Training and validation accuracy')\n",
    "plt.xlabel('Epochs')\n",
    "plt.ylabel('Accuracy')\n",
    "plt.legend()\n",
    "plt.show()"
   ],
   "metadata": {
    "collapsed": false,
    "ExecuteTime": {
     "end_time": "2024-10-04T11:19:23.715010Z",
     "start_time": "2024-10-04T11:19:23.591846Z"
    }
   },
   "id": "5f6f8c8e931b5580",
   "execution_count": 17,
   "outputs": []
  },
  {
   "cell_type": "code",
   "source": [
    "#Получение и вывод результатов на тестовом наборе\n",
    "results = model.evaluate(test_data, test_label)\n",
    "print(results)"
   ],
   "metadata": {
    "collapsed": false,
    "ExecuteTime": {
     "end_time": "2024-10-04T11:19:23.765430Z",
     "start_time": "2024-10-04T11:19:23.715010Z"
    }
   },
   "id": "a108e11831e443a0",
   "execution_count": 18,
   "outputs": []
  },
  {
   "cell_type": "code",
   "source": [
    "#Вывод результатов бинарной классификации\n",
    "all_data = np.vstack((train_data, test_data))\n",
    "all_label = np.vstack((train_label, test_label))\n",
    "pred = model.predict(all_data)\n",
    "drawResults(all_data, all_label, pred)"
   ],
   "metadata": {
    "collapsed": false,
    "ExecuteTime": {
     "end_time": "2024-10-04T11:19:23.946511Z",
     "start_time": "2024-10-04T11:19:23.765430Z"
    }
   },
   "id": "7b921fe997ef61fc",
   "execution_count": 19,
   "outputs": []
  },
  {
   "metadata": {},
   "cell_type": "markdown",
   "source": [
    "## Conclusion\n",
    "По графикам видно что хватает простенькой модельки, для решения данной проблемы с небольшим количеством нейронов. "
   ],
   "id": "658636df9504df33"
  },
  {
   "metadata": {},
   "cell_type": "markdown",
   "source": "К оценке моделей добавлю матрицу ошибок на которой хорошо видно удачное разбиение предикторов -> `TN` + `TP`",
   "id": "ec29d312ae6bdece"
  },
  {
   "cell_type": "code",
   "source": [
    "from sklearn.metrics import confusion_matrix,ConfusionMatrixDisplay\n",
    "import tensorflow as tf\n",
    "\n",
    "predicted = tf.squeeze(pred)\n",
    "predicted = np.array([1 if x >= 0.5 else 0 for x in predicted])\n",
    "actual = np.array(all_label)\n",
    "conf_mat = confusion_matrix(actual, predicted)\n",
    "displ = ConfusionMatrixDisplay(confusion_matrix=conf_mat)\n",
    "displ.plot()"
   ],
   "metadata": {
    "collapsed": false,
    "ExecuteTime": {
     "end_time": "2024-10-04T11:19:24.084993Z",
     "start_time": "2024-10-04T11:19:23.947517Z"
    }
   },
   "id": "fb4806cf2621a8fe",
   "execution_count": 20,
   "outputs": []
  },
  {
   "cell_type": "code",
   "source": [],
   "metadata": {
    "collapsed": false,
    "ExecuteTime": {
     "end_time": "2024-10-04T11:19:24.087691Z",
     "start_time": "2024-10-04T11:19:24.084993Z"
    }
   },
   "id": "765f340f08a4fc7e",
   "execution_count": 20,
   "outputs": []
  },
  {
   "cell_type": "code",
   "source": [],
   "metadata": {
    "collapsed": false,
    "ExecuteTime": {
     "end_time": "2024-10-04T11:19:24.090112Z",
     "start_time": "2024-10-04T11:19:24.087691Z"
    }
   },
   "id": "90798decce5cc46d",
   "execution_count": 20,
   "outputs": []
  }
 ],
 "metadata": {
  "kernelspec": {
   "display_name": "Python 3",
   "language": "python",
   "name": "python3"
  },
  "language_info": {
   "codemirror_mode": {
    "name": "ipython",
    "version": 2
   },
   "file_extension": ".py",
   "mimetype": "text/x-python",
   "name": "python",
   "nbconvert_exporter": "python",
   "pygments_lexer": "ipython2",
   "version": "2.7.6"
  }
 },
 "nbformat": 4,
 "nbformat_minor": 5
}
