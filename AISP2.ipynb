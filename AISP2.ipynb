{
 "nbformat": 4,
 "nbformat_minor": 0,
 "metadata": {
  "colab": {
   "provenance": []
  },
  "kernelspec": {
   "name": "python3",
   "display_name": "Python 3 (ipykernel)",
   "language": "python"
  },
  "language_info": {
   "name": "python"
  }
 },
 "cells": [
  {
   "cell_type": "markdown",
   "source": [
    "# Практическая работа №2\n",
    "## по предмету \"Системы искусственного интеллекта\"\n",
    "\n",
    "Целью практической работы является изучение моделей машинного обучения для задачи регрессии.\n",
    "\n",
    "Выполните предварительную обработку и анализ набора данных.\n",
    "\n",
    "Затем вам необходимо выбрать 3 модели машинного обучения, которые могут решать задачу регрессии, и обучить их на основе данного набора данных. Обязательным условием является построение графика изменения loss для каждой из выбранных моделей. В результате выполнения работы необходимо сделать вывод, какая из моделей лучше подошла для решения поставленной задачи."
   ],
   "metadata": {
    "id": "wwHZs5pbv5lw"
   }
  },
  {
   "cell_type": "code",
   "source": [
    "import pandas as pd\n",
    "import numpy as np\n",
    "import matplotlib.pyplot as plt\n",
    "import seaborn as sns\n"
   ],
   "metadata": {
    "id": "EP_MhQGkw5sW",
    "ExecuteTime": {
     "end_time": "2024-10-28T16:21:18.278540Z",
     "start_time": "2024-10-28T16:21:18.274239Z"
    }
   },
   "outputs": [],
   "execution_count": 1
  },
  {
   "metadata": {
    "ExecuteTime": {
     "end_time": "2024-10-28T16:21:18.707413Z",
     "start_time": "2024-10-28T16:21:18.684391Z"
    }
   },
   "cell_type": "code",
   "source": [
    "df = pd.read_csv('Datasets/AISP2.csv')\n",
    "df"
   ],
   "outputs": [
    {
     "data": {
      "text/plain": [
       "      brand processor_brand processor_name processor_gnrtn ram_gb ram_type  \\\n",
       "0      ASUS           Intel        Core i3            10th   4 GB     DDR4   \n",
       "1    Lenovo           Intel        Core i3            10th   4 GB     DDR4   \n",
       "2    Lenovo           Intel        Core i3            10th   4 GB     DDR4   \n",
       "3      ASUS           Intel        Core i5            10th   8 GB     DDR4   \n",
       "4      ASUS           Intel   Celeron Dual   Not Available   4 GB     DDR4   \n",
       "..      ...             ...            ...             ...    ...      ...   \n",
       "818    ASUS             AMD        Ryzen 9   Not Available   4 GB     DDR4   \n",
       "819    ASUS             AMD        Ryzen 9   Not Available   4 GB     DDR4   \n",
       "820    ASUS             AMD        Ryzen 9   Not Available   4 GB     DDR4   \n",
       "821    ASUS             AMD        Ryzen 9   Not Available   4 GB     DDR4   \n",
       "822  Lenovo             AMD        Ryzen 5            10th   8 GB     DDR4   \n",
       "\n",
       "         ssd      hdd       os  os_bit graphic_card_gb      weight  \\\n",
       "0       0 GB  1024 GB  Windows  64-bit            0 GB      Casual   \n",
       "1       0 GB  1024 GB  Windows  64-bit            0 GB      Casual   \n",
       "2       0 GB  1024 GB  Windows  64-bit            0 GB      Casual   \n",
       "3     512 GB     0 GB  Windows  32-bit            2 GB      Casual   \n",
       "4       0 GB   512 GB  Windows  64-bit            0 GB      Casual   \n",
       "..       ...      ...      ...     ...             ...         ...   \n",
       "818  1024 GB     0 GB  Windows  64-bit            0 GB      Casual   \n",
       "819  1024 GB     0 GB  Windows  64-bit            0 GB      Casual   \n",
       "820  1024 GB     0 GB  Windows  64-bit            4 GB      Casual   \n",
       "821  1024 GB     0 GB  Windows  64-bit            4 GB      Casual   \n",
       "822   512 GB     0 GB      DOS  64-bit            0 GB  ThinNlight   \n",
       "\n",
       "        warranty Touchscreen msoffice   Price   rating  Number of Ratings  \\\n",
       "0    No warranty          No       No   34649  2 stars                  3   \n",
       "1    No warranty          No       No   38999  3 stars                 65   \n",
       "2    No warranty          No       No   39999  3 stars                  8   \n",
       "3    No warranty          No       No   69990  3 stars                  0   \n",
       "4    No warranty          No       No   26990  3 stars                  0   \n",
       "..           ...         ...      ...     ...      ...                ...   \n",
       "818       1 year          No       No  135990  3 stars                  0   \n",
       "819       1 year          No       No  144990  3 stars                  0   \n",
       "820       1 year          No       No  149990  3 stars                  0   \n",
       "821       1 year          No       No  142990  3 stars                  0   \n",
       "822  No warranty          No       No   57490  4 stars                 18   \n",
       "\n",
       "     Number of Reviews  \n",
       "0                    0  \n",
       "1                    5  \n",
       "2                    1  \n",
       "3                    0  \n",
       "4                    0  \n",
       "..                 ...  \n",
       "818                  0  \n",
       "819                  0  \n",
       "820                  0  \n",
       "821                  0  \n",
       "822                  4  \n",
       "\n",
       "[823 rows x 19 columns]"
      ],
      "text/html": [
       "<div>\n",
       "<style scoped>\n",
       "    .dataframe tbody tr th:only-of-type {\n",
       "        vertical-align: middle;\n",
       "    }\n",
       "\n",
       "    .dataframe tbody tr th {\n",
       "        vertical-align: top;\n",
       "    }\n",
       "\n",
       "    .dataframe thead th {\n",
       "        text-align: right;\n",
       "    }\n",
       "</style>\n",
       "<table border=\"1\" class=\"dataframe\">\n",
       "  <thead>\n",
       "    <tr style=\"text-align: right;\">\n",
       "      <th></th>\n",
       "      <th>brand</th>\n",
       "      <th>processor_brand</th>\n",
       "      <th>processor_name</th>\n",
       "      <th>processor_gnrtn</th>\n",
       "      <th>ram_gb</th>\n",
       "      <th>ram_type</th>\n",
       "      <th>ssd</th>\n",
       "      <th>hdd</th>\n",
       "      <th>os</th>\n",
       "      <th>os_bit</th>\n",
       "      <th>graphic_card_gb</th>\n",
       "      <th>weight</th>\n",
       "      <th>warranty</th>\n",
       "      <th>Touchscreen</th>\n",
       "      <th>msoffice</th>\n",
       "      <th>Price</th>\n",
       "      <th>rating</th>\n",
       "      <th>Number of Ratings</th>\n",
       "      <th>Number of Reviews</th>\n",
       "    </tr>\n",
       "  </thead>\n",
       "  <tbody>\n",
       "    <tr>\n",
       "      <th>0</th>\n",
       "      <td>ASUS</td>\n",
       "      <td>Intel</td>\n",
       "      <td>Core i3</td>\n",
       "      <td>10th</td>\n",
       "      <td>4 GB</td>\n",
       "      <td>DDR4</td>\n",
       "      <td>0 GB</td>\n",
       "      <td>1024 GB</td>\n",
       "      <td>Windows</td>\n",
       "      <td>64-bit</td>\n",
       "      <td>0 GB</td>\n",
       "      <td>Casual</td>\n",
       "      <td>No warranty</td>\n",
       "      <td>No</td>\n",
       "      <td>No</td>\n",
       "      <td>34649</td>\n",
       "      <td>2 stars</td>\n",
       "      <td>3</td>\n",
       "      <td>0</td>\n",
       "    </tr>\n",
       "    <tr>\n",
       "      <th>1</th>\n",
       "      <td>Lenovo</td>\n",
       "      <td>Intel</td>\n",
       "      <td>Core i3</td>\n",
       "      <td>10th</td>\n",
       "      <td>4 GB</td>\n",
       "      <td>DDR4</td>\n",
       "      <td>0 GB</td>\n",
       "      <td>1024 GB</td>\n",
       "      <td>Windows</td>\n",
       "      <td>64-bit</td>\n",
       "      <td>0 GB</td>\n",
       "      <td>Casual</td>\n",
       "      <td>No warranty</td>\n",
       "      <td>No</td>\n",
       "      <td>No</td>\n",
       "      <td>38999</td>\n",
       "      <td>3 stars</td>\n",
       "      <td>65</td>\n",
       "      <td>5</td>\n",
       "    </tr>\n",
       "    <tr>\n",
       "      <th>2</th>\n",
       "      <td>Lenovo</td>\n",
       "      <td>Intel</td>\n",
       "      <td>Core i3</td>\n",
       "      <td>10th</td>\n",
       "      <td>4 GB</td>\n",
       "      <td>DDR4</td>\n",
       "      <td>0 GB</td>\n",
       "      <td>1024 GB</td>\n",
       "      <td>Windows</td>\n",
       "      <td>64-bit</td>\n",
       "      <td>0 GB</td>\n",
       "      <td>Casual</td>\n",
       "      <td>No warranty</td>\n",
       "      <td>No</td>\n",
       "      <td>No</td>\n",
       "      <td>39999</td>\n",
       "      <td>3 stars</td>\n",
       "      <td>8</td>\n",
       "      <td>1</td>\n",
       "    </tr>\n",
       "    <tr>\n",
       "      <th>3</th>\n",
       "      <td>ASUS</td>\n",
       "      <td>Intel</td>\n",
       "      <td>Core i5</td>\n",
       "      <td>10th</td>\n",
       "      <td>8 GB</td>\n",
       "      <td>DDR4</td>\n",
       "      <td>512 GB</td>\n",
       "      <td>0 GB</td>\n",
       "      <td>Windows</td>\n",
       "      <td>32-bit</td>\n",
       "      <td>2 GB</td>\n",
       "      <td>Casual</td>\n",
       "      <td>No warranty</td>\n",
       "      <td>No</td>\n",
       "      <td>No</td>\n",
       "      <td>69990</td>\n",
       "      <td>3 stars</td>\n",
       "      <td>0</td>\n",
       "      <td>0</td>\n",
       "    </tr>\n",
       "    <tr>\n",
       "      <th>4</th>\n",
       "      <td>ASUS</td>\n",
       "      <td>Intel</td>\n",
       "      <td>Celeron Dual</td>\n",
       "      <td>Not Available</td>\n",
       "      <td>4 GB</td>\n",
       "      <td>DDR4</td>\n",
       "      <td>0 GB</td>\n",
       "      <td>512 GB</td>\n",
       "      <td>Windows</td>\n",
       "      <td>64-bit</td>\n",
       "      <td>0 GB</td>\n",
       "      <td>Casual</td>\n",
       "      <td>No warranty</td>\n",
       "      <td>No</td>\n",
       "      <td>No</td>\n",
       "      <td>26990</td>\n",
       "      <td>3 stars</td>\n",
       "      <td>0</td>\n",
       "      <td>0</td>\n",
       "    </tr>\n",
       "    <tr>\n",
       "      <th>...</th>\n",
       "      <td>...</td>\n",
       "      <td>...</td>\n",
       "      <td>...</td>\n",
       "      <td>...</td>\n",
       "      <td>...</td>\n",
       "      <td>...</td>\n",
       "      <td>...</td>\n",
       "      <td>...</td>\n",
       "      <td>...</td>\n",
       "      <td>...</td>\n",
       "      <td>...</td>\n",
       "      <td>...</td>\n",
       "      <td>...</td>\n",
       "      <td>...</td>\n",
       "      <td>...</td>\n",
       "      <td>...</td>\n",
       "      <td>...</td>\n",
       "      <td>...</td>\n",
       "      <td>...</td>\n",
       "    </tr>\n",
       "    <tr>\n",
       "      <th>818</th>\n",
       "      <td>ASUS</td>\n",
       "      <td>AMD</td>\n",
       "      <td>Ryzen 9</td>\n",
       "      <td>Not Available</td>\n",
       "      <td>4 GB</td>\n",
       "      <td>DDR4</td>\n",
       "      <td>1024 GB</td>\n",
       "      <td>0 GB</td>\n",
       "      <td>Windows</td>\n",
       "      <td>64-bit</td>\n",
       "      <td>0 GB</td>\n",
       "      <td>Casual</td>\n",
       "      <td>1 year</td>\n",
       "      <td>No</td>\n",
       "      <td>No</td>\n",
       "      <td>135990</td>\n",
       "      <td>3 stars</td>\n",
       "      <td>0</td>\n",
       "      <td>0</td>\n",
       "    </tr>\n",
       "    <tr>\n",
       "      <th>819</th>\n",
       "      <td>ASUS</td>\n",
       "      <td>AMD</td>\n",
       "      <td>Ryzen 9</td>\n",
       "      <td>Not Available</td>\n",
       "      <td>4 GB</td>\n",
       "      <td>DDR4</td>\n",
       "      <td>1024 GB</td>\n",
       "      <td>0 GB</td>\n",
       "      <td>Windows</td>\n",
       "      <td>64-bit</td>\n",
       "      <td>0 GB</td>\n",
       "      <td>Casual</td>\n",
       "      <td>1 year</td>\n",
       "      <td>No</td>\n",
       "      <td>No</td>\n",
       "      <td>144990</td>\n",
       "      <td>3 stars</td>\n",
       "      <td>0</td>\n",
       "      <td>0</td>\n",
       "    </tr>\n",
       "    <tr>\n",
       "      <th>820</th>\n",
       "      <td>ASUS</td>\n",
       "      <td>AMD</td>\n",
       "      <td>Ryzen 9</td>\n",
       "      <td>Not Available</td>\n",
       "      <td>4 GB</td>\n",
       "      <td>DDR4</td>\n",
       "      <td>1024 GB</td>\n",
       "      <td>0 GB</td>\n",
       "      <td>Windows</td>\n",
       "      <td>64-bit</td>\n",
       "      <td>4 GB</td>\n",
       "      <td>Casual</td>\n",
       "      <td>1 year</td>\n",
       "      <td>No</td>\n",
       "      <td>No</td>\n",
       "      <td>149990</td>\n",
       "      <td>3 stars</td>\n",
       "      <td>0</td>\n",
       "      <td>0</td>\n",
       "    </tr>\n",
       "    <tr>\n",
       "      <th>821</th>\n",
       "      <td>ASUS</td>\n",
       "      <td>AMD</td>\n",
       "      <td>Ryzen 9</td>\n",
       "      <td>Not Available</td>\n",
       "      <td>4 GB</td>\n",
       "      <td>DDR4</td>\n",
       "      <td>1024 GB</td>\n",
       "      <td>0 GB</td>\n",
       "      <td>Windows</td>\n",
       "      <td>64-bit</td>\n",
       "      <td>4 GB</td>\n",
       "      <td>Casual</td>\n",
       "      <td>1 year</td>\n",
       "      <td>No</td>\n",
       "      <td>No</td>\n",
       "      <td>142990</td>\n",
       "      <td>3 stars</td>\n",
       "      <td>0</td>\n",
       "      <td>0</td>\n",
       "    </tr>\n",
       "    <tr>\n",
       "      <th>822</th>\n",
       "      <td>Lenovo</td>\n",
       "      <td>AMD</td>\n",
       "      <td>Ryzen 5</td>\n",
       "      <td>10th</td>\n",
       "      <td>8 GB</td>\n",
       "      <td>DDR4</td>\n",
       "      <td>512 GB</td>\n",
       "      <td>0 GB</td>\n",
       "      <td>DOS</td>\n",
       "      <td>64-bit</td>\n",
       "      <td>0 GB</td>\n",
       "      <td>ThinNlight</td>\n",
       "      <td>No warranty</td>\n",
       "      <td>No</td>\n",
       "      <td>No</td>\n",
       "      <td>57490</td>\n",
       "      <td>4 stars</td>\n",
       "      <td>18</td>\n",
       "      <td>4</td>\n",
       "    </tr>\n",
       "  </tbody>\n",
       "</table>\n",
       "<p>823 rows × 19 columns</p>\n",
       "</div>"
      ]
     },
     "execution_count": 2,
     "metadata": {},
     "output_type": "execute_result"
    }
   ],
   "execution_count": 2
  },
  {
   "metadata": {
    "ExecuteTime": {
     "end_time": "2024-10-28T16:21:19.147069Z",
     "start_time": "2024-10-28T16:21:19.139535Z"
    }
   },
   "cell_type": "code",
   "source": "df.info()",
   "outputs": [
    {
     "name": "stdout",
     "output_type": "stream",
     "text": [
      "<class 'pandas.core.frame.DataFrame'>\n",
      "RangeIndex: 823 entries, 0 to 822\n",
      "Data columns (total 19 columns):\n",
      " #   Column             Non-Null Count  Dtype \n",
      "---  ------             --------------  ----- \n",
      " 0   brand              823 non-null    object\n",
      " 1   processor_brand    823 non-null    object\n",
      " 2   processor_name     823 non-null    object\n",
      " 3   processor_gnrtn    823 non-null    object\n",
      " 4   ram_gb             823 non-null    object\n",
      " 5   ram_type           823 non-null    object\n",
      " 6   ssd                823 non-null    object\n",
      " 7   hdd                823 non-null    object\n",
      " 8   os                 823 non-null    object\n",
      " 9   os_bit             823 non-null    object\n",
      " 10  graphic_card_gb    823 non-null    object\n",
      " 11  weight             823 non-null    object\n",
      " 12  warranty           823 non-null    object\n",
      " 13  Touchscreen        823 non-null    object\n",
      " 14  msoffice           823 non-null    object\n",
      " 15  Price              823 non-null    int64 \n",
      " 16  rating             823 non-null    object\n",
      " 17  Number of Ratings  823 non-null    int64 \n",
      " 18  Number of Reviews  823 non-null    int64 \n",
      "dtypes: int64(3), object(16)\n",
      "memory usage: 122.3+ KB\n"
     ]
    }
   ],
   "execution_count": 3
  },
  {
   "metadata": {
    "ExecuteTime": {
     "end_time": "2024-10-28T16:21:19.621018Z",
     "start_time": "2024-10-28T16:21:19.615436Z"
    }
   },
   "cell_type": "code",
   "source": "df.processor_gnrtn.value_counts()",
   "outputs": [
    {
     "data": {
      "text/plain": [
       "processor_gnrtn\n",
       "11th             334\n",
       "Not Available    225\n",
       "10th             204\n",
       "8th               41\n",
       "7th                9\n",
       "9th                6\n",
       "12th               3\n",
       "4th                1\n",
       "Name: count, dtype: int64"
      ]
     },
     "execution_count": 4,
     "metadata": {},
     "output_type": "execute_result"
    }
   ],
   "execution_count": 4
  },
  {
   "metadata": {
    "ExecuteTime": {
     "end_time": "2024-10-28T16:21:20.380654Z",
     "start_time": "2024-10-28T16:21:20.377041Z"
    }
   },
   "cell_type": "code",
   "source": "df.loc[df.processor_gnrtn == 'Not Available', 'processor_gnrtn'] = np.nan",
   "outputs": [],
   "execution_count": 5
  },
  {
   "metadata": {
    "ExecuteTime": {
     "end_time": "2024-10-28T16:21:21.239609Z",
     "start_time": "2024-10-28T16:21:21.226278Z"
    }
   },
   "cell_type": "code",
   "source": "df = df.fillna(df.mode().iloc[0])",
   "outputs": [],
   "execution_count": 6
  },
  {
   "metadata": {},
   "cell_type": "markdown",
   "source": ""
  },
  {
   "metadata": {
    "ExecuteTime": {
     "end_time": "2024-10-28T16:21:22.282528Z",
     "start_time": "2024-10-28T16:21:22.136607Z"
    }
   },
   "cell_type": "code",
   "source": "from DataFrameOperations import *",
   "outputs": [],
   "execution_count": 7
  },
  {
   "metadata": {
    "ExecuteTime": {
     "end_time": "2024-10-28T16:21:22.641634Z",
     "start_time": "2024-10-28T16:21:22.620561Z"
    }
   },
   "cell_type": "code",
   "source": [
    "full_df: pd.DataFrame = kill_0GB(df, ['ssd', 'hdd', 'graphic_card_gb'])\n",
    "full_df"
   ],
   "outputs": [
    {
     "data": {
      "text/plain": [
       "      brand processor_brand processor_name processor_gnrtn ram_gb ram_type  \\\n",
       "0      ASUS           Intel        Core i3            10th   4 GB     DDR4   \n",
       "1    Lenovo           Intel        Core i3            10th   4 GB     DDR4   \n",
       "2    Lenovo           Intel        Core i3            10th   4 GB     DDR4   \n",
       "3      ASUS           Intel        Core i5            10th   8 GB     DDR4   \n",
       "4      ASUS           Intel   Celeron Dual            11th   4 GB     DDR4   \n",
       "..      ...             ...            ...             ...    ...      ...   \n",
       "818    ASUS             AMD        Ryzen 9            11th   4 GB     DDR4   \n",
       "819    ASUS             AMD        Ryzen 9            11th   4 GB     DDR4   \n",
       "820    ASUS             AMD        Ryzen 9            11th   4 GB     DDR4   \n",
       "821    ASUS             AMD        Ryzen 9            11th   4 GB     DDR4   \n",
       "822  Lenovo             AMD        Ryzen 5            10th   8 GB     DDR4   \n",
       "\n",
       "         ssd      hdd       os  os_bit graphic_card_gb      weight  \\\n",
       "0     512 GB  1024 GB  Windows  64-bit            4 GB      Casual   \n",
       "1     512 GB  1024 GB  Windows  64-bit            4 GB      Casual   \n",
       "2     512 GB  1024 GB  Windows  64-bit            4 GB      Casual   \n",
       "3     512 GB  1024 GB  Windows  32-bit            2 GB      Casual   \n",
       "4     512 GB   512 GB  Windows  64-bit            4 GB      Casual   \n",
       "..       ...      ...      ...     ...             ...         ...   \n",
       "818  1024 GB  1024 GB  Windows  64-bit            4 GB      Casual   \n",
       "819  1024 GB  1024 GB  Windows  64-bit            4 GB      Casual   \n",
       "820  1024 GB  1024 GB  Windows  64-bit            4 GB      Casual   \n",
       "821  1024 GB  1024 GB  Windows  64-bit            4 GB      Casual   \n",
       "822   512 GB  1024 GB      DOS  64-bit            4 GB  ThinNlight   \n",
       "\n",
       "        warranty Touchscreen msoffice   Price   rating  Number of Ratings  \\\n",
       "0    No warranty          No       No   34649  2 stars                  3   \n",
       "1    No warranty          No       No   38999  3 stars                 65   \n",
       "2    No warranty          No       No   39999  3 stars                  8   \n",
       "3    No warranty          No       No   69990  3 stars                  0   \n",
       "4    No warranty          No       No   26990  3 stars                  0   \n",
       "..           ...         ...      ...     ...      ...                ...   \n",
       "818       1 year          No       No  135990  3 stars                  0   \n",
       "819       1 year          No       No  144990  3 stars                  0   \n",
       "820       1 year          No       No  149990  3 stars                  0   \n",
       "821       1 year          No       No  142990  3 stars                  0   \n",
       "822  No warranty          No       No   57490  4 stars                 18   \n",
       "\n",
       "     Number of Reviews  \n",
       "0                    0  \n",
       "1                    5  \n",
       "2                    1  \n",
       "3                    0  \n",
       "4                    0  \n",
       "..                 ...  \n",
       "818                  0  \n",
       "819                  0  \n",
       "820                  0  \n",
       "821                  0  \n",
       "822                  4  \n",
       "\n",
       "[823 rows x 19 columns]"
      ],
      "text/html": [
       "<div>\n",
       "<style scoped>\n",
       "    .dataframe tbody tr th:only-of-type {\n",
       "        vertical-align: middle;\n",
       "    }\n",
       "\n",
       "    .dataframe tbody tr th {\n",
       "        vertical-align: top;\n",
       "    }\n",
       "\n",
       "    .dataframe thead th {\n",
       "        text-align: right;\n",
       "    }\n",
       "</style>\n",
       "<table border=\"1\" class=\"dataframe\">\n",
       "  <thead>\n",
       "    <tr style=\"text-align: right;\">\n",
       "      <th></th>\n",
       "      <th>brand</th>\n",
       "      <th>processor_brand</th>\n",
       "      <th>processor_name</th>\n",
       "      <th>processor_gnrtn</th>\n",
       "      <th>ram_gb</th>\n",
       "      <th>ram_type</th>\n",
       "      <th>ssd</th>\n",
       "      <th>hdd</th>\n",
       "      <th>os</th>\n",
       "      <th>os_bit</th>\n",
       "      <th>graphic_card_gb</th>\n",
       "      <th>weight</th>\n",
       "      <th>warranty</th>\n",
       "      <th>Touchscreen</th>\n",
       "      <th>msoffice</th>\n",
       "      <th>Price</th>\n",
       "      <th>rating</th>\n",
       "      <th>Number of Ratings</th>\n",
       "      <th>Number of Reviews</th>\n",
       "    </tr>\n",
       "  </thead>\n",
       "  <tbody>\n",
       "    <tr>\n",
       "      <th>0</th>\n",
       "      <td>ASUS</td>\n",
       "      <td>Intel</td>\n",
       "      <td>Core i3</td>\n",
       "      <td>10th</td>\n",
       "      <td>4 GB</td>\n",
       "      <td>DDR4</td>\n",
       "      <td>512 GB</td>\n",
       "      <td>1024 GB</td>\n",
       "      <td>Windows</td>\n",
       "      <td>64-bit</td>\n",
       "      <td>4 GB</td>\n",
       "      <td>Casual</td>\n",
       "      <td>No warranty</td>\n",
       "      <td>No</td>\n",
       "      <td>No</td>\n",
       "      <td>34649</td>\n",
       "      <td>2 stars</td>\n",
       "      <td>3</td>\n",
       "      <td>0</td>\n",
       "    </tr>\n",
       "    <tr>\n",
       "      <th>1</th>\n",
       "      <td>Lenovo</td>\n",
       "      <td>Intel</td>\n",
       "      <td>Core i3</td>\n",
       "      <td>10th</td>\n",
       "      <td>4 GB</td>\n",
       "      <td>DDR4</td>\n",
       "      <td>512 GB</td>\n",
       "      <td>1024 GB</td>\n",
       "      <td>Windows</td>\n",
       "      <td>64-bit</td>\n",
       "      <td>4 GB</td>\n",
       "      <td>Casual</td>\n",
       "      <td>No warranty</td>\n",
       "      <td>No</td>\n",
       "      <td>No</td>\n",
       "      <td>38999</td>\n",
       "      <td>3 stars</td>\n",
       "      <td>65</td>\n",
       "      <td>5</td>\n",
       "    </tr>\n",
       "    <tr>\n",
       "      <th>2</th>\n",
       "      <td>Lenovo</td>\n",
       "      <td>Intel</td>\n",
       "      <td>Core i3</td>\n",
       "      <td>10th</td>\n",
       "      <td>4 GB</td>\n",
       "      <td>DDR4</td>\n",
       "      <td>512 GB</td>\n",
       "      <td>1024 GB</td>\n",
       "      <td>Windows</td>\n",
       "      <td>64-bit</td>\n",
       "      <td>4 GB</td>\n",
       "      <td>Casual</td>\n",
       "      <td>No warranty</td>\n",
       "      <td>No</td>\n",
       "      <td>No</td>\n",
       "      <td>39999</td>\n",
       "      <td>3 stars</td>\n",
       "      <td>8</td>\n",
       "      <td>1</td>\n",
       "    </tr>\n",
       "    <tr>\n",
       "      <th>3</th>\n",
       "      <td>ASUS</td>\n",
       "      <td>Intel</td>\n",
       "      <td>Core i5</td>\n",
       "      <td>10th</td>\n",
       "      <td>8 GB</td>\n",
       "      <td>DDR4</td>\n",
       "      <td>512 GB</td>\n",
       "      <td>1024 GB</td>\n",
       "      <td>Windows</td>\n",
       "      <td>32-bit</td>\n",
       "      <td>2 GB</td>\n",
       "      <td>Casual</td>\n",
       "      <td>No warranty</td>\n",
       "      <td>No</td>\n",
       "      <td>No</td>\n",
       "      <td>69990</td>\n",
       "      <td>3 stars</td>\n",
       "      <td>0</td>\n",
       "      <td>0</td>\n",
       "    </tr>\n",
       "    <tr>\n",
       "      <th>4</th>\n",
       "      <td>ASUS</td>\n",
       "      <td>Intel</td>\n",
       "      <td>Celeron Dual</td>\n",
       "      <td>11th</td>\n",
       "      <td>4 GB</td>\n",
       "      <td>DDR4</td>\n",
       "      <td>512 GB</td>\n",
       "      <td>512 GB</td>\n",
       "      <td>Windows</td>\n",
       "      <td>64-bit</td>\n",
       "      <td>4 GB</td>\n",
       "      <td>Casual</td>\n",
       "      <td>No warranty</td>\n",
       "      <td>No</td>\n",
       "      <td>No</td>\n",
       "      <td>26990</td>\n",
       "      <td>3 stars</td>\n",
       "      <td>0</td>\n",
       "      <td>0</td>\n",
       "    </tr>\n",
       "    <tr>\n",
       "      <th>...</th>\n",
       "      <td>...</td>\n",
       "      <td>...</td>\n",
       "      <td>...</td>\n",
       "      <td>...</td>\n",
       "      <td>...</td>\n",
       "      <td>...</td>\n",
       "      <td>...</td>\n",
       "      <td>...</td>\n",
       "      <td>...</td>\n",
       "      <td>...</td>\n",
       "      <td>...</td>\n",
       "      <td>...</td>\n",
       "      <td>...</td>\n",
       "      <td>...</td>\n",
       "      <td>...</td>\n",
       "      <td>...</td>\n",
       "      <td>...</td>\n",
       "      <td>...</td>\n",
       "      <td>...</td>\n",
       "    </tr>\n",
       "    <tr>\n",
       "      <th>818</th>\n",
       "      <td>ASUS</td>\n",
       "      <td>AMD</td>\n",
       "      <td>Ryzen 9</td>\n",
       "      <td>11th</td>\n",
       "      <td>4 GB</td>\n",
       "      <td>DDR4</td>\n",
       "      <td>1024 GB</td>\n",
       "      <td>1024 GB</td>\n",
       "      <td>Windows</td>\n",
       "      <td>64-bit</td>\n",
       "      <td>4 GB</td>\n",
       "      <td>Casual</td>\n",
       "      <td>1 year</td>\n",
       "      <td>No</td>\n",
       "      <td>No</td>\n",
       "      <td>135990</td>\n",
       "      <td>3 stars</td>\n",
       "      <td>0</td>\n",
       "      <td>0</td>\n",
       "    </tr>\n",
       "    <tr>\n",
       "      <th>819</th>\n",
       "      <td>ASUS</td>\n",
       "      <td>AMD</td>\n",
       "      <td>Ryzen 9</td>\n",
       "      <td>11th</td>\n",
       "      <td>4 GB</td>\n",
       "      <td>DDR4</td>\n",
       "      <td>1024 GB</td>\n",
       "      <td>1024 GB</td>\n",
       "      <td>Windows</td>\n",
       "      <td>64-bit</td>\n",
       "      <td>4 GB</td>\n",
       "      <td>Casual</td>\n",
       "      <td>1 year</td>\n",
       "      <td>No</td>\n",
       "      <td>No</td>\n",
       "      <td>144990</td>\n",
       "      <td>3 stars</td>\n",
       "      <td>0</td>\n",
       "      <td>0</td>\n",
       "    </tr>\n",
       "    <tr>\n",
       "      <th>820</th>\n",
       "      <td>ASUS</td>\n",
       "      <td>AMD</td>\n",
       "      <td>Ryzen 9</td>\n",
       "      <td>11th</td>\n",
       "      <td>4 GB</td>\n",
       "      <td>DDR4</td>\n",
       "      <td>1024 GB</td>\n",
       "      <td>1024 GB</td>\n",
       "      <td>Windows</td>\n",
       "      <td>64-bit</td>\n",
       "      <td>4 GB</td>\n",
       "      <td>Casual</td>\n",
       "      <td>1 year</td>\n",
       "      <td>No</td>\n",
       "      <td>No</td>\n",
       "      <td>149990</td>\n",
       "      <td>3 stars</td>\n",
       "      <td>0</td>\n",
       "      <td>0</td>\n",
       "    </tr>\n",
       "    <tr>\n",
       "      <th>821</th>\n",
       "      <td>ASUS</td>\n",
       "      <td>AMD</td>\n",
       "      <td>Ryzen 9</td>\n",
       "      <td>11th</td>\n",
       "      <td>4 GB</td>\n",
       "      <td>DDR4</td>\n",
       "      <td>1024 GB</td>\n",
       "      <td>1024 GB</td>\n",
       "      <td>Windows</td>\n",
       "      <td>64-bit</td>\n",
       "      <td>4 GB</td>\n",
       "      <td>Casual</td>\n",
       "      <td>1 year</td>\n",
       "      <td>No</td>\n",
       "      <td>No</td>\n",
       "      <td>142990</td>\n",
       "      <td>3 stars</td>\n",
       "      <td>0</td>\n",
       "      <td>0</td>\n",
       "    </tr>\n",
       "    <tr>\n",
       "      <th>822</th>\n",
       "      <td>Lenovo</td>\n",
       "      <td>AMD</td>\n",
       "      <td>Ryzen 5</td>\n",
       "      <td>10th</td>\n",
       "      <td>8 GB</td>\n",
       "      <td>DDR4</td>\n",
       "      <td>512 GB</td>\n",
       "      <td>1024 GB</td>\n",
       "      <td>DOS</td>\n",
       "      <td>64-bit</td>\n",
       "      <td>4 GB</td>\n",
       "      <td>ThinNlight</td>\n",
       "      <td>No warranty</td>\n",
       "      <td>No</td>\n",
       "      <td>No</td>\n",
       "      <td>57490</td>\n",
       "      <td>4 stars</td>\n",
       "      <td>18</td>\n",
       "      <td>4</td>\n",
       "    </tr>\n",
       "  </tbody>\n",
       "</table>\n",
       "<p>823 rows × 19 columns</p>\n",
       "</div>"
      ]
     },
     "execution_count": 8,
     "metadata": {},
     "output_type": "execute_result"
    }
   ],
   "execution_count": 8
  },
  {
   "metadata": {
    "ExecuteTime": {
     "end_time": "2024-10-28T16:22:10.137013Z",
     "start_time": "2024-10-28T16:22:10.117979Z"
    }
   },
   "cell_type": "code",
   "source": "full_df_final: pd.DataFrame = made_all_to_categorical(full_df)",
   "outputs": [],
   "execution_count": 11
  },
  {
   "metadata": {
    "ExecuteTime": {
     "end_time": "2024-10-28T16:22:14.385003Z",
     "start_time": "2024-10-28T16:22:14.379773Z"
    }
   },
   "cell_type": "code",
   "source": "full_df_final.graphic_card_gb.value_counts()",
   "outputs": [
    {
     "data": {
      "text/plain": [
       "graphic_card_gb\n",
       "1.0    705\n",
       "0.0     67\n",
       "2.0     37\n",
       "3.0     14\n",
       "Name: count, dtype: int64"
      ]
     },
     "execution_count": 12,
     "metadata": {},
     "output_type": "execute_result"
    }
   ],
   "execution_count": 12
  },
  {
   "metadata": {
    "ExecuteTime": {
     "end_time": "2024-10-28T16:22:19.108812Z",
     "start_time": "2024-10-28T16:22:18.909815Z"
    }
   },
   "cell_type": "code",
   "source": "sns.histplot(data=full_df_final, x='Price')",
   "outputs": [
    {
     "data": {
      "text/plain": [
       "<Axes: xlabel='Price', ylabel='Count'>"
      ]
     },
     "execution_count": 13,
     "metadata": {},
     "output_type": "execute_result"
    },
    {
     "data": {
      "text/plain": [
       "<Figure size 640x480 with 1 Axes>"
      ],
      "image/png": "[encoded data removed]"
     },
     "metadata": {},
     "output_type": "display_data"
    }
   ],
   "execution_count": 13
  },
  {
   "metadata": {
    "ExecuteTime": {
     "end_time": "2024-10-28T16:22:25.647765Z",
     "start_time": "2024-10-28T16:22:25.643163Z"
    }
   },
   "cell_type": "code",
   "source": "full_df_final: pd.DataFrame = full_df_final.drop(full_df_final[full_df_final['Price'] > 400_000].index)",
   "outputs": [],
   "execution_count": 14
  },
  {
   "metadata": {
    "ExecuteTime": {
     "end_time": "2024-10-28T16:22:28.304351Z",
     "start_time": "2024-10-28T16:22:28.043320Z"
    }
   },
   "cell_type": "code",
   "source": "sns.histplot(data=full_df_final, x='Price')",
   "outputs": [
    {
     "data": {
      "text/plain": [
       "<Axes: xlabel='Price', ylabel='Count'>"
      ]
     },
     "execution_count": 15,
     "metadata": {},
     "output_type": "execute_result"
    },
    {
     "data": {
      "text/plain": [
       "<Figure size 640x480 with 1 Axes>"
      ],
      "image/png": "[encoded data removed]"
     },
     "metadata": {},
     "output_type": "display_data"
    }
   ],
   "execution_count": 15
  },
  {
   "metadata": {},
   "cell_type": "markdown",
   "source": ""
  },
  {
   "metadata": {},
   "cell_type": "code",
   "source": "",
   "outputs": [],
   "execution_count": null
  },
  {
   "metadata": {},
   "cell_type": "markdown",
   "source": ""
  },
  {
   "metadata": {
    "ExecuteTime": {
     "end_time": "2024-10-28T16:22:36.620445Z",
     "start_time": "2024-10-28T16:22:36.576976Z"
    }
   },
   "cell_type": "code",
   "source": [
    "from sklearn.model_selection import train_test_split\n",
    "RANDOM_SEED: int = 42"
   ],
   "outputs": [],
   "execution_count": 16
  },
  {
   "metadata": {
    "ExecuteTime": {
     "end_time": "2024-10-28T16:22:37.049460Z",
     "start_time": "2024-10-28T16:22:37.045885Z"
    }
   },
   "cell_type": "code",
   "source": [
    "X = full_df_final.drop(columns='Price')\n",
    "y = full_df_final['Price']"
   ],
   "outputs": [],
   "execution_count": 17
  },
  {
   "metadata": {
    "ExecuteTime": {
     "end_time": "2024-10-28T16:22:37.454763Z",
     "start_time": "2024-10-28T16:22:37.449402Z"
    }
   },
   "cell_type": "code",
   "source": "X_train, X_test, y_train, y_test = train_test_split(X, y, random_state=RANDOM_SEED, test_size=0.2)",
   "outputs": [],
   "execution_count": 18
  },
  {
   "metadata": {},
   "cell_type": "markdown",
   "source": ""
  },
  {
   "metadata": {
    "ExecuteTime": {
     "end_time": "2024-10-28T16:33:22.096995Z",
     "start_time": "2024-10-28T16:33:22.088556Z"
    }
   },
   "cell_type": "code",
   "source": [
    "from sklearn.linear_model import LinearRegression\n",
    "\n",
    "lr = LinearRegression()\n",
    "lr.fit(X_train, y_train)\n",
    "lr.score(X_test, y_test)"
   ],
   "outputs": [
    {
     "data": {
      "text/plain": [
       "0.46388838224241047"
      ]
     },
     "execution_count": 36,
     "metadata": {},
     "output_type": "execute_result"
    }
   ],
   "execution_count": 36
  },
  {
   "metadata": {
    "ExecuteTime": {
     "end_time": "2024-10-28T16:33:38.733608Z",
     "start_time": "2024-10-28T16:33:38.503227Z"
    }
   },
   "cell_type": "code",
   "source": [
    "from sklearn.model_selection import LearningCurveDisplay\n",
    "\n",
    "LearningCurveDisplay.from_estimator(lr, X_test, y_test, cv=7, scoring='r2', n_jobs=-1)"
   ],
   "outputs": [
    {
     "data": {
      "text/plain": [
       "<sklearn.model_selection._plot.LearningCurveDisplay at 0x1ca88d76350>"
      ]
     },
     "execution_count": 39,
     "metadata": {},
     "output_type": "execute_result"
    },
    {
     "data": {
      "text/plain": [
       "<Figure size 640x480 with 1 Axes>"
      ],
      "image/png": "[encoded data removed]"
     },
     "metadata": {},
     "output_type": "display_data"
    }
   ],
   "execution_count": 39
  },
  {
   "metadata": {},
   "cell_type": "markdown",
   "source": ""
  },
  {
   "metadata": {},
   "cell_type": "markdown",
   "source": ""
  },
  {
   "metadata": {
    "ExecuteTime": {
     "end_time": "2024-10-28T16:38:42.214726Z",
     "start_time": "2024-10-28T16:38:42.204014Z"
    }
   },
   "cell_type": "code",
   "source": [
    "from sklearn.tree import DecisionTreeRegressor\n",
    "\n",
    "tree: DecisionTreeRegressor = DecisionTreeRegressor(random_state=RANDOM_SEED)\n",
    "tree.fit(X_train, y_train)\n",
    "tree.score(X_test, y_test)"
   ],
   "outputs": [
    {
     "data": {
      "text/plain": [
       "0.656701012007087"
      ]
     },
     "execution_count": 51,
     "metadata": {},
     "output_type": "execute_result"
    }
   ],
   "execution_count": 51
  },
  {
   "metadata": {
    "ExecuteTime": {
     "end_time": "2024-10-28T16:39:11.493122Z",
     "start_time": "2024-10-28T16:39:11.273229Z"
    }
   },
   "cell_type": "code",
   "source": "LearningCurveDisplay.from_estimator(tree, X_test, y_test, cv=7, scoring='r2', n_jobs=-1)",
   "outputs": [
    {
     "data": {
      "text/plain": [
       "<sklearn.model_selection._plot.LearningCurveDisplay at 0x1ca8b7923d0>"
      ]
     },
     "execution_count": 54,
     "metadata": {},
     "output_type": "execute_result"
    },
    {
     "data": {
      "text/plain": [
       "<Figure size 640x480 with 1 Axes>"
      ],
      "image/png": "[encoded data removed]"
     },
     "metadata": {},
     "output_type": "display_data"
    }
   ],
   "execution_count": 54
  },
  {
   "metadata": {},
   "cell_type": "markdown",
   "source": ""
  },
  {
   "metadata": {
    "ExecuteTime": {
     "end_time": "2024-10-28T18:23:27.093797Z",
     "start_time": "2024-10-28T18:22:57.715996Z"
    }
   },
   "cell_type": "code",
   "source": [
    "from sklearn.ensemble import RandomForestRegressor\n",
    "\n",
    "RFS: RandomForestRegressor = RandomForestRegressor(n_estimators=10_000, random_state=RANDOM_SEED)\n",
    "\n",
    "RFS.fit(X_train, y_train)\n",
    "RFS.score(X_test, y_test)"
   ],
   "outputs": [
    {
     "data": {
      "text/plain": [
       "0.659312544661758"
      ]
     },
     "execution_count": 55,
     "metadata": {},
     "output_type": "execute_result"
    }
   ],
   "execution_count": 55
  },
  {
   "metadata": {
    "ExecuteTime": {
     "end_time": "2024-10-28T18:24:19.808541Z",
     "start_time": "2024-10-28T18:23:27.094803Z"
    }
   },
   "cell_type": "code",
   "source": "LearningCurveDisplay.from_estimator(RFS, X_test, y_test, cv=7, scoring='r2', n_jobs=-1)",
   "outputs": [
    {
     "data": {
      "text/plain": [
       "<sklearn.model_selection._plot.LearningCurveDisplay at 0x1ca88a3ac10>"
      ]
     },
     "execution_count": 56,
     "metadata": {},
     "output_type": "execute_result"
    },
    {
     "data": {
      "text/plain": [
       "<Figure size 640x480 with 1 Axes>"
      ],
      "image/png": "[encoded data removed]"
     },
     "metadata": {},
     "output_type": "display_data"
    }
   ],
   "execution_count": 56
  },
  {
   "metadata": {},
   "cell_type": "code",
   "outputs": [],
   "execution_count": null,
   "source": ""
  }
 ]
}
