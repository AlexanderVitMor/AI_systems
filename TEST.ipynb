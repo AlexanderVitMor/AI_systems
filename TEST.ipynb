{
 "cells": [
  {
   "cell_type": "code",
   "execution_count": 5,
   "id": "initial_id",
   "metadata": {
    "collapsed": true,
    "ExecuteTime": {
     "end_time": "2024-10-29T09:22:15.085494Z",
     "start_time": "2024-10-29T09:22:15.080230Z"
    }
   },
   "outputs": [],
   "source": [
    "import numpy as np\n",
    "import pandas as pd\n",
    "import seaborn as sns"
   ]
  },
  {
   "cell_type": "code",
   "outputs": [],
   "source": [
    "class GaussianNaiveBayes:\n",
    "    def fit(self, X, y):\n",
    "        classes, cls_counts = np.unique(y, return_counts=True)\n",
    "        n_classes = len(classes)\n",
    "        self.priors = cls_counts / len(y)\n",
    "\n",
    "        # calculate the mean and standard deviations of features by classes\n",
    "        self.X_cls_mean = np.array([np.mean(X[y == c], axis=0) for c in range(n_classes)])\n",
    "        self.X_stds = np.array([np.std(X[y == c], axis=0) for c in range(n_classes)])\n",
    "\n",
    "    # calculate the probability density of the feature according to the Gaussian distribution\n",
    "    def pdf(self, x, mean, std):\n",
    "        return (1 / (np.sqrt(2 * np.pi) * std)) * np.exp(-0.5 * ((x - mean) / std) ** 2)\n",
    "\n",
    "    def predict(self, X):\n",
    "        pdfs = np.array([self.pdf(x, self.X_cls_mean, self.X_stds) for x in X])\n",
    "        posteriors = self.priors * np.prod(pdfs, axis=2)   # shorten Bayes formula\n",
    "\n",
    "        return np.argmax(posteriors, axis=1)"
   ],
   "metadata": {
    "collapsed": false,
    "ExecuteTime": {
     "end_time": "2024-10-29T09:24:02.342236Z",
     "start_time": "2024-10-29T09:24:02.330242Z"
    }
   },
   "id": "16b8e1656076d7f7",
   "execution_count": 8
  },
  {
   "cell_type": "code",
   "outputs": [],
   "source": [
    "from sklearn.model_selection import train_test_split\n",
    "\n",
    "df = pd.read_csv('Datasets/AIS2.csv')\n",
    "X = df.drop(columns='price_range')\n",
    "y = df['price_range']\n",
    "\n",
    "X_np = np.array(X)\n",
    "y_np = np.array(y)\n",
    "\n",
    "# Разделение данных на обучающую и тестовую выборки.\n",
    "test_size = 0.2\n",
    "X_train, X_test, y_train, y_test = train_test_split(X_np, y_np, test_size=test_size, random_state=42)"
   ],
   "metadata": {
    "collapsed": false,
    "ExecuteTime": {
     "end_time": "2024-10-29T09:24:02.889475Z",
     "start_time": "2024-10-29T09:24:02.867195Z"
    }
   },
   "id": "ac496f346104c65b",
   "execution_count": 9
  },
  {
   "cell_type": "code",
   "outputs": [
    {
     "data": {
      "text/plain": "0.7975"
     },
     "execution_count": 10,
     "metadata": {},
     "output_type": "execute_result"
    }
   ],
   "source": [
    "from sklearn.metrics import accuracy_score\n",
    "\n",
    "gn = GaussianNaiveBayes()\n",
    "gn.fit(X_train, y_train)\n",
    "predictions = gn.predict(X_test)\n",
    "\n",
    "accuracy_score(y_test, predictions)"
   ],
   "metadata": {
    "collapsed": false,
    "ExecuteTime": {
     "end_time": "2024-10-29T09:24:03.059046Z",
     "start_time": "2024-10-29T09:24:03.032426Z"
    }
   },
   "id": "96bb59eb6b5911e4",
   "execution_count": 10
  },
  {
   "cell_type": "code",
   "outputs": [],
   "source": [],
   "metadata": {
    "collapsed": false
   },
   "id": "75727dd628d536f2"
  }
 ],
 "metadata": {
  "kernelspec": {
   "display_name": "Python 3",
   "language": "python",
   "name": "python3"
  },
  "language_info": {
   "codemirror_mode": {
    "name": "ipython",
    "version": 2
   },
   "file_extension": ".py",
   "mimetype": "text/x-python",
   "name": "python",
   "nbconvert_exporter": "python",
   "pygments_lexer": "ipython2",
   "version": "2.7.6"
  }
 },
 "nbformat": 4,
 "nbformat_minor": 5
}
