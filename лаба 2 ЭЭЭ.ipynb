{
 "cells": [
  {
   "metadata": {
    "ExecuteTime": {
     "end_time": "2024-11-04T14:10:59.665369Z",
     "start_time": "2024-11-04T14:10:59.662934Z"
    }
   },
   "cell_type": "code",
   "source": [
    "import pandas as pd\n",
    "import seaborn as sns"
   ],
   "id": "e05bc957076e8c9c",
   "outputs": [],
   "execution_count": 1
  },
  {
   "cell_type": "code",
   "id": "initial_id",
   "metadata": {
    "collapsed": true,
    "ExecuteTime": {
     "end_time": "2024-11-04T14:10:59.694893Z",
     "start_time": "2024-11-04T14:10:59.665369Z"
    }
   },
   "source": [
    "r1 = [12.48, 8.84, 7.07, 6.06]\n",
    "\n",
    "res1 = [round(21.21 / (i * r1[i-2]), 2) for i in range(2, 6)]\n",
    "res1 = [1.] + res1\n",
    "n = [1, 2, 3, 4, 5]*4\n",
    "print(*res1, sep='\\n')"
   ],
   "outputs": [
    {
     "name": "stdout",
     "output_type": "stream",
     "text": [
      "1.0\n",
      "0.85\n",
      "0.8\n",
      "0.75\n",
      "0.7\n"
     ]
    }
   ],
   "execution_count": 2
  },
  {
   "metadata": {
    "ExecuteTime": {
     "end_time": "2024-11-04T14:10:59.699138Z",
     "start_time": "2024-11-04T14:10:59.695903Z"
    }
   },
   "cell_type": "code",
   "source": [
    "r2 = [11.78, 8.32, 6.63, 5.66]\n",
    "\n",
    "res2 = [round(21.21 / (i * r2[i-2]), 2) for i in range(2, 6)]\n",
    "res2 = [1.] + res2\n",
    "print(*res2, sep='\\n')"
   ],
   "id": "fb37c6c3df663b67",
   "outputs": [
    {
     "name": "stdout",
     "output_type": "stream",
     "text": [
      "1.0\n",
      "0.9\n",
      "0.85\n",
      "0.8\n",
      "0.75\n"
     ]
    }
   ],
   "execution_count": 3
  },
  {
   "metadata": {
    "ExecuteTime": {
     "end_time": "2024-11-04T14:10:59.703624Z",
     "start_time": "2024-11-04T14:10:59.700146Z"
    }
   },
   "cell_type": "code",
   "source": [
    "r3 = [11.16, 7.86, 6.09, 4.99]\n",
    "\n",
    "res3 = [round(21.21 / (i * r3[i-2]), 2) for i in range(2, 6)]\n",
    "res3 = [1.] + res3\n",
    "print(*res3, sep='\\n')"
   ],
   "id": "e2e33d5c472ebd0b",
   "outputs": [
    {
     "name": "stdout",
     "output_type": "stream",
     "text": [
      "1.0\n",
      "0.95\n",
      "0.9\n",
      "0.87\n",
      "0.85\n"
     ]
    }
   ],
   "execution_count": 4
  },
  {
   "metadata": {
    "ExecuteTime": {
     "end_time": "2024-11-04T14:10:59.706770Z",
     "start_time": "2024-11-04T14:10:59.703624Z"
    }
   },
   "cell_type": "code",
   "source": "res_rus = [1., 0.81, 0.72, 0.64, 0.55]",
   "id": "18f43b919a453f4b",
   "outputs": [],
   "execution_count": 5
  },
  {
   "metadata": {
    "ExecuteTime": {
     "end_time": "2024-11-04T14:10:59.710123Z",
     "start_time": "2024-11-04T14:10:59.707777Z"
    }
   },
   "cell_type": "code",
   "source": [
    "nu = ['Расчетный']*5 + ['эксп (a/l=1)']*5 + ['эксп (a/l=2)']*5 + ['эксп (a/l=3)']*5\n",
    "result_ecsp = res_rus + res1 + res2 + res3"
   ],
   "id": "aeb5729595f19c40",
   "outputs": [],
   "execution_count": 6
  },
  {
   "metadata": {
    "ExecuteTime": {
     "end_time": "2024-11-04T14:10:59.713093Z",
     "start_time": "2024-11-04T14:10:59.711130Z"
    }
   },
   "cell_type": "code",
   "source": [
    "data = {\n",
    "    'nu': nu,\n",
    "    'ecsp': result_ecsp,\n",
    "    'n': n\n",
    "}"
   ],
   "id": "e87748d699440b06",
   "outputs": [],
   "execution_count": 7
  },
  {
   "metadata": {
    "ExecuteTime": {
     "end_time": "2024-11-04T14:10:59.725010Z",
     "start_time": "2024-11-04T14:10:59.713093Z"
    }
   },
   "cell_type": "code",
   "source": [
    "df = pd.DataFrame(data)\n",
    "df"
   ],
   "id": "990ef31a26e329b0",
   "outputs": [
    {
     "data": {
      "text/plain": [
       "              nu  ecsp  n\n",
       "0      Расчетный  1.00  1\n",
       "1      Расчетный  0.81  2\n",
       "2      Расчетный  0.72  3\n",
       "3      Расчетный  0.64  4\n",
       "4      Расчетный  0.55  5\n",
       "5   эксп (a/l=1)  1.00  1\n",
       "6   эксп (a/l=1)  0.85  2\n",
       "7   эксп (a/l=1)  0.80  3\n",
       "8   эксп (a/l=1)  0.75  4\n",
       "9   эксп (a/l=1)  0.70  5\n",
       "10  эксп (a/l=2)  1.00  1\n",
       "11  эксп (a/l=2)  0.90  2\n",
       "12  эксп (a/l=2)  0.85  3\n",
       "13  эксп (a/l=2)  0.80  4\n",
       "14  эксп (a/l=2)  0.75  5\n",
       "15  эксп (a/l=3)  1.00  1\n",
       "16  эксп (a/l=3)  0.95  2\n",
       "17  эксп (a/l=3)  0.90  3\n",
       "18  эксп (a/l=3)  0.87  4\n",
       "19  эксп (a/l=3)  0.85  5"
      ],
      "text/html": [
       "<div>\n",
       "<style scoped>\n",
       "    .dataframe tbody tr th:only-of-type {\n",
       "        vertical-align: middle;\n",
       "    }\n",
       "\n",
       "    .dataframe tbody tr th {\n",
       "        vertical-align: top;\n",
       "    }\n",
       "\n",
       "    .dataframe thead th {\n",
       "        text-align: right;\n",
       "    }\n",
       "</style>\n",
       "<table border=\"1\" class=\"dataframe\">\n",
       "  <thead>\n",
       "    <tr style=\"text-align: right;\">\n",
       "      <th></th>\n",
       "      <th>nu</th>\n",
       "      <th>ecsp</th>\n",
       "      <th>n</th>\n",
       "    </tr>\n",
       "  </thead>\n",
       "  <tbody>\n",
       "    <tr>\n",
       "      <th>0</th>\n",
       "      <td>Расчетный</td>\n",
       "      <td>1.00</td>\n",
       "      <td>1</td>\n",
       "    </tr>\n",
       "    <tr>\n",
       "      <th>1</th>\n",
       "      <td>Расчетный</td>\n",
       "      <td>0.81</td>\n",
       "      <td>2</td>\n",
       "    </tr>\n",
       "    <tr>\n",
       "      <th>2</th>\n",
       "      <td>Расчетный</td>\n",
       "      <td>0.72</td>\n",
       "      <td>3</td>\n",
       "    </tr>\n",
       "    <tr>\n",
       "      <th>3</th>\n",
       "      <td>Расчетный</td>\n",
       "      <td>0.64</td>\n",
       "      <td>4</td>\n",
       "    </tr>\n",
       "    <tr>\n",
       "      <th>4</th>\n",
       "      <td>Расчетный</td>\n",
       "      <td>0.55</td>\n",
       "      <td>5</td>\n",
       "    </tr>\n",
       "    <tr>\n",
       "      <th>5</th>\n",
       "      <td>эксп (a/l=1)</td>\n",
       "      <td>1.00</td>\n",
       "      <td>1</td>\n",
       "    </tr>\n",
       "    <tr>\n",
       "      <th>6</th>\n",
       "      <td>эксп (a/l=1)</td>\n",
       "      <td>0.85</td>\n",
       "      <td>2</td>\n",
       "    </tr>\n",
       "    <tr>\n",
       "      <th>7</th>\n",
       "      <td>эксп (a/l=1)</td>\n",
       "      <td>0.80</td>\n",
       "      <td>3</td>\n",
       "    </tr>\n",
       "    <tr>\n",
       "      <th>8</th>\n",
       "      <td>эксп (a/l=1)</td>\n",
       "      <td>0.75</td>\n",
       "      <td>4</td>\n",
       "    </tr>\n",
       "    <tr>\n",
       "      <th>9</th>\n",
       "      <td>эксп (a/l=1)</td>\n",
       "      <td>0.70</td>\n",
       "      <td>5</td>\n",
       "    </tr>\n",
       "    <tr>\n",
       "      <th>10</th>\n",
       "      <td>эксп (a/l=2)</td>\n",
       "      <td>1.00</td>\n",
       "      <td>1</td>\n",
       "    </tr>\n",
       "    <tr>\n",
       "      <th>11</th>\n",
       "      <td>эксп (a/l=2)</td>\n",
       "      <td>0.90</td>\n",
       "      <td>2</td>\n",
       "    </tr>\n",
       "    <tr>\n",
       "      <th>12</th>\n",
       "      <td>эксп (a/l=2)</td>\n",
       "      <td>0.85</td>\n",
       "      <td>3</td>\n",
       "    </tr>\n",
       "    <tr>\n",
       "      <th>13</th>\n",
       "      <td>эксп (a/l=2)</td>\n",
       "      <td>0.80</td>\n",
       "      <td>4</td>\n",
       "    </tr>\n",
       "    <tr>\n",
       "      <th>14</th>\n",
       "      <td>эксп (a/l=2)</td>\n",
       "      <td>0.75</td>\n",
       "      <td>5</td>\n",
       "    </tr>\n",
       "    <tr>\n",
       "      <th>15</th>\n",
       "      <td>эксп (a/l=3)</td>\n",
       "      <td>1.00</td>\n",
       "      <td>1</td>\n",
       "    </tr>\n",
       "    <tr>\n",
       "      <th>16</th>\n",
       "      <td>эксп (a/l=3)</td>\n",
       "      <td>0.95</td>\n",
       "      <td>2</td>\n",
       "    </tr>\n",
       "    <tr>\n",
       "      <th>17</th>\n",
       "      <td>эксп (a/l=3)</td>\n",
       "      <td>0.90</td>\n",
       "      <td>3</td>\n",
       "    </tr>\n",
       "    <tr>\n",
       "      <th>18</th>\n",
       "      <td>эксп (a/l=3)</td>\n",
       "      <td>0.87</td>\n",
       "      <td>4</td>\n",
       "    </tr>\n",
       "    <tr>\n",
       "      <th>19</th>\n",
       "      <td>эксп (a/l=3)</td>\n",
       "      <td>0.85</td>\n",
       "      <td>5</td>\n",
       "    </tr>\n",
       "  </tbody>\n",
       "</table>\n",
       "</div>"
      ]
     },
     "execution_count": 8,
     "metadata": {},
     "output_type": "execute_result"
    }
   ],
   "execution_count": 8
  },
  {
   "metadata": {
    "ExecuteTime": {
     "end_time": "2024-11-04T14:11:00.131069Z",
     "start_time": "2024-11-04T14:10:59.725010Z"
    }
   },
   "cell_type": "code",
   "source": [
    "sns.relplot(\n",
    "    data=df, kind=\"line\",\n",
    "    x=\"n\", y=\"ecsp\",\n",
    "    hue=\"nu\", marker=\"o\",\n",
    ")"
   ],
   "id": "db08a3742ca4c808",
   "outputs": [
    {
     "name": "stderr",
     "output_type": "stream",
     "text": [
      "C:\\Users\\sanya\\anaconda3\\Lib\\site-packages\\seaborn\\axisgrid.py:118: UserWarning: The figure layout has changed to tight\n",
      "  self._figure.tight_layout(*args, **kwargs)\n"
     ]
    },
    {
     "data": {
      "text/plain": [
       "<seaborn.axisgrid.FacetGrid at 0x272bc8cdb90>"
      ]
     },
     "execution_count": 9,
     "metadata": {},
     "output_type": "execute_result"
    },
    {
     "data": {
      "text/plain": [
       "<Figure size 621.5x500 with 1 Axes>"
      ],
      "image/png": "[encoded data removed]"
     },
     "metadata": {},
     "output_type": "display_data"
    }
   ],
   "execution_count": 9
  }
 ],
 "metadata": {
  "kernelspec": {
   "display_name": "Python 3",
   "language": "python",
   "name": "python3"
  },
  "language_info": {
   "codemirror_mode": {
    "name": "ipython",
    "version": 2
   },
   "file_extension": ".py",
   "mimetype": "text/x-python",
   "name": "python",
   "nbconvert_exporter": "python",
   "pygments_lexer": "ipython2",
   "version": "2.7.6"
  }
 },
 "nbformat": 4,
 "nbformat_minor": 5
}
