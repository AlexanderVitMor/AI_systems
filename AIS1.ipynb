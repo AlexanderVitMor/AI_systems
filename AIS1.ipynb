{
 "nbformat": 4,
 "nbformat_minor": 0,
 "metadata": {
  "colab": {
   "provenance": []
  },
  "kernelspec": {
   "name": "python3",
   "display_name": "Python 3 (ipykernel)",
   "language": "python"
  },
  "language_info": {
   "name": "python"
  }
 },
 "cells": [
  {
   "cell_type": "markdown",
   "source": [
    "# Лабораторная работа №1\n",
    "## по дисциплине \"Системы искусственного интеллекта\"\n",
    "\n",
    "Лабораторная работа посвящена работе с табличными данными с помощью библиотеки pandas и визуализации с помощью matplotlib.\n",
    "Для выполнения работы вам был предоставлен набор данных, содержащий информацию об атлетах, принявших участие в Летних Олимпийских играх 2024 в Париже.\n",
    "Описание каждой колоноки в наборе данных приведено дальше.\n",
    "\n",
    "code - код спортсмена;\n",
    "\n",
    "name - полное имя спортсмена;\n",
    "\n",
    "name_short - сокращенное имя;\n",
    "\n",
    "name_tv - имя, отображаемое в эфире;\n",
    "\n",
    "gender - пол спортсмена;\n",
    "\n",
    "function - роль на олимпиаде;\n",
    "\n",
    "country_code - код страны;\n",
    "\n",
    "country - название страны;\n",
    "\n",
    "country_full - полное название страны;\n",
    "\n",
    "nationality - сокращенная национальность спортсмена;\n",
    "\n",
    "nationality_full - полная национальность;\n",
    "\n",
    "nationality_code - код национальности;\n",
    "\n",
    "height - рост;\n",
    "\n",
    "weight - вес;\n",
    "\n",
    "disciplines - дисциплины, в которых принимает участие спортсмен;\n",
    "\n",
    "events - состязания, в которых участвует спортсмен;\n",
    "\n",
    "birth_date - дата рождения спортсмена.\n"
   ],
   "metadata": {
    "id": "kU6mKXJpxPwQ"
   }
  },
  {
   "cell_type": "markdown",
   "source": [
    "Импортируйте необходимые библиотеки.\n",
    "\n",
    "Загрузите набор данных из csv-файла. Выведите информацию обо всех колонках, количестве данных в наборе и их статистических показателях (среднее, медиана и т.д.)."
   ],
   "metadata": {
    "id": "aMR4h5Ok15nq"
   }
  },
  {
   "cell_type": "code",
   "source": [
    "import numpy as np\n",
    "import matplotlib.pyplot as plt\n",
    "import seaborn as sns\n",
    "import pandas as pd"
   ],
   "metadata": {
    "id": "PA0A4lVR2IgW",
    "ExecuteTime": {
     "end_time": "2024-09-16T18:58:23.952319Z",
     "start_time": "2024-09-16T18:58:23.949892Z"
    }
   },
   "outputs": [],
   "execution_count": 1
  },
  {
   "metadata": {
    "ExecuteTime": {
     "end_time": "2024-09-16T19:01:41.767221Z",
     "start_time": "2024-09-16T19:01:41.185447Z"
    }
   },
   "cell_type": "code",
   "source": [
    "df = pd.read_csv('Datasets/athletes new.csv')\n",
    "df.info()"
   ],
   "outputs": [
    {
     "name": "stdout",
     "output_type": "stream",
     "text": [
      "<class 'pandas.core.frame.DataFrame'>\n",
      "RangeIndex: 11115 entries, 0 to 11114\n",
      "Data columns (total 17 columns):\n",
      " #   Column            Non-Null Count  Dtype  \n",
      "---  ------            --------------  -----  \n",
      " 0   code              11115 non-null  int64  \n",
      " 1   name              11115 non-null  object \n",
      " 2   name_short        11115 non-null  object \n",
      " 3   name_tv           11115 non-null  object \n",
      " 4   gender            11115 non-null  object \n",
      " 5   function          11115 non-null  object \n",
      " 6   country_code      11115 non-null  object \n",
      " 7   country           11115 non-null  object \n",
      " 8   country_full      11115 non-null  object \n",
      " 9   nationality       11115 non-null  object \n",
      " 10  nationality_full  11115 non-null  object \n",
      " 11  nationality_code  11115 non-null  object \n",
      " 12  height            11115 non-null  int64  \n",
      " 13  weight            11099 non-null  float64\n",
      " 14  disciplines       11115 non-null  object \n",
      " 15  events            11115 non-null  object \n",
      " 16  birth_date        11115 non-null  object \n",
      "dtypes: float64(1), int64(2), object(14)\n",
      "memory usage: 1.4+ MB\n"
     ]
    },
    {
     "ename": "AttributeError",
     "evalue": "'NoneType' object has no attribute 'describe'",
     "output_type": "error",
     "traceback": [
      "\u001B[1;31m---------------------------------------------------------------------------\u001B[0m",
      "\u001B[1;31mAttributeError\u001B[0m                            Traceback (most recent call last)",
      "Cell \u001B[1;32mIn[5], line 2\u001B[0m\n\u001B[0;32m      1\u001B[0m df \u001B[38;5;241m=\u001B[39m pd\u001B[38;5;241m.\u001B[39mread_csv(\u001B[38;5;124m'\u001B[39m\u001B[38;5;124mDatasets/athletes new.csv\u001B[39m\u001B[38;5;124m'\u001B[39m)\n\u001B[1;32m----> 2\u001B[0m df\u001B[38;5;241m.\u001B[39minfo()\u001B[38;5;241m.\u001B[39mdescribe()\n",
      "\u001B[1;31mAttributeError\u001B[0m: 'NoneType' object has no attribute 'describe'"
     ]
    }
   ],
   "execution_count": 5
  },
  {
   "metadata": {
    "ExecuteTime": {
     "end_time": "2024-09-16T19:03:03.915372Z",
     "start_time": "2024-09-16T19:03:03.902423Z"
    }
   },
   "cell_type": "code",
   "source": "df",
   "outputs": [
    {
     "data": {
      "text/plain": [
       "          code                   name       name_short                name_tv  \\\n",
       "0      1535420     VALENCIA Alejandra       VALENCIA A     Alejandra VALENCIA   \n",
       "1      1535429            RUIZ Angela           RUIZ A            Angela RUIZ   \n",
       "2      1535430          GRANDE Matias         GRANDE M          Matias GRANDE   \n",
       "3      1536460           ROJAS Carlos          ROJAS C           Carlos ROJAS   \n",
       "4      1536467    MARTINEZ WING Bruno  MARTINEZ WING B    Bruno MARTINEZ WING   \n",
       "...        ...                    ...              ...                    ...   \n",
       "11110  1981775       SULEYMANOV Sanan     SULEYMANOV S       Sanan SULEYMANOV   \n",
       "11111  1981785  MAGOMEDOV Magomedkhan      MAGOMEDOV M  Magomedkhan MAGOMEDOV   \n",
       "11112  2008688         SACULTAN Maxim       SACULTAN M         Maxim SACULTAN   \n",
       "11113  3429662         VALIEV Chermen         VALIEV C         Chermen VALIEV   \n",
       "11114  9460001        LIUZZI Emanuela         LIUZZI E        Emanuela LIUZZI   \n",
       "\n",
       "       gender function country_code              country         country_full  \\\n",
       "0      Female  Athlete          MEX               Mexico               Mexico   \n",
       "1      Female  Athlete          MEX               Mexico               Mexico   \n",
       "2        Male  Athlete          MEX               Mexico               Mexico   \n",
       "3        Male  Athlete          MEX               Mexico               Mexico   \n",
       "4        Male  Athlete          MEX               Mexico               Mexico   \n",
       "...       ...      ...          ...                  ...                  ...   \n",
       "11110    Male  Athlete          AZE           Azerbaijan           Azerbaijan   \n",
       "11111    Male  Athlete          AZE           Azerbaijan           Azerbaijan   \n",
       "11112    Male  Athlete          MDA  Republic of Moldova  Republic of Moldova   \n",
       "11113    Male  Athlete          ALB              Albania              Albania   \n",
       "11114  Female  Athlete          ITA                Italy                Italy   \n",
       "\n",
       "               nationality     nationality_full nationality_code  height  \\\n",
       "0                   Mexico               Mexico              MEX       0   \n",
       "1                   Mexico               Mexico              MEX       0   \n",
       "2                   Mexico               Mexico              MEX       0   \n",
       "3                   Mexico               Mexico              MEX       0   \n",
       "4                   Mexico               Mexico              MEX       0   \n",
       "...                    ...                  ...              ...     ...   \n",
       "11110           Azerbaijan           Azerbaijan              AZE       0   \n",
       "11111           Azerbaijan           Azerbaijan              AZE       0   \n",
       "11112  Republic of Moldova  Republic of Moldova              MDA       0   \n",
       "11113              Albania              Albania              ALB       0   \n",
       "11114                    0                    0                0       0   \n",
       "\n",
       "       weight    disciplines  \\\n",
       "0         0.0    ['Archery']   \n",
       "1         0.0    ['Archery']   \n",
       "2         0.0    ['Archery']   \n",
       "3         0.0    ['Archery']   \n",
       "4         0.0    ['Archery']   \n",
       "...       ...            ...   \n",
       "11110     0.0  ['Wrestling']   \n",
       "11111     0.0  ['Wrestling']   \n",
       "11112     0.0  ['Wrestling']   \n",
       "11113     0.0  ['Wrestling']   \n",
       "11114     0.0  ['Wrestling']   \n",
       "\n",
       "                                                  events  birth_date  \n",
       "0      [\"Women's Individual\", \"Women's Team\", 'Mixed ...  1994-10-17  \n",
       "1                 [\"Women's Individual\", \"Women's Team\"]  2006-07-28  \n",
       "2       [\"Men's Individual\", \"Men's Team\", 'Mixed Team']  2004-04-26  \n",
       "3                     [\"Men's Individual\", \"Men's Team\"]  2000-01-14  \n",
       "4                     [\"Men's Individual\", \"Men's Team\"]  1998-03-08  \n",
       "...                                                  ...         ...  \n",
       "11110                         [\"Men's Greco-Roman 77kg\"]  1996-12-15  \n",
       "11111                           [\"Men's Freestyle 97kg\"]  1998-01-27  \n",
       "11112                           [\"Men's Freestyle 65kg\"]  1996-11-18  \n",
       "11113                           [\"Men's Freestyle 74kg\"]  1998-12-10  \n",
       "11114                         [\"Women's Freestyle 50kg\"]  2000-04-27  \n",
       "\n",
       "[11115 rows x 17 columns]"
      ],
      "text/html": [
       "<div>\n",
       "<style scoped>\n",
       "    .dataframe tbody tr th:only-of-type {\n",
       "        vertical-align: middle;\n",
       "    }\n",
       "\n",
       "    .dataframe tbody tr th {\n",
       "        vertical-align: top;\n",
       "    }\n",
       "\n",
       "    .dataframe thead th {\n",
       "        text-align: right;\n",
       "    }\n",
       "</style>\n",
       "<table border=\"1\" class=\"dataframe\">\n",
       "  <thead>\n",
       "    <tr style=\"text-align: right;\">\n",
       "      <th></th>\n",
       "      <th>code</th>\n",
       "      <th>name</th>\n",
       "      <th>name_short</th>\n",
       "      <th>name_tv</th>\n",
       "      <th>gender</th>\n",
       "      <th>function</th>\n",
       "      <th>country_code</th>\n",
       "      <th>country</th>\n",
       "      <th>country_full</th>\n",
       "      <th>nationality</th>\n",
       "      <th>nationality_full</th>\n",
       "      <th>nationality_code</th>\n",
       "      <th>height</th>\n",
       "      <th>weight</th>\n",
       "      <th>disciplines</th>\n",
       "      <th>events</th>\n",
       "      <th>birth_date</th>\n",
       "    </tr>\n",
       "  </thead>\n",
       "  <tbody>\n",
       "    <tr>\n",
       "      <th>0</th>\n",
       "      <td>1535420</td>\n",
       "      <td>VALENCIA Alejandra</td>\n",
       "      <td>VALENCIA A</td>\n",
       "      <td>Alejandra VALENCIA</td>\n",
       "      <td>Female</td>\n",
       "      <td>Athlete</td>\n",
       "      <td>MEX</td>\n",
       "      <td>Mexico</td>\n",
       "      <td>Mexico</td>\n",
       "      <td>Mexico</td>\n",
       "      <td>Mexico</td>\n",
       "      <td>MEX</td>\n",
       "      <td>0</td>\n",
       "      <td>0.0</td>\n",
       "      <td>['Archery']</td>\n",
       "      <td>[\"Women's Individual\", \"Women's Team\", 'Mixed ...</td>\n",
       "      <td>1994-10-17</td>\n",
       "    </tr>\n",
       "    <tr>\n",
       "      <th>1</th>\n",
       "      <td>1535429</td>\n",
       "      <td>RUIZ Angela</td>\n",
       "      <td>RUIZ A</td>\n",
       "      <td>Angela RUIZ</td>\n",
       "      <td>Female</td>\n",
       "      <td>Athlete</td>\n",
       "      <td>MEX</td>\n",
       "      <td>Mexico</td>\n",
       "      <td>Mexico</td>\n",
       "      <td>Mexico</td>\n",
       "      <td>Mexico</td>\n",
       "      <td>MEX</td>\n",
       "      <td>0</td>\n",
       "      <td>0.0</td>\n",
       "      <td>['Archery']</td>\n",
       "      <td>[\"Women's Individual\", \"Women's Team\"]</td>\n",
       "      <td>2006-07-28</td>\n",
       "    </tr>\n",
       "    <tr>\n",
       "      <th>2</th>\n",
       "      <td>1535430</td>\n",
       "      <td>GRANDE Matias</td>\n",
       "      <td>GRANDE M</td>\n",
       "      <td>Matias GRANDE</td>\n",
       "      <td>Male</td>\n",
       "      <td>Athlete</td>\n",
       "      <td>MEX</td>\n",
       "      <td>Mexico</td>\n",
       "      <td>Mexico</td>\n",
       "      <td>Mexico</td>\n",
       "      <td>Mexico</td>\n",
       "      <td>MEX</td>\n",
       "      <td>0</td>\n",
       "      <td>0.0</td>\n",
       "      <td>['Archery']</td>\n",
       "      <td>[\"Men's Individual\", \"Men's Team\", 'Mixed Team']</td>\n",
       "      <td>2004-04-26</td>\n",
       "    </tr>\n",
       "    <tr>\n",
       "      <th>3</th>\n",
       "      <td>1536460</td>\n",
       "      <td>ROJAS Carlos</td>\n",
       "      <td>ROJAS C</td>\n",
       "      <td>Carlos ROJAS</td>\n",
       "      <td>Male</td>\n",
       "      <td>Athlete</td>\n",
       "      <td>MEX</td>\n",
       "      <td>Mexico</td>\n",
       "      <td>Mexico</td>\n",
       "      <td>Mexico</td>\n",
       "      <td>Mexico</td>\n",
       "      <td>MEX</td>\n",
       "      <td>0</td>\n",
       "      <td>0.0</td>\n",
       "      <td>['Archery']</td>\n",
       "      <td>[\"Men's Individual\", \"Men's Team\"]</td>\n",
       "      <td>2000-01-14</td>\n",
       "    </tr>\n",
       "    <tr>\n",
       "      <th>4</th>\n",
       "      <td>1536467</td>\n",
       "      <td>MARTINEZ WING Bruno</td>\n",
       "      <td>MARTINEZ WING B</td>\n",
       "      <td>Bruno MARTINEZ WING</td>\n",
       "      <td>Male</td>\n",
       "      <td>Athlete</td>\n",
       "      <td>MEX</td>\n",
       "      <td>Mexico</td>\n",
       "      <td>Mexico</td>\n",
       "      <td>Mexico</td>\n",
       "      <td>Mexico</td>\n",
       "      <td>MEX</td>\n",
       "      <td>0</td>\n",
       "      <td>0.0</td>\n",
       "      <td>['Archery']</td>\n",
       "      <td>[\"Men's Individual\", \"Men's Team\"]</td>\n",
       "      <td>1998-03-08</td>\n",
       "    </tr>\n",
       "    <tr>\n",
       "      <th>...</th>\n",
       "      <td>...</td>\n",
       "      <td>...</td>\n",
       "      <td>...</td>\n",
       "      <td>...</td>\n",
       "      <td>...</td>\n",
       "      <td>...</td>\n",
       "      <td>...</td>\n",
       "      <td>...</td>\n",
       "      <td>...</td>\n",
       "      <td>...</td>\n",
       "      <td>...</td>\n",
       "      <td>...</td>\n",
       "      <td>...</td>\n",
       "      <td>...</td>\n",
       "      <td>...</td>\n",
       "      <td>...</td>\n",
       "      <td>...</td>\n",
       "    </tr>\n",
       "    <tr>\n",
       "      <th>11110</th>\n",
       "      <td>1981775</td>\n",
       "      <td>SULEYMANOV Sanan</td>\n",
       "      <td>SULEYMANOV S</td>\n",
       "      <td>Sanan SULEYMANOV</td>\n",
       "      <td>Male</td>\n",
       "      <td>Athlete</td>\n",
       "      <td>AZE</td>\n",
       "      <td>Azerbaijan</td>\n",
       "      <td>Azerbaijan</td>\n",
       "      <td>Azerbaijan</td>\n",
       "      <td>Azerbaijan</td>\n",
       "      <td>AZE</td>\n",
       "      <td>0</td>\n",
       "      <td>0.0</td>\n",
       "      <td>['Wrestling']</td>\n",
       "      <td>[\"Men's Greco-Roman 77kg\"]</td>\n",
       "      <td>1996-12-15</td>\n",
       "    </tr>\n",
       "    <tr>\n",
       "      <th>11111</th>\n",
       "      <td>1981785</td>\n",
       "      <td>MAGOMEDOV Magomedkhan</td>\n",
       "      <td>MAGOMEDOV M</td>\n",
       "      <td>Magomedkhan MAGOMEDOV</td>\n",
       "      <td>Male</td>\n",
       "      <td>Athlete</td>\n",
       "      <td>AZE</td>\n",
       "      <td>Azerbaijan</td>\n",
       "      <td>Azerbaijan</td>\n",
       "      <td>Azerbaijan</td>\n",
       "      <td>Azerbaijan</td>\n",
       "      <td>AZE</td>\n",
       "      <td>0</td>\n",
       "      <td>0.0</td>\n",
       "      <td>['Wrestling']</td>\n",
       "      <td>[\"Men's Freestyle 97kg\"]</td>\n",
       "      <td>1998-01-27</td>\n",
       "    </tr>\n",
       "    <tr>\n",
       "      <th>11112</th>\n",
       "      <td>2008688</td>\n",
       "      <td>SACULTAN Maxim</td>\n",
       "      <td>SACULTAN M</td>\n",
       "      <td>Maxim SACULTAN</td>\n",
       "      <td>Male</td>\n",
       "      <td>Athlete</td>\n",
       "      <td>MDA</td>\n",
       "      <td>Republic of Moldova</td>\n",
       "      <td>Republic of Moldova</td>\n",
       "      <td>Republic of Moldova</td>\n",
       "      <td>Republic of Moldova</td>\n",
       "      <td>MDA</td>\n",
       "      <td>0</td>\n",
       "      <td>0.0</td>\n",
       "      <td>['Wrestling']</td>\n",
       "      <td>[\"Men's Freestyle 65kg\"]</td>\n",
       "      <td>1996-11-18</td>\n",
       "    </tr>\n",
       "    <tr>\n",
       "      <th>11113</th>\n",
       "      <td>3429662</td>\n",
       "      <td>VALIEV Chermen</td>\n",
       "      <td>VALIEV C</td>\n",
       "      <td>Chermen VALIEV</td>\n",
       "      <td>Male</td>\n",
       "      <td>Athlete</td>\n",
       "      <td>ALB</td>\n",
       "      <td>Albania</td>\n",
       "      <td>Albania</td>\n",
       "      <td>Albania</td>\n",
       "      <td>Albania</td>\n",
       "      <td>ALB</td>\n",
       "      <td>0</td>\n",
       "      <td>0.0</td>\n",
       "      <td>['Wrestling']</td>\n",
       "      <td>[\"Men's Freestyle 74kg\"]</td>\n",
       "      <td>1998-12-10</td>\n",
       "    </tr>\n",
       "    <tr>\n",
       "      <th>11114</th>\n",
       "      <td>9460001</td>\n",
       "      <td>LIUZZI Emanuela</td>\n",
       "      <td>LIUZZI E</td>\n",
       "      <td>Emanuela LIUZZI</td>\n",
       "      <td>Female</td>\n",
       "      <td>Athlete</td>\n",
       "      <td>ITA</td>\n",
       "      <td>Italy</td>\n",
       "      <td>Italy</td>\n",
       "      <td>0</td>\n",
       "      <td>0</td>\n",
       "      <td>0</td>\n",
       "      <td>0</td>\n",
       "      <td>0.0</td>\n",
       "      <td>['Wrestling']</td>\n",
       "      <td>[\"Women's Freestyle 50kg\"]</td>\n",
       "      <td>2000-04-27</td>\n",
       "    </tr>\n",
       "  </tbody>\n",
       "</table>\n",
       "<p>11115 rows × 17 columns</p>\n",
       "</div>"
      ]
     },
     "execution_count": 8,
     "metadata": {},
     "output_type": "execute_result"
    }
   ],
   "execution_count": 8
  },
  {
   "metadata": {
    "ExecuteTime": {
     "end_time": "2024-09-16T19:01:52.990121Z",
     "start_time": "2024-09-16T19:01:52.979525Z"
    }
   },
   "cell_type": "code",
   "source": "df.describe()",
   "outputs": [
    {
     "data": {
      "text/plain": [
       "               code        height        weight\n",
       "count  1.111500e+04  11115.000000  11099.000000\n",
       "mean   1.887426e+06     81.835178      2.213713\n",
       "std    3.587687e+05     89.504711     13.114771\n",
       "min    1.532872e+06      0.000000      0.000000\n",
       "25%    1.888186e+06      0.000000      0.000000\n",
       "50%    1.918842e+06      0.000000      0.000000\n",
       "75%    1.948950e+06    177.000000      0.000000\n",
       "max    9.460001e+06    222.000000    113.000000"
      ],
      "text/html": [
       "<div>\n",
       "<style scoped>\n",
       "    .dataframe tbody tr th:only-of-type {\n",
       "        vertical-align: middle;\n",
       "    }\n",
       "\n",
       "    .dataframe tbody tr th {\n",
       "        vertical-align: top;\n",
       "    }\n",
       "\n",
       "    .dataframe thead th {\n",
       "        text-align: right;\n",
       "    }\n",
       "</style>\n",
       "<table border=\"1\" class=\"dataframe\">\n",
       "  <thead>\n",
       "    <tr style=\"text-align: right;\">\n",
       "      <th></th>\n",
       "      <th>code</th>\n",
       "      <th>height</th>\n",
       "      <th>weight</th>\n",
       "    </tr>\n",
       "  </thead>\n",
       "  <tbody>\n",
       "    <tr>\n",
       "      <th>count</th>\n",
       "      <td>1.111500e+04</td>\n",
       "      <td>11115.000000</td>\n",
       "      <td>11099.000000</td>\n",
       "    </tr>\n",
       "    <tr>\n",
       "      <th>mean</th>\n",
       "      <td>1.887426e+06</td>\n",
       "      <td>81.835178</td>\n",
       "      <td>2.213713</td>\n",
       "    </tr>\n",
       "    <tr>\n",
       "      <th>std</th>\n",
       "      <td>3.587687e+05</td>\n",
       "      <td>89.504711</td>\n",
       "      <td>13.114771</td>\n",
       "    </tr>\n",
       "    <tr>\n",
       "      <th>min</th>\n",
       "      <td>1.532872e+06</td>\n",
       "      <td>0.000000</td>\n",
       "      <td>0.000000</td>\n",
       "    </tr>\n",
       "    <tr>\n",
       "      <th>25%</th>\n",
       "      <td>1.888186e+06</td>\n",
       "      <td>0.000000</td>\n",
       "      <td>0.000000</td>\n",
       "    </tr>\n",
       "    <tr>\n",
       "      <th>50%</th>\n",
       "      <td>1.918842e+06</td>\n",
       "      <td>0.000000</td>\n",
       "      <td>0.000000</td>\n",
       "    </tr>\n",
       "    <tr>\n",
       "      <th>75%</th>\n",
       "      <td>1.948950e+06</td>\n",
       "      <td>177.000000</td>\n",
       "      <td>0.000000</td>\n",
       "    </tr>\n",
       "    <tr>\n",
       "      <th>max</th>\n",
       "      <td>9.460001e+06</td>\n",
       "      <td>222.000000</td>\n",
       "      <td>113.000000</td>\n",
       "    </tr>\n",
       "  </tbody>\n",
       "</table>\n",
       "</div>"
      ]
     },
     "execution_count": 6,
     "metadata": {},
     "output_type": "execute_result"
    }
   ],
   "execution_count": 6
  },
  {
   "cell_type": "markdown",
   "source": [
    "Проверьте наличие пропусков в данных и заполните их, выбрав стратегию работы с пропусками."
   ],
   "metadata": {
    "id": "uesSsuuD2bY7"
   }
  },
  {
   "cell_type": "code",
   "source": "df.isna().sum()",
   "metadata": {
    "id": "1p9b-wqB2pn7",
    "ExecuteTime": {
     "end_time": "2024-09-16T19:02:41.964484Z",
     "start_time": "2024-09-16T19:02:41.955344Z"
    }
   },
   "outputs": [
    {
     "data": {
      "text/plain": [
       "code                 0\n",
       "name                 0\n",
       "name_short           0\n",
       "name_tv              0\n",
       "gender               0\n",
       "function             0\n",
       "country_code         0\n",
       "country              0\n",
       "country_full         0\n",
       "nationality          0\n",
       "nationality_full     0\n",
       "nationality_code     0\n",
       "height               0\n",
       "weight              16\n",
       "disciplines          0\n",
       "events               0\n",
       "birth_date           0\n",
       "dtype: int64"
      ]
     },
     "execution_count": 7,
     "metadata": {},
     "output_type": "execute_result"
    }
   ],
   "execution_count": 7
  },
  {
   "metadata": {
    "ExecuteTime": {
     "end_time": "2024-09-16T19:14:31.805524Z",
     "start_time": "2024-09-16T19:14:31.799307Z"
    }
   },
   "cell_type": "code",
   "source": [
    "mean_height: int = int(df[df['height'] != 0]['height'].mean())\n",
    "mean_height"
   ],
   "outputs": [
    {
     "data": {
      "text/plain": [
       "178"
      ]
     },
     "execution_count": 15,
     "metadata": {},
     "output_type": "execute_result"
    }
   ],
   "execution_count": 15
  },
  {
   "metadata": {
    "ExecuteTime": {
     "end_time": "2024-09-16T19:19:39.474923Z",
     "start_time": "2024-09-16T19:19:39.469842Z"
    }
   },
   "cell_type": "code",
   "source": [
    "mean_weight: int = int(df[df['weight'] != 0]['weight'].mean())\n",
    "mean_weight"
   ],
   "outputs": [
    {
     "data": {
      "text/plain": [
       "77"
      ]
     },
     "execution_count": 17,
     "metadata": {},
     "output_type": "execute_result"
    }
   ],
   "execution_count": 17
  },
  {
   "metadata": {
    "ExecuteTime": {
     "end_time": "2024-09-16T19:16:04.070167Z",
     "start_time": "2024-09-16T19:16:04.061530Z"
    }
   },
   "cell_type": "code",
   "source": [
    "df['height'] = df['height'].apply(lambda x: mean_height if x == 0 else x)\n",
    "df['height']"
   ],
   "outputs": [
    {
     "data": {
      "text/plain": [
       "0        178\n",
       "1        178\n",
       "2        178\n",
       "3        178\n",
       "4        178\n",
       "        ... \n",
       "11110    178\n",
       "11111    178\n",
       "11112    178\n",
       "11113    178\n",
       "11114    178\n",
       "Name: height, Length: 11115, dtype: int64"
      ]
     },
     "execution_count": 16,
     "metadata": {},
     "output_type": "execute_result"
    }
   ],
   "execution_count": 16
  },
  {
   "metadata": {
    "ExecuteTime": {
     "end_time": "2024-09-16T19:20:15.413134Z",
     "start_time": "2024-09-16T19:20:15.403469Z"
    }
   },
   "cell_type": "code",
   "source": [
    "df['weight'] = df['weight'].apply(lambda x: mean_weight if x == 0 else x)\n",
    "df['weight']"
   ],
   "outputs": [
    {
     "data": {
      "text/plain": [
       "0        77.0\n",
       "1        77.0\n",
       "2        77.0\n",
       "3        77.0\n",
       "4        77.0\n",
       "         ... \n",
       "11110    77.0\n",
       "11111    77.0\n",
       "11112    77.0\n",
       "11113    77.0\n",
       "11114    77.0\n",
       "Name: weight, Length: 11115, dtype: float64"
      ]
     },
     "execution_count": 19,
     "metadata": {},
     "output_type": "execute_result"
    }
   ],
   "execution_count": 19
  },
  {
   "metadata": {
    "ExecuteTime": {
     "end_time": "2024-09-16T19:31:59.248446Z",
     "start_time": "2024-09-16T19:31:59.235252Z"
    }
   },
   "cell_type": "code",
   "source": [
    "df['weight'].fillna(df['weight'].mean(), inplace=True)\n",
    "df"
   ],
   "outputs": [
    {
     "data": {
      "text/plain": [
       "          code                   name       name_short                name_tv  \\\n",
       "0      1535420     VALENCIA Alejandra       VALENCIA A     Alejandra VALENCIA   \n",
       "1      1535429            RUIZ Angela           RUIZ A            Angela RUIZ   \n",
       "2      1535430          GRANDE Matias         GRANDE M          Matias GRANDE   \n",
       "3      1536460           ROJAS Carlos          ROJAS C           Carlos ROJAS   \n",
       "4      1536467    MARTINEZ WING Bruno  MARTINEZ WING B    Bruno MARTINEZ WING   \n",
       "...        ...                    ...              ...                    ...   \n",
       "11110  1981775       SULEYMANOV Sanan     SULEYMANOV S       Sanan SULEYMANOV   \n",
       "11111  1981785  MAGOMEDOV Magomedkhan      MAGOMEDOV M  Magomedkhan MAGOMEDOV   \n",
       "11112  2008688         SACULTAN Maxim       SACULTAN M         Maxim SACULTAN   \n",
       "11113  3429662         VALIEV Chermen         VALIEV C         Chermen VALIEV   \n",
       "11114  9460001        LIUZZI Emanuela         LIUZZI E        Emanuela LIUZZI   \n",
       "\n",
       "       gender function country_code              country         country_full  \\\n",
       "0      Female  Athlete          MEX               Mexico               Mexico   \n",
       "1      Female  Athlete          MEX               Mexico               Mexico   \n",
       "2        Male  Athlete          MEX               Mexico               Mexico   \n",
       "3        Male  Athlete          MEX               Mexico               Mexico   \n",
       "4        Male  Athlete          MEX               Mexico               Mexico   \n",
       "...       ...      ...          ...                  ...                  ...   \n",
       "11110    Male  Athlete          AZE           Azerbaijan           Azerbaijan   \n",
       "11111    Male  Athlete          AZE           Azerbaijan           Azerbaijan   \n",
       "11112    Male  Athlete          MDA  Republic of Moldova  Republic of Moldova   \n",
       "11113    Male  Athlete          ALB              Albania              Albania   \n",
       "11114  Female  Athlete          ITA                Italy                Italy   \n",
       "\n",
       "               nationality     nationality_full nationality_code  height  \\\n",
       "0                   Mexico               Mexico              MEX     178   \n",
       "1                   Mexico               Mexico              MEX     178   \n",
       "2                   Mexico               Mexico              MEX     178   \n",
       "3                   Mexico               Mexico              MEX     178   \n",
       "4                   Mexico               Mexico              MEX     178   \n",
       "...                    ...                  ...              ...     ...   \n",
       "11110           Azerbaijan           Azerbaijan              AZE     178   \n",
       "11111           Azerbaijan           Azerbaijan              AZE     178   \n",
       "11112  Republic of Moldova  Republic of Moldova              MDA     178   \n",
       "11113              Albania              Albania              ALB     178   \n",
       "11114                    0                    0                0     178   \n",
       "\n",
       "       weight    disciplines  \\\n",
       "0        77.0    ['Archery']   \n",
       "1        77.0    ['Archery']   \n",
       "2        77.0    ['Archery']   \n",
       "3        77.0    ['Archery']   \n",
       "4        77.0    ['Archery']   \n",
       "...       ...            ...   \n",
       "11110    77.0  ['Wrestling']   \n",
       "11111    77.0  ['Wrestling']   \n",
       "11112    77.0  ['Wrestling']   \n",
       "11113    77.0  ['Wrestling']   \n",
       "11114    77.0  ['Wrestling']   \n",
       "\n",
       "                                                  events  birth_date  \n",
       "0      [\"Women's Individual\", \"Women's Team\", 'Mixed ...  1994-10-17  \n",
       "1                 [\"Women's Individual\", \"Women's Team\"]  2006-07-28  \n",
       "2       [\"Men's Individual\", \"Men's Team\", 'Mixed Team']  2004-04-26  \n",
       "3                     [\"Men's Individual\", \"Men's Team\"]  2000-01-14  \n",
       "4                     [\"Men's Individual\", \"Men's Team\"]  1998-03-08  \n",
       "...                                                  ...         ...  \n",
       "11110                         [\"Men's Greco-Roman 77kg\"]  1996-12-15  \n",
       "11111                           [\"Men's Freestyle 97kg\"]  1998-01-27  \n",
       "11112                           [\"Men's Freestyle 65kg\"]  1996-11-18  \n",
       "11113                           [\"Men's Freestyle 74kg\"]  1998-12-10  \n",
       "11114                         [\"Women's Freestyle 50kg\"]  2000-04-27  \n",
       "\n",
       "[11115 rows x 17 columns]"
      ],
      "text/html": [
       "<div>\n",
       "<style scoped>\n",
       "    .dataframe tbody tr th:only-of-type {\n",
       "        vertical-align: middle;\n",
       "    }\n",
       "\n",
       "    .dataframe tbody tr th {\n",
       "        vertical-align: top;\n",
       "    }\n",
       "\n",
       "    .dataframe thead th {\n",
       "        text-align: right;\n",
       "    }\n",
       "</style>\n",
       "<table border=\"1\" class=\"dataframe\">\n",
       "  <thead>\n",
       "    <tr style=\"text-align: right;\">\n",
       "      <th></th>\n",
       "      <th>code</th>\n",
       "      <th>name</th>\n",
       "      <th>name_short</th>\n",
       "      <th>name_tv</th>\n",
       "      <th>gender</th>\n",
       "      <th>function</th>\n",
       "      <th>country_code</th>\n",
       "      <th>country</th>\n",
       "      <th>country_full</th>\n",
       "      <th>nationality</th>\n",
       "      <th>nationality_full</th>\n",
       "      <th>nationality_code</th>\n",
       "      <th>height</th>\n",
       "      <th>weight</th>\n",
       "      <th>disciplines</th>\n",
       "      <th>events</th>\n",
       "      <th>birth_date</th>\n",
       "    </tr>\n",
       "  </thead>\n",
       "  <tbody>\n",
       "    <tr>\n",
       "      <th>0</th>\n",
       "      <td>1535420</td>\n",
       "      <td>VALENCIA Alejandra</td>\n",
       "      <td>VALENCIA A</td>\n",
       "      <td>Alejandra VALENCIA</td>\n",
       "      <td>Female</td>\n",
       "      <td>Athlete</td>\n",
       "      <td>MEX</td>\n",
       "      <td>Mexico</td>\n",
       "      <td>Mexico</td>\n",
       "      <td>Mexico</td>\n",
       "      <td>Mexico</td>\n",
       "      <td>MEX</td>\n",
       "      <td>178</td>\n",
       "      <td>77.0</td>\n",
       "      <td>['Archery']</td>\n",
       "      <td>[\"Women's Individual\", \"Women's Team\", 'Mixed ...</td>\n",
       "      <td>1994-10-17</td>\n",
       "    </tr>\n",
       "    <tr>\n",
       "      <th>1</th>\n",
       "      <td>1535429</td>\n",
       "      <td>RUIZ Angela</td>\n",
       "      <td>RUIZ A</td>\n",
       "      <td>Angela RUIZ</td>\n",
       "      <td>Female</td>\n",
       "      <td>Athlete</td>\n",
       "      <td>MEX</td>\n",
       "      <td>Mexico</td>\n",
       "      <td>Mexico</td>\n",
       "      <td>Mexico</td>\n",
       "      <td>Mexico</td>\n",
       "      <td>MEX</td>\n",
       "      <td>178</td>\n",
       "      <td>77.0</td>\n",
       "      <td>['Archery']</td>\n",
       "      <td>[\"Women's Individual\", \"Women's Team\"]</td>\n",
       "      <td>2006-07-28</td>\n",
       "    </tr>\n",
       "    <tr>\n",
       "      <th>2</th>\n",
       "      <td>1535430</td>\n",
       "      <td>GRANDE Matias</td>\n",
       "      <td>GRANDE M</td>\n",
       "      <td>Matias GRANDE</td>\n",
       "      <td>Male</td>\n",
       "      <td>Athlete</td>\n",
       "      <td>MEX</td>\n",
       "      <td>Mexico</td>\n",
       "      <td>Mexico</td>\n",
       "      <td>Mexico</td>\n",
       "      <td>Mexico</td>\n",
       "      <td>MEX</td>\n",
       "      <td>178</td>\n",
       "      <td>77.0</td>\n",
       "      <td>['Archery']</td>\n",
       "      <td>[\"Men's Individual\", \"Men's Team\", 'Mixed Team']</td>\n",
       "      <td>2004-04-26</td>\n",
       "    </tr>\n",
       "    <tr>\n",
       "      <th>3</th>\n",
       "      <td>1536460</td>\n",
       "      <td>ROJAS Carlos</td>\n",
       "      <td>ROJAS C</td>\n",
       "      <td>Carlos ROJAS</td>\n",
       "      <td>Male</td>\n",
       "      <td>Athlete</td>\n",
       "      <td>MEX</td>\n",
       "      <td>Mexico</td>\n",
       "      <td>Mexico</td>\n",
       "      <td>Mexico</td>\n",
       "      <td>Mexico</td>\n",
       "      <td>MEX</td>\n",
       "      <td>178</td>\n",
       "      <td>77.0</td>\n",
       "      <td>['Archery']</td>\n",
       "      <td>[\"Men's Individual\", \"Men's Team\"]</td>\n",
       "      <td>2000-01-14</td>\n",
       "    </tr>\n",
       "    <tr>\n",
       "      <th>4</th>\n",
       "      <td>1536467</td>\n",
       "      <td>MARTINEZ WING Bruno</td>\n",
       "      <td>MARTINEZ WING B</td>\n",
       "      <td>Bruno MARTINEZ WING</td>\n",
       "      <td>Male</td>\n",
       "      <td>Athlete</td>\n",
       "      <td>MEX</td>\n",
       "      <td>Mexico</td>\n",
       "      <td>Mexico</td>\n",
       "      <td>Mexico</td>\n",
       "      <td>Mexico</td>\n",
       "      <td>MEX</td>\n",
       "      <td>178</td>\n",
       "      <td>77.0</td>\n",
       "      <td>['Archery']</td>\n",
       "      <td>[\"Men's Individual\", \"Men's Team\"]</td>\n",
       "      <td>1998-03-08</td>\n",
       "    </tr>\n",
       "    <tr>\n",
       "      <th>...</th>\n",
       "      <td>...</td>\n",
       "      <td>...</td>\n",
       "      <td>...</td>\n",
       "      <td>...</td>\n",
       "      <td>...</td>\n",
       "      <td>...</td>\n",
       "      <td>...</td>\n",
       "      <td>...</td>\n",
       "      <td>...</td>\n",
       "      <td>...</td>\n",
       "      <td>...</td>\n",
       "      <td>...</td>\n",
       "      <td>...</td>\n",
       "      <td>...</td>\n",
       "      <td>...</td>\n",
       "      <td>...</td>\n",
       "      <td>...</td>\n",
       "    </tr>\n",
       "    <tr>\n",
       "      <th>11110</th>\n",
       "      <td>1981775</td>\n",
       "      <td>SULEYMANOV Sanan</td>\n",
       "      <td>SULEYMANOV S</td>\n",
       "      <td>Sanan SULEYMANOV</td>\n",
       "      <td>Male</td>\n",
       "      <td>Athlete</td>\n",
       "      <td>AZE</td>\n",
       "      <td>Azerbaijan</td>\n",
       "      <td>Azerbaijan</td>\n",
       "      <td>Azerbaijan</td>\n",
       "      <td>Azerbaijan</td>\n",
       "      <td>AZE</td>\n",
       "      <td>178</td>\n",
       "      <td>77.0</td>\n",
       "      <td>['Wrestling']</td>\n",
       "      <td>[\"Men's Greco-Roman 77kg\"]</td>\n",
       "      <td>1996-12-15</td>\n",
       "    </tr>\n",
       "    <tr>\n",
       "      <th>11111</th>\n",
       "      <td>1981785</td>\n",
       "      <td>MAGOMEDOV Magomedkhan</td>\n",
       "      <td>MAGOMEDOV M</td>\n",
       "      <td>Magomedkhan MAGOMEDOV</td>\n",
       "      <td>Male</td>\n",
       "      <td>Athlete</td>\n",
       "      <td>AZE</td>\n",
       "      <td>Azerbaijan</td>\n",
       "      <td>Azerbaijan</td>\n",
       "      <td>Azerbaijan</td>\n",
       "      <td>Azerbaijan</td>\n",
       "      <td>AZE</td>\n",
       "      <td>178</td>\n",
       "      <td>77.0</td>\n",
       "      <td>['Wrestling']</td>\n",
       "      <td>[\"Men's Freestyle 97kg\"]</td>\n",
       "      <td>1998-01-27</td>\n",
       "    </tr>\n",
       "    <tr>\n",
       "      <th>11112</th>\n",
       "      <td>2008688</td>\n",
       "      <td>SACULTAN Maxim</td>\n",
       "      <td>SACULTAN M</td>\n",
       "      <td>Maxim SACULTAN</td>\n",
       "      <td>Male</td>\n",
       "      <td>Athlete</td>\n",
       "      <td>MDA</td>\n",
       "      <td>Republic of Moldova</td>\n",
       "      <td>Republic of Moldova</td>\n",
       "      <td>Republic of Moldova</td>\n",
       "      <td>Republic of Moldova</td>\n",
       "      <td>MDA</td>\n",
       "      <td>178</td>\n",
       "      <td>77.0</td>\n",
       "      <td>['Wrestling']</td>\n",
       "      <td>[\"Men's Freestyle 65kg\"]</td>\n",
       "      <td>1996-11-18</td>\n",
       "    </tr>\n",
       "    <tr>\n",
       "      <th>11113</th>\n",
       "      <td>3429662</td>\n",
       "      <td>VALIEV Chermen</td>\n",
       "      <td>VALIEV C</td>\n",
       "      <td>Chermen VALIEV</td>\n",
       "      <td>Male</td>\n",
       "      <td>Athlete</td>\n",
       "      <td>ALB</td>\n",
       "      <td>Albania</td>\n",
       "      <td>Albania</td>\n",
       "      <td>Albania</td>\n",
       "      <td>Albania</td>\n",
       "      <td>ALB</td>\n",
       "      <td>178</td>\n",
       "      <td>77.0</td>\n",
       "      <td>['Wrestling']</td>\n",
       "      <td>[\"Men's Freestyle 74kg\"]</td>\n",
       "      <td>1998-12-10</td>\n",
       "    </tr>\n",
       "    <tr>\n",
       "      <th>11114</th>\n",
       "      <td>9460001</td>\n",
       "      <td>LIUZZI Emanuela</td>\n",
       "      <td>LIUZZI E</td>\n",
       "      <td>Emanuela LIUZZI</td>\n",
       "      <td>Female</td>\n",
       "      <td>Athlete</td>\n",
       "      <td>ITA</td>\n",
       "      <td>Italy</td>\n",
       "      <td>Italy</td>\n",
       "      <td>0</td>\n",
       "      <td>0</td>\n",
       "      <td>0</td>\n",
       "      <td>178</td>\n",
       "      <td>77.0</td>\n",
       "      <td>['Wrestling']</td>\n",
       "      <td>[\"Women's Freestyle 50kg\"]</td>\n",
       "      <td>2000-04-27</td>\n",
       "    </tr>\n",
       "  </tbody>\n",
       "</table>\n",
       "<p>11115 rows × 17 columns</p>\n",
       "</div>"
      ]
     },
     "execution_count": 20,
     "metadata": {},
     "output_type": "execute_result"
    }
   ],
   "execution_count": 20
  },
  {
   "metadata": {},
   "cell_type": "code",
   "outputs": [],
   "execution_count": null,
   "source": ""
  },
  {
   "cell_type": "markdown",
   "source": [
    "Удалите колонки code, name_short, name_tv"
   ],
   "metadata": {
    "id": "gZZoTM-x4yTI"
   }
  },
  {
   "cell_type": "code",
   "source": [
    "df = df.drop(['code', 'name_short', 'name_tv'], axis=1)\n",
    "df"
   ],
   "metadata": {
    "id": "0sV9BdDP5eKg",
    "ExecuteTime": {
     "end_time": "2024-09-16T19:36:31.739445Z",
     "start_time": "2024-09-16T19:36:31.724232Z"
    }
   },
   "outputs": [
    {
     "data": {
      "text/plain": [
       "                        name  gender function country_code  \\\n",
       "0         VALENCIA Alejandra  Female  Athlete          MEX   \n",
       "1                RUIZ Angela  Female  Athlete          MEX   \n",
       "2              GRANDE Matias    Male  Athlete          MEX   \n",
       "3               ROJAS Carlos    Male  Athlete          MEX   \n",
       "4        MARTINEZ WING Bruno    Male  Athlete          MEX   \n",
       "...                      ...     ...      ...          ...   \n",
       "11110       SULEYMANOV Sanan    Male  Athlete          AZE   \n",
       "11111  MAGOMEDOV Magomedkhan    Male  Athlete          AZE   \n",
       "11112         SACULTAN Maxim    Male  Athlete          MDA   \n",
       "11113         VALIEV Chermen    Male  Athlete          ALB   \n",
       "11114        LIUZZI Emanuela  Female  Athlete          ITA   \n",
       "\n",
       "                   country         country_full          nationality  \\\n",
       "0                   Mexico               Mexico               Mexico   \n",
       "1                   Mexico               Mexico               Mexico   \n",
       "2                   Mexico               Mexico               Mexico   \n",
       "3                   Mexico               Mexico               Mexico   \n",
       "4                   Mexico               Mexico               Mexico   \n",
       "...                    ...                  ...                  ...   \n",
       "11110           Azerbaijan           Azerbaijan           Azerbaijan   \n",
       "11111           Azerbaijan           Azerbaijan           Azerbaijan   \n",
       "11112  Republic of Moldova  Republic of Moldova  Republic of Moldova   \n",
       "11113              Albania              Albania              Albania   \n",
       "11114                Italy                Italy                    0   \n",
       "\n",
       "          nationality_full nationality_code  height  weight    disciplines  \\\n",
       "0                   Mexico              MEX     178    77.0    ['Archery']   \n",
       "1                   Mexico              MEX     178    77.0    ['Archery']   \n",
       "2                   Mexico              MEX     178    77.0    ['Archery']   \n",
       "3                   Mexico              MEX     178    77.0    ['Archery']   \n",
       "4                   Mexico              MEX     178    77.0    ['Archery']   \n",
       "...                    ...              ...     ...     ...            ...   \n",
       "11110           Azerbaijan              AZE     178    77.0  ['Wrestling']   \n",
       "11111           Azerbaijan              AZE     178    77.0  ['Wrestling']   \n",
       "11112  Republic of Moldova              MDA     178    77.0  ['Wrestling']   \n",
       "11113              Albania              ALB     178    77.0  ['Wrestling']   \n",
       "11114                    0                0     178    77.0  ['Wrestling']   \n",
       "\n",
       "                                                  events  birth_date  \n",
       "0      [\"Women's Individual\", \"Women's Team\", 'Mixed ...  1994-10-17  \n",
       "1                 [\"Women's Individual\", \"Women's Team\"]  2006-07-28  \n",
       "2       [\"Men's Individual\", \"Men's Team\", 'Mixed Team']  2004-04-26  \n",
       "3                     [\"Men's Individual\", \"Men's Team\"]  2000-01-14  \n",
       "4                     [\"Men's Individual\", \"Men's Team\"]  1998-03-08  \n",
       "...                                                  ...         ...  \n",
       "11110                         [\"Men's Greco-Roman 77kg\"]  1996-12-15  \n",
       "11111                           [\"Men's Freestyle 97kg\"]  1998-01-27  \n",
       "11112                           [\"Men's Freestyle 65kg\"]  1996-11-18  \n",
       "11113                           [\"Men's Freestyle 74kg\"]  1998-12-10  \n",
       "11114                         [\"Women's Freestyle 50kg\"]  2000-04-27  \n",
       "\n",
       "[11115 rows x 14 columns]"
      ],
      "text/html": [
       "<div>\n",
       "<style scoped>\n",
       "    .dataframe tbody tr th:only-of-type {\n",
       "        vertical-align: middle;\n",
       "    }\n",
       "\n",
       "    .dataframe tbody tr th {\n",
       "        vertical-align: top;\n",
       "    }\n",
       "\n",
       "    .dataframe thead th {\n",
       "        text-align: right;\n",
       "    }\n",
       "</style>\n",
       "<table border=\"1\" class=\"dataframe\">\n",
       "  <thead>\n",
       "    <tr style=\"text-align: right;\">\n",
       "      <th></th>\n",
       "      <th>name</th>\n",
       "      <th>gender</th>\n",
       "      <th>function</th>\n",
       "      <th>country_code</th>\n",
       "      <th>country</th>\n",
       "      <th>country_full</th>\n",
       "      <th>nationality</th>\n",
       "      <th>nationality_full</th>\n",
       "      <th>nationality_code</th>\n",
       "      <th>height</th>\n",
       "      <th>weight</th>\n",
       "      <th>disciplines</th>\n",
       "      <th>events</th>\n",
       "      <th>birth_date</th>\n",
       "    </tr>\n",
       "  </thead>\n",
       "  <tbody>\n",
       "    <tr>\n",
       "      <th>0</th>\n",
       "      <td>VALENCIA Alejandra</td>\n",
       "      <td>Female</td>\n",
       "      <td>Athlete</td>\n",
       "      <td>MEX</td>\n",
       "      <td>Mexico</td>\n",
       "      <td>Mexico</td>\n",
       "      <td>Mexico</td>\n",
       "      <td>Mexico</td>\n",
       "      <td>MEX</td>\n",
       "      <td>178</td>\n",
       "      <td>77.0</td>\n",
       "      <td>['Archery']</td>\n",
       "      <td>[\"Women's Individual\", \"Women's Team\", 'Mixed ...</td>\n",
       "      <td>1994-10-17</td>\n",
       "    </tr>\n",
       "    <tr>\n",
       "      <th>1</th>\n",
       "      <td>RUIZ Angela</td>\n",
       "      <td>Female</td>\n",
       "      <td>Athlete</td>\n",
       "      <td>MEX</td>\n",
       "      <td>Mexico</td>\n",
       "      <td>Mexico</td>\n",
       "      <td>Mexico</td>\n",
       "      <td>Mexico</td>\n",
       "      <td>MEX</td>\n",
       "      <td>178</td>\n",
       "      <td>77.0</td>\n",
       "      <td>['Archery']</td>\n",
       "      <td>[\"Women's Individual\", \"Women's Team\"]</td>\n",
       "      <td>2006-07-28</td>\n",
       "    </tr>\n",
       "    <tr>\n",
       "      <th>2</th>\n",
       "      <td>GRANDE Matias</td>\n",
       "      <td>Male</td>\n",
       "      <td>Athlete</td>\n",
       "      <td>MEX</td>\n",
       "      <td>Mexico</td>\n",
       "      <td>Mexico</td>\n",
       "      <td>Mexico</td>\n",
       "      <td>Mexico</td>\n",
       "      <td>MEX</td>\n",
       "      <td>178</td>\n",
       "      <td>77.0</td>\n",
       "      <td>['Archery']</td>\n",
       "      <td>[\"Men's Individual\", \"Men's Team\", 'Mixed Team']</td>\n",
       "      <td>2004-04-26</td>\n",
       "    </tr>\n",
       "    <tr>\n",
       "      <th>3</th>\n",
       "      <td>ROJAS Carlos</td>\n",
       "      <td>Male</td>\n",
       "      <td>Athlete</td>\n",
       "      <td>MEX</td>\n",
       "      <td>Mexico</td>\n",
       "      <td>Mexico</td>\n",
       "      <td>Mexico</td>\n",
       "      <td>Mexico</td>\n",
       "      <td>MEX</td>\n",
       "      <td>178</td>\n",
       "      <td>77.0</td>\n",
       "      <td>['Archery']</td>\n",
       "      <td>[\"Men's Individual\", \"Men's Team\"]</td>\n",
       "      <td>2000-01-14</td>\n",
       "    </tr>\n",
       "    <tr>\n",
       "      <th>4</th>\n",
       "      <td>MARTINEZ WING Bruno</td>\n",
       "      <td>Male</td>\n",
       "      <td>Athlete</td>\n",
       "      <td>MEX</td>\n",
       "      <td>Mexico</td>\n",
       "      <td>Mexico</td>\n",
       "      <td>Mexico</td>\n",
       "      <td>Mexico</td>\n",
       "      <td>MEX</td>\n",
       "      <td>178</td>\n",
       "      <td>77.0</td>\n",
       "      <td>['Archery']</td>\n",
       "      <td>[\"Men's Individual\", \"Men's Team\"]</td>\n",
       "      <td>1998-03-08</td>\n",
       "    </tr>\n",
       "    <tr>\n",
       "      <th>...</th>\n",
       "      <td>...</td>\n",
       "      <td>...</td>\n",
       "      <td>...</td>\n",
       "      <td>...</td>\n",
       "      <td>...</td>\n",
       "      <td>...</td>\n",
       "      <td>...</td>\n",
       "      <td>...</td>\n",
       "      <td>...</td>\n",
       "      <td>...</td>\n",
       "      <td>...</td>\n",
       "      <td>...</td>\n",
       "      <td>...</td>\n",
       "      <td>...</td>\n",
       "    </tr>\n",
       "    <tr>\n",
       "      <th>11110</th>\n",
       "      <td>SULEYMANOV Sanan</td>\n",
       "      <td>Male</td>\n",
       "      <td>Athlete</td>\n",
       "      <td>AZE</td>\n",
       "      <td>Azerbaijan</td>\n",
       "      <td>Azerbaijan</td>\n",
       "      <td>Azerbaijan</td>\n",
       "      <td>Azerbaijan</td>\n",
       "      <td>AZE</td>\n",
       "      <td>178</td>\n",
       "      <td>77.0</td>\n",
       "      <td>['Wrestling']</td>\n",
       "      <td>[\"Men's Greco-Roman 77kg\"]</td>\n",
       "      <td>1996-12-15</td>\n",
       "    </tr>\n",
       "    <tr>\n",
       "      <th>11111</th>\n",
       "      <td>MAGOMEDOV Magomedkhan</td>\n",
       "      <td>Male</td>\n",
       "      <td>Athlete</td>\n",
       "      <td>AZE</td>\n",
       "      <td>Azerbaijan</td>\n",
       "      <td>Azerbaijan</td>\n",
       "      <td>Azerbaijan</td>\n",
       "      <td>Azerbaijan</td>\n",
       "      <td>AZE</td>\n",
       "      <td>178</td>\n",
       "      <td>77.0</td>\n",
       "      <td>['Wrestling']</td>\n",
       "      <td>[\"Men's Freestyle 97kg\"]</td>\n",
       "      <td>1998-01-27</td>\n",
       "    </tr>\n",
       "    <tr>\n",
       "      <th>11112</th>\n",
       "      <td>SACULTAN Maxim</td>\n",
       "      <td>Male</td>\n",
       "      <td>Athlete</td>\n",
       "      <td>MDA</td>\n",
       "      <td>Republic of Moldova</td>\n",
       "      <td>Republic of Moldova</td>\n",
       "      <td>Republic of Moldova</td>\n",
       "      <td>Republic of Moldova</td>\n",
       "      <td>MDA</td>\n",
       "      <td>178</td>\n",
       "      <td>77.0</td>\n",
       "      <td>['Wrestling']</td>\n",
       "      <td>[\"Men's Freestyle 65kg\"]</td>\n",
       "      <td>1996-11-18</td>\n",
       "    </tr>\n",
       "    <tr>\n",
       "      <th>11113</th>\n",
       "      <td>VALIEV Chermen</td>\n",
       "      <td>Male</td>\n",
       "      <td>Athlete</td>\n",
       "      <td>ALB</td>\n",
       "      <td>Albania</td>\n",
       "      <td>Albania</td>\n",
       "      <td>Albania</td>\n",
       "      <td>Albania</td>\n",
       "      <td>ALB</td>\n",
       "      <td>178</td>\n",
       "      <td>77.0</td>\n",
       "      <td>['Wrestling']</td>\n",
       "      <td>[\"Men's Freestyle 74kg\"]</td>\n",
       "      <td>1998-12-10</td>\n",
       "    </tr>\n",
       "    <tr>\n",
       "      <th>11114</th>\n",
       "      <td>LIUZZI Emanuela</td>\n",
       "      <td>Female</td>\n",
       "      <td>Athlete</td>\n",
       "      <td>ITA</td>\n",
       "      <td>Italy</td>\n",
       "      <td>Italy</td>\n",
       "      <td>0</td>\n",
       "      <td>0</td>\n",
       "      <td>0</td>\n",
       "      <td>178</td>\n",
       "      <td>77.0</td>\n",
       "      <td>['Wrestling']</td>\n",
       "      <td>[\"Women's Freestyle 50kg\"]</td>\n",
       "      <td>2000-04-27</td>\n",
       "    </tr>\n",
       "  </tbody>\n",
       "</table>\n",
       "<p>11115 rows × 14 columns</p>\n",
       "</div>"
      ]
     },
     "execution_count": 23,
     "metadata": {},
     "output_type": "execute_result"
    }
   ],
   "execution_count": 23
  },
  {
   "cell_type": "markdown",
   "source": "Из какой страны было больше всего атлетов? Сколько их было?",
   "metadata": {
    "id": "Q6MxGujF5ecN"
   }
  },
  {
   "cell_type": "code",
   "source": "df['country'].value_counts()[0]",
   "metadata": {
    "id": "tzcVTPBj5tpi",
    "ExecuteTime": {
     "end_time": "2024-09-16T20:47:00.623994Z",
     "start_time": "2024-09-16T20:47:00.619055Z"
    }
   },
   "outputs": [
    {
     "data": {
      "text/plain": [
       "620"
      ]
     },
     "execution_count": 68,
     "metadata": {},
     "output_type": "execute_result"
    }
   ],
   "execution_count": 68
  },
  {
   "cell_type": "markdown",
   "source": [
    "Найдите 15 стран, из которых было больше всего спортсменов. Постройте гистограмму, где по горизонтальной оси будет отображаться код страны, а по вертикальной - количество спортсменов."
   ],
   "metadata": {
    "id": "MCnLpnXz5t4_"
   }
  },
  {
   "metadata": {},
   "cell_type": "markdown",
   "source": ""
  },
  {
   "cell_type": "code",
   "source": [
    "country_df = df.groupby(['country', 'country_code']).size().reset_index(name='count')\n",
    "\n",
    "country_df_top = country_df[country_df['count'] >= 177]\n",
    "\n",
    "country_df_top = df[df['country_code'].isin(country_df_top['country_code'])]\n",
    "country_df_top['country_code'].value_counts()"
   ],
   "metadata": {
    "id": "lTAa0uOc6nJz",
    "ExecuteTime": {
     "end_time": "2024-09-16T20:41:19.369474Z",
     "start_time": "2024-09-16T20:41:19.358948Z"
    }
   },
   "outputs": [
    {
     "data": {
      "text/plain": [
       "country_code\n",
       "USA    620\n",
       "FRA    600\n",
       "AUS    476\n",
       "GER    457\n",
       "JPN    432\n",
       "ESP    401\n",
       "CHN    398\n",
       "ITA    397\n",
       "GBR    341\n",
       "CAN    332\n",
       "BRA    290\n",
       "NED    289\n",
       "POL    226\n",
       "NZL    208\n",
       "BEL    177\n",
       "HUN    177\n",
       "Name: count, dtype: int64"
      ]
     },
     "execution_count": 65,
     "metadata": {},
     "output_type": "execute_result"
    }
   ],
   "execution_count": 65
  },
  {
   "metadata": {
    "ExecuteTime": {
     "end_time": "2024-09-16T20:47:19.011617Z",
     "start_time": "2024-09-16T20:47:18.806427Z"
    }
   },
   "cell_type": "code",
   "source": [
    "sns.histplot(data=country_df_top, x='country_code')\n",
    "plt.xticks(rotation=90);"
   ],
   "outputs": [
    {
     "data": {
      "text/plain": [
       "<Figure size 640x480 with 1 Axes>"
      ],
      "image/png": "[encoded data removed]"
     },
     "metadata": {},
     "output_type": "display_data"
    }
   ],
   "execution_count": 69
  },
  {
   "cell_type": "markdown",
   "source": [
    "Сколько женщин и мужчин участвовало в Олимпиаде?"
   ],
   "metadata": {
    "id": "uA-Ae_Wa67zb"
   }
  },
  {
   "cell_type": "code",
   "source": "df['gender'].value_counts()",
   "metadata": {
    "id": "wBM2BwJR8lPH",
    "ExecuteTime": {
     "end_time": "2024-09-16T20:21:12.132372Z",
     "start_time": "2024-09-16T20:21:12.127373Z"
    }
   },
   "outputs": [
    {
     "data": {
      "text/plain": [
       "gender\n",
       "Male      5655\n",
       "Female    5460\n",
       "Name: count, dtype: int64"
      ]
     },
     "execution_count": 38,
     "metadata": {},
     "output_type": "execute_result"
    }
   ],
   "execution_count": 38
  },
  {
   "cell_type": "markdown",
   "source": [
    "Выведите количество женщин, которые участвовали только в одной соревновательной группе (колонка events)."
   ],
   "metadata": {
    "id": "ZrJDz_ZU8lcB"
   }
  },
  {
   "cell_type": "code",
   "source": "df['events'].value_counts()",
   "metadata": {
    "id": "EwCr00ny-CZn",
    "ExecuteTime": {
     "end_time": "2024-09-16T20:52:29.855634Z",
     "start_time": "2024-09-16T20:52:29.849666Z"
    }
   },
   "outputs": [
    {
     "data": {
      "text/plain": [
       "events\n",
       "['Men']                                                                                                                                                                               1478\n",
       "['Women']                                                                                                                                                                             1385\n",
       "[\"Men's Individual\"]                                                                                                                                                                   103\n",
       "[\"Women's Individual\"]                                                                                                                                                                 102\n",
       "[\"Women's Marathon\"]                                                                                                                                                                    95\n",
       "                                                                                                                                                                                      ... \n",
       "[\"Women's 10km\", \"Women's 1500m Freestyle\", \"Women's 400m Freestyle\"]                                                                                                                    1\n",
       "[\"Women's 100m Backstroke\", \"Women's 100m Freestyle\", \"Women's 4 x 100m Freestyle Relay\", \"Women's 4 x 100m Medley Relay\", \"Women's 50m Freestyle\", 'Mixed 4 x 100m Medley Relay']       1\n",
       "[\"Men's 100m Butterfly\", \"Men's 100m Freestyle\", \"Men's 4 x 100m Medley Relay\", \"Men's 50m Freestyle\"]                                                                                   1\n",
       "[\"Men's 200m Butterfly\", \"Men's 200m Breaststroke\", \"Men's 200m Individual Medley\", \"Men's 400m Individual Medley\", \"Men's 4 x 100m Medley Relay\", 'Mixed 4 x 100m Medley Relay']        1\n",
       "[\"Men's 10km\", \"Men's 400m Freestyle\"]                                                                                                                                                   1\n",
       "Name: count, Length: 639, dtype: int64"
      ]
     },
     "execution_count": 72,
     "metadata": {},
     "output_type": "execute_result"
    }
   ],
   "execution_count": 72
  },
  {
   "cell_type": "markdown",
   "source": [
    "Выведите количество спортсменов, у которых национальность не совпадает со страной, за которую они выступают."
   ],
   "metadata": {
    "id": "_5__lGjSBvBW"
   }
  },
  {
   "cell_type": "code",
   "source": [
    "\n",
    "\n"
   ],
   "metadata": {
    "id": "khISD9_HB2LF"
   },
   "execution_count": null,
   "outputs": []
  },
  {
   "cell_type": "markdown",
   "source": [
    "Какой процент мужчин моложе 23 участвовало в этой Олимпиаде?"
   ],
   "metadata": {
    "id": "B9kM7gIK-Cla"
   }
  },
  {
   "cell_type": "code",
   "source": [],
   "metadata": {
    "id": "YcEA3Ani-JHv"
   },
   "execution_count": null,
   "outputs": []
  },
  {
   "cell_type": "markdown",
   "source": [
    "Постройте график зависимости роста от веса у женщин (scatter plot)."
   ],
   "metadata": {
    "id": "uK1liVxz-JVi"
   }
  },
  {
   "cell_type": "code",
   "source": [],
   "metadata": {
    "id": "D37_Ncmj-e_2"
   },
   "execution_count": null,
   "outputs": []
  },
  {
   "cell_type": "markdown",
   "source": [
    "Постройте график распределения, где по оси X будет показан возраст, а по оси Y - процент спортсменов этого возраста, принявших участие в Олимпиаде для женщин и мужчин на одном графике."
   ],
   "metadata": {
    "id": "PE57eW19-fNM"
   }
  },
  {
   "cell_type": "code",
   "source": [],
   "metadata": {
    "id": "GPiewHIz_IUg"
   },
   "execution_count": null,
   "outputs": []
  },
  {
   "cell_type": "markdown",
   "source": [
    "Постройте круговую диаграмму, чтобы отобразить долю спортсменов по пяти странам с наибольшим количеством участников."
   ],
   "metadata": {
    "id": "9ocREq3J_IsU"
   }
  },
  {
   "cell_type": "code",
   "source": [],
   "metadata": {
    "id": "PkpF_i1V_dgH"
   },
   "execution_count": null,
   "outputs": []
  }
 ]
}
