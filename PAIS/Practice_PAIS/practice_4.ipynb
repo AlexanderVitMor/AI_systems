{
 "cells": [
  {
   "cell_type": "markdown",
   "source": "# MAV - Practice 4 -> PAIS\n",
   "metadata": {
    "collapsed": false
   },
   "id": "fc8ca1f359b9aa04"
  },
  {
   "metadata": {},
   "cell_type": "markdown",
   "source": [
    "#### Вариант 5: (a xor b) and (b xor c)"
   ],
   "id": "db6cf7d9bf45759e"
  },
  {
   "cell_type": "markdown",
   "source": [
    "Необходимо реализовать нейронную сеть вычисляющую результат заданной логической операции. \n",
    "Затем реализовать функции, которые будут симулировать работу построенной модели. \n",
    "Функции должны принимать тензор входных данных и список весов. Должно быть реализовано 2 функции"
   ],
   "metadata": {
    "collapsed": false
   },
   "id": "4c6287f761122ca2"
  },
  {
   "cell_type": "code",
   "id": "initial_id",
   "metadata": {
    "collapsed": true,
    "ExecuteTime": {
     "end_time": "2024-11-05T16:44:27.620210Z",
     "start_time": "2024-11-05T16:44:25.096659Z"
    }
   },
   "source": [
    "import pandas as pd\n",
    "import numpy as np\n",
    "from tensorflow.keras.models import Sequential\n",
    "from tensorflow.keras.layers import Dense, Input"
   ],
   "outputs": [],
   "execution_count": 1
  },
  {
   "cell_type": "markdown",
   "source": [
    "Заранее создаем датасет представляющий собой таблицу истиности для логической функции из вариант.\n",
    "Как раз это и описывает, что будет предсказываться NN\n"
   ],
   "metadata": {
    "collapsed": false
   },
   "id": "6a7bea10752d3558"
  },
  {
   "cell_type": "code",
   "source": [
    "data = pd.read_csv('data/data_bin.csv')\n",
    "X = data.drop(columns=['target'])\n",
    "y = data['target']\n",
    "data"
   ],
   "metadata": {
    "collapsed": false,
    "ExecuteTime": {
     "end_time": "2024-11-05T16:44:27.636173Z",
     "start_time": "2024-11-05T16:44:27.621215Z"
    }
   },
   "id": "6dc98697ed106fcb",
   "outputs": [
    {
     "data": {
      "text/plain": [
       "   a  b  c  target\n",
       "0  0  0  0       0\n",
       "1  0  0  1       0\n",
       "2  0  1  0       1\n",
       "3  0  1  1       0\n",
       "4  1  0  0       0\n",
       "5  1  0  1       1\n",
       "6  1  1  0       0\n",
       "7  1  1  1       0"
      ],
      "text/html": [
       "<div>\n",
       "<style scoped>\n",
       "    .dataframe tbody tr th:only-of-type {\n",
       "        vertical-align: middle;\n",
       "    }\n",
       "\n",
       "    .dataframe tbody tr th {\n",
       "        vertical-align: top;\n",
       "    }\n",
       "\n",
       "    .dataframe thead th {\n",
       "        text-align: right;\n",
       "    }\n",
       "</style>\n",
       "<table border=\"1\" class=\"dataframe\">\n",
       "  <thead>\n",
       "    <tr style=\"text-align: right;\">\n",
       "      <th></th>\n",
       "      <th>a</th>\n",
       "      <th>b</th>\n",
       "      <th>c</th>\n",
       "      <th>target</th>\n",
       "    </tr>\n",
       "  </thead>\n",
       "  <tbody>\n",
       "    <tr>\n",
       "      <th>0</th>\n",
       "      <td>0</td>\n",
       "      <td>0</td>\n",
       "      <td>0</td>\n",
       "      <td>0</td>\n",
       "    </tr>\n",
       "    <tr>\n",
       "      <th>1</th>\n",
       "      <td>0</td>\n",
       "      <td>0</td>\n",
       "      <td>1</td>\n",
       "      <td>0</td>\n",
       "    </tr>\n",
       "    <tr>\n",
       "      <th>2</th>\n",
       "      <td>0</td>\n",
       "      <td>1</td>\n",
       "      <td>0</td>\n",
       "      <td>1</td>\n",
       "    </tr>\n",
       "    <tr>\n",
       "      <th>3</th>\n",
       "      <td>0</td>\n",
       "      <td>1</td>\n",
       "      <td>1</td>\n",
       "      <td>0</td>\n",
       "    </tr>\n",
       "    <tr>\n",
       "      <th>4</th>\n",
       "      <td>1</td>\n",
       "      <td>0</td>\n",
       "      <td>0</td>\n",
       "      <td>0</td>\n",
       "    </tr>\n",
       "    <tr>\n",
       "      <th>5</th>\n",
       "      <td>1</td>\n",
       "      <td>0</td>\n",
       "      <td>1</td>\n",
       "      <td>1</td>\n",
       "    </tr>\n",
       "    <tr>\n",
       "      <th>6</th>\n",
       "      <td>1</td>\n",
       "      <td>1</td>\n",
       "      <td>0</td>\n",
       "      <td>0</td>\n",
       "    </tr>\n",
       "    <tr>\n",
       "      <th>7</th>\n",
       "      <td>1</td>\n",
       "      <td>1</td>\n",
       "      <td>1</td>\n",
       "      <td>0</td>\n",
       "    </tr>\n",
       "  </tbody>\n",
       "</table>\n",
       "</div>"
      ]
     },
     "execution_count": 2,
     "metadata": {},
     "output_type": "execute_result"
    }
   ],
   "execution_count": 2
  },
  {
   "metadata": {},
   "cell_type": "markdown",
   "source": "На самом деле модель плохо обучается на таких маленьких данных - как капля в море. Однако функции работают корректно, при простой симуляции 3 входных параметра -> 1 нейрон. Для наглядного представления. ",
   "id": "1286d513ed08924b"
  },
  {
   "metadata": {},
   "cell_type": "markdown",
   "source": "При синтетическом датасете в 1000+ значений, и средней модели -> результат есть",
   "id": "146c95852e113eaf"
  },
  {
   "metadata": {
    "ExecuteTime": {
     "end_time": "2024-11-05T16:44:27.641093Z",
     "start_time": "2024-11-05T16:44:27.637180Z"
    }
   },
   "cell_type": "code",
   "source": [
    " # Функция создания модели нейронной сети\n",
    "def create_model() -> Sequential:\n",
    "    \"\"\"\n",
    "    Creates a neural network model for binary classification.\n",
    "\n",
    "    The model consists of 1 input layer with shape (3,) and 1 output layer with sigmoid activation function.\n",
    "    It is compiled with binary cross-entropy loss and Adam optimizer.\n",
    "\n",
    "    Args:\n",
    "        None\n",
    "\n",
    "    Returns:\n",
    "        Sequential: A compiled Keras neural network model for binary classification.\n",
    "\n",
    "    Examples:\n",
    "        >>> from tensorflow.keras.models import Sequential\n",
    "        >>> baseline_model = create_model()\n",
    "        >>> print(baseline_model.summary())\n",
    "    \"\"\"\n",
    "    baseline_model: Sequential = Sequential()\n",
    "    \n",
    "    # Input layer with shape (3,)\n",
    "    baseline_model.add(Input(shape=(3,), name='input'))\n",
    "    \n",
    "    # Output layer with sigmoid activation function\n",
    "    baseline_model.add(Dense(1, activation='sigmoid', name='output'))\n",
    "\n",
    "    # Compile the model with binary cross-entropy loss and Adam optimizer\n",
    "    baseline_model.compile(loss='binary_crossentropy', optimizer='adam', metrics=['accuracy'])\n",
    "\n",
    "    # Print the model summary\n",
    "    baseline_model.summary()\n",
    "    return baseline_model"
   ],
   "id": "ede03db93888fc2f",
   "outputs": [],
   "execution_count": 3
  },
  {
   "metadata": {
    "ExecuteTime": {
     "end_time": "2024-11-05T16:44:27.646635Z",
     "start_time": "2024-11-05T16:44:27.642099Z"
    }
   },
   "cell_type": "code",
   "source": [
    " # Функция создает отчетность после обучения нейронной сети.\n",
    "def create_error_report(model_report: Sequential, val_split: float=0.2) -> tuple[Sequential, np.ndarray]:\n",
    "    \"\"\"\n",
    "    Creates an error report for the given model by training it on the dataset and splitting it into training and validation sets.\n",
    "\n",
    "    Args:\n",
    "        model_report (Sequential): The Keras neural network model to be trained.\n",
    "        val_split (float, optional): The proportion of data to be used for validation. Defaults to 0.2.\n",
    "\n",
    "    Returns:\n",
    "        tuple[Sequential, np.ndarray]: A tuple containing the trained model and the validation loss array.\n",
    "\n",
    "    Examples:\n",
    "        >>> from tensorflow.keras.models import Sequential\n",
    "        >>> from tensorflow.keras.datasets import load_breast_cancer\n",
    "        >>> (X_train, y_train), (X_test, y_test) = load_breast_cancer(return_numpy=False)\n",
    "        >>> model_report = create_model()\n",
    "        >>> error_report, val_loss = create_error_report(model_report, val_split=0.2)\n",
    "\n",
    "    Notes:\n",
    "        The data is assumed to be stored in a CSV file named 'data/data_bin.csv' with column names matching the feature names.\n",
    "        The 'target' column should contain the target variable values.\n",
    "    \"\"\"\n",
    "    # Load the dataset from the CSV file\n",
    "    data: pd.DataFrame = pd.read_csv('data/data_bin.csv')\n",
    "\n",
    "    # Split the data into features (X) and target variable (y)\n",
    "    X = data.drop(columns=['target'])\n",
    "    y = data['target']\n",
    "\n",
    "    # Train the model on the training set with validation split\n",
    "    model_report.fit(X, y, epochs=100, batch_size=32, validation_split=val_split)\n",
    "\n",
    "    return model_report"
   ],
   "id": "cbe25718b2dd3fe0",
   "outputs": [],
   "execution_count": 4
  },
  {
   "cell_type": "markdown",
   "source": [
    "1. Функция, в которой все операции реализованы как поэлементные операции над тензорами"
   ],
   "metadata": {
    "collapsed": false
   },
   "id": "139fd959ddc8e935"
  },
  {
   "metadata": {
    "ExecuteTime": {
     "end_time": "2024-11-05T16:44:27.653383Z",
     "start_time": "2024-11-05T16:44:27.647642Z"
    }
   },
   "cell_type": "code",
   "source": [
    "def simulate_neural_network(data_tensor: np.ndarray, weight_bias_tensor) -> tuple[np.ndarray, list]:\n",
    "    \"\"\"\n",
    "    Simulates the neural network by performing forward pass and applying sigmoid activation function.\n",
    "\n",
    "    Args:\n",
    "        data_tensor (np.ndarray): The input tensor to be passed through the neural network.\n",
    "        weight_bias_tensor (tuple[np.ndarray, np.ndarray]): A tuple containing the weights and bias tensors of the neural network.\n",
    "\n",
    "    Returns:\n",
    "        tuple[np.ndarray, list]: A tuple containing the output tensor and a list of sigmoid activation values.\n",
    "\n",
    "    Examples:\n",
    "        >>> import numpy as np\n",
    "        >>> data_tensor = np.random.rand(10, 5)\n",
    "        >>> weight_bias_tensor = (np.random.rand(5), np.array([1.0]))\n",
    "        >>> output_tensor, sigmoid_tensor = simulate_neural_network(data_tensor, weight_bias_tensor)\n",
    "\n",
    "    Notes:\n",
    "        The neural network is assumed to have one layer with the given weights and bias.\n",
    "    \"\"\"\n",
    "    # Get the size of the input tensor\n",
    "    size: int = data_tensor.shape[0]\n",
    "\n",
    "    # Get the number of parameters in the output tensor\n",
    "    size_params: int = data_tensor.shape[1]\n",
    "\n",
    "    # Extract the weights and bias tensors from the input tuple\n",
    "    weights: np.ndarray = weight_bias_tensor[0]\n",
    "    bias: np.ndarray = weight_bias_tensor[1]\n",
    "\n",
    "    # Initialize an empty list to store sigmoid activation values\n",
    "    sigmoid_tensor: list = []\n",
    "\n",
    "    # Initialize an output tensor with zeros\n",
    "    output_tensor: np.ndarray = np.zeros((size, size_params))\n",
    "\n",
    "    # Perform forward pass for each input data point\n",
    "    for i in range(size):\n",
    "        for j in range(size_params):\n",
    "            output_tensor[i, j] += (data_tensor[i, j] * weights[j])\n",
    "        # Calculate the weighted sum of inputs and add bias\n",
    "        r: np.ndarray = sum(output_tensor[i]) + bias[0]\n",
    "        # Append the sigmoid activation value to the list\n",
    "        sigmoid_tensor.append(np.round(1 / (1 + np.exp(-r)), 3))\n",
    "\n",
    "    return output_tensor, sigmoid_tensor\n"
   ],
   "id": "ce39a4860abeb785",
   "outputs": [],
   "execution_count": 5
  },
  {
   "cell_type": "markdown",
   "source": [
    "2. Функция, в которой все операции реализованы с использованием операций над тензорами из NumPy"
   ],
   "metadata": {
    "collapsed": false
   },
   "id": "19aac9ae7c3995b0"
  },
  {
   "metadata": {
    "ExecuteTime": {
     "end_time": "2024-11-05T16:44:27.658584Z",
     "start_time": "2024-11-05T16:44:27.654427Z"
    }
   },
   "cell_type": "code",
   "source": [
    "def simulate_neural_network_np(data_tensor: np.ndarray, weight_bias_tensor) -> np.ndarray:\n",
    "    \"\"\"\n",
    "    Simulates the neural network by performing forward pass and applying sigmoid activation function.\n",
    "\n",
    "    Args:\n",
    "        data_tensor (np.ndarray): The input tensor to be passed through the neural network.\n",
    "        weight_bias_tensor (tuple[np.ndarray, float]): A tuple containing the weights tensor and bias value of the neural network.\n",
    "\n",
    "    Returns:\n",
    "        np.ndarray: A 2D array containing the output of the sigmoid activation function for each input data point.\n",
    "\n",
    "    Examples:\n",
    "        >>> import numpy as np\n",
    "        >>> data_tensor = np.random.rand(10, 5)\n",
    "        >>> weight_bias_tensor = (np.random.rand(5), 1.0)\n",
    "        >>> sigmoid_tensor = simulate_neural_network_np(data_tensor, weight_bias_tensor)\n",
    "\n",
    "    Notes:\n",
    "        The neural network is assumed to have one layer with the given weights and bias.\n",
    "        The output of the sigmoid activation function is rounded to three decimal places.\n",
    "    \"\"\"\n",
    "    # Perform forward pass by multiplying input data tensor with weights\n",
    "    output_tensor: np.ndarray = data_tensor * weight_bias_tensor[0].reshape(1, -1)\n",
    "\n",
    "    # Extract the bias value from the input tuple\n",
    "    bias: float = weight_bias_tensor[1][0]\n",
    "\n",
    "    # Calculate the weighted sum of inputs and add bias\n",
    "    result: np.ndarray = output_tensor.sum(axis=1).reshape(-1, 1)\n",
    "\n",
    "    # Apply sigmoid activation function to get output values and round them to three decimal places\n",
    "    sigmoid_tensor: np.ndarray = np.array(list(map(lambda r: np.round(1 / (1 + np.exp(-(r + bias))), 3), result)))\n",
    "    \n",
    "    return sigmoid_tensor\n",
    "    "
   ],
   "id": "24554f6cc6df2f2f",
   "outputs": [],
   "execution_count": 6
  },
  {
   "cell_type": "markdown",
   "source": [
    "##### 1. Инициализировали модель и получили из нее веса"
   ],
   "metadata": {
    "collapsed": false
   },
   "id": "b9d9092b5b812856"
  },
  {
   "cell_type": "code",
   "source": "model_logic: Sequential = create_model()",
   "metadata": {
    "collapsed": false,
    "ExecuteTime": {
     "end_time": "2024-11-05T16:44:27.711840Z",
     "start_time": "2024-11-05T16:44:27.659613Z"
    }
   },
   "id": "64ea051939a05bb0",
   "outputs": [
    {
     "data": {
      "text/plain": [
       "\u001B[1mModel: \"sequential\"\u001B[0m\n"
      ],
      "text/html": [
       "<pre style=\"white-space:pre;overflow-x:auto;line-height:normal;font-family:Menlo,'DejaVu Sans Mono',consolas,'Courier New',monospace\"><span style=\"font-weight: bold\">Model: \"sequential\"</span>\n",
       "</pre>\n"
      ]
     },
     "metadata": {},
     "output_type": "display_data"
    },
    {
     "data": {
      "text/plain": [
       "┏━━━━━━━━━━━━━━━━━━━━━━━━━━━━━━━━━┳━━━━━━━━━━━━━━━━━━━━━━━━┳━━━━━━━━━━━━━━━┓\n",
       "┃\u001B[1m \u001B[0m\u001B[1mLayer (type)                   \u001B[0m\u001B[1m \u001B[0m┃\u001B[1m \u001B[0m\u001B[1mOutput Shape          \u001B[0m\u001B[1m \u001B[0m┃\u001B[1m \u001B[0m\u001B[1m      Param #\u001B[0m\u001B[1m \u001B[0m┃\n",
       "┡━━━━━━━━━━━━━━━━━━━━━━━━━━━━━━━━━╇━━━━━━━━━━━━━━━━━━━━━━━━╇━━━━━━━━━━━━━━━┩\n",
       "│ output (\u001B[38;5;33mDense\u001B[0m)                  │ (\u001B[38;5;45mNone\u001B[0m, \u001B[38;5;34m1\u001B[0m)              │             \u001B[38;5;34m4\u001B[0m │\n",
       "└─────────────────────────────────┴────────────────────────┴───────────────┘\n"
      ],
      "text/html": [
       "<pre style=\"white-space:pre;overflow-x:auto;line-height:normal;font-family:Menlo,'DejaVu Sans Mono',consolas,'Courier New',monospace\">┏━━━━━━━━━━━━━━━━━━━━━━━━━━━━━━━━━┳━━━━━━━━━━━━━━━━━━━━━━━━┳━━━━━━━━━━━━━━━┓\n",
       "┃<span style=\"font-weight: bold\"> Layer (type)                    </span>┃<span style=\"font-weight: bold\"> Output Shape           </span>┃<span style=\"font-weight: bold\">       Param # </span>┃\n",
       "┡━━━━━━━━━━━━━━━━━━━━━━━━━━━━━━━━━╇━━━━━━━━━━━━━━━━━━━━━━━━╇━━━━━━━━━━━━━━━┩\n",
       "│ output (<span style=\"color: #0087ff; text-decoration-color: #0087ff\">Dense</span>)                  │ (<span style=\"color: #00d7ff; text-decoration-color: #00d7ff\">None</span>, <span style=\"color: #00af00; text-decoration-color: #00af00\">1</span>)              │             <span style=\"color: #00af00; text-decoration-color: #00af00\">4</span> │\n",
       "└─────────────────────────────────┴────────────────────────┴───────────────┘\n",
       "</pre>\n"
      ]
     },
     "metadata": {},
     "output_type": "display_data"
    },
    {
     "data": {
      "text/plain": [
       "\u001B[1m Total params: \u001B[0m\u001B[38;5;34m4\u001B[0m (16.00 B)\n"
      ],
      "text/html": [
       "<pre style=\"white-space:pre;overflow-x:auto;line-height:normal;font-family:Menlo,'DejaVu Sans Mono',consolas,'Courier New',monospace\"><span style=\"font-weight: bold\"> Total params: </span><span style=\"color: #00af00; text-decoration-color: #00af00\">4</span> (16.00 B)\n",
       "</pre>\n"
      ]
     },
     "metadata": {},
     "output_type": "display_data"
    },
    {
     "data": {
      "text/plain": [
       "\u001B[1m Trainable params: \u001B[0m\u001B[38;5;34m4\u001B[0m (16.00 B)\n"
      ],
      "text/html": [
       "<pre style=\"white-space:pre;overflow-x:auto;line-height:normal;font-family:Menlo,'DejaVu Sans Mono',consolas,'Courier New',monospace\"><span style=\"font-weight: bold\"> Trainable params: </span><span style=\"color: #00af00; text-decoration-color: #00af00\">4</span> (16.00 B)\n",
       "</pre>\n"
      ]
     },
     "metadata": {},
     "output_type": "display_data"
    },
    {
     "data": {
      "text/plain": [
       "\u001B[1m Non-trainable params: \u001B[0m\u001B[38;5;34m0\u001B[0m (0.00 B)\n"
      ],
      "text/html": [
       "<pre style=\"white-space:pre;overflow-x:auto;line-height:normal;font-family:Menlo,'DejaVu Sans Mono',consolas,'Courier New',monospace\"><span style=\"font-weight: bold\"> Non-trainable params: </span><span style=\"color: #00af00; text-decoration-color: #00af00\">0</span> (0.00 B)\n",
       "</pre>\n"
      ]
     },
     "metadata": {},
     "output_type": "display_data"
    }
   ],
   "execution_count": 7
  },
  {
   "cell_type": "code",
   "source": [
    "weights_tensor: np.ndarray = model_logic.get_layer('output').get_weights()\n",
    "weights_tensor"
   ],
   "metadata": {
    "collapsed": false,
    "ExecuteTime": {
     "end_time": "2024-11-05T16:44:27.721982Z",
     "start_time": "2024-11-05T16:44:27.712548Z"
    }
   },
   "id": "26535715dcaa9a3",
   "outputs": [
    {
     "data": {
      "text/plain": [
       "[array([[1.0692016 ],\n",
       "        [0.10062623],\n",
       "        [0.58711576]], dtype=float32),\n",
       " array([0.], dtype=float32)]"
      ]
     },
     "execution_count": 8,
     "metadata": {},
     "output_type": "execute_result"
    }
   ],
   "execution_count": 8
  },
  {
   "cell_type": "markdown",
   "source": [
    "##### 2. Прогнать датасет через не обученную модель и реализованные 2 функции. Сравнить результат."
   ],
   "metadata": {
    "collapsed": false
   },
   "id": "53cd9863065d1811"
  },
  {
   "cell_type": "code",
   "source": [
    "data_tensor_np: np.ndarray = X.values"
   ],
   "metadata": {
    "collapsed": false,
    "ExecuteTime": {
     "end_time": "2024-11-05T16:44:27.725157Z",
     "start_time": "2024-11-05T16:44:27.721982Z"
    }
   },
   "id": "ea6baa0de57db39c",
   "outputs": [],
   "execution_count": 9
  },
  {
   "cell_type": "code",
   "source": [
    "output_tensor, sigmoid = simulate_neural_network(data_tensor_np, weights_tensor)\n",
    "output_tensor_np = simulate_neural_network_np(data_tensor_np, weights_tensor)"
   ],
   "metadata": {
    "collapsed": false,
    "ExecuteTime": {
     "end_time": "2024-11-05T16:44:27.730184Z",
     "start_time": "2024-11-05T16:44:27.727164Z"
    }
   },
   "id": "f5ea759abc1419e1",
   "outputs": [],
   "execution_count": 10
  },
  {
   "metadata": {
    "ExecuteTime": {
     "end_time": "2024-11-05T16:44:27.735805Z",
     "start_time": "2024-11-05T16:44:27.731193Z"
    }
   },
   "cell_type": "code",
   "source": [
    "print(\"Входные данные:\")\n",
    "print(data_tensor_np)\n",
    "print(\"\\nТензор весов:\")\n",
    "print(weights_tensor)\n",
    "print(\"\\nВыход после симуляции:\")\n",
    "print(output_tensor)\n",
    "print(\"\\nВыход sigmoid:\")\n",
    "print(np.array(sigmoid).reshape(-1, 1))\n",
    "print(\"\\nВыход sigmoid после симуляции NP:\")\n",
    "print(output_tensor_np)"
   ],
   "id": "9c4f82aa46560b6",
   "outputs": [
    {
     "name": "stdout",
     "output_type": "stream",
     "text": [
      "Входные данные:\n",
      "[[0 0 0]\n",
      " [0 0 1]\n",
      " [0 1 0]\n",
      " [0 1 1]\n",
      " [1 0 0]\n",
      " [1 0 1]\n",
      " [1 1 0]\n",
      " [1 1 1]]\n",
      "\n",
      "Тензор весов:\n",
      "[array([[1.0692016 ],\n",
      "       [0.10062623],\n",
      "       [0.58711576]], dtype=float32), array([0.], dtype=float32)]\n",
      "\n",
      "Выход после симуляции:\n",
      "[[0.         0.         0.        ]\n",
      " [0.         0.         0.58711576]\n",
      " [0.         0.10062623 0.        ]\n",
      " [0.         0.10062623 0.58711576]\n",
      " [1.06920159 0.         0.        ]\n",
      " [1.06920159 0.         0.58711576]\n",
      " [1.06920159 0.10062623 0.        ]\n",
      " [1.06920159 0.10062623 0.58711576]]\n",
      "\n",
      "Выход sigmoid:\n",
      "[[0.5  ]\n",
      " [0.643]\n",
      " [0.525]\n",
      " [0.665]\n",
      " [0.744]\n",
      " [0.84 ]\n",
      " [0.763]\n",
      " [0.853]]\n",
      "\n",
      "Выход sigmoid после симуляции NP:\n",
      "[[0.5  ]\n",
      " [0.643]\n",
      " [0.525]\n",
      " [0.665]\n",
      " [0.744]\n",
      " [0.84 ]\n",
      " [0.763]\n",
      " [0.853]]\n"
     ]
    }
   ],
   "execution_count": 11
  },
  {
   "cell_type": "code",
   "source": "predictions = model_logic.predict(X)",
   "metadata": {
    "collapsed": false,
    "ExecuteTime": {
     "end_time": "2024-11-05T16:44:27.822171Z",
     "start_time": "2024-11-05T16:44:27.736814Z"
    }
   },
   "id": "b8b457f3c9b79a9e",
   "outputs": [
    {
     "name": "stdout",
     "output_type": "stream",
     "text": [
      "\u001B[1m1/1\u001B[0m \u001B[32m━━━━━━━━━━━━━━━━━━━━\u001B[0m\u001B[37m\u001B[0m \u001B[1m0s\u001B[0m 43ms/step\n"
     ]
    }
   ],
   "execution_count": 12
  },
  {
   "metadata": {
    "ExecuteTime": {
     "end_time": "2024-11-05T16:44:27.828232Z",
     "start_time": "2024-11-05T16:44:27.823178Z"
    }
   },
   "cell_type": "code",
   "source": "predictions",
   "id": "1e9147481496ede5",
   "outputs": [
    {
     "data": {
      "text/plain": [
       "array([[0.5       ],\n",
       "       [0.6427031 ],\n",
       "       [0.52513534],\n",
       "       [0.6654644 ],\n",
       "       [0.744445  ],\n",
       "       [0.839743  ],\n",
       "       [0.76311386],\n",
       "       [0.8528265 ]], dtype=float32)"
      ]
     },
     "execution_count": 13,
     "metadata": {},
     "output_type": "execute_result"
    }
   ],
   "execution_count": 13
  },
  {
   "metadata": {
    "ExecuteTime": {
     "end_time": "2024-11-05T16:44:27.832700Z",
     "start_time": "2024-11-05T16:44:27.829237Z"
    }
   },
   "cell_type": "code",
   "source": "predictions - output_tensor_np",
   "id": "978fc594bccfb7d8",
   "outputs": [
    {
     "data": {
      "text/plain": [
       "array([[ 0.        ],\n",
       "       [-0.00029688],\n",
       "       [ 0.00013534],\n",
       "       [ 0.0004644 ],\n",
       "       [ 0.00044503],\n",
       "       [-0.00025698],\n",
       "       [ 0.00011386],\n",
       "       [-0.00017352]])"
      ]
     },
     "execution_count": 14,
     "metadata": {},
     "output_type": "execute_result"
    }
   ],
   "execution_count": 14
  },
  {
   "metadata": {
    "ExecuteTime": {
     "end_time": "2024-11-05T16:44:27.839211Z",
     "start_time": "2024-11-05T16:44:27.833706Z"
    }
   },
   "cell_type": "code",
   "source": "predictions - np.array(sigmoid).reshape(-1, 1)",
   "id": "1ccfdfe1f4d2ccf1",
   "outputs": [
    {
     "data": {
      "text/plain": [
       "array([[ 0.        ],\n",
       "       [-0.00029688],\n",
       "       [ 0.00013534],\n",
       "       [ 0.0004644 ],\n",
       "       [ 0.00044503],\n",
       "       [-0.00025698],\n",
       "       [ 0.00011386],\n",
       "       [-0.00017352]])"
      ]
     },
     "execution_count": 15,
     "metadata": {},
     "output_type": "execute_result"
    }
   ],
   "execution_count": 15
  },
  {
   "cell_type": "markdown",
   "source": "По результатам предсказания функций и модели  совпадают (одинаковые веса), отличаются из-за того что присутствует округление",
   "metadata": {
    "collapsed": false
   },
   "id": "d21b8e656bcd5d4c"
  },
  {
   "metadata": {},
   "cell_type": "markdown",
   "source": "##### 3. Обучить модель и получить веса после обучения",
   "id": "bdbe4e46819f3b02"
  },
  {
   "metadata": {
    "ExecuteTime": {
     "end_time": "2024-11-05T16:44:32.335604Z",
     "start_time": "2024-11-05T16:44:27.840219Z"
    }
   },
   "cell_type": "code",
   "source": "learn_model: Sequential = create_error_report(model_logic)",
   "id": "bda96c47d21c03bb",
   "outputs": [
    {
     "name": "stdout",
     "output_type": "stream",
     "text": [
      "Epoch 1/100\n",
      "\u001B[1m1/1\u001B[0m \u001B[32m━━━━━━━━━━━━━━━━━━━━\u001B[0m\u001B[37m\u001B[0m \u001B[1m1s\u001B[0m 518ms/step - accuracy: 0.5000 - loss: 0.8334 - val_accuracy: 0.0000e+00 - val_loss: 1.6753\n",
      "Epoch 2/100\n",
      "\u001B[1m1/1\u001B[0m \u001B[32m━━━━━━━━━━━━━━━━━━━━\u001B[0m\u001B[37m\u001B[0m \u001B[1m0s\u001B[0m 35ms/step - accuracy: 0.5000 - loss: 0.8328 - val_accuracy: 0.0000e+00 - val_loss: 1.6725\n",
      "Epoch 3/100\n",
      "\u001B[1m1/1\u001B[0m \u001B[32m━━━━━━━━━━━━━━━━━━━━\u001B[0m\u001B[37m\u001B[0m \u001B[1m0s\u001B[0m 36ms/step - accuracy: 0.5000 - loss: 0.8321 - val_accuracy: 0.0000e+00 - val_loss: 1.6696\n",
      "Epoch 4/100\n",
      "\u001B[1m1/1\u001B[0m \u001B[32m━━━━━━━━━━━━━━━━━━━━\u001B[0m\u001B[37m\u001B[0m \u001B[1m0s\u001B[0m 36ms/step - accuracy: 0.5000 - loss: 0.8315 - val_accuracy: 0.0000e+00 - val_loss: 1.6668\n",
      "Epoch 5/100\n",
      "\u001B[1m1/1\u001B[0m \u001B[32m━━━━━━━━━━━━━━━━━━━━\u001B[0m\u001B[37m\u001B[0m \u001B[1m0s\u001B[0m 36ms/step - accuracy: 0.5000 - loss: 0.8309 - val_accuracy: 0.0000e+00 - val_loss: 1.6639\n",
      "Epoch 6/100\n",
      "\u001B[1m1/1\u001B[0m \u001B[32m━━━━━━━━━━━━━━━━━━━━\u001B[0m\u001B[37m\u001B[0m \u001B[1m0s\u001B[0m 36ms/step - accuracy: 0.5000 - loss: 0.8302 - val_accuracy: 0.0000e+00 - val_loss: 1.6611\n",
      "Epoch 7/100\n",
      "\u001B[1m1/1\u001B[0m \u001B[32m━━━━━━━━━━━━━━━━━━━━\u001B[0m\u001B[37m\u001B[0m \u001B[1m0s\u001B[0m 36ms/step - accuracy: 0.5000 - loss: 0.8296 - val_accuracy: 0.0000e+00 - val_loss: 1.6583\n",
      "Epoch 8/100\n",
      "\u001B[1m1/1\u001B[0m \u001B[32m━━━━━━━━━━━━━━━━━━━━\u001B[0m\u001B[37m\u001B[0m \u001B[1m0s\u001B[0m 38ms/step - accuracy: 0.5000 - loss: 0.8290 - val_accuracy: 0.0000e+00 - val_loss: 1.6554\n",
      "Epoch 9/100\n",
      "\u001B[1m1/1\u001B[0m \u001B[32m━━━━━━━━━━━━━━━━━━━━\u001B[0m\u001B[37m\u001B[0m \u001B[1m0s\u001B[0m 42ms/step - accuracy: 0.5000 - loss: 0.8283 - val_accuracy: 0.0000e+00 - val_loss: 1.6526\n",
      "Epoch 10/100\n",
      "\u001B[1m1/1\u001B[0m \u001B[32m━━━━━━━━━━━━━━━━━━━━\u001B[0m\u001B[37m\u001B[0m \u001B[1m0s\u001B[0m 37ms/step - accuracy: 0.5000 - loss: 0.8277 - val_accuracy: 0.0000e+00 - val_loss: 1.6498\n",
      "Epoch 11/100\n",
      "\u001B[1m1/1\u001B[0m \u001B[32m━━━━━━━━━━━━━━━━━━━━\u001B[0m\u001B[37m\u001B[0m \u001B[1m0s\u001B[0m 35ms/step - accuracy: 0.5000 - loss: 0.8271 - val_accuracy: 0.0000e+00 - val_loss: 1.6470\n",
      "Epoch 12/100\n",
      "\u001B[1m1/1\u001B[0m \u001B[32m━━━━━━━━━━━━━━━━━━━━\u001B[0m\u001B[37m\u001B[0m \u001B[1m0s\u001B[0m 35ms/step - accuracy: 0.5000 - loss: 0.8264 - val_accuracy: 0.0000e+00 - val_loss: 1.6441\n",
      "Epoch 13/100\n",
      "\u001B[1m1/1\u001B[0m \u001B[32m━━━━━━━━━━━━━━━━━━━━\u001B[0m\u001B[37m\u001B[0m \u001B[1m0s\u001B[0m 41ms/step - accuracy: 0.5000 - loss: 0.8258 - val_accuracy: 0.0000e+00 - val_loss: 1.6413\n",
      "Epoch 14/100\n",
      "\u001B[1m1/1\u001B[0m \u001B[32m━━━━━━━━━━━━━━━━━━━━\u001B[0m\u001B[37m\u001B[0m \u001B[1m0s\u001B[0m 37ms/step - accuracy: 0.5000 - loss: 0.8252 - val_accuracy: 0.0000e+00 - val_loss: 1.6385\n",
      "Epoch 15/100\n",
      "\u001B[1m1/1\u001B[0m \u001B[32m━━━━━━━━━━━━━━━━━━━━\u001B[0m\u001B[37m\u001B[0m \u001B[1m0s\u001B[0m 36ms/step - accuracy: 0.5000 - loss: 0.8246 - val_accuracy: 0.0000e+00 - val_loss: 1.6357\n",
      "Epoch 16/100\n",
      "\u001B[1m1/1\u001B[0m \u001B[32m━━━━━━━━━━━━━━━━━━━━\u001B[0m\u001B[37m\u001B[0m \u001B[1m0s\u001B[0m 36ms/step - accuracy: 0.5000 - loss: 0.8239 - val_accuracy: 0.0000e+00 - val_loss: 1.6329\n",
      "Epoch 17/100\n",
      "\u001B[1m1/1\u001B[0m \u001B[32m━━━━━━━━━━━━━━━━━━━━\u001B[0m\u001B[37m\u001B[0m \u001B[1m0s\u001B[0m 35ms/step - accuracy: 0.5000 - loss: 0.8233 - val_accuracy: 0.0000e+00 - val_loss: 1.6301\n",
      "Epoch 18/100\n",
      "\u001B[1m1/1\u001B[0m \u001B[32m━━━━━━━━━━━━━━━━━━━━\u001B[0m\u001B[37m\u001B[0m \u001B[1m0s\u001B[0m 35ms/step - accuracy: 0.5000 - loss: 0.8227 - val_accuracy: 0.0000e+00 - val_loss: 1.6273\n",
      "Epoch 19/100\n",
      "\u001B[1m1/1\u001B[0m \u001B[32m━━━━━━━━━━━━━━━━━━━━\u001B[0m\u001B[37m\u001B[0m \u001B[1m0s\u001B[0m 37ms/step - accuracy: 0.5000 - loss: 0.8221 - val_accuracy: 0.0000e+00 - val_loss: 1.6245\n",
      "Epoch 20/100\n",
      "\u001B[1m1/1\u001B[0m \u001B[32m━━━━━━━━━━━━━━━━━━━━\u001B[0m\u001B[37m\u001B[0m \u001B[1m0s\u001B[0m 35ms/step - accuracy: 0.5000 - loss: 0.8215 - val_accuracy: 0.0000e+00 - val_loss: 1.6217\n",
      "Epoch 21/100\n",
      "\u001B[1m1/1\u001B[0m \u001B[32m━━━━━━━━━━━━━━━━━━━━\u001B[0m\u001B[37m\u001B[0m \u001B[1m0s\u001B[0m 37ms/step - accuracy: 0.5000 - loss: 0.8208 - val_accuracy: 0.0000e+00 - val_loss: 1.6189\n",
      "Epoch 22/100\n",
      "\u001B[1m1/1\u001B[0m \u001B[32m━━━━━━━━━━━━━━━━━━━━\u001B[0m\u001B[37m\u001B[0m \u001B[1m0s\u001B[0m 35ms/step - accuracy: 0.5000 - loss: 0.8202 - val_accuracy: 0.0000e+00 - val_loss: 1.6162\n",
      "Epoch 23/100\n",
      "\u001B[1m1/1\u001B[0m \u001B[32m━━━━━━━━━━━━━━━━━━━━\u001B[0m\u001B[37m\u001B[0m \u001B[1m0s\u001B[0m 36ms/step - accuracy: 0.5000 - loss: 0.8196 - val_accuracy: 0.0000e+00 - val_loss: 1.6134\n",
      "Epoch 24/100\n",
      "\u001B[1m1/1\u001B[0m \u001B[32m━━━━━━━━━━━━━━━━━━━━\u001B[0m\u001B[37m\u001B[0m \u001B[1m0s\u001B[0m 37ms/step - accuracy: 0.5000 - loss: 0.8190 - val_accuracy: 0.0000e+00 - val_loss: 1.6106\n",
      "Epoch 25/100\n",
      "\u001B[1m1/1\u001B[0m \u001B[32m━━━━━━━━━━━━━━━━━━━━\u001B[0m\u001B[37m\u001B[0m \u001B[1m0s\u001B[0m 38ms/step - accuracy: 0.5000 - loss: 0.8184 - val_accuracy: 0.0000e+00 - val_loss: 1.6078\n",
      "Epoch 26/100\n",
      "\u001B[1m1/1\u001B[0m \u001B[32m━━━━━━━━━━━━━━━━━━━━\u001B[0m\u001B[37m\u001B[0m \u001B[1m0s\u001B[0m 41ms/step - accuracy: 0.5000 - loss: 0.8178 - val_accuracy: 0.0000e+00 - val_loss: 1.6051\n",
      "Epoch 27/100\n",
      "\u001B[1m1/1\u001B[0m \u001B[32m━━━━━━━━━━━━━━━━━━━━\u001B[0m\u001B[37m\u001B[0m \u001B[1m0s\u001B[0m 38ms/step - accuracy: 0.5000 - loss: 0.8172 - val_accuracy: 0.0000e+00 - val_loss: 1.6023\n",
      "Epoch 28/100\n",
      "\u001B[1m1/1\u001B[0m \u001B[32m━━━━━━━━━━━━━━━━━━━━\u001B[0m\u001B[37m\u001B[0m \u001B[1m0s\u001B[0m 34ms/step - accuracy: 0.5000 - loss: 0.8166 - val_accuracy: 0.0000e+00 - val_loss: 1.5996\n",
      "Epoch 29/100\n",
      "\u001B[1m1/1\u001B[0m \u001B[32m━━━━━━━━━━━━━━━━━━━━\u001B[0m\u001B[37m\u001B[0m \u001B[1m0s\u001B[0m 36ms/step - accuracy: 0.5000 - loss: 0.8159 - val_accuracy: 0.0000e+00 - val_loss: 1.5968\n",
      "Epoch 30/100\n",
      "\u001B[1m1/1\u001B[0m \u001B[32m━━━━━━━━━━━━━━━━━━━━\u001B[0m\u001B[37m\u001B[0m \u001B[1m0s\u001B[0m 37ms/step - accuracy: 0.5000 - loss: 0.8153 - val_accuracy: 0.0000e+00 - val_loss: 1.5941\n",
      "Epoch 31/100\n",
      "\u001B[1m1/1\u001B[0m \u001B[32m━━━━━━━━━━━━━━━━━━━━\u001B[0m\u001B[37m\u001B[0m \u001B[1m0s\u001B[0m 37ms/step - accuracy: 0.5000 - loss: 0.8147 - val_accuracy: 0.0000e+00 - val_loss: 1.5914\n",
      "Epoch 32/100\n",
      "\u001B[1m1/1\u001B[0m \u001B[32m━━━━━━━━━━━━━━━━━━━━\u001B[0m\u001B[37m\u001B[0m \u001B[1m0s\u001B[0m 35ms/step - accuracy: 0.5000 - loss: 0.8141 - val_accuracy: 0.0000e+00 - val_loss: 1.5886\n",
      "Epoch 33/100\n",
      "\u001B[1m1/1\u001B[0m \u001B[32m━━━━━━━━━━━━━━━━━━━━\u001B[0m\u001B[37m\u001B[0m \u001B[1m0s\u001B[0m 35ms/step - accuracy: 0.5000 - loss: 0.8135 - val_accuracy: 0.0000e+00 - val_loss: 1.5859\n",
      "Epoch 34/100\n",
      "\u001B[1m1/1\u001B[0m \u001B[32m━━━━━━━━━━━━━━━━━━━━\u001B[0m\u001B[37m\u001B[0m \u001B[1m0s\u001B[0m 35ms/step - accuracy: 0.5000 - loss: 0.8129 - val_accuracy: 0.0000e+00 - val_loss: 1.5832\n",
      "Epoch 35/100\n",
      "\u001B[1m1/1\u001B[0m \u001B[32m━━━━━━━━━━━━━━━━━━━━\u001B[0m\u001B[37m\u001B[0m \u001B[1m0s\u001B[0m 36ms/step - accuracy: 0.5000 - loss: 0.8123 - val_accuracy: 0.0000e+00 - val_loss: 1.5805\n",
      "Epoch 36/100\n",
      "\u001B[1m1/1\u001B[0m \u001B[32m━━━━━━━━━━━━━━━━━━━━\u001B[0m\u001B[37m\u001B[0m \u001B[1m0s\u001B[0m 39ms/step - accuracy: 0.5000 - loss: 0.8118 - val_accuracy: 0.0000e+00 - val_loss: 1.5778\n",
      "Epoch 37/100\n",
      "\u001B[1m1/1\u001B[0m \u001B[32m━━━━━━━━━━━━━━━━━━━━\u001B[0m\u001B[37m\u001B[0m \u001B[1m0s\u001B[0m 41ms/step - accuracy: 0.5000 - loss: 0.8112 - val_accuracy: 0.0000e+00 - val_loss: 1.5751\n",
      "Epoch 38/100\n",
      "\u001B[1m1/1\u001B[0m \u001B[32m━━━━━━━━━━━━━━━━━━━━\u001B[0m\u001B[37m\u001B[0m \u001B[1m0s\u001B[0m 41ms/step - accuracy: 0.5000 - loss: 0.8106 - val_accuracy: 0.0000e+00 - val_loss: 1.5724\n",
      "Epoch 39/100\n",
      "\u001B[1m1/1\u001B[0m \u001B[32m━━━━━━━━━━━━━━━━━━━━\u001B[0m\u001B[37m\u001B[0m \u001B[1m0s\u001B[0m 38ms/step - accuracy: 0.5000 - loss: 0.8100 - val_accuracy: 0.0000e+00 - val_loss: 1.5697\n",
      "Epoch 40/100\n",
      "\u001B[1m1/1\u001B[0m \u001B[32m━━━━━━━━━━━━━━━━━━━━\u001B[0m\u001B[37m\u001B[0m \u001B[1m0s\u001B[0m 35ms/step - accuracy: 0.5000 - loss: 0.8094 - val_accuracy: 0.0000e+00 - val_loss: 1.5670\n",
      "Epoch 41/100\n",
      "\u001B[1m1/1\u001B[0m \u001B[32m━━━━━━━━━━━━━━━━━━━━\u001B[0m\u001B[37m\u001B[0m \u001B[1m0s\u001B[0m 36ms/step - accuracy: 0.5000 - loss: 0.8088 - val_accuracy: 0.0000e+00 - val_loss: 1.5643\n",
      "Epoch 42/100\n",
      "\u001B[1m1/1\u001B[0m \u001B[32m━━━━━━━━━━━━━━━━━━━━\u001B[0m\u001B[37m\u001B[0m \u001B[1m0s\u001B[0m 38ms/step - accuracy: 0.5000 - loss: 0.8082 - val_accuracy: 0.0000e+00 - val_loss: 1.5617\n",
      "Epoch 43/100\n",
      "\u001B[1m1/1\u001B[0m \u001B[32m━━━━━━━━━━━━━━━━━━━━\u001B[0m\u001B[37m\u001B[0m \u001B[1m0s\u001B[0m 37ms/step - accuracy: 0.5000 - loss: 0.8076 - val_accuracy: 0.0000e+00 - val_loss: 1.5590\n",
      "Epoch 44/100\n",
      "\u001B[1m1/1\u001B[0m \u001B[32m━━━━━━━━━━━━━━━━━━━━\u001B[0m\u001B[37m\u001B[0m \u001B[1m0s\u001B[0m 37ms/step - accuracy: 0.5000 - loss: 0.8070 - val_accuracy: 0.0000e+00 - val_loss: 1.5563\n",
      "Epoch 45/100\n",
      "\u001B[1m1/1\u001B[0m \u001B[32m━━━━━━━━━━━━━━━━━━━━\u001B[0m\u001B[37m\u001B[0m \u001B[1m0s\u001B[0m 36ms/step - accuracy: 0.5000 - loss: 0.8065 - val_accuracy: 0.0000e+00 - val_loss: 1.5537\n",
      "Epoch 46/100\n",
      "\u001B[1m1/1\u001B[0m \u001B[32m━━━━━━━━━━━━━━━━━━━━\u001B[0m\u001B[37m\u001B[0m \u001B[1m0s\u001B[0m 34ms/step - accuracy: 0.5000 - loss: 0.8059 - val_accuracy: 0.0000e+00 - val_loss: 1.5510\n",
      "Epoch 47/100\n",
      "\u001B[1m1/1\u001B[0m \u001B[32m━━━━━━━━━━━━━━━━━━━━\u001B[0m\u001B[37m\u001B[0m \u001B[1m0s\u001B[0m 38ms/step - accuracy: 0.5000 - loss: 0.8053 - val_accuracy: 0.0000e+00 - val_loss: 1.5484\n",
      "Epoch 48/100\n",
      "\u001B[1m1/1\u001B[0m \u001B[32m━━━━━━━━━━━━━━━━━━━━\u001B[0m\u001B[37m\u001B[0m \u001B[1m0s\u001B[0m 38ms/step - accuracy: 0.5000 - loss: 0.8047 - val_accuracy: 0.0000e+00 - val_loss: 1.5458\n",
      "Epoch 49/100\n",
      "\u001B[1m1/1\u001B[0m \u001B[32m━━━━━━━━━━━━━━━━━━━━\u001B[0m\u001B[37m\u001B[0m \u001B[1m0s\u001B[0m 37ms/step - accuracy: 0.5000 - loss: 0.8041 - val_accuracy: 0.0000e+00 - val_loss: 1.5431\n",
      "Epoch 50/100\n",
      "\u001B[1m1/1\u001B[0m \u001B[32m━━━━━━━━━━━━━━━━━━━━\u001B[0m\u001B[37m\u001B[0m \u001B[1m0s\u001B[0m 57ms/step - accuracy: 0.5000 - loss: 0.8036 - val_accuracy: 0.0000e+00 - val_loss: 1.5405\n",
      "Epoch 51/100\n",
      "\u001B[1m1/1\u001B[0m \u001B[32m━━━━━━━━━━━━━━━━━━━━\u001B[0m\u001B[37m\u001B[0m \u001B[1m0s\u001B[0m 37ms/step - accuracy: 0.5000 - loss: 0.8030 - val_accuracy: 0.0000e+00 - val_loss: 1.5379\n",
      "Epoch 52/100\n",
      "\u001B[1m1/1\u001B[0m \u001B[32m━━━━━━━━━━━━━━━━━━━━\u001B[0m\u001B[37m\u001B[0m \u001B[1m0s\u001B[0m 36ms/step - accuracy: 0.5000 - loss: 0.8024 - val_accuracy: 0.0000e+00 - val_loss: 1.5353\n",
      "Epoch 53/100\n",
      "\u001B[1m1/1\u001B[0m \u001B[32m━━━━━━━━━━━━━━━━━━━━\u001B[0m\u001B[37m\u001B[0m \u001B[1m0s\u001B[0m 36ms/step - accuracy: 0.3333 - loss: 0.8018 - val_accuracy: 0.0000e+00 - val_loss: 1.5327\n",
      "Epoch 54/100\n",
      "\u001B[1m1/1\u001B[0m \u001B[32m━━━━━━━━━━━━━━━━━━━━\u001B[0m\u001B[37m\u001B[0m \u001B[1m0s\u001B[0m 38ms/step - accuracy: 0.3333 - loss: 0.8013 - val_accuracy: 0.0000e+00 - val_loss: 1.5301\n",
      "Epoch 55/100\n",
      "\u001B[1m1/1\u001B[0m \u001B[32m━━━━━━━━━━━━━━━━━━━━\u001B[0m\u001B[37m\u001B[0m \u001B[1m0s\u001B[0m 36ms/step - accuracy: 0.3333 - loss: 0.8007 - val_accuracy: 0.0000e+00 - val_loss: 1.5275\n",
      "Epoch 56/100\n",
      "\u001B[1m1/1\u001B[0m \u001B[32m━━━━━━━━━━━━━━━━━━━━\u001B[0m\u001B[37m\u001B[0m \u001B[1m0s\u001B[0m 38ms/step - accuracy: 0.3333 - loss: 0.8001 - val_accuracy: 0.0000e+00 - val_loss: 1.5249\n",
      "Epoch 57/100\n",
      "\u001B[1m1/1\u001B[0m \u001B[32m━━━━━━━━━━━━━━━━━━━━\u001B[0m\u001B[37m\u001B[0m \u001B[1m0s\u001B[0m 37ms/step - accuracy: 0.3333 - loss: 0.7996 - val_accuracy: 0.0000e+00 - val_loss: 1.5223\n",
      "Epoch 58/100\n",
      "\u001B[1m1/1\u001B[0m \u001B[32m━━━━━━━━━━━━━━━━━━━━\u001B[0m\u001B[37m\u001B[0m \u001B[1m0s\u001B[0m 35ms/step - accuracy: 0.3333 - loss: 0.7990 - val_accuracy: 0.0000e+00 - val_loss: 1.5198\n",
      "Epoch 59/100\n",
      "\u001B[1m1/1\u001B[0m \u001B[32m━━━━━━━━━━━━━━━━━━━━\u001B[0m\u001B[37m\u001B[0m \u001B[1m0s\u001B[0m 37ms/step - accuracy: 0.3333 - loss: 0.7985 - val_accuracy: 0.0000e+00 - val_loss: 1.5172\n",
      "Epoch 60/100\n",
      "\u001B[1m1/1\u001B[0m \u001B[32m━━━━━━━━━━━━━━━━━━━━\u001B[0m\u001B[37m\u001B[0m \u001B[1m0s\u001B[0m 35ms/step - accuracy: 0.3333 - loss: 0.7979 - val_accuracy: 0.0000e+00 - val_loss: 1.5146\n",
      "Epoch 61/100\n",
      "\u001B[1m1/1\u001B[0m \u001B[32m━━━━━━━━━━━━━━━━━━━━\u001B[0m\u001B[37m\u001B[0m \u001B[1m0s\u001B[0m 37ms/step - accuracy: 0.3333 - loss: 0.7973 - val_accuracy: 0.0000e+00 - val_loss: 1.5121\n",
      "Epoch 62/100\n",
      "\u001B[1m1/1\u001B[0m \u001B[32m━━━━━━━━━━━━━━━━━━━━\u001B[0m\u001B[37m\u001B[0m \u001B[1m0s\u001B[0m 35ms/step - accuracy: 0.3333 - loss: 0.7968 - val_accuracy: 0.0000e+00 - val_loss: 1.5095\n",
      "Epoch 63/100\n",
      "\u001B[1m1/1\u001B[0m \u001B[32m━━━━━━━━━━━━━━━━━━━━\u001B[0m\u001B[37m\u001B[0m \u001B[1m0s\u001B[0m 50ms/step - accuracy: 0.3333 - loss: 0.7962 - val_accuracy: 0.0000e+00 - val_loss: 1.5070\n",
      "Epoch 64/100\n",
      "\u001B[1m1/1\u001B[0m \u001B[32m━━━━━━━━━━━━━━━━━━━━\u001B[0m\u001B[37m\u001B[0m \u001B[1m0s\u001B[0m 37ms/step - accuracy: 0.3333 - loss: 0.7957 - val_accuracy: 0.0000e+00 - val_loss: 1.5045\n",
      "Epoch 65/100\n",
      "\u001B[1m1/1\u001B[0m \u001B[32m━━━━━━━━━━━━━━━━━━━━\u001B[0m\u001B[37m\u001B[0m \u001B[1m0s\u001B[0m 36ms/step - accuracy: 0.3333 - loss: 0.7951 - val_accuracy: 0.0000e+00 - val_loss: 1.5019\n",
      "Epoch 66/100\n",
      "\u001B[1m1/1\u001B[0m \u001B[32m━━━━━━━━━━━━━━━━━━━━\u001B[0m\u001B[37m\u001B[0m \u001B[1m0s\u001B[0m 36ms/step - accuracy: 0.3333 - loss: 0.7946 - val_accuracy: 0.0000e+00 - val_loss: 1.4994\n",
      "Epoch 67/100\n",
      "\u001B[1m1/1\u001B[0m \u001B[32m━━━━━━━━━━━━━━━━━━━━\u001B[0m\u001B[37m\u001B[0m \u001B[1m0s\u001B[0m 37ms/step - accuracy: 0.3333 - loss: 0.7940 - val_accuracy: 0.0000e+00 - val_loss: 1.4969\n",
      "Epoch 68/100\n",
      "\u001B[1m1/1\u001B[0m \u001B[32m━━━━━━━━━━━━━━━━━━━━\u001B[0m\u001B[37m\u001B[0m \u001B[1m0s\u001B[0m 38ms/step - accuracy: 0.3333 - loss: 0.7935 - val_accuracy: 0.0000e+00 - val_loss: 1.4944\n",
      "Epoch 69/100\n",
      "\u001B[1m1/1\u001B[0m \u001B[32m━━━━━━━━━━━━━━━━━━━━\u001B[0m\u001B[37m\u001B[0m \u001B[1m0s\u001B[0m 36ms/step - accuracy: 0.3333 - loss: 0.7929 - val_accuracy: 0.0000e+00 - val_loss: 1.4919\n",
      "Epoch 70/100\n",
      "\u001B[1m1/1\u001B[0m \u001B[32m━━━━━━━━━━━━━━━━━━━━\u001B[0m\u001B[37m\u001B[0m \u001B[1m0s\u001B[0m 36ms/step - accuracy: 0.3333 - loss: 0.7924 - val_accuracy: 0.0000e+00 - val_loss: 1.4894\n",
      "Epoch 71/100\n",
      "\u001B[1m1/1\u001B[0m \u001B[32m━━━━━━━━━━━━━━━━━━━━\u001B[0m\u001B[37m\u001B[0m \u001B[1m0s\u001B[0m 37ms/step - accuracy: 0.3333 - loss: 0.7918 - val_accuracy: 0.0000e+00 - val_loss: 1.4869\n",
      "Epoch 72/100\n",
      "\u001B[1m1/1\u001B[0m \u001B[32m━━━━━━━━━━━━━━━━━━━━\u001B[0m\u001B[37m\u001B[0m \u001B[1m0s\u001B[0m 39ms/step - accuracy: 0.3333 - loss: 0.7913 - val_accuracy: 0.0000e+00 - val_loss: 1.4845\n",
      "Epoch 73/100\n",
      "\u001B[1m1/1\u001B[0m \u001B[32m━━━━━━━━━━━━━━━━━━━━\u001B[0m\u001B[37m\u001B[0m \u001B[1m0s\u001B[0m 35ms/step - accuracy: 0.3333 - loss: 0.7907 - val_accuracy: 0.0000e+00 - val_loss: 1.4820\n",
      "Epoch 74/100\n",
      "\u001B[1m1/1\u001B[0m \u001B[32m━━━━━━━━━━━━━━━━━━━━\u001B[0m\u001B[37m\u001B[0m \u001B[1m0s\u001B[0m 36ms/step - accuracy: 0.3333 - loss: 0.7902 - val_accuracy: 0.0000e+00 - val_loss: 1.4795\n",
      "Epoch 75/100\n",
      "\u001B[1m1/1\u001B[0m \u001B[32m━━━━━━━━━━━━━━━━━━━━\u001B[0m\u001B[37m\u001B[0m \u001B[1m0s\u001B[0m 38ms/step - accuracy: 0.3333 - loss: 0.7897 - val_accuracy: 0.0000e+00 - val_loss: 1.4771\n",
      "Epoch 76/100\n",
      "\u001B[1m1/1\u001B[0m \u001B[32m━━━━━━━━━━━━━━━━━━━━\u001B[0m\u001B[37m\u001B[0m \u001B[1m0s\u001B[0m 41ms/step - accuracy: 0.3333 - loss: 0.7891 - val_accuracy: 0.0000e+00 - val_loss: 1.4746\n",
      "Epoch 77/100\n",
      "\u001B[1m1/1\u001B[0m \u001B[32m━━━━━━━━━━━━━━━━━━━━\u001B[0m\u001B[37m\u001B[0m \u001B[1m0s\u001B[0m 38ms/step - accuracy: 0.3333 - loss: 0.7886 - val_accuracy: 0.0000e+00 - val_loss: 1.4722\n",
      "Epoch 78/100\n",
      "\u001B[1m1/1\u001B[0m \u001B[32m━━━━━━━━━━━━━━━━━━━━\u001B[0m\u001B[37m\u001B[0m \u001B[1m0s\u001B[0m 37ms/step - accuracy: 0.3333 - loss: 0.7881 - val_accuracy: 0.0000e+00 - val_loss: 1.4697\n",
      "Epoch 79/100\n",
      "\u001B[1m1/1\u001B[0m \u001B[32m━━━━━━━━━━━━━━━━━━━━\u001B[0m\u001B[37m\u001B[0m \u001B[1m0s\u001B[0m 36ms/step - accuracy: 0.3333 - loss: 0.7875 - val_accuracy: 0.0000e+00 - val_loss: 1.4673\n",
      "Epoch 80/100\n",
      "\u001B[1m1/1\u001B[0m \u001B[32m━━━━━━━━━━━━━━━━━━━━\u001B[0m\u001B[37m\u001B[0m \u001B[1m0s\u001B[0m 37ms/step - accuracy: 0.3333 - loss: 0.7870 - val_accuracy: 0.0000e+00 - val_loss: 1.4649\n",
      "Epoch 81/100\n",
      "\u001B[1m1/1\u001B[0m \u001B[32m━━━━━━━━━━━━━━━━━━━━\u001B[0m\u001B[37m\u001B[0m \u001B[1m0s\u001B[0m 38ms/step - accuracy: 0.3333 - loss: 0.7865 - val_accuracy: 0.0000e+00 - val_loss: 1.4624\n",
      "Epoch 82/100\n",
      "\u001B[1m1/1\u001B[0m \u001B[32m━━━━━━━━━━━━━━━━━━━━\u001B[0m\u001B[37m\u001B[0m \u001B[1m0s\u001B[0m 36ms/step - accuracy: 0.3333 - loss: 0.7859 - val_accuracy: 0.0000e+00 - val_loss: 1.4600\n",
      "Epoch 83/100\n",
      "\u001B[1m1/1\u001B[0m \u001B[32m━━━━━━━━━━━━━━━━━━━━\u001B[0m\u001B[37m\u001B[0m \u001B[1m0s\u001B[0m 37ms/step - accuracy: 0.3333 - loss: 0.7854 - val_accuracy: 0.0000e+00 - val_loss: 1.4576\n",
      "Epoch 84/100\n",
      "\u001B[1m1/1\u001B[0m \u001B[32m━━━━━━━━━━━━━━━━━━━━\u001B[0m\u001B[37m\u001B[0m \u001B[1m0s\u001B[0m 35ms/step - accuracy: 0.3333 - loss: 0.7849 - val_accuracy: 0.0000e+00 - val_loss: 1.4552\n",
      "Epoch 85/100\n",
      "\u001B[1m1/1\u001B[0m \u001B[32m━━━━━━━━━━━━━━━━━━━━\u001B[0m\u001B[37m\u001B[0m \u001B[1m0s\u001B[0m 37ms/step - accuracy: 0.3333 - loss: 0.7843 - val_accuracy: 0.0000e+00 - val_loss: 1.4528\n",
      "Epoch 86/100\n",
      "\u001B[1m1/1\u001B[0m \u001B[32m━━━━━━━━━━━━━━━━━━━━\u001B[0m\u001B[37m\u001B[0m \u001B[1m0s\u001B[0m 37ms/step - accuracy: 0.3333 - loss: 0.7838 - val_accuracy: 0.0000e+00 - val_loss: 1.4505\n",
      "Epoch 87/100\n",
      "\u001B[1m1/1\u001B[0m \u001B[32m━━━━━━━━━━━━━━━━━━━━\u001B[0m\u001B[37m\u001B[0m \u001B[1m0s\u001B[0m 36ms/step - accuracy: 0.3333 - loss: 0.7833 - val_accuracy: 0.0000e+00 - val_loss: 1.4481\n",
      "Epoch 88/100\n",
      "\u001B[1m1/1\u001B[0m \u001B[32m━━━━━━━━━━━━━━━━━━━━\u001B[0m\u001B[37m\u001B[0m \u001B[1m0s\u001B[0m 38ms/step - accuracy: 0.3333 - loss: 0.7828 - val_accuracy: 0.0000e+00 - val_loss: 1.4457\n",
      "Epoch 89/100\n",
      "\u001B[1m1/1\u001B[0m \u001B[32m━━━━━━━━━━━━━━━━━━━━\u001B[0m\u001B[37m\u001B[0m \u001B[1m0s\u001B[0m 40ms/step - accuracy: 0.3333 - loss: 0.7823 - val_accuracy: 0.0000e+00 - val_loss: 1.4433\n",
      "Epoch 90/100\n",
      "\u001B[1m1/1\u001B[0m \u001B[32m━━━━━━━━━━━━━━━━━━━━\u001B[0m\u001B[37m\u001B[0m \u001B[1m0s\u001B[0m 40ms/step - accuracy: 0.3333 - loss: 0.7817 - val_accuracy: 0.0000e+00 - val_loss: 1.4410\n",
      "Epoch 91/100\n",
      "\u001B[1m1/1\u001B[0m \u001B[32m━━━━━━━━━━━━━━━━━━━━\u001B[0m\u001B[37m\u001B[0m \u001B[1m0s\u001B[0m 35ms/step - accuracy: 0.3333 - loss: 0.7812 - val_accuracy: 0.0000e+00 - val_loss: 1.4386\n",
      "Epoch 92/100\n",
      "\u001B[1m1/1\u001B[0m \u001B[32m━━━━━━━━━━━━━━━━━━━━\u001B[0m\u001B[37m\u001B[0m \u001B[1m0s\u001B[0m 34ms/step - accuracy: 0.3333 - loss: 0.7807 - val_accuracy: 0.0000e+00 - val_loss: 1.4363\n",
      "Epoch 93/100\n",
      "\u001B[1m1/1\u001B[0m \u001B[32m━━━━━━━━━━━━━━━━━━━━\u001B[0m\u001B[37m\u001B[0m \u001B[1m0s\u001B[0m 36ms/step - accuracy: 0.3333 - loss: 0.7802 - val_accuracy: 0.0000e+00 - val_loss: 1.4340\n",
      "Epoch 94/100\n",
      "\u001B[1m1/1\u001B[0m \u001B[32m━━━━━━━━━━━━━━━━━━━━\u001B[0m\u001B[37m\u001B[0m \u001B[1m0s\u001B[0m 35ms/step - accuracy: 0.3333 - loss: 0.7797 - val_accuracy: 0.0000e+00 - val_loss: 1.4316\n",
      "Epoch 95/100\n",
      "\u001B[1m1/1\u001B[0m \u001B[32m━━━━━━━━━━━━━━━━━━━━\u001B[0m\u001B[37m\u001B[0m \u001B[1m0s\u001B[0m 37ms/step - accuracy: 0.3333 - loss: 0.7792 - val_accuracy: 0.0000e+00 - val_loss: 1.4293\n",
      "Epoch 96/100\n",
      "\u001B[1m1/1\u001B[0m \u001B[32m━━━━━━━━━━━━━━━━━━━━\u001B[0m\u001B[37m\u001B[0m \u001B[1m0s\u001B[0m 36ms/step - accuracy: 0.3333 - loss: 0.7787 - val_accuracy: 0.0000e+00 - val_loss: 1.4270\n",
      "Epoch 97/100\n",
      "\u001B[1m1/1\u001B[0m \u001B[32m━━━━━━━━━━━━━━━━━━━━\u001B[0m\u001B[37m\u001B[0m \u001B[1m0s\u001B[0m 36ms/step - accuracy: 0.3333 - loss: 0.7782 - val_accuracy: 0.0000e+00 - val_loss: 1.4247\n",
      "Epoch 98/100\n",
      "\u001B[1m1/1\u001B[0m \u001B[32m━━━━━━━━━━━━━━━━━━━━\u001B[0m\u001B[37m\u001B[0m \u001B[1m0s\u001B[0m 36ms/step - accuracy: 0.3333 - loss: 0.7777 - val_accuracy: 0.0000e+00 - val_loss: 1.4224\n",
      "Epoch 99/100\n",
      "\u001B[1m1/1\u001B[0m \u001B[32m━━━━━━━━━━━━━━━━━━━━\u001B[0m\u001B[37m\u001B[0m \u001B[1m0s\u001B[0m 39ms/step - accuracy: 0.3333 - loss: 0.7771 - val_accuracy: 0.0000e+00 - val_loss: 1.4201\n",
      "Epoch 100/100\n",
      "\u001B[1m1/1\u001B[0m \u001B[32m━━━━━━━━━━━━━━━━━━━━\u001B[0m\u001B[37m\u001B[0m \u001B[1m0s\u001B[0m 35ms/step - accuracy: 0.3333 - loss: 0.7766 - val_accuracy: 0.0000e+00 - val_loss: 1.4178\n"
     ]
    }
   ],
   "execution_count": 16
  },
  {
   "metadata": {
    "ExecuteTime": {
     "end_time": "2024-11-05T16:44:32.341141Z",
     "start_time": "2024-11-05T16:44:32.336613Z"
    }
   },
   "cell_type": "code",
   "source": [
    "learn_weights: np.ndarray = learn_model.get_weights()\n",
    "learn_weights"
   ],
   "id": "7241578bedd065ab",
   "outputs": [
    {
     "data": {
      "text/plain": [
       "[array([[0.9717244 ],\n",
       "        [0.01413314],\n",
       "        [0.4895458 ]], dtype=float32),\n",
       " array([-0.09750675], dtype=float32)]"
      ]
     },
     "execution_count": 17,
     "metadata": {},
     "output_type": "execute_result"
    }
   ],
   "execution_count": 17
  },
  {
   "metadata": {},
   "cell_type": "markdown",
   "source": "##### 4.\tПрогнать датасет через обученную модель и реализованные 2 функции. Сравнить результат.",
   "id": "25a603dabcb6d37e"
  },
  {
   "metadata": {
    "ExecuteTime": {
     "end_time": "2024-11-05T16:44:32.344691Z",
     "start_time": "2024-11-05T16:44:32.342146Z"
    }
   },
   "cell_type": "code",
   "source": [
    "output_tensor, sigmoid = simulate_neural_network(data_tensor_np, learn_weights)\n",
    "output_tensor_np = simulate_neural_network_np(data_tensor_np, learn_weights)"
   ],
   "id": "3851ff9a586999be",
   "outputs": [],
   "execution_count": 18
  },
  {
   "metadata": {
    "ExecuteTime": {
     "end_time": "2024-11-05T16:44:32.349718Z",
     "start_time": "2024-11-05T16:44:32.344691Z"
    }
   },
   "cell_type": "code",
   "source": [
    "print(\"Входные данные:\")\n",
    "print(data_tensor_np)\n",
    "print(\"\\nТензор весов:\")\n",
    "print(weights_tensor)\n",
    "print(\"\\nВыход после симуляции:\")\n",
    "print(output_tensor)\n",
    "print(\"\\nВыход sigmoid:\")\n",
    "print(np.array(sigmoid).reshape(-1, 1))\n",
    "print(\"\\nВыход sigmoid после симуляции NP:\")\n",
    "print(output_tensor_np)"
   ],
   "id": "781c142be5042ed1",
   "outputs": [
    {
     "name": "stdout",
     "output_type": "stream",
     "text": [
      "Входные данные:\n",
      "[[0 0 0]\n",
      " [0 0 1]\n",
      " [0 1 0]\n",
      " [0 1 1]\n",
      " [1 0 0]\n",
      " [1 0 1]\n",
      " [1 1 0]\n",
      " [1 1 1]]\n",
      "\n",
      "Тензор весов:\n",
      "[array([[1.0692016 ],\n",
      "       [0.10062623],\n",
      "       [0.58711576]], dtype=float32), array([0.], dtype=float32)]\n",
      "\n",
      "Выход после симуляции:\n",
      "[[0.         0.         0.        ]\n",
      " [0.         0.         0.48954579]\n",
      " [0.         0.01413314 0.        ]\n",
      " [0.         0.01413314 0.48954579]\n",
      " [0.97172439 0.         0.        ]\n",
      " [0.97172439 0.         0.48954579]\n",
      " [0.97172439 0.01413314 0.        ]\n",
      " [0.97172439 0.01413314 0.48954579]]\n",
      "\n",
      "Выход sigmoid:\n",
      "[[0.476]\n",
      " [0.597]\n",
      " [0.479]\n",
      " [0.6  ]\n",
      " [0.706]\n",
      " [0.796]\n",
      " [0.709]\n",
      " [0.799]]\n",
      "\n",
      "Выход sigmoid после симуляции NP:\n",
      "[[0.476]\n",
      " [0.597]\n",
      " [0.479]\n",
      " [0.6  ]\n",
      " [0.706]\n",
      " [0.796]\n",
      " [0.709]\n",
      " [0.799]]\n"
     ]
    }
   ],
   "execution_count": 19
  },
  {
   "metadata": {},
   "cell_type": "markdown",
   "source": "",
   "id": "9b6fc021569f4a55"
  },
  {
   "metadata": {
    "ExecuteTime": {
     "end_time": "2024-11-05T16:44:32.400546Z",
     "start_time": "2024-11-05T16:44:32.350229Z"
    }
   },
   "cell_type": "code",
   "source": "predictions = learn_model.predict(X)",
   "id": "5209cf1fee5cd4fc",
   "outputs": [
    {
     "name": "stdout",
     "output_type": "stream",
     "text": [
      "\u001B[1m1/1\u001B[0m \u001B[32m━━━━━━━━━━━━━━━━━━━━\u001B[0m\u001B[37m\u001B[0m \u001B[1m0s\u001B[0m 14ms/step\n"
     ]
    }
   ],
   "execution_count": 20
  },
  {
   "metadata": {
    "ExecuteTime": {
     "end_time": "2024-11-05T16:44:32.404992Z",
     "start_time": "2024-11-05T16:44:32.401551Z"
    }
   },
   "cell_type": "code",
   "source": "predictions",
   "id": "dbd50cfde9bdbaf7",
   "outputs": [
    {
     "data": {
      "text/plain": [
       "array([[0.4756426 ],\n",
       "       [0.59677345],\n",
       "       [0.47916865],\n",
       "       [0.60016966],\n",
       "       [0.70562255],\n",
       "       [0.7963707 ],\n",
       "       [0.70854974],\n",
       "       [0.79865295]], dtype=float32)"
      ]
     },
     "execution_count": 21,
     "metadata": {},
     "output_type": "execute_result"
    }
   ],
   "execution_count": 21
  },
  {
   "metadata": {
    "ExecuteTime": {
     "end_time": "2024-11-05T16:44:32.409Z",
     "start_time": "2024-11-05T16:44:32.404992Z"
    }
   },
   "cell_type": "code",
   "source": "predictions - output_tensor_np",
   "id": "5dec0348c25622ba",
   "outputs": [
    {
     "data": {
      "text/plain": [
       "array([[-0.00035741],\n",
       "       [-0.00022655],\n",
       "       [ 0.00016865],\n",
       "       [ 0.00016966],\n",
       "       [-0.00037745],\n",
       "       [ 0.00037069],\n",
       "       [-0.00045026],\n",
       "       [-0.00034705]])"
      ]
     },
     "execution_count": 22,
     "metadata": {},
     "output_type": "execute_result"
    }
   ],
   "execution_count": 22
  },
  {
   "metadata": {
    "ExecuteTime": {
     "end_time": "2024-11-05T16:44:32.413458Z",
     "start_time": "2024-11-05T16:44:32.409508Z"
    }
   },
   "cell_type": "code",
   "source": "predictions - np.array(sigmoid).reshape(-1, 1)",
   "id": "b4d6a5f5a1d0cb52",
   "outputs": [
    {
     "data": {
      "text/plain": [
       "array([[-0.00035741],\n",
       "       [-0.00022655],\n",
       "       [ 0.00016865],\n",
       "       [ 0.00016966],\n",
       "       [-0.00037745],\n",
       "       [ 0.00037069],\n",
       "       [-0.00045026],\n",
       "       [-0.00034705]])"
      ]
     },
     "execution_count": 23,
     "metadata": {},
     "output_type": "execute_result"
    }
   ],
   "execution_count": 23
  },
  {
   "metadata": {},
   "cell_type": "markdown",
   "source": "По результатам предсказания функций и модели совпадают (одинаковые веса), отличаются из-за того что присутствует округление\n",
   "id": "fbd74f08f5036c38"
  }
 ],
 "metadata": {
  "kernelspec": {
   "display_name": "Python 3",
   "language": "python",
   "name": "python3"
  },
  "language_info": {
   "codemirror_mode": {
    "name": "ipython",
    "version": 2
   },
   "file_extension": ".py",
   "mimetype": "text/x-python",
   "name": "python",
   "nbconvert_exporter": "python",
   "pygments_lexer": "ipython2",
   "version": "2.7.6"
  }
 },
 "nbformat": 4,
 "nbformat_minor": 5
}
