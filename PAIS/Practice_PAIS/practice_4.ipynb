{
 "cells": [
  {
   "metadata": {},
   "cell_type": "markdown",
   "source": "(a xor b) and (b xor c)",
   "id": "db6cf7d9bf45759e"
  },
  {
   "cell_type": "code",
   "id": "initial_id",
   "metadata": {
    "collapsed": true,
    "ExecuteTime": {
     "end_time": "2024-11-04T15:55:09.116937Z",
     "start_time": "2024-11-04T15:55:09.008135Z"
    }
   },
   "source": [
    "import keras.src.callbacks as cb\n",
    "import pandas as pd\n",
    "import numpy as np\n",
    "from tensorflow.keras.models import Sequential\n",
    "from tensorflow.keras.layers import Dense, Input\n",
    "import tensorflow as tf\n",
    "from sklearn.model_selection import train_test_split\n",
    "\n",
    "import matplotlib.pyplot as plt\n",
    "import seaborn as sns"
   ],
   "outputs": [],
   "execution_count": 8
  },
  {
   "metadata": {
    "ExecuteTime": {
     "end_time": "2024-11-04T15:55:09.417803Z",
     "start_time": "2024-11-04T15:55:09.413579Z"
    }
   },
   "cell_type": "code",
   "source": [
    "# Функция создания модели нейронной сети\n",
    "def create_model() -> Sequential:\n",
    "    \"\"\"\n",
    "    Creates a neural network model for binary classification.\n",
    "\n",
    "    The model consists of 3 dense layers with ReLU activation function\n",
    "    and sigmoid activation function in the output layer. It is compiled\n",
    "    with binary cross-entropy loss, Adam optimizer and accuracy metric.\n",
    "\n",
    "    Args:\n",
    "        None\n",
    "\n",
    "    Returns:\n",
    "        Sequential: A compiled Keras neural network model for binary classification.\n",
    "\n",
    "    Examples:\n",
    "        >>> from tensorflow.keras.models import Sequential\n",
    "        >>> baseline_model = create_model()\n",
    "        >>> print(baseline_model.summary())\n",
    "    \"\"\"\n",
    "    baseline_model: Sequential = Sequential()\n",
    "    baseline_model.add(Input(shape=(3,), name='input'))\n",
    "    baseline_model.add(Dense(1, activation='sigmoid', name='output'))\n",
    "\n",
    "    baseline_model.compile(loss='binary_crossentropy', optimizer='adam', metrics=['accuracy'])\n",
    "\n",
    "    baseline_model.summary()\n",
    "    return baseline_model"
   ],
   "id": "ede03db93888fc2f",
   "outputs": [],
   "execution_count": 9
  },
  {
   "metadata": {
    "ExecuteTime": {
     "end_time": "2024-11-04T15:55:09.804273Z",
     "start_time": "2024-11-04T15:55:09.799075Z"
    }
   },
   "cell_type": "code",
   "source": [
    "def create_error_report(model_report: Sequential, val_split: float=0.2):\n",
    "    data: pd.DataFrame = pd.read_csv('data/data_bin.csv')\n",
    "    X = data.drop(columns=['target'])\n",
    "    y = data['target']\n",
    "\n",
    "    X_train, X_test, y_train, y_test = train_test_split(X, y, test_size=0.2)\n",
    "\n",
    "    history: cb.History = model_report.fit(X_train, y_train, epochs=100, batch_size=32, validation_split=val_split)\n",
    "    history_df: pd.DataFrame = pd.DataFrame(history.history)\n",
    "\n",
    "    fig, axes = plt.subplots(1, 2, figsize=(15,7))\n",
    "\n",
    "    sns.lineplot(data=history_df['accuracy'], ax=axes[0])\n",
    "    axes[0].set_title('val_ccuracy')\n",
    "\n",
    "    sns.lineplot(data=history_df['loss'], ax=axes[1])\n",
    "    axes[1].set_title('val_loss')\n",
    "\n",
    "    model_report.evaluate(X_test, y_test)\n",
    "\n",
    "    return model_report"
   ],
   "id": "cbe25718b2dd3fe0",
   "outputs": [],
   "execution_count": 10
  },
  {
   "metadata": {
    "ExecuteTime": {
     "end_time": "2024-11-04T17:13:06.433941Z",
     "start_time": "2024-11-04T17:13:06.428209Z"
    }
   },
   "cell_type": "code",
   "source": [
    "def simulate_neural_network(data_tensor, weight_bias_tensor):\n",
    "\n",
    "    size: int = data_tensor.shape[0]\n",
    "    size_params: int = data_tensor.shape[1]\n",
    "\n",
    "    weights: np.ndarray = weight_bias_tensor[0]\n",
    "    bias: np.ndarray = weight_bias_tensor[1]\n",
    "    sigmoid_tensor: list = []\n",
    "\n",
    "    output_tensor = np.zeros((size, size_params))\n",
    "\n",
    "    for i in range(size):\n",
    "        for j in range(size_params):\n",
    "            output_tensor[i, j] += (data_tensor[i, j] * weights[j])\n",
    "        r = sum(output_tensor[i]) + bias[0]\n",
    "        sigmoid_tensor.append(np.round(1 / (1 + np.exp(-r)), 3))\n",
    "\n",
    "\n",
    "\n",
    "    return output_tensor, sigmoid_tensor"
   ],
   "id": "ce39a4860abeb785",
   "outputs": [],
   "execution_count": 50
  },
  {
   "metadata": {
    "ExecuteTime": {
     "end_time": "2024-11-04T17:25:05.804846Z",
     "start_time": "2024-11-04T17:25:05.800771Z"
    }
   },
   "cell_type": "code",
   "source": [
    "def simulate_neural_network_np(data_tensor, weight_bias_tensor):\n",
    "    output_tensor = data_tensor * weight_bias_tensor[0]\n",
    "    bias: float = weight_bias_tensor[1][0]\n",
    "    result = output_tensor.sum(axis=1).reshape(-1, 1)\n",
    "    sigmoid_tensor: np.ndarray = np.array(list(map(lambda r: np.round(1 / (1 + np.exp(-(r + bias))), 3), result)))\n",
    "    \n",
    "    return sigmoid_tensor\n",
    "    "
   ],
   "id": "24554f6cc6df2f2f",
   "outputs": [],
   "execution_count": 82
  },
  {
   "metadata": {
    "ExecuteTime": {
     "end_time": "2024-11-04T17:25:06.058524Z",
     "start_time": "2024-11-04T17:25:06.053117Z"
    }
   },
   "cell_type": "code",
   "source": [
    "# Инициализация входных данных и весов\n",
    "data_tensor = X.values\n",
    "weight_tensor = [[0.29, 0.91, -1.29],[-0.01]]\n",
    "\n",
    "# Симуляция поведения нейронного слоя\n",
    "output_tensor, sigmoid = simulate_neural_network(data_tensor, weight_tensor)\n",
    "output_tensor_np = simulate_neural_network_np(data_tensor, weight_tensor)\n",
    "\n",
    "print(\"Входные данные:\")\n",
    "print(data_tensor)\n",
    "print(\"\\nТензор весов:\")\n",
    "print(weight_tensor)\n",
    "print(\"\\nВыход после симуляции:\")\n",
    "print(output_tensor)\n",
    "print(\"\\nВыход после симуляции NP:\")\n",
    "print(output_tensor_np)\n",
    "print(\"\\nВыход sigmoid:\")\n",
    "print(sigmoid)"
   ],
   "id": "3f2bcd0ac68653a3",
   "outputs": [
    {
     "name": "stdout",
     "output_type": "stream",
     "text": [
      "Входные данные:\n",
      "[[0 0 0]\n",
      " [0 0 1]\n",
      " [0 1 0]\n",
      " [0 1 1]\n",
      " [1 0 0]\n",
      " [1 0 1]\n",
      " [1 1 0]\n",
      " [1 1 1]]\n",
      "\n",
      "Тензор весов:\n",
      "[[0.29, 0.91, -1.29], [-0.01]]\n",
      "\n",
      "Выход после симуляции:\n",
      "[[ 0.    0.    0.  ]\n",
      " [ 0.    0.   -1.29]\n",
      " [ 0.    0.91  0.  ]\n",
      " [ 0.    0.91 -1.29]\n",
      " [ 0.29  0.    0.  ]\n",
      " [ 0.29  0.   -1.29]\n",
      " [ 0.29  0.91  0.  ]\n",
      " [ 0.29  0.91 -1.29]]\n",
      "\n",
      "Выход после симуляции NP:\n",
      "[[0.498]\n",
      " [0.214]\n",
      " [0.711]\n",
      " [0.404]\n",
      " [0.57 ]\n",
      " [0.267]\n",
      " [0.767]\n",
      " [0.475]]\n",
      "\n",
      "Выход sigmoid:\n",
      "[0.498, 0.214, 0.711, 0.404, 0.57, 0.267, 0.767, 0.475]\n"
     ]
    }
   ],
   "execution_count": 83
  },
  {
   "metadata": {
    "ExecuteTime": {
     "end_time": "2024-11-04T15:55:10.533342Z",
     "start_time": "2024-11-04T15:55:10.513367Z"
    }
   },
   "cell_type": "code",
   "source": "model = create_model()",
   "id": "ff4bf56a2f935b7",
   "outputs": [
    {
     "data": {
      "text/plain": [
       "\u001B[1mModel: \"sequential_1\"\u001B[0m\n"
      ],
      "text/html": [
       "<pre style=\"white-space:pre;overflow-x:auto;line-height:normal;font-family:Menlo,'DejaVu Sans Mono',consolas,'Courier New',monospace\"><span style=\"font-weight: bold\">Model: \"sequential_1\"</span>\n",
       "</pre>\n"
      ]
     },
     "metadata": {},
     "output_type": "display_data"
    },
    {
     "data": {
      "text/plain": [
       "┏━━━━━━━━━━━━━━━━━━━━━━━━━━━━━━━━━┳━━━━━━━━━━━━━━━━━━━━━━━━┳━━━━━━━━━━━━━━━┓\n",
       "┃\u001B[1m \u001B[0m\u001B[1mLayer (type)                   \u001B[0m\u001B[1m \u001B[0m┃\u001B[1m \u001B[0m\u001B[1mOutput Shape          \u001B[0m\u001B[1m \u001B[0m┃\u001B[1m \u001B[0m\u001B[1m      Param #\u001B[0m\u001B[1m \u001B[0m┃\n",
       "┡━━━━━━━━━━━━━━━━━━━━━━━━━━━━━━━━━╇━━━━━━━━━━━━━━━━━━━━━━━━╇━━━━━━━━━━━━━━━┩\n",
       "│ output (\u001B[38;5;33mDense\u001B[0m)                  │ (\u001B[38;5;45mNone\u001B[0m, \u001B[38;5;34m1\u001B[0m)              │             \u001B[38;5;34m4\u001B[0m │\n",
       "└─────────────────────────────────┴────────────────────────┴───────────────┘\n"
      ],
      "text/html": [
       "<pre style=\"white-space:pre;overflow-x:auto;line-height:normal;font-family:Menlo,'DejaVu Sans Mono',consolas,'Courier New',monospace\">┏━━━━━━━━━━━━━━━━━━━━━━━━━━━━━━━━━┳━━━━━━━━━━━━━━━━━━━━━━━━┳━━━━━━━━━━━━━━━┓\n",
       "┃<span style=\"font-weight: bold\"> Layer (type)                    </span>┃<span style=\"font-weight: bold\"> Output Shape           </span>┃<span style=\"font-weight: bold\">       Param # </span>┃\n",
       "┡━━━━━━━━━━━━━━━━━━━━━━━━━━━━━━━━━╇━━━━━━━━━━━━━━━━━━━━━━━━╇━━━━━━━━━━━━━━━┩\n",
       "│ output (<span style=\"color: #0087ff; text-decoration-color: #0087ff\">Dense</span>)                  │ (<span style=\"color: #00d7ff; text-decoration-color: #00d7ff\">None</span>, <span style=\"color: #00af00; text-decoration-color: #00af00\">1</span>)              │             <span style=\"color: #00af00; text-decoration-color: #00af00\">4</span> │\n",
       "└─────────────────────────────────┴────────────────────────┴───────────────┘\n",
       "</pre>\n"
      ]
     },
     "metadata": {},
     "output_type": "display_data"
    },
    {
     "data": {
      "text/plain": [
       "\u001B[1m Total params: \u001B[0m\u001B[38;5;34m4\u001B[0m (16.00 B)\n"
      ],
      "text/html": [
       "<pre style=\"white-space:pre;overflow-x:auto;line-height:normal;font-family:Menlo,'DejaVu Sans Mono',consolas,'Courier New',monospace\"><span style=\"font-weight: bold\"> Total params: </span><span style=\"color: #00af00; text-decoration-color: #00af00\">4</span> (16.00 B)\n",
       "</pre>\n"
      ]
     },
     "metadata": {},
     "output_type": "display_data"
    },
    {
     "data": {
      "text/plain": [
       "\u001B[1m Trainable params: \u001B[0m\u001B[38;5;34m4\u001B[0m (16.00 B)\n"
      ],
      "text/html": [
       "<pre style=\"white-space:pre;overflow-x:auto;line-height:normal;font-family:Menlo,'DejaVu Sans Mono',consolas,'Courier New',monospace\"><span style=\"font-weight: bold\"> Trainable params: </span><span style=\"color: #00af00; text-decoration-color: #00af00\">4</span> (16.00 B)\n",
       "</pre>\n"
      ]
     },
     "metadata": {},
     "output_type": "display_data"
    },
    {
     "data": {
      "text/plain": [
       "\u001B[1m Non-trainable params: \u001B[0m\u001B[38;5;34m0\u001B[0m (0.00 B)\n"
      ],
      "text/html": [
       "<pre style=\"white-space:pre;overflow-x:auto;line-height:normal;font-family:Menlo,'DejaVu Sans Mono',consolas,'Courier New',monospace\"><span style=\"font-weight: bold\"> Non-trainable params: </span><span style=\"color: #00af00; text-decoration-color: #00af00\">0</span> (0.00 B)\n",
       "</pre>\n"
      ]
     },
     "metadata": {},
     "output_type": "display_data"
    }
   ],
   "execution_count": 12
  },
  {
   "metadata": {},
   "cell_type": "code",
   "source": "create_error_report(model)",
   "id": "8f1c593d8b6a9bee",
   "outputs": [],
   "execution_count": null
  },
  {
   "metadata": {
    "ExecuteTime": {
     "end_time": "2024-11-04T17:03:13.549717Z",
     "start_time": "2024-11-04T17:03:13.544590Z"
    }
   },
   "cell_type": "code",
   "source": "model.get_layer('output').get_weights()",
   "id": "99d2da1ef62ba8ca",
   "outputs": [
    {
     "data": {
      "text/plain": [
       "[array([[ 0.29375646],\n",
       "        [ 0.91396093],\n",
       "        [-1.2950524 ]], dtype=float32),\n",
       " array([-0.09693205], dtype=float32)]"
      ]
     },
     "execution_count": 38,
     "metadata": {},
     "output_type": "execute_result"
    }
   ],
   "execution_count": 38
  },
  {
   "metadata": {
    "ExecuteTime": {
     "end_time": "2024-11-04T17:05:01.771905Z",
     "start_time": "2024-11-04T17:05:01.767148Z"
    }
   },
   "cell_type": "code",
   "source": [
    "X = data_train.drop(columns=['target'])\n",
    "y = data_train['target']\n",
    "for line in X.values:\n",
    "    print(line)"
   ],
   "id": "5209cf1fee5cd4fc",
   "outputs": [
    {
     "name": "stdout",
     "output_type": "stream",
     "text": [
      "[0 0 0]\n",
      "[0 0 1]\n",
      "[0 1 0]\n",
      "[0 1 1]\n",
      "[1 0 0]\n",
      "[1 0 1]\n",
      "[1 1 0]\n",
      "[1 1 1]\n"
     ]
    }
   ],
   "execution_count": 42
  },
  {
   "metadata": {},
   "cell_type": "code",
   "outputs": [],
   "execution_count": null,
   "source": "",
   "id": "dbd50cfde9bdbaf7"
  }
 ],
 "metadata": {
  "kernelspec": {
   "display_name": "Python 3",
   "language": "python",
   "name": "python3"
  },
  "language_info": {
   "codemirror_mode": {
    "name": "ipython",
    "version": 2
   },
   "file_extension": ".py",
   "mimetype": "text/x-python",
   "name": "python",
   "nbconvert_exporter": "python",
   "pygments_lexer": "ipython2",
   "version": "2.7.6"
  }
 },
 "nbformat": 4,
 "nbformat_minor": 5
}
