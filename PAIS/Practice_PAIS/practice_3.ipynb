{
 "cells": [
  {
   "metadata": {},
   "cell_type": "markdown",
   "source": [
    "Примечания к задачам:\n",
    "\n",
    "Необходимо использовать модуль numpy\n",
    "Все данные должны считываться из файла в виде массива numpy\n",
    "Результаты необходимо сохранять в файл\n",
    "#### Задача 1\n",
    "- Дано множество из p матриц (n,n) и множество из p векторов (n,1). Написать функцию для рассчета суммы p произведений матриц (результат имеет размерность (n,1))\n",
    "\n",
    "#### Задача 2\n",
    "- Написать функцию преобразовывающую вектор чисел в матрицу бинарных представлений.\n",
    "\n",
    "#### Задача 3\n",
    "- Написать функцию, которая возвращает все уникальные строки матрицы\n",
    "\n",
    "#### Задача 4\n",
    "- Написать функцию, которая заполняет матрицу с размерами (M,N) случайными числами распределенными по нормальному закону. Затем считает мат. ожидание и дисперсию для каждого из столбцов, а также строит для каждой строки стоит гистограмму значений (использовать функцию hist из модуля matplotlib.plot)\n",
    "\n",
    "#### Задача 5\n",
    "- Написать функцию, которая заполняет матрицу (M,N) в шахматном порядке заданными числами a и b.\n",
    "\n",
    "#### Задача 6\n",
    "- Написать функцию, которая возвращает тензор представляющий изображение круга с заданным цветом и радиусом в схеме rgd на черном фоне.\n",
    "\n",
    "#### Задача 7\n",
    "- Написать функцию, которая стандартизирует все значения тензор (отнять мат. ожидание и поделить на СКО)\n",
    "\n",
    "#### Задача 8\n",
    "- Написать функцию, выделяющую часть матрицы фиксированного размера с центром в данном элементе (дополненное значением fill если необходимо)\n",
    "\n",
    "#### Задача 9\n",
    "- Написать функцию, которая находит самое часто встречающееся число в каждой строке матрицы и возвращает массив этих значений\n",
    "\n",
    "#### Задача 10\n",
    "- Дан трёхмерный массив, содержащий изображение, размера (height, width, numChannels), а также вектор длины numChannels. Написать функцию, которая складывает каналы изображения с указанными весами, и возвращает результат в виде матрицы размера (height, width)"
   ],
   "id": "1cca555218330321"
  },
  {
   "cell_type": "code",
   "id": "initial_id",
   "metadata": {
    "collapsed": true,
    "ExecuteTime": {
     "end_time": "2024-10-22T16:24:54.167553Z",
     "start_time": "2024-10-22T16:24:54.164003Z"
    }
   },
   "source": [
    "import numpy as np\n",
    "import matplotlib.pyplot as plt\n",
    "import seaborn as sns"
   ],
   "outputs": [],
   "execution_count": 22
  },
  {
   "metadata": {
    "ExecuteTime": {
     "end_time": "2024-10-22T16:24:54.299219Z",
     "start_time": "2024-10-22T16:24:54.297023Z"
    }
   },
   "cell_type": "code",
   "source": "",
   "id": "10c8a6edcc0d7eb1",
   "outputs": [],
   "execution_count": 22
  },
  {
   "metadata": {
    "ExecuteTime": {
     "end_time": "2024-10-22T16:24:54.306359Z",
     "start_time": "2024-10-22T16:24:54.301225Z"
    }
   },
   "cell_type": "code",
   "source": [
    "def sum_multi(path_to_set_m, path_to_set_v, n=4, p=3):\n",
    "    dim: int = n\n",
    "    set_m = np.genfromtxt(path_to_set_m, dtype=int, delimiter=',')\n",
    "    set_v = np.genfromtxt(path_to_set_v, dtype=int, delimiter=',')\n",
    "    result = np.zeros([dim,1], dtype=int)\n",
    "    \n",
    "    for i in range(p):\n",
    "        inter_M = set_m[n-dim:n]\n",
    "        inter_V = set_v[n-dim:n].reshape([dim,1])\n",
    "        \n",
    "        intermediate = np.tensordot(inter_M, inter_V, axes=1)\n",
    "        result = np.add(result, intermediate)\n",
    "        \n",
    "        n += dim\n",
    "        \n",
    "    return result\n"
   ],
   "id": "7bf61ab811f4c4b9",
   "outputs": [],
   "execution_count": 23
  },
  {
   "metadata": {
    "ExecuteTime": {
     "end_time": "2024-10-22T16:24:54.323052Z",
     "start_time": "2024-10-22T16:24:54.307366Z"
    }
   },
   "cell_type": "code",
   "source": "sum_multi('data/data_M.csv', 'data/data_V.csv')",
   "id": "ddf001d9901b1cb9",
   "outputs": [
    {
     "data": {
      "text/plain": [
       "array([[1682],\n",
       "       [1946],\n",
       "       [2210],\n",
       "       [2474]])"
      ]
     },
     "execution_count": 24,
     "metadata": {},
     "output_type": "execute_result"
    }
   ],
   "execution_count": 24
  },
  {
   "metadata": {},
   "cell_type": "markdown",
   "source": [
    "#### Задача 2\n",
    "- Написать функцию преобразовывающую вектор чисел в матрицу бинарных представлений."
   ],
   "id": "f8c641100dedffa1"
  },
  {
   "metadata": {
    "ExecuteTime": {
     "end_time": "2024-10-22T16:24:54.329391Z",
     "start_time": "2024-10-22T16:24:54.326031Z"
    }
   },
   "cell_type": "code",
   "source": [
    "def create_bin_matrix(path_to_vector):\n",
    "    vector = np.genfromtxt(path_to_vector, dtype=int, delimiter=',').reshape([-1,1])\n",
    "    max_bit = np.ceil(np.log2(np.max(vector))).astype(int)\n",
    "    \n",
    "    B = ((vector & (2**np.arange(max_bit))) != 0).astype(int)\n",
    "    return B"
   ],
   "id": "385964c4efe88595",
   "outputs": [],
   "execution_count": 25
  },
  {
   "metadata": {
    "ExecuteTime": {
     "end_time": "2024-10-22T16:24:54.369033Z",
     "start_time": "2024-10-22T16:24:54.358927Z"
    }
   },
   "cell_type": "code",
   "source": "create_bin_matrix('data/data_vector.csv')",
   "id": "318b5d7c36ab7490",
   "outputs": [
    {
     "data": {
      "text/plain": [
       "array([[0, 0, 0, 0, 0, 0, 0, 0],\n",
       "       [1, 0, 0, 0, 0, 0, 0, 0],\n",
       "       [0, 1, 0, 0, 0, 0, 0, 0],\n",
       "       [1, 1, 0, 0, 0, 0, 0, 0],\n",
       "       [0, 0, 1, 0, 0, 0, 0, 0],\n",
       "       [1, 0, 1, 0, 0, 0, 0, 0],\n",
       "       [0, 1, 1, 0, 0, 0, 0, 0],\n",
       "       [1, 1, 1, 0, 0, 0, 0, 0],\n",
       "       [0, 0, 0, 1, 0, 0, 0, 0],\n",
       "       [1, 0, 0, 1, 0, 0, 0, 0],\n",
       "       [1, 0, 0, 0, 0, 0, 0, 1]])"
      ]
     },
     "execution_count": 26,
     "metadata": {},
     "output_type": "execute_result"
    }
   ],
   "execution_count": 26
  },
  {
   "metadata": {},
   "cell_type": "markdown",
   "source": [
    "#### Задача 3\n",
    "- Написать функцию, которая возвращает все уникальные строки матрицы"
   ],
   "id": "3fd2318a1cebfff5"
  },
  {
   "metadata": {
    "ExecuteTime": {
     "end_time": "2024-10-22T16:24:54.382728Z",
     "start_time": "2024-10-22T16:24:54.379714Z"
    }
   },
   "cell_type": "code",
   "source": [
    "def find_unique_lines(path_to_matrix):\n",
    "    matrix = np.genfromtxt(path_to_matrix, dtype=int, delimiter=',')\n",
    "    unique = np.unique(matrix, axis=0)\n",
    "    return unique"
   ],
   "id": "428c57a5a71216d5",
   "outputs": [],
   "execution_count": 27
  },
  {
   "metadata": {
    "ExecuteTime": {
     "end_time": "2024-10-22T16:24:54.448239Z",
     "start_time": "2024-10-22T16:24:54.438294Z"
    }
   },
   "cell_type": "code",
   "source": "find_unique_lines('data/data_m_ununiq.csv')",
   "id": "27bfa4d04aa675ea",
   "outputs": [
    {
     "data": {
      "text/plain": [
       "array([[0, 1, 2, 3],\n",
       "       [0, 1, 2, 4],\n",
       "       [0, 1, 3, 2]])"
      ]
     },
     "execution_count": 28,
     "metadata": {},
     "output_type": "execute_result"
    }
   ],
   "execution_count": 28
  },
  {
   "metadata": {},
   "cell_type": "markdown",
   "source": [
    "#### Задача 4\n",
    "- Написать функцию, которая заполняет матрицу с размерами (M,N) случайными числами распределенными по нормальному закону. Затем считает мат. ожидание и дисперсию для каждого из столбцов, а также строит для каждой строки стоит гистограмму значений (использовать функцию hist из модуля matplotlib.plot)"
   ],
   "id": "abcbd248e37df928"
  },
  {
   "metadata": {
    "ExecuteTime": {
     "end_time": "2024-10-22T16:24:54.462353Z",
     "start_time": "2024-10-22T16:24:54.457763Z"
    }
   },
   "cell_type": "code",
   "source": [
    "def funny_normal_matrix(N: int = 10, M: int = 10):\n",
    "    A = np.random.normal(0, 1, size=(N, M))\n",
    "    A_T = A.transpose()\n",
    "\n",
    "    fig, axes = plt.subplots(N, 1, figsize=(3,25))\n",
    "    for i in range(N):\n",
    "        print(f'Мат. ожидание {i} столбца {np.sum(A_T) / len((A_T))}')\n",
    "        print(f'Дисперсия {i} столбца {A_T[i].var()}')\n",
    "        sns.histplot(A[i], ax=axes[i], bins=int(M * 0.5))\n",
    "    return A"
   ],
   "id": "ab5a3c4536db25fc",
   "outputs": [],
   "execution_count": 29
  },
  {
   "metadata": {
    "ExecuteTime": {
     "end_time": "2024-10-22T16:24:54.465868Z",
     "start_time": "2024-10-22T16:24:54.463360Z"
    }
   },
   "cell_type": "code",
   "source": "",
   "id": "a106219b29512ae",
   "outputs": [],
   "execution_count": 29
  },
  {
   "metadata": {
    "ExecuteTime": {
     "end_time": "2024-10-22T16:24:57.402912Z",
     "start_time": "2024-10-22T16:24:54.483393Z"
    }
   },
   "cell_type": "code",
   "source": "A = funny_normal_matrix(N=5, M=10000)",
   "id": "3036a4c22464e42f",
   "outputs": [
    {
     "name": "stdout",
     "output_type": "stream",
     "text": [
      "Мат. ожидание 0 столбца -0.05219645054142348\n",
      "Дисперсия 0 столбца 1.272744184747979\n",
      "Мат. ожидание 1 столбца -0.05219645054142348\n",
      "Дисперсия 1 столбца 0.20267903419012226\n",
      "Мат. ожидание 2 столбца -0.05219645054142348\n",
      "Дисперсия 2 столбца 1.3317177478578348\n",
      "Мат. ожидание 3 столбца -0.05219645054142348\n",
      "Дисперсия 3 столбца 1.4536728971677602\n",
      "Мат. ожидание 4 столбца -0.05219645054142348\n",
      "Дисперсия 4 столбца 0.4385900183876098\n"
     ]
    },
    {
     "data": {
      "text/plain": [
       "<Figure size 300x2500 with 5 Axes>"
      ],
      "image/png": "[encoded data removed]"
     },
     "metadata": {},
     "output_type": "display_data"
    }
   ],
   "execution_count": 30
  },
  {
   "metadata": {},
   "cell_type": "markdown",
   "source": [
    "#### Задача 5\n",
    "- Написать функцию, которая заполняет матрицу (M,N) в шахматном порядке заданными числами a и b."
   ],
   "id": "69cd1d3f3a139b17"
  },
  {
   "metadata": {
    "ExecuteTime": {
     "end_time": "2024-10-22T16:24:57.407314Z",
     "start_time": "2024-10-22T16:24:57.403919Z"
    }
   },
   "cell_type": "code",
   "source": [
    "def chess_matrix(M: int = 5, N: int = 5, a: int = 0, b: int = 1):\n",
    "    matrix = np.array([[a if (i+j) % 2 else b for i in range(M)] for j in range(N)])\n",
    "    return matrix"
   ],
   "id": "c0055548f3042c9",
   "outputs": [],
   "execution_count": 31
  },
  {
   "metadata": {
    "ExecuteTime": {
     "end_time": "2024-10-22T16:24:57.423606Z",
     "start_time": "2024-10-22T16:24:57.408321Z"
    }
   },
   "cell_type": "code",
   "source": "chess_matrix(M=10, N=10, b=10)",
   "id": "5b648ad48eeb1d82",
   "outputs": [
    {
     "data": {
      "text/plain": [
       "array([[10,  0, 10,  0, 10,  0, 10,  0, 10,  0],\n",
       "       [ 0, 10,  0, 10,  0, 10,  0, 10,  0, 10],\n",
       "       [10,  0, 10,  0, 10,  0, 10,  0, 10,  0],\n",
       "       [ 0, 10,  0, 10,  0, 10,  0, 10,  0, 10],\n",
       "       [10,  0, 10,  0, 10,  0, 10,  0, 10,  0],\n",
       "       [ 0, 10,  0, 10,  0, 10,  0, 10,  0, 10],\n",
       "       [10,  0, 10,  0, 10,  0, 10,  0, 10,  0],\n",
       "       [ 0, 10,  0, 10,  0, 10,  0, 10,  0, 10],\n",
       "       [10,  0, 10,  0, 10,  0, 10,  0, 10,  0],\n",
       "       [ 0, 10,  0, 10,  0, 10,  0, 10,  0, 10]])"
      ]
     },
     "execution_count": 32,
     "metadata": {},
     "output_type": "execute_result"
    }
   ],
   "execution_count": 32
  },
  {
   "metadata": {},
   "cell_type": "markdown",
   "source": [
    "#### Задача 6\n",
    "- Написать функцию, которая возвращает тензор представляющий изображение круга с заданным цветом и радиусом в схеме rgd на черном фоне."
   ],
   "id": "29a6136efe23d63c"
  },
  {
   "metadata": {
    "ExecuteTime": {
     "end_time": "2024-10-22T16:24:57.428373Z",
     "start_time": "2024-10-22T16:24:57.424612Z"
    }
   },
   "cell_type": "code",
   "source": [
    "def funny_circle(r, color, size: int=150):\n",
    "    tensor = np.zeros((size, size, 3), dtype=np.uint8)\n",
    "\n",
    "    for y in range(size):\n",
    "        for x in range(size):\n",
    "            if (x - r) ** 2 + (y - r) ** 2 <= r ** 2:\n",
    "                tensor[y, x] = color\n",
    "\n",
    "    return tensor\n",
    "\n"
   ],
   "id": "88aed305353a1af4",
   "outputs": [],
   "execution_count": 33
  },
  {
   "metadata": {
    "ExecuteTime": {
     "end_time": "2024-10-22T16:24:57.524248Z",
     "start_time": "2024-10-22T16:24:57.429379Z"
    }
   },
   "cell_type": "code",
   "source": [
    "plt.imshow(funny_circle(50, (255, 122, 0)))\n",
    "plt.axis('off')\n",
    "plt.show()"
   ],
   "id": "1b7790e0af259291",
   "outputs": [
    {
     "data": {
      "text/plain": [
       "<Figure size 640x480 with 1 Axes>"
      ],
      "image/png": "[encoded data removed]"
     },
     "metadata": {},
     "output_type": "display_data"
    }
   ],
   "execution_count": 34
  },
  {
   "metadata": {},
   "cell_type": "markdown",
   "source": [
    "#### Задача 7\n",
    "- Написать функцию, которая стандартизирует все значения тензор (отнять мат. ожидание и поделить на СКО)"
   ],
   "id": "2d973705b1ea85a2"
  },
  {
   "metadata": {
    "ExecuteTime": {
     "end_time": "2024-10-22T16:24:57.528782Z",
     "start_time": "2024-10-22T16:24:57.524248Z"
    }
   },
   "cell_type": "code",
   "source": [
    "def standard(path_to_vector):\n",
    "    tensor = np.genfromtxt(path_to_vector, dtype=int, delimiter=',')\n",
    "    result = np.array(list(map(lambda x: (x - (np.sum(tensor)/len(tensor))) - np.std(tensor), tensor)))\n",
    "    return result, type(result)"
   ],
   "id": "9143373ff55e0d41",
   "outputs": [],
   "execution_count": 35
  },
  {
   "metadata": {
    "ExecuteTime": {
     "end_time": "2024-10-22T16:24:57.534313Z",
     "start_time": "2024-10-22T16:24:57.529787Z"
    }
   },
   "cell_type": "code",
   "source": "standard('data/data_vector.csv')",
   "id": "834007becf404f01",
   "outputs": [
    {
     "data": {
      "text/plain": [
       "(array([-51.71403669, -50.71403669, -49.71403669, -48.71403669,\n",
       "        -47.71403669, -46.71403669, -45.71403669, -44.71403669,\n",
       "        -43.71403669, -42.71403669,  77.28596331]),\n",
       " numpy.ndarray)"
      ]
     },
     "execution_count": 36,
     "metadata": {},
     "output_type": "execute_result"
    }
   ],
   "execution_count": 36
  },
  {
   "metadata": {},
   "cell_type": "markdown",
   "source": [
    "#### Задача 8\n",
    "- Написать функцию, выделяющую часть матрицы фиксированного размера с центром в данном элементе (дополненное значением fill если необходимо)"
   ],
   "id": "8d3ffc0c9b32b65a"
  },
  {
   "metadata": {
    "ExecuteTime": {
     "end_time": "2024-10-22T16:24:57.538583Z",
     "start_time": "2024-10-22T16:24:57.534313Z"
    }
   },
   "cell_type": "code",
   "source": [
    "def slice_cube(center = (1, 1), M = 1, N = 1, cut:bool = False, MATRIX_path='data/data_matrix.csv'):\n",
    "    matrix = np.zeros([M+N * 5, M+N * 5])\n",
    "    x, y = center\n",
    "    \n",
    "    matrix[x-M:x+N+1, y-N:y+N+1] = 1\n",
    "\n",
    "    if cut:\n",
    "        MATRIX_cut = np.genfromtxt(MATRIX_path, dtype=int, delimiter=',')\n",
    "        return MATRIX_cut, MATRIX_cut[x-M:x+M+1, y-N:y+N+1]\n",
    "     \n",
    "    else:\n",
    "        return matrix\n",
    "    "
   ],
   "id": "da651866c2b26836",
   "outputs": [],
   "execution_count": 37
  },
  {
   "metadata": {
    "ExecuteTime": {
     "end_time": "2024-10-22T16:24:57.546097Z",
     "start_time": "2024-10-22T16:24:57.539589Z"
    }
   },
   "cell_type": "code",
   "source": "slice_cube(center = (10, 10), M = 5, N = 5)",
   "id": "f3efba57ae7813db",
   "outputs": [
    {
     "data": {
      "text/plain": [
       "array([[0., 0., 0., 0., 0., 0., 0., 0., 0., 0., 0., 0., 0., 0., 0., 0.,\n",
       "        0., 0., 0., 0., 0., 0., 0., 0., 0., 0., 0., 0., 0., 0.],\n",
       "       [0., 0., 0., 0., 0., 0., 0., 0., 0., 0., 0., 0., 0., 0., 0., 0.,\n",
       "        0., 0., 0., 0., 0., 0., 0., 0., 0., 0., 0., 0., 0., 0.],\n",
       "       [0., 0., 0., 0., 0., 0., 0., 0., 0., 0., 0., 0., 0., 0., 0., 0.,\n",
       "        0., 0., 0., 0., 0., 0., 0., 0., 0., 0., 0., 0., 0., 0.],\n",
       "       [0., 0., 0., 0., 0., 0., 0., 0., 0., 0., 0., 0., 0., 0., 0., 0.,\n",
       "        0., 0., 0., 0., 0., 0., 0., 0., 0., 0., 0., 0., 0., 0.],\n",
       "       [0., 0., 0., 0., 0., 0., 0., 0., 0., 0., 0., 0., 0., 0., 0., 0.,\n",
       "        0., 0., 0., 0., 0., 0., 0., 0., 0., 0., 0., 0., 0., 0.],\n",
       "       [0., 0., 0., 0., 0., 1., 1., 1., 1., 1., 1., 1., 1., 1., 1., 1.,\n",
       "        0., 0., 0., 0., 0., 0., 0., 0., 0., 0., 0., 0., 0., 0.],\n",
       "       [0., 0., 0., 0., 0., 1., 1., 1., 1., 1., 1., 1., 1., 1., 1., 1.,\n",
       "        0., 0., 0., 0., 0., 0., 0., 0., 0., 0., 0., 0., 0., 0.],\n",
       "       [0., 0., 0., 0., 0., 1., 1., 1., 1., 1., 1., 1., 1., 1., 1., 1.,\n",
       "        0., 0., 0., 0., 0., 0., 0., 0., 0., 0., 0., 0., 0., 0.],\n",
       "       [0., 0., 0., 0., 0., 1., 1., 1., 1., 1., 1., 1., 1., 1., 1., 1.,\n",
       "        0., 0., 0., 0., 0., 0., 0., 0., 0., 0., 0., 0., 0., 0.],\n",
       "       [0., 0., 0., 0., 0., 1., 1., 1., 1., 1., 1., 1., 1., 1., 1., 1.,\n",
       "        0., 0., 0., 0., 0., 0., 0., 0., 0., 0., 0., 0., 0., 0.],\n",
       "       [0., 0., 0., 0., 0., 1., 1., 1., 1., 1., 1., 1., 1., 1., 1., 1.,\n",
       "        0., 0., 0., 0., 0., 0., 0., 0., 0., 0., 0., 0., 0., 0.],\n",
       "       [0., 0., 0., 0., 0., 1., 1., 1., 1., 1., 1., 1., 1., 1., 1., 1.,\n",
       "        0., 0., 0., 0., 0., 0., 0., 0., 0., 0., 0., 0., 0., 0.],\n",
       "       [0., 0., 0., 0., 0., 1., 1., 1., 1., 1., 1., 1., 1., 1., 1., 1.,\n",
       "        0., 0., 0., 0., 0., 0., 0., 0., 0., 0., 0., 0., 0., 0.],\n",
       "       [0., 0., 0., 0., 0., 1., 1., 1., 1., 1., 1., 1., 1., 1., 1., 1.,\n",
       "        0., 0., 0., 0., 0., 0., 0., 0., 0., 0., 0., 0., 0., 0.],\n",
       "       [0., 0., 0., 0., 0., 1., 1., 1., 1., 1., 1., 1., 1., 1., 1., 1.,\n",
       "        0., 0., 0., 0., 0., 0., 0., 0., 0., 0., 0., 0., 0., 0.],\n",
       "       [0., 0., 0., 0., 0., 1., 1., 1., 1., 1., 1., 1., 1., 1., 1., 1.,\n",
       "        0., 0., 0., 0., 0., 0., 0., 0., 0., 0., 0., 0., 0., 0.],\n",
       "       [0., 0., 0., 0., 0., 0., 0., 0., 0., 0., 0., 0., 0., 0., 0., 0.,\n",
       "        0., 0., 0., 0., 0., 0., 0., 0., 0., 0., 0., 0., 0., 0.],\n",
       "       [0., 0., 0., 0., 0., 0., 0., 0., 0., 0., 0., 0., 0., 0., 0., 0.,\n",
       "        0., 0., 0., 0., 0., 0., 0., 0., 0., 0., 0., 0., 0., 0.],\n",
       "       [0., 0., 0., 0., 0., 0., 0., 0., 0., 0., 0., 0., 0., 0., 0., 0.,\n",
       "        0., 0., 0., 0., 0., 0., 0., 0., 0., 0., 0., 0., 0., 0.],\n",
       "       [0., 0., 0., 0., 0., 0., 0., 0., 0., 0., 0., 0., 0., 0., 0., 0.,\n",
       "        0., 0., 0., 0., 0., 0., 0., 0., 0., 0., 0., 0., 0., 0.],\n",
       "       [0., 0., 0., 0., 0., 0., 0., 0., 0., 0., 0., 0., 0., 0., 0., 0.,\n",
       "        0., 0., 0., 0., 0., 0., 0., 0., 0., 0., 0., 0., 0., 0.],\n",
       "       [0., 0., 0., 0., 0., 0., 0., 0., 0., 0., 0., 0., 0., 0., 0., 0.,\n",
       "        0., 0., 0., 0., 0., 0., 0., 0., 0., 0., 0., 0., 0., 0.],\n",
       "       [0., 0., 0., 0., 0., 0., 0., 0., 0., 0., 0., 0., 0., 0., 0., 0.,\n",
       "        0., 0., 0., 0., 0., 0., 0., 0., 0., 0., 0., 0., 0., 0.],\n",
       "       [0., 0., 0., 0., 0., 0., 0., 0., 0., 0., 0., 0., 0., 0., 0., 0.,\n",
       "        0., 0., 0., 0., 0., 0., 0., 0., 0., 0., 0., 0., 0., 0.],\n",
       "       [0., 0., 0., 0., 0., 0., 0., 0., 0., 0., 0., 0., 0., 0., 0., 0.,\n",
       "        0., 0., 0., 0., 0., 0., 0., 0., 0., 0., 0., 0., 0., 0.],\n",
       "       [0., 0., 0., 0., 0., 0., 0., 0., 0., 0., 0., 0., 0., 0., 0., 0.,\n",
       "        0., 0., 0., 0., 0., 0., 0., 0., 0., 0., 0., 0., 0., 0.],\n",
       "       [0., 0., 0., 0., 0., 0., 0., 0., 0., 0., 0., 0., 0., 0., 0., 0.,\n",
       "        0., 0., 0., 0., 0., 0., 0., 0., 0., 0., 0., 0., 0., 0.],\n",
       "       [0., 0., 0., 0., 0., 0., 0., 0., 0., 0., 0., 0., 0., 0., 0., 0.,\n",
       "        0., 0., 0., 0., 0., 0., 0., 0., 0., 0., 0., 0., 0., 0.],\n",
       "       [0., 0., 0., 0., 0., 0., 0., 0., 0., 0., 0., 0., 0., 0., 0., 0.,\n",
       "        0., 0., 0., 0., 0., 0., 0., 0., 0., 0., 0., 0., 0., 0.],\n",
       "       [0., 0., 0., 0., 0., 0., 0., 0., 0., 0., 0., 0., 0., 0., 0., 0.,\n",
       "        0., 0., 0., 0., 0., 0., 0., 0., 0., 0., 0., 0., 0., 0.]])"
      ]
     },
     "execution_count": 38,
     "metadata": {},
     "output_type": "execute_result"
    }
   ],
   "execution_count": 38
  },
  {
   "metadata": {
    "ExecuteTime": {
     "end_time": "2024-10-22T16:24:57.969182Z",
     "start_time": "2024-10-22T16:24:57.548103Z"
    }
   },
   "cell_type": "code",
   "source": [
    "plt.figure(figsize=(8,8))\n",
    "plt.imshow(slice_cube(center=(10,10), M=5, N=5))\n",
    "plt.show()"
   ],
   "id": "97e783bf3e2bc783",
   "outputs": [
    {
     "data": {
      "text/plain": [
       "<Figure size 800x800 with 1 Axes>"
      ],
      "image/png": "[encoded data removed]"
     },
     "metadata": {},
     "output_type": "display_data"
    }
   ],
   "execution_count": 39
  },
  {
   "metadata": {
    "ExecuteTime": {
     "end_time": "2024-10-22T16:24:57.981037Z",
     "start_time": "2024-10-22T16:24:57.970188Z"
    }
   },
   "cell_type": "code",
   "source": [
    "M, M_c = slice_cube(cut=True, center=(3, 2), M=2, N=2)\n",
    "M"
   ],
   "id": "bec00a45e1179a1d",
   "outputs": [
    {
     "data": {
      "text/plain": [
       "array([[ 0,  1,  2,  3,  4,  5],\n",
       "       [ 6,  7,  8,  9, 10, 11],\n",
       "       [12, 13, 14, 15, 16, 17],\n",
       "       [18, 19, 20, 21, 22, 23],\n",
       "       [24, 25, 26, 27, 28, 29],\n",
       "       [30, 31, 32, 33, 34, 35]])"
      ]
     },
     "execution_count": 40,
     "metadata": {},
     "output_type": "execute_result"
    }
   ],
   "execution_count": 40
  },
  {
   "metadata": {
    "ExecuteTime": {
     "end_time": "2024-10-22T16:24:57.985557Z",
     "start_time": "2024-10-22T16:24:57.982042Z"
    }
   },
   "cell_type": "code",
   "source": "M_c",
   "id": "f306ec827804ad2c",
   "outputs": [
    {
     "data": {
      "text/plain": [
       "array([[ 6,  7,  8,  9, 10],\n",
       "       [12, 13, 14, 15, 16],\n",
       "       [18, 19, 20, 21, 22],\n",
       "       [24, 25, 26, 27, 28],\n",
       "       [30, 31, 32, 33, 34]])"
      ]
     },
     "execution_count": 41,
     "metadata": {},
     "output_type": "execute_result"
    }
   ],
   "execution_count": 41
  },
  {
   "metadata": {},
   "cell_type": "markdown",
   "source": [
    "#### Задача 9\n",
    "- Написать функцию, которая находит самое часто встречающееся число в каждой строке матрицы и возвращает массив этих значений"
   ],
   "id": "bbdae6349449cb9"
  },
  {
   "metadata": {
    "ExecuteTime": {
     "end_time": "2024-10-22T16:24:57.990068Z",
     "start_time": "2024-10-22T16:24:57.986563Z"
    }
   },
   "cell_type": "code",
   "source": [
    "def mass_number(path_to_matrix):\n",
    "    \n",
    "    result: list = []\n",
    "    matrix = np.genfromtxt(path_to_matrix, dtype=int, delimiter=',')\n",
    "    \n",
    "    for line in matrix:\n",
    "        \n",
    "        u, indices = np.unique(line, return_inverse=True)\n",
    "        result.append(u[np.argmax(np.bincount(indices))])\n",
    "        \n",
    "    return matrix, result\n",
    "    \n",
    "    "
   ],
   "id": "2b7dab1df597ec6d",
   "outputs": [],
   "execution_count": 42
  },
  {
   "metadata": {
    "ExecuteTime": {
     "end_time": "2024-10-22T16:24:57.995579Z",
     "start_time": "2024-10-22T16:24:57.991073Z"
    }
   },
   "cell_type": "code",
   "source": "mass_number('data/mass_matrix.csv')",
   "id": "fae59fecc6931522",
   "outputs": [
    {
     "data": {
      "text/plain": [
       "(array([[   1,    1,    2,    3,    4,    5],\n",
       "        [   3,    3,    4,   -5,    0,   -1],\n",
       "        [-100, -100, -100,    1,    2,    2],\n",
       "        [   5,    6,    2,    5,    6,    6]]),\n",
       " [1, 3, -100, 6])"
      ]
     },
     "execution_count": 43,
     "metadata": {},
     "output_type": "execute_result"
    }
   ],
   "execution_count": 43
  },
  {
   "metadata": {},
   "cell_type": "markdown",
   "source": [
    "Задача 10\n",
    "- Дан трёхмерный массив, содержащий изображение, размера (height, width, numChannels), а также вектор длины numChannels. Написать функцию, которая складывает каналы изображения с указанными весами, и возвращает результат в виде матрицы размера (height, width)"
   ],
   "id": "df642405e6f46951"
  },
  {
   "metadata": {
    "ExecuteTime": {
     "end_time": "2024-10-22T16:24:57.999979Z",
     "start_time": "2024-10-22T16:24:57.995579Z"
    }
   },
   "cell_type": "code",
   "source": "rand = np.random.randint(0,256, [5, 5, 3], dtype=np.uint8)\n",
   "id": "dbe51a86dc58e172",
   "outputs": [],
   "execution_count": 44
  },
  {
   "metadata": {
    "ExecuteTime": {
     "end_time": "2024-10-22T16:24:58.003398Z",
     "start_time": "2024-10-22T16:24:58.000986Z"
    }
   },
   "cell_type": "code",
   "source": [
    "def injection(img, Q):\n",
    "    return (img * Q).astype(np.uint8)\n",
    "    "
   ],
   "id": "c62876d30ec8dfe1",
   "outputs": [],
   "execution_count": 45
  },
  {
   "metadata": {
    "ExecuteTime": {
     "end_time": "2024-10-22T16:24:58.138475Z",
     "start_time": "2024-10-22T16:24:58.004404Z"
    }
   },
   "cell_type": "code",
   "source": "plt.imshow(rand)",
   "id": "fc870309db5890e5",
   "outputs": [
    {
     "data": {
      "text/plain": [
       "<matplotlib.image.AxesImage at 0x264c59df790>"
      ]
     },
     "execution_count": 46,
     "metadata": {},
     "output_type": "execute_result"
    },
    {
     "data": {
      "text/plain": [
       "<Figure size 640x480 with 1 Axes>"
      ],
      "image/png": "[encoded data removed]"
     },
     "metadata": {},
     "output_type": "display_data"
    }
   ],
   "execution_count": 46
  },
  {
   "metadata": {
    "ExecuteTime": {
     "end_time": "2024-10-22T16:24:58.276125Z",
     "start_time": "2024-10-22T16:24:58.139483Z"
    }
   },
   "cell_type": "code",
   "source": [
    "weights = np.array([0.299, 0.587, 0.114])\n",
    "w = np.array([0.5, 0.5, 0.5])\n",
    "plt.imshow(injection(rand, weights))"
   ],
   "id": "4cde7cda62dd17b3",
   "outputs": [
    {
     "data": {
      "text/plain": [
       "<matplotlib.image.AxesImage at 0x264c4bd79d0>"
      ]
     },
     "execution_count": 47,
     "metadata": {},
     "output_type": "execute_result"
    },
    {
     "data": {
      "text/plain": [
       "<Figure size 640x480 with 1 Axes>"
      ],
      "image/png": "[encoded data removed]"
     },
     "metadata": {},
     "output_type": "display_data"
    }
   ],
   "execution_count": 47
  },
  {
   "metadata": {
    "ExecuteTime": {
     "end_time": "2024-10-22T16:24:58.278922Z",
     "start_time": "2024-10-22T16:24:58.276125Z"
    }
   },
   "cell_type": "code",
   "source": "",
   "id": "cbb52f68789711a4",
   "outputs": [],
   "execution_count": 47
  }
 ],
 "metadata": {
  "kernelspec": {
   "display_name": "Python 3",
   "language": "python",
   "name": "python3"
  },
  "language_info": {
   "codemirror_mode": {
    "name": "ipython",
    "version": 2
   },
   "file_extension": ".py",
   "mimetype": "text/x-python",
   "name": "python",
   "nbconvert_exporter": "python",
   "pygments_lexer": "ipython2",
   "version": "2.7.6"
  }
 },
 "nbformat": 4,
 "nbformat_minor": 5
}
