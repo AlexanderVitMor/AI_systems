{
 "cells": [
  {
   "cell_type": "code",
   "id": "initial_id",
   "metadata": {
    "collapsed": true,
    "ExecuteTime": {
     "end_time": "2024-09-11T08:42:21.742699Z",
     "start_time": "2024-09-11T08:42:15.426178Z"
    }
   },
   "source": [
    "import pandas as pd\n",
    "import numpy as np\n",
    "import seaborn as sns\n",
    "import matplotlib.pyplot as plt\n",
    "\n",
    "\n",
    "from tensorflow.keras.layers import Dense\n",
    "from tensorflow.keras.models import Sequential\n",
    "from tensorflow.keras.utils import to_categorical\n",
    "from sklearn.preprocessing import LabelEncoder\n",
    "from sklearn.model_selection import train_test_split "
   ],
   "execution_count": 1,
   "outputs": []
  },
  {
   "metadata": {
    "ExecuteTime": {
     "end_time": "2024-09-11T08:42:21.749966Z",
     "start_time": "2024-09-11T08:42:21.743720Z"
    }
   },
   "cell_type": "code",
   "source": [
    "def create_dataset():\n",
    "    df = pd.read_csv('datasets/iris.data', header=None)\n",
    "\n",
    "    X = df.drop(labels=4, axis=1)\n",
    "    Y = df[4]\n",
    "\n",
    "    encoder = LabelEncoder()\n",
    "    encoder.fit(Y)\n",
    "    encoded_Y = encoder.transform(Y)\n",
    "    dummy_y = to_categorical(encoded_Y)\n",
    "\n",
    "    X_train, X_test, y_train, y_test = train_test_split(X, dummy_y, test_size=0.2, random_state=42)\n",
    "    \n",
    "    return df, X_train, X_test, y_train, y_test"
   ],
   "id": "3df6500cb9698fe3",
   "execution_count": 2,
   "outputs": []
  },
  {
   "metadata": {
    "ExecuteTime": {
     "end_time": "2024-09-11T08:42:21.789584Z",
     "start_time": "2024-09-11T08:42:21.752898Z"
    }
   },
   "cell_type": "code",
   "source": [
    "df, X_train, X_test, y_train, y_test = create_dataset()\n",
    "\n",
    "df"
   ],
   "id": "6cb484e600c590a9",
   "execution_count": 3,
   "outputs": []
  },
  {
   "metadata": {
    "ExecuteTime": {
     "end_time": "2024-09-11T08:42:21.803726Z",
     "start_time": "2024-09-11T08:42:21.790672Z"
    }
   },
   "cell_type": "code",
   "source": [
    "type(create_dataset()[1])"
   ],
   "id": "e49728bf8d11e3be",
   "execution_count": 4,
   "outputs": []
  },
  {
   "metadata": {
    "ExecuteTime": {
     "end_time": "2024-09-11T08:42:21.820759Z",
     "start_time": "2024-09-11T08:42:21.804838Z"
    }
   },
   "cell_type": "code",
   "source": [
    "def create_error_report(dataset=create_dataset(), input_c: int = 4, output_c: int = 3, loss: str = 'categorical_crossentropy', metrics: str = 'accuracy', optimizer: str = 'adam', epochs: int = 75, batch_size: int = 10, validation_split: float = 0.1):\n",
    "    X_train_in = dataset[1]\n",
    "    y_train_in = dataset[3]\n",
    "    \n",
    "    model = Sequential()\n",
    "    model.add(Dense(input_c, activation='relu'))\n",
    "    model.add(Dense(output_c, activation='softmax'))\n",
    "\n",
    "    model.compile(loss=loss, optimizer=optimizer, metrics=[metrics])\n",
    "\n",
    "    history = model.fit(X_train_in, y_train_in, epochs=epochs, batch_size=batch_size, validation_split=validation_split)\n",
    "    history_df = pd.DataFrame(history.history)\n",
    "\n",
    "    fig, axes = plt.subplots(1, 2, figsize=(15,7))\n",
    "\n",
    "    sns.lineplot(data=history_df[metrics], ax=axes[0])\n",
    "    axes[0].set_title(metrics)\n",
    "    \n",
    "    sns.lineplot(data=history_df['loss'], ax=axes[1])\n",
    "    axes[1].set_title('Loss')\n",
    "    \n",
    "    model.evaluate(X_test, y_test)\n",
    "\n",
    "    \n",
    "    return history_df\n",
    "    "
   ],
   "id": "8acb23c97ff45f5c",
   "execution_count": 5,
   "outputs": []
  },
  {
   "metadata": {
    "ExecuteTime": {
     "end_time": "2024-09-11T08:42:32.446059Z",
     "start_time": "2024-09-11T08:42:21.821829Z"
    }
   },
   "cell_type": "code",
   "source": [
    "history_df = create_error_report()\n"
   ],
   "id": "b1838ff371ad4e03",
   "execution_count": 6,
   "outputs": []
  },
  {
   "metadata": {
    "ExecuteTime": {
     "end_time": "2024-09-11T08:42:32.462353Z",
     "start_time": "2024-09-11T08:42:32.448141Z"
    }
   },
   "cell_type": "code",
   "source": [
    "history_df"
   ],
   "id": "e17b465643f3e531",
   "execution_count": 7,
   "outputs": []
  },
  {
   "metadata": {
    "ExecuteTime": {
     "end_time": "2024-09-11T08:42:41.835916Z",
     "start_time": "2024-09-11T08:42:32.464529Z"
    }
   },
   "cell_type": "code",
   "source": [
    "history_df = create_error_report(input_c=7)"
   ],
   "id": "bcc2d5ca0602029d",
   "execution_count": 8,
   "outputs": []
  },
  {
   "metadata": {
    "ExecuteTime": {
     "end_time": "2024-09-11T08:42:41.842598Z",
     "start_time": "2024-09-11T08:42:41.839580Z"
    }
   },
   "cell_type": "code",
   "source": [],
   "id": "907957e87250d9cf",
   "execution_count": 8,
   "outputs": []
  },
  {
   "metadata": {
    "ExecuteTime": {
     "end_time": "2024-09-11T08:42:51.165171Z",
     "start_time": "2024-09-11T08:42:41.844610Z"
    }
   },
   "cell_type": "code",
   "source": [
    "create_error_report(input_c=7, optimizer='RMSprop', metrics='AUC')"
   ],
   "id": "f1b0a5ffe7436bb4",
   "execution_count": 9,
   "outputs": []
  },
  {
   "metadata": {
    "ExecuteTime": {
     "end_time": "2024-09-11T08:43:00.266170Z",
     "start_time": "2024-09-11T08:42:51.166251Z"
    }
   },
   "cell_type": "code",
   "source": [
    "create_error_report(input_c=7, optimizer='SGD', metrics='AUC')"
   ],
   "id": "4bc0f294928968cc",
   "execution_count": 10,
   "outputs": []
  },
  {
   "metadata": {
    "ExecuteTime": {
     "end_time": "2024-09-11T08:43:09.180346Z",
     "start_time": "2024-09-11T08:43:00.268179Z"
    }
   },
   "cell_type": "code",
   "source": [
    "create_error_report(input_c=7, optimizer='SGD', metrics='AUC', batch_size=20)"
   ],
   "id": "8c1621fea435e138",
   "execution_count": 11,
   "outputs": []
  },
  {
   "metadata": {
    "ExecuteTime": {
     "end_time": "2024-09-11T08:43:17.076175Z",
     "start_time": "2024-09-11T08:43:09.182417Z"
    }
   },
   "cell_type": "code",
   "source": [
    "create_error_report(input_c=7, optimizer='SGD', metrics='AUC', batch_size=65)"
   ],
   "id": "a5aa999861addaad",
   "execution_count": 12,
   "outputs": []
  },
  {
   "metadata": {
    "ExecuteTime": {
     "end_time": "2024-09-11T08:43:27.120396Z",
     "start_time": "2024-09-11T08:43:17.077267Z"
    }
   },
   "cell_type": "code",
   "source": [
    "create_error_report(input_c=7, optimizer='SGD', metrics='AUC', batch_size=5)"
   ],
   "id": "a8c4edc9b8c27335",
   "execution_count": 13,
   "outputs": []
  },
  {
   "metadata": {
    "ExecuteTime": {
     "end_time": "2024-09-11T08:43:39.887503Z",
     "start_time": "2024-09-11T08:43:27.121373Z"
    }
   },
   "cell_type": "code",
   "source": [
    "create_error_report(input_c=7, optimizer='SGD', metrics='AUC', batch_size=5, epochs=100)"
   ],
   "id": "37288347ad45f9ff",
   "execution_count": 14,
   "outputs": []
  },
  {
   "metadata": {
    "ExecuteTime": {
     "end_time": "2024-09-11T08:43:39.893554Z",
     "start_time": "2024-09-11T08:43:39.889716Z"
    }
   },
   "cell_type": "code",
   "execution_count": 14,
   "source": [],
   "id": "6ccb9a373cc5d04c",
   "outputs": []
  }
 ],
 "metadata": {
  "kernelspec": {
   "display_name": "Python 3",
   "language": "python",
   "name": "python3"
  },
  "language_info": {
   "codemirror_mode": {
    "name": "ipython",
    "version": 2
   },
   "file_extension": ".py",
   "mimetype": "text/x-python",
   "name": "python",
   "nbconvert_exporter": "python",
   "pygments_lexer": "ipython2",
   "version": "2.7.6"
  }
 },
 "nbformat": 4,
 "nbformat_minor": 5
}
