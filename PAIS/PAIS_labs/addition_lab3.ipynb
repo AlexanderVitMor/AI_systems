{
 "cells": [
  {
   "cell_type": "code",
   "id": "initial_id",
   "metadata": {
    "collapsed": true,
    "ExecuteTime": {
     "end_time": "2024-10-07T21:23:20.732368Z",
     "start_time": "2024-10-07T21:23:20.729144Z"
    }
   },
   "source": [
    "import numpy as np\n",
    "import matplotlib.pyplot as plt\n",
    "import seaborn as sns\n",
    "import pandas as pd"
   ],
   "execution_count": 1,
   "outputs": []
  },
  {
   "metadata": {
    "ExecuteTime": {
     "end_time": "2024-10-07T21:24:50.737921Z",
     "start_time": "2024-10-07T21:24:50.732416Z"
    }
   },
   "cell_type": "code",
   "source": "boston = pd.read_csv('Datasets_for_labs/boston_data.csv')",
   "id": "ea6c4bdb84423855",
   "execution_count": 4,
   "outputs": []
  },
  {
   "metadata": {
    "ExecuteTime": {
     "end_time": "2024-10-07T21:24:53.860835Z",
     "start_time": "2024-10-07T21:24:53.842014Z"
    }
   },
   "cell_type": "code",
   "source": "boston",
   "id": "3f8e144131b7e01e",
   "execution_count": 5,
   "outputs": []
  },
  {
   "metadata": {
    "ExecuteTime": {
     "end_time": "2024-10-07T21:26:46.346511Z",
     "start_time": "2024-10-07T21:26:14.367670Z"
    }
   },
   "cell_type": "code",
   "source": "sns.pairplot(boston)",
   "id": "ec94f70e8f9e88dd",
   "execution_count": 6,
   "outputs": []
  },
  {
   "metadata": {
    "ExecuteTime": {
     "end_time": "2024-10-07T21:30:24.186553Z",
     "start_time": "2024-10-07T21:30:24.180160Z"
    }
   },
   "cell_type": "code",
   "source": "boston.corr()['medv'].sort_values(ascending=False)",
   "id": "5802289af70b3a3d",
   "execution_count": 10,
   "outputs": []
  },
  {
   "metadata": {
    "ExecuteTime": {
     "end_time": "2024-10-07T21:31:25.392864Z",
     "start_time": "2024-10-07T21:31:25.221404Z"
    }
   },
   "cell_type": "code",
   "source": "sns.scatterplot(data=boston, x='lstat', y='medv')",
   "id": "5794d3e44eb0b525",
   "execution_count": 11,
   "outputs": []
  },
  {
   "metadata": {
    "ExecuteTime": {
     "end_time": "2024-10-07T21:31:42.926233Z",
     "start_time": "2024-10-07T21:31:42.746956Z"
    }
   },
   "cell_type": "code",
   "source": "sns.scatterplot(data=boston, x='lstat', y='rm')",
   "id": "7dbd7ecdf333f4de",
   "execution_count": 12,
   "outputs": []
  },
  {
   "metadata": {},
   "cell_type": "code",
   "execution_count": null,
   "source": "",
   "id": "51c73e3bd0084a20",
   "outputs": []
  }
 ],
 "metadata": {
  "kernelspec": {
   "display_name": "Python 3",
   "language": "python",
   "name": "python3"
  },
  "language_info": {
   "codemirror_mode": {
    "name": "ipython",
    "version": 2
   },
   "file_extension": ".py",
   "mimetype": "text/x-python",
   "name": "python",
   "nbconvert_exporter": "python",
   "pygments_lexer": "ipython2",
   "version": "2.7.6"
  }
 },
 "nbformat": 4,
 "nbformat_minor": 5
}
