{
 "cells": [
  {
   "metadata": {},
   "cell_type": "markdown",
   "source": "# MAV - Laboratory 3 -> PAIS",
   "id": "63ef6ded2c7fc6a8"
  },
  {
   "cell_type": "code",
   "id": "initial_id",
   "metadata": {
    "collapsed": true,
    "ExecuteTime": {
     "end_time": "2024-10-08T20:27:21.362706Z",
     "start_time": "2024-10-08T20:27:21.359052Z"
    }
   },
   "source": [
    "from types import FunctionType\n",
    "\n",
    "import numpy as np\n",
    "import pandas as pd\n",
    "import matplotlib.pyplot as plt\n",
    "import seaborn as sns\n",
    "\n",
    "from tensorflow.keras.layers import Dense\n",
    "from tensorflow.keras.models import Sequential\n",
    "from tensorflow.keras.utils import to_categorical\n",
    "from tensorflow.keras.datasets import boston_housing"
   ],
   "execution_count": 84,
   "outputs": []
  },
  {
   "metadata": {
    "ExecuteTime": {
     "end_time": "2024-10-08T20:27:21.411180Z",
     "start_time": "2024-10-08T20:27:21.406713Z"
    }
   },
   "cell_type": "code",
   "source": "(train_x, train_y), (test_x, test_y) = boston_housing.load_data()",
   "id": "bba2a02bde3b1444",
   "execution_count": 85,
   "outputs": []
  },
  {
   "metadata": {},
   "cell_type": "markdown",
   "source": "##### В конце понадобиться для вывода средних графиков",
   "id": "a76cfa55cd29b844"
  },
  {
   "metadata": {
    "ExecuteTime": {
     "end_time": "2024-10-08T20:27:21.424722Z",
     "start_time": "2024-10-08T20:27:21.422204Z"
    }
   },
   "cell_type": "code",
   "source": [
    "MEAN_MAE_SCORE: dict = {}\n",
    "MEAN_MSE_SCORE: dict = {}"
   ],
   "id": "6d854f8af9c3b125",
   "execution_count": 86,
   "outputs": []
  },
  {
   "metadata": {
    "ExecuteTime": {
     "end_time": "2024-10-08T20:27:21.428543Z",
     "start_time": "2024-10-08T20:27:21.425728Z"
    }
   },
   "cell_type": "code",
   "source": [
    "print(train_x.shape)\n",
    "print(test_x.shape)\n",
    "print(test_x)"
   ],
   "id": "c521502aef2ea8fa",
   "execution_count": 87,
   "outputs": []
  },
  {
   "metadata": {},
   "cell_type": "markdown",
   "source": "",
   "id": "6d0acae466eb54c8"
  },
  {
   "metadata": {
    "ExecuteTime": {
     "end_time": "2024-10-08T20:27:21.431972Z",
     "start_time": "2024-10-08T20:27:21.428543Z"
    }
   },
   "cell_type": "code",
   "source": [
    "def normalize(train_data, test_data):\n",
    "    mean = train_data.mean(axis=0)\n",
    "    train_data -= mean\n",
    "    std = train_data.std(axis=0)\n",
    "    train_data /= std\n",
    "    test_data -= mean\n",
    "    test_data /= std\n",
    "    \n",
    "    return train_data, test_data"
   ],
   "id": "51bfb044495aac4d",
   "execution_count": 88,
   "outputs": []
  },
  {
   "metadata": {
    "ExecuteTime": {
     "end_time": "2024-10-08T20:27:21.440642Z",
     "start_time": "2024-10-08T20:27:21.437987Z"
    }
   },
   "cell_type": "code",
   "source": [
    "from sklearn.preprocessing import StandardScaler\n",
    "\n",
    "def standardize(train_data, test_data):\n",
    "    scaler = StandardScaler()\n",
    "    \n",
    "    scaled_X_train = scaler.fit_transform(train_data)\n",
    "    scaled_X_test = scaler.transform(test_data)\n",
    "    \n",
    "    return scaled_X_train, scaled_X_test"
   ],
   "id": "989515d847697c47",
   "execution_count": 89,
   "outputs": []
  },
  {
   "metadata": {
    "ExecuteTime": {
     "end_time": "2024-10-08T20:27:21.467305Z",
     "start_time": "2024-10-08T20:27:21.463649Z"
    }
   },
   "cell_type": "code",
   "source": [
    "def build_regression_model():\n",
    "    model = Sequential()\n",
    "    model.add(Dense(64, activation='relu'))\n",
    "    model.add(Dense(64, activation='relu'))\n",
    "    model.add(Dense(1))\n",
    "    \n",
    "    model.compile(optimizer='rmsprop', loss='mse', metrics=['mae'])\n",
    "    return model"
   ],
   "id": "c8daf4762da21bdc",
   "execution_count": 90,
   "outputs": []
  },
  {
   "metadata": {
    "ExecuteTime": {
     "end_time": "2024-10-08T20:27:21.476070Z",
     "start_time": "2024-10-08T20:27:21.468315Z"
    }
   },
   "cell_type": "code",
   "source": [
    "def hand_cross_validation_model(train_X = train_x, test_X = test_x, train_Y = train_y, k: int = 4, num_epochs: int = 100, batch_size: int = 2, scaling_function = normalize):\n",
    "\n",
    "    train_data, test_data = scaling_function(train_X, test_X)\n",
    "    \n",
    "    num_val_samples: int = len(train_data) // k\n",
    "    all_scores_mae: list = []\n",
    "    all_losses_mse: list = []\n",
    "    \n",
    "    for i in range(k):\n",
    "        print('processing fold #', i)\n",
    "        val_data = train_data[i *  num_val_samples: (i + 1) * num_val_samples]\n",
    "        val_targets = train_Y[i * num_val_samples: (i + 1) * num_val_samples]\n",
    "    \n",
    "        partial_train_data = np.concatenate([train_data[:i * num_val_samples], train_data[(i + 1) * num_val_samples:]], axis=0)\n",
    "        partial_train_targets = np.concatenate([train_Y[:i * num_val_samples], train_Y[(i + 1) * num_val_samples:]], axis=0)\n",
    "    \n",
    "        model = build_regression_model()\n",
    "        history = model.fit(partial_train_data, partial_train_targets, epochs=num_epochs, batch_size=batch_size, validation_split=0.1, verbose=0)\n",
    "    \n",
    "        history_df = pd.DataFrame(history.history)\n",
    "    \n",
    "        fig, axes = plt.subplots(1, 2, figsize=(15,7))\n",
    "\n",
    "        sns.lineplot(data=history_df['mae'], ax=axes[0], color='red')\n",
    "        sns.lineplot(data=history_df['val_mae'], ax=axes[0],  color='green')\n",
    "        axes[0].set_title(f'Mae in {i + 1} iteration')\n",
    "\n",
    "        sns.lineplot(data=history_df['loss'], ax=axes[1], color='red')\n",
    "        sns.lineplot(data=history_df['val_loss'], ax=axes[1], color='green')\n",
    "        axes[1].set_title(f'Loss in {i + 1} iteration')\n",
    "        \n",
    "        val_mse, val_mae = model.evaluate(val_data, val_targets, verbose=0)\n",
    "        \n",
    "        all_scores_mae.append(val_mae)\n",
    "        all_losses_mse.append(val_mse)\n",
    "        \n",
    "        \n",
    "        \n",
    "    print(f'All Scores MAE: {all_scores_mae}')\n",
    "    print(f'Mean of MAE score ---> {np.mean(all_scores_mae)}')\n",
    "    \n",
    "    print(f'All Losses MSE: {all_losses_mse}')\n",
    "    print(f'Mean of MSE loss ---> {np.mean(all_losses_mse)}')  \n",
    "    \n",
    "    return np.mean(all_scores_mae), np.mean(all_losses_mse)\n"
   ],
   "id": "1afaa2c43ec5a6b4",
   "execution_count": 91,
   "outputs": []
  },
  {
   "metadata": {},
   "cell_type": "markdown",
   "source": "##### Обучение и построение модели на чистых данных `Hold-Out` -> обучение `test` <-> `train`  ",
   "id": "4b7b75ab43037947"
  },
  {
   "metadata": {
    "ExecuteTime": {
     "end_time": "2024-10-08T20:27:21.482319Z",
     "start_time": "2024-10-08T20:27:21.477081Z"
    }
   },
   "cell_type": "code",
   "source": [
    "def final_evaluation(num_epochs: int = 100, batch_size: int = 10):\n",
    "    model_without_CV = build_regression_model()\n",
    "    train_data, test_data = standardize(train_x, test_x)\n",
    "\n",
    "    history = model_without_CV.fit(train_data, train_y, epochs=num_epochs, batch_size=batch_size, validation_split=0.1)\n",
    "\n",
    "    history_df = pd.DataFrame(history.history)\n",
    "\n",
    "    fig, axes = plt.subplots(1, 2, figsize=(15,7))\n",
    "\n",
    "    sns.lineplot(data=history_df['mae'], ax=axes[0], color='red')\n",
    "    sns.lineplot(data=history_df['val_mae'], ax=axes[0],  color='green')\n",
    "    axes[0].set_title('Mae')\n",
    "\n",
    "    sns.lineplot(data=history_df['loss'], ax=axes[1], color='red')\n",
    "    sns.lineplot(data=history_df['val_loss'], ax=axes[1], color='green')\n",
    "    axes[1].set_title('Loss')\n",
    "    \n",
    "    final_mae, final_mse = model_without_CV.evaluate(test_data, test_y)\n",
    "    \n",
    "    print(f'Final MAE ---> {final_mae}')\n",
    "    print(f'Final MSE ---> {final_mse}')\n",
    "    "
   ],
   "id": "27714a1e6c35708c",
   "execution_count": 92,
   "outputs": []
  },
  {
   "metadata": {},
   "cell_type": "markdown",
   "source": "##### Starting Analysis...",
   "id": "b1167317abe31481"
  },
  {
   "metadata": {
    "ExecuteTime": {
     "end_time": "2024-10-08T20:27:42.229411Z",
     "start_time": "2024-10-08T20:27:21.483324Z"
    }
   },
   "cell_type": "code",
   "source": [
    "MAE, MSE = hand_cross_validation_model(batch_size=10, num_epochs=100)\n",
    "MEAN_MAE_SCORE['default'] = MAE\n",
    "MEAN_MSE_SCORE['default'] = MSE"
   ],
   "id": "df1bc549251e1571",
   "execution_count": 93,
   "outputs": []
  },
  {
   "metadata": {
    "ExecuteTime": {
     "end_time": "2024-10-08T20:27:54.957019Z",
     "start_time": "2024-10-08T20:27:42.230416Z"
    }
   },
   "cell_type": "code",
   "source": [
    "MAE, MSE = hand_cross_validation_model(k=2, batch_size=10, num_epochs=150, scaling_function=standardize)\n",
    "MEAN_MAE_SCORE['k=2 e=150'] = MAE\n",
    "MEAN_MSE_SCORE['k=2 e=150'] = MSE"
   ],
   "id": "3daede308000fe78",
   "execution_count": 94,
   "outputs": []
  },
  {
   "metadata": {
    "ExecuteTime": {
     "end_time": "2024-10-08T20:28:01.387821Z",
     "start_time": "2024-10-08T20:27:54.957019Z"
    }
   },
   "cell_type": "code",
   "source": "final_evaluation()",
   "id": "2f5900fc64848c3",
   "execution_count": 95,
   "outputs": []
  },
  {
   "metadata": {},
   "cell_type": "markdown",
   "source": "##### `w_OF` -> without overfitting",
   "id": "fb2fd80297b4d773"
  },
  {
   "metadata": {
    "ExecuteTime": {
     "end_time": "2024-10-08T20:28:47.782955Z",
     "start_time": "2024-10-08T20:28:01.388827Z"
    }
   },
   "cell_type": "code",
   "source": [
    "MAE, MSE = hand_cross_validation_model(k=10, num_epochs=80, batch_size=10, scaling_function=standardize)\n",
    "MEAN_MAE_SCORE['k=10 e=80 w_OF'] = MAE\n",
    "MEAN_MSE_SCORE['k=10 e=80 w_OF'] = MSE"
   ],
   "id": "3f94cd0955f22db",
   "execution_count": 96,
   "outputs": []
  },
  {
   "metadata": {
    "ExecuteTime": {
     "end_time": "2024-10-08T20:31:32.990005Z",
     "start_time": "2024-10-08T20:31:12.060200Z"
    }
   },
   "cell_type": "code",
   "source": [
    "MAE, MSE = hand_cross_validation_model(k=6, num_epochs=60, batch_size=10, scaling_function=standardize)\n",
    "MEAN_MAE_SCORE['optimal'] = MAE\n",
    "MEAN_MSE_SCORE['optimal'] = MSE"
   ],
   "id": "e23d94ddde65cc5d",
   "execution_count": 101,
   "outputs": []
  },
  {
   "metadata": {},
   "cell_type": "markdown",
   "source": "# <-------------------------------------------------------------------- Final model comparison -------------------------------------------------------------------->",
   "id": "ccc6f346f0fe3df0"
  },
  {
   "metadata": {
    "ExecuteTime": {
     "end_time": "2024-10-08T20:31:38.066161Z",
     "start_time": "2024-10-08T20:31:38.060024Z"
    }
   },
   "cell_type": "code",
   "source": [
    "df_mae_score = pd.DataFrame(MEAN_MAE_SCORE.items(), columns=['Name', 'MAE'])\n",
    "df_mae_score"
   ],
   "id": "4a7d8d3361210c4a",
   "execution_count": 102,
   "outputs": []
  },
  {
   "metadata": {
    "ExecuteTime": {
     "end_time": "2024-10-08T20:31:39.877091Z",
     "start_time": "2024-10-08T20:31:39.871017Z"
    }
   },
   "cell_type": "code",
   "source": [
    "df_mse_score = pd.DataFrame(MEAN_MSE_SCORE.items(), columns=['Name', 'MSE'])\n",
    "df_mse_score"
   ],
   "id": "4e05056b35af4cd0",
   "execution_count": 103,
   "outputs": []
  },
  {
   "metadata": {
    "ExecuteTime": {
     "end_time": "2024-10-08T20:36:04.790270Z",
     "start_time": "2024-10-08T20:36:04.420111Z"
    }
   },
   "cell_type": "code",
   "source": [
    "fig = plt.figure(figsize=(15,7), dpi=300)\n",
    "\n",
    "sns.pointplot(data=df_mae_score, x='Name', y='MAE', color='red')\n",
    "sns.pointplot(data=df_mse_score, x='Name', y='MSE', color='green')\n",
    "plt.title('MAE vs MSE');"
   ],
   "id": "ce9095d2075ec785",
   "execution_count": 112,
   "outputs": []
  },
  {
   "metadata": {},
   "cell_type": "code",
   "execution_count": null,
   "source": "",
   "id": "166d28dd532bd2af",
   "outputs": []
  }
 ],
 "metadata": {
  "kernelspec": {
   "display_name": "Python 3",
   "language": "python",
   "name": "python3"
  },
  "language_info": {
   "codemirror_mode": {
    "name": "ipython",
    "version": 2
   },
   "file_extension": ".py",
   "mimetype": "text/x-python",
   "name": "python",
   "nbconvert_exporter": "python",
   "pygments_lexer": "ipython2",
   "version": "2.7.6"
  }
 },
 "nbformat": 4,
 "nbformat_minor": 5
}
