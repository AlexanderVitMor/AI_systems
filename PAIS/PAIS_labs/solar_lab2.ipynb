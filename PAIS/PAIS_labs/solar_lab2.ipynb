{
 "cells": [
  {
   "cell_type": "code",
   "id": "initial_id",
   "metadata": {
    "collapsed": true,
    "ExecuteTime": {
     "end_time": "2024-10-07T08:20:19.964169Z",
     "start_time": "2024-10-07T08:20:17.691502Z"
    }
   },
   "source": [
    "import pandas as pd\n",
    "from tensorflow.keras.layers import Dense\n",
    "from tensorflow.keras.models import Sequential\n",
    "from tensorflow.keras.utils import to_categorical\n",
    "from sklearn.preprocessing import LabelEncoder\n",
    "import matplotlib.pyplot as plt\n",
    "import seaborn as sns\n"
   ],
   "execution_count": 1,
   "outputs": []
  },
  {
   "cell_type": "code",
   "source": [
    "from sklearn.model_selection import train_test_split\n",
    "\n",
    "\n",
    "def create_dataset():\n",
    "    df = pd.read_csv('Datasets/sonar.all-data', header=None)\n",
    "\n",
    "    X = df.drop(labels=60, axis=1)\n",
    "    Y = df[60]\n",
    "\n",
    "    encoder = LabelEncoder()\n",
    "    encoder.fit(Y)\n",
    "    encoded_Y = encoder.transform(Y)\n",
    "\n",
    "    X_train, X_test, y_train, y_test = train_test_split(X, encoded_Y, test_size=0.1, random_state=42)\n",
    "\n",
    "    return df, X_train, X_test, y_train, y_test"
   ],
   "metadata": {
    "collapsed": false,
    "ExecuteTime": {
     "end_time": "2024-10-07T08:20:20.795542Z",
     "start_time": "2024-10-07T08:20:20.703306Z"
    }
   },
   "id": "8b82599e2a70002",
   "execution_count": 2,
   "outputs": []
  },
  {
   "cell_type": "code",
   "source": [
    "df, X_train, X_test, y_train, y_test = create_dataset()"
   ],
   "metadata": {
    "collapsed": false,
    "ExecuteTime": {
     "end_time": "2024-10-07T08:20:22.679912Z",
     "start_time": "2024-10-07T08:20:22.659579Z"
    }
   },
   "id": "d903766014cb7733",
   "execution_count": 3,
   "outputs": []
  },
  {
   "cell_type": "code",
   "source": [
    "print(len(df), len(X_train), len(X_test), sep='\\n')"
   ],
   "metadata": {
    "collapsed": false,
    "ExecuteTime": {
     "end_time": "2024-10-07T08:20:23.167280Z",
     "start_time": "2024-10-07T08:20:23.163527Z"
    }
   },
   "id": "b48c3a72b157d5c",
   "execution_count": 4,
   "outputs": []
  },
  {
   "cell_type": "code",
   "source": [
    "df[60].value_counts()"
   ],
   "metadata": {
    "collapsed": false,
    "ExecuteTime": {
     "end_time": "2024-10-07T08:20:23.634701Z",
     "start_time": "2024-10-07T08:20:23.623723Z"
    }
   },
   "id": "13de736bc7046a1e",
   "execution_count": 5,
   "outputs": []
  },
  {
   "cell_type": "code",
   "source": [
    "def create_error_report(model_N_layers, dataset=create_dataset(), metrics: str = 'accuracy', epochs: int = 100, batch_size: int = 10, validation_split: float = 0.1):\n",
    "    X_train_in = dataset[1]\n",
    "    y_train_in = dataset[3]\n",
    "\n",
    "    history = model_N_layers.fit(X_train_in, y_train_in, epochs=epochs, batch_size=batch_size, validation_split=validation_split)\n",
    "    history_df = pd.DataFrame(history.history)\n",
    "\n",
    "    fig, axes = plt.subplots(1, 2, figsize=(15,7))\n",
    "\n",
    "    sns.lineplot(data=history_df[f'val_{metrics}'], ax=axes[0])\n",
    "    axes[0].set_title(metrics)\n",
    "\n",
    "    sns.lineplot(data=history_df['val_loss'], ax=axes[1])\n",
    "    axes[1].set_title('Loss')\n",
    "\n",
    "    model_N_layers.evaluate(X_test, y_test)\n",
    "\n",
    "\n",
    "    return history_df\n",
    "    "
   ],
   "metadata": {
    "collapsed": false,
    "ExecuteTime": {
     "end_time": "2024-10-07T08:20:26.795172Z",
     "start_time": "2024-10-07T08:20:26.785273Z"
    }
   },
   "id": "44ce12bfd83df0b1",
   "execution_count": 6,
   "outputs": []
  },
  {
   "cell_type": "code",
   "source": [
    "baseline_model = Sequential()\n",
    "baseline_model.add(Dense(60, input_dim=60, kernel_initializer='normal', activation='relu'))\n",
    "baseline_model.add(Dense(1, kernel_initializer='normal', activation='sigmoid'))\n",
    "\n",
    "baseline_model.compile(optimizer='adam', loss='binary_crossentropy', metrics=['mae'])\n",
    "\n",
    "create_error_report(baseline_model, metrics='mae')"
   ],
   "metadata": {
    "collapsed": false,
    "ExecuteTime": {
     "end_time": "2024-10-07T08:20:33.623982Z",
     "start_time": "2024-10-07T08:20:27.834308Z"
    }
   },
   "id": "c418403e5e56300d",
   "execution_count": 7,
   "outputs": []
  },
  {
   "cell_type": "code",
   "source": [
    "baseline_model = Sequential()\n",
    "baseline_model.add(Dense(30, input_dim=60, kernel_initializer='normal', activation='relu'))\n",
    "baseline_model.add(Dense(1, kernel_initializer='normal', activation='sigmoid'))\n",
    "\n",
    "baseline_model.compile(optimizer='adam', loss='binary_crossentropy', metrics=['accuracy'])\n",
    "\n",
    "create_error_report(baseline_model)"
   ],
   "metadata": {
    "collapsed": false,
    "ExecuteTime": {
     "end_time": "2024-10-01T14:00:20.345052Z",
     "start_time": "2024-10-01T14:00:04.860023Z"
    }
   },
   "id": "85e830f8e115921d",
   "execution_count": 15,
   "outputs": []
  },
  {
   "cell_type": "code",
   "source": [
    "baseline_model = Sequential()\n",
    "baseline_model.add(Dense(30, input_dim=60, kernel_initializer='normal', activation='relu'))\n",
    "baseline_model.add(Dense(15, kernel_initializer='normal', activation='relu'))\n",
    "baseline_model.add(Dense(1, kernel_initializer='normal', activation='sigmoid'))\n",
    "\n",
    "baseline_model.compile(optimizer='adam', loss='binary_crossentropy', metrics=['accuracy'])\n",
    "\n",
    "create_error_report(baseline_model)"
   ],
   "metadata": {
    "collapsed": false,
    "ExecuteTime": {
     "end_time": "2024-10-01T14:00:37.991913Z",
     "start_time": "2024-10-01T14:00:20.347044Z"
    }
   },
   "id": "98447976b19f122",
   "execution_count": 16,
   "outputs": []
  },
  {
   "cell_type": "code",
   "source": [
    "baseline_model = Sequential()\n",
    "baseline_model.add(Dense(45, kernel_initializer='normal', activation='relu'))\n",
    "baseline_model.add(Dense(5, kernel_initializer='normal', activation='relu'))\n",
    "baseline_model.add(Dense(3, kernel_initializer='normal', activation='relu'))\n",
    "baseline_model.add(Dense(1, kernel_initializer='normal', activation='sigmoid'))\n",
    "\n",
    "baseline_model.compile(optimizer='adam', loss='binary_crossentropy', metrics=['accuracy'])\n",
    "\n",
    "create_error_report(baseline_model)"
   ],
   "metadata": {
    "collapsed": false,
    "ExecuteTime": {
     "end_time": "2024-10-01T14:00:54.222958Z",
     "start_time": "2024-10-01T14:00:37.994007Z"
    }
   },
   "id": "c514a38b30bda0b4",
   "execution_count": 17,
   "outputs": []
  },
  {
   "cell_type": "code",
   "source": [
    "baseline_model = Sequential()\n",
    "baseline_model.add(Dense(45, kernel_initializer='normal', activation='relu'))\n",
    "baseline_model.add(Dense(5, kernel_initializer='normal', activation='relu'))\n",
    "baseline_model.add(Dense(10, kernel_initializer='normal', activation='sigmoid'))\n",
    "baseline_model.add(Dense(3, kernel_initializer='normal', activation='relu'))\n",
    "baseline_model.add(Dense(1, kernel_initializer='normal', activation='sigmoid'))\n",
    "\n",
    "baseline_model.compile(optimizer='adam', loss='binary_crossentropy', metrics=['accuracy'])\n",
    "\n",
    "create_error_report(baseline_model)"
   ],
   "metadata": {
    "collapsed": false,
    "ExecuteTime": {
     "end_time": "2024-10-01T14:01:09.971367Z",
     "start_time": "2024-10-01T14:00:54.224091Z"
    }
   },
   "id": "32424977a83e1f92",
   "execution_count": 18,
   "outputs": []
  },
  {
   "cell_type": "code",
   "source": [
    "baseline_model = Sequential()\n",
    "baseline_model.add(Dense(45, kernel_initializer='normal', activation='relu'))\n",
    "baseline_model.add(Dense(5, kernel_initializer='normal', activation='relu'))\n",
    "baseline_model.add(Dense(2, kernel_initializer='normal', activation='sigmoid'))\n",
    "baseline_model.add(Dense(4, kernel_initializer='normal', activation='relu'))\n",
    "baseline_model.add(Dense(1, kernel_initializer='normal', activation='sigmoid'))\n",
    "\n",
    "baseline_model.compile(optimizer='adam', loss='binary_crossentropy', metrics=['accuracy'])\n",
    "\n",
    "create_error_report(baseline_model)"
   ],
   "metadata": {
    "collapsed": false,
    "ExecuteTime": {
     "end_time": "2024-10-01T14:01:27.843804Z",
     "start_time": "2024-10-01T14:01:09.972543Z"
    }
   },
   "id": "6b3d044fc3b6f92e",
   "execution_count": 19,
   "outputs": []
  },
  {
   "cell_type": "code",
   "source": [
    "baseline_model = Sequential()\n",
    "baseline_model.add(Dense(60, kernel_initializer='normal', activation='relu'))\n",
    "baseline_model.add(Dense(40, kernel_initializer='normal', activation='relu'))\n",
    "baseline_model.add(Dense(1, kernel_initializer='normal', activation='sigmoid'))\n",
    "\n",
    "baseline_model.compile(optimizer='adam', loss='binary_crossentropy', metrics=['accuracy'])\n",
    "\n",
    "create_error_report(baseline_model)"
   ],
   "metadata": {
    "collapsed": false,
    "ExecuteTime": {
     "end_time": "2024-10-01T14:01:43.576118Z",
     "start_time": "2024-10-01T14:01:27.844949Z"
    }
   },
   "id": "edd58a3b61a992d3",
   "execution_count": 20,
   "outputs": []
  },
  {
   "cell_type": "code",
   "source": [
    "baseline_model = Sequential()\n",
    "baseline_model.add(Dense(30, kernel_initializer='normal', activation='relu'))\n",
    "baseline_model.add(Dense(40, kernel_initializer='normal', activation='relu'))\n",
    "baseline_model.add(Dense(1, kernel_initializer='normal', activation='sigmoid'))\n",
    "\n",
    "baseline_model.compile(optimizer='adam', loss='binary_crossentropy', metrics=['accuracy'])\n",
    "\n",
    "create_error_report(baseline_model)"
   ],
   "metadata": {
    "collapsed": false,
    "ExecuteTime": {
     "end_time": "2024-10-01T14:01:58.722808Z",
     "start_time": "2024-10-01T14:01:43.578198Z"
    }
   },
   "id": "85e101aa6ec65926",
   "execution_count": 21,
   "outputs": []
  },
  {
   "cell_type": "code",
   "source": [
    "baseline_model = Sequential()\n",
    "baseline_model.add(Dense(30, kernel_initializer='normal', activation='relu'))\n",
    "baseline_model.add(Dense(40, kernel_initializer='normal', activation='relu'))\n",
    "baseline_model.add(Dense(15, kernel_initializer='normal', activation='relu'))\n",
    "baseline_model.add(Dense(1, kernel_initializer='normal', activation='sigmoid'))\n",
    "\n",
    "baseline_model.compile(optimizer='adam', loss='binary_crossentropy', metrics=['accuracy'])\n",
    "\n",
    "create_error_report(baseline_model)"
   ],
   "metadata": {
    "collapsed": false,
    "ExecuteTime": {
     "end_time": "2024-10-01T14:02:13.776396Z",
     "start_time": "2024-10-01T14:01:58.724974Z"
    }
   },
   "id": "7949c0e4e893d95b",
   "execution_count": 22,
   "outputs": []
  },
  {
   "cell_type": "code",
   "source": [
    "baseline_model = Sequential()\n",
    "baseline_model.add(Dense(30, kernel_initializer='normal', activation='relu'))\n",
    "baseline_model.add(Dense(15, kernel_initializer='normal', activation='relu'))\n",
    "baseline_model.add(Dense(40, kernel_initializer='normal', activation='relu'))\n",
    "baseline_model.add(Dense(1, kernel_initializer='normal', activation='sigmoid'))\n",
    "\n",
    "baseline_model.compile(optimizer='adam', loss='binary_crossentropy', metrics=['accuracy'])\n",
    "\n",
    "create_error_report(baseline_model)"
   ],
   "metadata": {
    "collapsed": false,
    "ExecuteTime": {
     "end_time": "2024-10-01T14:02:27.230032Z",
     "start_time": "2024-10-01T14:02:13.781520Z"
    }
   },
   "id": "9bc443eff89340bc",
   "execution_count": 23,
   "outputs": []
  },
  {
   "cell_type": "code",
   "source": [
    "baseline_model = Sequential()\n",
    "baseline_model.add(Dense(30, kernel_initializer='normal', activation='relu'))\n",
    "baseline_model.add(Dense(40, kernel_initializer='normal', activation='relu'))\n",
    "baseline_model.add(Dense(5, kernel_initializer='normal', activation='relu'))\n",
    "baseline_model.add(Dense(15, kernel_initializer='normal', activation='relu'))\n",
    "baseline_model.add(Dense(1, kernel_initializer='normal', activation='sigmoid'))\n",
    "\n",
    "baseline_model.compile(optimizer='adam', loss='binary_crossentropy', metrics=['accuracy'])\n",
    "\n",
    "create_error_report(baseline_model)"
   ],
   "metadata": {
    "collapsed": false,
    "ExecuteTime": {
     "end_time": "2024-10-01T14:02:41.142638Z",
     "start_time": "2024-10-01T14:02:27.233041Z"
    }
   },
   "id": "a7e9ef5d1e444b3b",
   "execution_count": 24,
   "outputs": []
  },
  {
   "cell_type": "code",
   "source": [
    "baseline_model = Sequential()\n",
    "baseline_model.add(Dense(30, kernel_initializer='normal', activation='relu'))\n",
    "baseline_model.add(Dense(40, kernel_initializer='normal', activation='relu'))\n",
    "baseline_model.add(Dense(15, kernel_initializer='normal', activation='relu'))\n",
    "baseline_model.add(Dense(1, kernel_initializer='normal', activation='sigmoid'))\n",
    "\n",
    "baseline_model.compile(optimizer='adam', loss='binary_crossentropy', metrics=['accuracy'])\n",
    "\n",
    "create_error_report(baseline_model)"
   ],
   "metadata": {
    "collapsed": false,
    "ExecuteTime": {
     "end_time": "2024-10-01T14:02:54.525776Z",
     "start_time": "2024-10-01T14:02:41.143618Z"
    }
   },
   "id": "39cc7e52c8d6e164",
   "execution_count": 25,
   "outputs": []
  },
  {
   "cell_type": "code",
   "source": [
    "baseline_model = Sequential()\n",
    "baseline_model.add(Dense(100, kernel_initializer='normal', activation='relu'))\n",
    "baseline_model.add(Dense(1, kernel_initializer='normal', activation='sigmoid'))\n",
    "\n",
    "baseline_model.compile(optimizer='adam', loss='binary_crossentropy', metrics=['accuracy'])\n",
    "\n",
    "create_error_report(baseline_model)"
   ],
   "metadata": {
    "collapsed": false,
    "ExecuteTime": {
     "end_time": "2024-10-01T14:03:06.698869Z",
     "start_time": "2024-10-01T14:02:54.527884Z"
    }
   },
   "id": "6e7b4a5f17bab682",
   "execution_count": 26,
   "outputs": []
  },
  {
   "cell_type": "code",
   "source": [
    "baseline_model = Sequential()\n",
    "baseline_model.add(Dense(1000, kernel_initializer='normal', activation='relu'))\n",
    "baseline_model.add(Dense(1, kernel_initializer='normal', activation='sigmoid'))\n",
    "\n",
    "baseline_model.compile(optimizer='adam', loss='binary_crossentropy', metrics=['accuracy'])\n",
    "\n",
    "create_error_report(baseline_model)"
   ],
   "metadata": {
    "collapsed": false,
    "ExecuteTime": {
     "end_time": "2024-10-01T14:06:18.554246Z",
     "start_time": "2024-10-01T14:06:04.340742Z"
    }
   },
   "id": "1fa8fa79200bff76",
   "execution_count": 29,
   "outputs": []
  },
  {
   "cell_type": "code",
   "source": [
    "baseline_model = Sequential()\n",
    "baseline_model.add(Dense(1000, kernel_initializer='normal', activation='relu'))\n",
    "baseline_model.add(Dense(5, kernel_initializer='normal', activation='sigmoid'))\n",
    "baseline_model.add(Dense(1, kernel_initializer='normal', activation='sigmoid'))\n",
    "\n",
    "baseline_model.compile(optimizer='adam', loss='binary_crossentropy', metrics=['accuracy'])\n",
    "\n",
    "create_error_report(baseline_model)"
   ],
   "metadata": {
    "collapsed": false,
    "ExecuteTime": {
     "end_time": "2024-10-01T14:07:21.639852Z",
     "start_time": "2024-10-01T14:07:07.678140Z"
    }
   },
   "id": "ab918c8973484f2e",
   "execution_count": 32,
   "outputs": []
  },
  {
   "cell_type": "code",
   "source": [
    "baseline_model = Sequential()\n",
    "baseline_model.add(Dense(10_000, kernel_initializer='normal', activation='relu'))\n",
    "baseline_model.add(Dense(1, kernel_initializer='normal', activation='sigmoid'))\n",
    "\n",
    "baseline_model.compile(optimizer='adam', loss='binary_crossentropy', metrics=['accuracy'])\n",
    "\n",
    "create_error_report(baseline_model)"
   ],
   "metadata": {
    "collapsed": false,
    "ExecuteTime": {
     "end_time": "2024-10-01T14:08:26.578194Z",
     "start_time": "2024-10-01T14:08:08.801770Z"
    }
   },
   "id": "ad5646ba77549b9",
   "execution_count": 33,
   "outputs": []
  },
  {
   "cell_type": "code",
   "source": [
    "baseline_model = Sequential()\n",
    "baseline_model.add(Dense(1_000_000, kernel_initializer='normal', activation='relu'))\n",
    "baseline_model.add(Dense(1, kernel_initializer='normal', activation='sigmoid'))\n",
    "\n",
    "baseline_model.compile(optimizer='adam', loss='binary_crossentropy', metrics=['accuracy'])\n",
    "\n",
    "create_error_report(baseline_model)"
   ],
   "metadata": {
    "collapsed": false,
    "is_executing": true,
    "ExecuteTime": {
     "start_time": "2024-10-01T14:09:55.564307Z"
    }
   },
   "id": "1059e9506d59383a",
   "execution_count": null,
   "outputs": []
  },
  {
   "cell_type": "code",
   "source": [],
   "metadata": {
    "collapsed": false
   },
   "id": "bcc06416c1f31e63",
   "execution_count": null,
   "outputs": []
  }
 ],
 "metadata": {
  "kernelspec": {
   "display_name": "Python 3",
   "language": "python",
   "name": "python3"
  },
  "language_info": {
   "codemirror_mode": {
    "name": "ipython",
    "version": 2
   },
   "file_extension": ".py",
   "mimetype": "text/x-python",
   "name": "python",
   "nbconvert_exporter": "python",
   "pygments_lexer": "ipython2",
   "version": "2.7.6"
  }
 },
 "nbformat": 4,
 "nbformat_minor": 5
}
