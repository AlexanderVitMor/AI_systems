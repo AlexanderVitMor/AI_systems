{
 "cells": [
  {
   "cell_type": "code",
   "id": "initial_id",
   "metadata": {
    "collapsed": true,
    "ExecuteTime": {
     "end_time": "2024-12-10T16:00:26.231630Z",
     "start_time": "2024-12-10T16:00:23.282449Z"
    }
   },
   "source": [
    "import numpy as np\n",
    "import keras\n",
    "import sys\n",
    "from keras.models import Sequential\n",
    "from keras.layers import Dense\n",
    "from keras.layers import Dropout\n",
    "from keras.layers import LSTM\n",
    "from keras.callbacks import ModelCheckpoint\n",
    "from tensorflow.keras.utils import to_categorical\n",
    "\n",
    "import joblib\n"
   ],
   "outputs": [],
   "execution_count": 1
  },
  {
   "metadata": {
    "ExecuteTime": {
     "end_time": "2024-12-10T16:00:27.112056Z",
     "start_time": "2024-12-10T16:00:27.089134Z"
    }
   },
   "cell_type": "code",
   "source": [
    "filename = \"Datasets_for_labs/wonderland.txt\"\n",
    "raw_text = open(filename, encoding='utf-8').read()\n",
    "raw_text = raw_text.lower()"
   ],
   "id": "d64b909e0931d0d8",
   "outputs": [],
   "execution_count": 2
  },
  {
   "metadata": {
    "ExecuteTime": {
     "end_time": "2024-12-10T16:00:28.859371Z",
     "start_time": "2024-12-10T16:00:28.855130Z"
    }
   },
   "cell_type": "code",
   "source": [
    "chars = sorted(list(set(raw_text)))\n",
    "char_to_int = dict((c, i) for i, c in enumerate(chars))"
   ],
   "id": "d036f0189c09f6e9",
   "outputs": [],
   "execution_count": 3
  },
  {
   "metadata": {
    "ExecuteTime": {
     "end_time": "2024-12-10T16:00:29.226070Z",
     "start_time": "2024-12-10T16:00:29.222224Z"
    }
   },
   "cell_type": "code",
   "source": [
    "n_chars = len(raw_text)\n",
    "n_vocab = len(chars)\n",
    "print(\"Total Characters: \", n_chars)\n",
    "print(\"Total Vocab: \", n_vocab)"
   ],
   "id": "b7cf1216e3fdeb4b",
   "outputs": [
    {
     "name": "stdout",
     "output_type": "stream",
     "text": [
      "Total Characters:  144678\n",
      "Total Vocab:  51\n"
     ]
    }
   ],
   "execution_count": 4
  },
  {
   "metadata": {
    "ExecuteTime": {
     "end_time": "2024-12-10T16:00:32.481278Z",
     "start_time": "2024-12-10T16:00:31.310887Z"
    }
   },
   "cell_type": "code",
   "source": [
    "seq_length = 100\n",
    "dataX = []\n",
    "dataY = []\n",
    "for i in range(0, n_chars - seq_length, 1):\n",
    "    seq_in = raw_text[i:i + seq_length]\n",
    "    seq_out = raw_text[i + seq_length]\n",
    "    dataX.append([char_to_int[char] for char in seq_in])\n",
    "    dataY.append(char_to_int[seq_out])\n",
    "n_patterns = len(dataX)\n",
    "print(\"Total Patterns: \", n_patterns)"
   ],
   "id": "9036ca7e7cfef925",
   "outputs": [
    {
     "name": "stdout",
     "output_type": "stream",
     "text": [
      "Total Patterns:  144578\n"
     ]
    }
   ],
   "execution_count": 5
  },
  {
   "metadata": {
    "ExecuteTime": {
     "end_time": "2024-12-10T16:00:36.050930Z",
     "start_time": "2024-12-10T16:00:35.448896Z"
    }
   },
   "cell_type": "code",
   "source": [
    "# reshape X to be [samples, time steps, features]\n",
    "X = np.reshape(dataX, (n_patterns, seq_length, 1))\n",
    "# normalize\n",
    "X = X / float(n_vocab)\n",
    "# one hot encode the output variable\n",
    "y = to_categorical(dataY)"
   ],
   "id": "4cd0ec6b456dc30c",
   "outputs": [],
   "execution_count": 6
  },
  {
   "metadata": {},
   "cell_type": "markdown",
   "source": "# !!! НЕ ТРОГАТЬ",
   "id": "420dcdf18910bbf"
  },
  {
   "metadata": {
    "ExecuteTime": {
     "end_time": "2024-12-02T18:17:16.674258Z",
     "start_time": "2024-12-02T18:17:16.511211Z"
    }
   },
   "cell_type": "code",
   "source": [
    "model = Sequential()\n",
    "model.add(LSTM(256, input_shape=(X.shape[1], X.shape[2])))\n",
    "model.add(Dropout(0.2))\n",
    "model.add(Dense(y.shape[1], activation='softmax'))\n",
    "model.compile(loss='categorical_crossentropy', optimizer='adam')"
   ],
   "id": "96d6db074c4df6e9",
   "outputs": [
    {
     "name": "stderr",
     "output_type": "stream",
     "text": [
      "C:\\Users\\sanya\\anaconda3\\Lib\\site-packages\\keras\\src\\layers\\rnn\\rnn.py:204: UserWarning: Do not pass an `input_shape`/`input_dim` argument to a layer. When using Sequential models, prefer using an `Input(shape)` object as the first layer in the model instead.\n",
      "  super().__init__(**kwargs)\n"
     ]
    }
   ],
   "execution_count": 14
  },
  {
   "metadata": {
    "ExecuteTime": {
     "end_time": "2024-12-02T18:23:40.270365Z",
     "start_time": "2024-12-02T18:23:40.267031Z"
    }
   },
   "cell_type": "code",
   "source": [
    "# define the checkpoint\n",
    "filepath=\"weights-improvement-{epoch:02d}-{loss:.4f}.hdf5.keras\"\n",
    "checkpoint = ModelCheckpoint(filepath, monitor='loss', verbose=1, save_best_only=True, mode='min')\n",
    "callbacks_list = [checkpoint]"
   ],
   "id": "4cae21bd92e58927",
   "outputs": [],
   "execution_count": 20
  },
  {
   "metadata": {
    "ExecuteTime": {
     "end_time": "2024-12-02T18:18:33.562883Z",
     "start_time": "2024-12-02T18:18:33.528551Z"
    }
   },
   "cell_type": "code",
   "source": "model.summary()",
   "id": "4d85df2fff98ac51",
   "outputs": [
    {
     "data": {
      "text/plain": [
       "\u001B[1mModel: \"sequential\"\u001B[0m\n"
      ],
      "text/html": [
       "<pre style=\"white-space:pre;overflow-x:auto;line-height:normal;font-family:Menlo,'DejaVu Sans Mono',consolas,'Courier New',monospace\"><span style=\"font-weight: bold\">Model: \"sequential\"</span>\n",
       "</pre>\n"
      ]
     },
     "metadata": {},
     "output_type": "display_data"
    },
    {
     "data": {
      "text/plain": [
       "┏━━━━━━━━━━━━━━━━━━━━━━━━━━━━━━━━━┳━━━━━━━━━━━━━━━━━━━━━━━━┳━━━━━━━━━━━━━━━┓\n",
       "┃\u001B[1m \u001B[0m\u001B[1mLayer (type)                   \u001B[0m\u001B[1m \u001B[0m┃\u001B[1m \u001B[0m\u001B[1mOutput Shape          \u001B[0m\u001B[1m \u001B[0m┃\u001B[1m \u001B[0m\u001B[1m      Param #\u001B[0m\u001B[1m \u001B[0m┃\n",
       "┡━━━━━━━━━━━━━━━━━━━━━━━━━━━━━━━━━╇━━━━━━━━━━━━━━━━━━━━━━━━╇━━━━━━━━━━━━━━━┩\n",
       "│ lstm (\u001B[38;5;33mLSTM\u001B[0m)                     │ (\u001B[38;5;45mNone\u001B[0m, \u001B[38;5;34m256\u001B[0m)            │       \u001B[38;5;34m264,192\u001B[0m │\n",
       "├─────────────────────────────────┼────────────────────────┼───────────────┤\n",
       "│ dropout (\u001B[38;5;33mDropout\u001B[0m)               │ (\u001B[38;5;45mNone\u001B[0m, \u001B[38;5;34m256\u001B[0m)            │             \u001B[38;5;34m0\u001B[0m │\n",
       "├─────────────────────────────────┼────────────────────────┼───────────────┤\n",
       "│ dense (\u001B[38;5;33mDense\u001B[0m)                   │ (\u001B[38;5;45mNone\u001B[0m, \u001B[38;5;34m50\u001B[0m)             │        \u001B[38;5;34m12,850\u001B[0m │\n",
       "└─────────────────────────────────┴────────────────────────┴───────────────┘\n"
      ],
      "text/html": [
       "<pre style=\"white-space:pre;overflow-x:auto;line-height:normal;font-family:Menlo,'DejaVu Sans Mono',consolas,'Courier New',monospace\">┏━━━━━━━━━━━━━━━━━━━━━━━━━━━━━━━━━┳━━━━━━━━━━━━━━━━━━━━━━━━┳━━━━━━━━━━━━━━━┓\n",
       "┃<span style=\"font-weight: bold\"> Layer (type)                    </span>┃<span style=\"font-weight: bold\"> Output Shape           </span>┃<span style=\"font-weight: bold\">       Param # </span>┃\n",
       "┡━━━━━━━━━━━━━━━━━━━━━━━━━━━━━━━━━╇━━━━━━━━━━━━━━━━━━━━━━━━╇━━━━━━━━━━━━━━━┩\n",
       "│ lstm (<span style=\"color: #0087ff; text-decoration-color: #0087ff\">LSTM</span>)                     │ (<span style=\"color: #00d7ff; text-decoration-color: #00d7ff\">None</span>, <span style=\"color: #00af00; text-decoration-color: #00af00\">256</span>)            │       <span style=\"color: #00af00; text-decoration-color: #00af00\">264,192</span> │\n",
       "├─────────────────────────────────┼────────────────────────┼───────────────┤\n",
       "│ dropout (<span style=\"color: #0087ff; text-decoration-color: #0087ff\">Dropout</span>)               │ (<span style=\"color: #00d7ff; text-decoration-color: #00d7ff\">None</span>, <span style=\"color: #00af00; text-decoration-color: #00af00\">256</span>)            │             <span style=\"color: #00af00; text-decoration-color: #00af00\">0</span> │\n",
       "├─────────────────────────────────┼────────────────────────┼───────────────┤\n",
       "│ dense (<span style=\"color: #0087ff; text-decoration-color: #0087ff\">Dense</span>)                   │ (<span style=\"color: #00d7ff; text-decoration-color: #00d7ff\">None</span>, <span style=\"color: #00af00; text-decoration-color: #00af00\">50</span>)             │        <span style=\"color: #00af00; text-decoration-color: #00af00\">12,850</span> │\n",
       "└─────────────────────────────────┴────────────────────────┴───────────────┘\n",
       "</pre>\n"
      ]
     },
     "metadata": {},
     "output_type": "display_data"
    },
    {
     "data": {
      "text/plain": [
       "\u001B[1m Total params: \u001B[0m\u001B[38;5;34m277,042\u001B[0m (1.06 MB)\n"
      ],
      "text/html": [
       "<pre style=\"white-space:pre;overflow-x:auto;line-height:normal;font-family:Menlo,'DejaVu Sans Mono',consolas,'Courier New',monospace\"><span style=\"font-weight: bold\"> Total params: </span><span style=\"color: #00af00; text-decoration-color: #00af00\">277,042</span> (1.06 MB)\n",
       "</pre>\n"
      ]
     },
     "metadata": {},
     "output_type": "display_data"
    },
    {
     "data": {
      "text/plain": [
       "\u001B[1m Trainable params: \u001B[0m\u001B[38;5;34m277,042\u001B[0m (1.06 MB)\n"
      ],
      "text/html": [
       "<pre style=\"white-space:pre;overflow-x:auto;line-height:normal;font-family:Menlo,'DejaVu Sans Mono',consolas,'Courier New',monospace\"><span style=\"font-weight: bold\"> Trainable params: </span><span style=\"color: #00af00; text-decoration-color: #00af00\">277,042</span> (1.06 MB)\n",
       "</pre>\n"
      ]
     },
     "metadata": {},
     "output_type": "display_data"
    },
    {
     "data": {
      "text/plain": [
       "\u001B[1m Non-trainable params: \u001B[0m\u001B[38;5;34m0\u001B[0m (0.00 B)\n"
      ],
      "text/html": [
       "<pre style=\"white-space:pre;overflow-x:auto;line-height:normal;font-family:Menlo,'DejaVu Sans Mono',consolas,'Courier New',monospace\"><span style=\"font-weight: bold\"> Non-trainable params: </span><span style=\"color: #00af00; text-decoration-color: #00af00\">0</span> (0.00 B)\n",
       "</pre>\n"
      ]
     },
     "metadata": {},
     "output_type": "display_data"
    }
   ],
   "execution_count": 17
  },
  {
   "metadata": {
    "ExecuteTime": {
     "end_time": "2024-12-02T18:34:18.574031Z",
     "start_time": "2024-12-02T18:34:18.570684Z"
    }
   },
   "cell_type": "code",
   "source": "tensorboard_callback = keras.callbacks.TensorBoard(log_dir=\"./logs\")",
   "id": "38b9542fe1cecdf2",
   "outputs": [],
   "execution_count": 24
  },
  {
   "metadata": {
    "ExecuteTime": {
     "end_time": "2024-12-02T19:19:06.281497Z",
     "start_time": "2024-12-02T18:34:19.161506Z"
    }
   },
   "cell_type": "code",
   "source": "model.fit(X, y, epochs=20, batch_size=128, callbacks=[tensorboard_callback])",
   "id": "a88308050470c07d",
   "outputs": [
    {
     "name": "stdout",
     "output_type": "stream",
     "text": [
      "Epoch 1/20\n",
      "\u001B[1m1130/1130\u001B[0m \u001B[32m━━━━━━━━━━━━━━━━━━━━\u001B[0m\u001B[37m\u001B[0m \u001B[1m135s\u001B[0m 119ms/step - loss: 2.7475\n",
      "Epoch 2/20\n",
      "\u001B[1m1130/1130\u001B[0m \u001B[32m━━━━━━━━━━━━━━━━━━━━\u001B[0m\u001B[37m\u001B[0m \u001B[1m132s\u001B[0m 117ms/step - loss: 2.6630\n",
      "Epoch 3/20\n",
      "\u001B[1m1130/1130\u001B[0m \u001B[32m━━━━━━━━━━━━━━━━━━━━\u001B[0m\u001B[37m\u001B[0m \u001B[1m136s\u001B[0m 120ms/step - loss: 2.5963\n",
      "Epoch 4/20\n",
      "\u001B[1m1130/1130\u001B[0m \u001B[32m━━━━━━━━━━━━━━━━━━━━\u001B[0m\u001B[37m\u001B[0m \u001B[1m132s\u001B[0m 117ms/step - loss: 2.5349\n",
      "Epoch 5/20\n",
      "\u001B[1m1130/1130\u001B[0m \u001B[32m━━━━━━━━━━━━━━━━━━━━\u001B[0m\u001B[37m\u001B[0m \u001B[1m132s\u001B[0m 117ms/step - loss: 2.4782\n",
      "Epoch 6/20\n",
      "\u001B[1m1130/1130\u001B[0m \u001B[32m━━━━━━━━━━━━━━━━━━━━\u001B[0m\u001B[37m\u001B[0m \u001B[1m133s\u001B[0m 118ms/step - loss: 2.4334\n",
      "Epoch 7/20\n",
      "\u001B[1m1130/1130\u001B[0m \u001B[32m━━━━━━━━━━━━━━━━━━━━\u001B[0m\u001B[37m\u001B[0m \u001B[1m133s\u001B[0m 118ms/step - loss: 2.3759\n",
      "Epoch 8/20\n",
      "\u001B[1m1130/1130\u001B[0m \u001B[32m━━━━━━━━━━━━━━━━━━━━\u001B[0m\u001B[37m\u001B[0m \u001B[1m134s\u001B[0m 119ms/step - loss: 2.3256\n",
      "Epoch 9/20\n",
      "\u001B[1m1130/1130\u001B[0m \u001B[32m━━━━━━━━━━━━━━━━━━━━\u001B[0m\u001B[37m\u001B[0m \u001B[1m134s\u001B[0m 119ms/step - loss: 2.2872\n",
      "Epoch 10/20\n",
      "\u001B[1m1130/1130\u001B[0m \u001B[32m━━━━━━━━━━━━━━━━━━━━\u001B[0m\u001B[37m\u001B[0m \u001B[1m133s\u001B[0m 118ms/step - loss: 2.2518\n",
      "Epoch 11/20\n",
      "\u001B[1m1130/1130\u001B[0m \u001B[32m━━━━━━━━━━━━━━━━━━━━\u001B[0m\u001B[37m\u001B[0m \u001B[1m133s\u001B[0m 117ms/step - loss: 2.2086\n",
      "Epoch 12/20\n",
      "\u001B[1m1130/1130\u001B[0m \u001B[32m━━━━━━━━━━━━━━━━━━━━\u001B[0m\u001B[37m\u001B[0m \u001B[1m134s\u001B[0m 119ms/step - loss: 2.1777\n",
      "Epoch 13/20\n",
      "\u001B[1m1130/1130\u001B[0m \u001B[32m━━━━━━━━━━━━━━━━━━━━\u001B[0m\u001B[37m\u001B[0m \u001B[1m133s\u001B[0m 117ms/step - loss: 2.1404\n",
      "Epoch 14/20\n",
      "\u001B[1m1130/1130\u001B[0m \u001B[32m━━━━━━━━━━━━━━━━━━━━\u001B[0m\u001B[37m\u001B[0m \u001B[1m132s\u001B[0m 117ms/step - loss: 2.1068\n",
      "Epoch 15/20\n",
      "\u001B[1m1130/1130\u001B[0m \u001B[32m━━━━━━━━━━━━━━━━━━━━\u001B[0m\u001B[37m\u001B[0m \u001B[1m134s\u001B[0m 118ms/step - loss: 2.0737\n",
      "Epoch 16/20\n",
      "\u001B[1m1130/1130\u001B[0m \u001B[32m━━━━━━━━━━━━━━━━━━━━\u001B[0m\u001B[37m\u001B[0m \u001B[1m133s\u001B[0m 118ms/step - loss: 2.0390\n",
      "Epoch 17/20\n",
      "\u001B[1m1130/1130\u001B[0m \u001B[32m━━━━━━━━━━━━━━━━━━━━\u001B[0m\u001B[37m\u001B[0m \u001B[1m136s\u001B[0m 121ms/step - loss: 2.0156\n",
      "Epoch 18/20\n",
      "\u001B[1m1130/1130\u001B[0m \u001B[32m━━━━━━━━━━━━━━━━━━━━\u001B[0m\u001B[37m\u001B[0m \u001B[1m138s\u001B[0m 122ms/step - loss: 1.9894\n",
      "Epoch 19/20\n",
      "\u001B[1m1130/1130\u001B[0m \u001B[32m━━━━━━━━━━━━━━━━━━━━\u001B[0m\u001B[37m\u001B[0m \u001B[1m139s\u001B[0m 123ms/step - loss: 1.9596\n",
      "Epoch 20/20\n",
      "\u001B[1m1130/1130\u001B[0m \u001B[32m━━━━━━━━━━━━━━━━━━━━\u001B[0m\u001B[37m\u001B[0m \u001B[1m140s\u001B[0m 124ms/step - loss: 1.9340\n"
     ]
    },
    {
     "data": {
      "text/plain": [
       "<keras.src.callbacks.history.History at 0x1f89246ea10>"
      ]
     },
     "execution_count": 25,
     "metadata": {},
     "output_type": "execute_result"
    }
   ],
   "execution_count": 25
  },
  {
   "metadata": {
    "ExecuteTime": {
     "end_time": "2024-12-02T19:38:42.623738Z",
     "start_time": "2024-12-02T19:38:42.536963Z"
    }
   },
   "cell_type": "code",
   "source": [
    "import joblib\n",
    "\n",
    "joblib.dump(model, 'wonderland_NN.joblib', compress=3)"
   ],
   "id": "f29b15d81f41abea",
   "outputs": [
    {
     "ename": "AttributeError",
     "evalue": "'NoneType' object has no attribute 'File'",
     "output_type": "error",
     "traceback": [
      "\u001B[1;31m---------------------------------------------------------------------------\u001B[0m",
      "\u001B[1;31mAttributeError\u001B[0m                            Traceback (most recent call last)",
      "File \u001B[1;32m~\\anaconda3\\Lib\\site-packages\\keras\\src\\saving\\saving_lib.py:211\u001B[0m, in \u001B[0;36m_save_model_to_fileobj\u001B[1;34m(model, fileobj, weights_format)\u001B[0m\n\u001B[0;32m    208\u001B[0m \u001B[38;5;28;01mif\u001B[39;00m is_memory_sufficient(model):\n\u001B[0;32m    209\u001B[0m     \u001B[38;5;66;03m# Load the model weights into memory before writing\u001B[39;00m\n\u001B[0;32m    210\u001B[0m     \u001B[38;5;66;03m# .keras if the system memory is sufficient.\u001B[39;00m\n\u001B[1;32m--> 211\u001B[0m     weights_store \u001B[38;5;241m=\u001B[39m H5IOStore(\n\u001B[0;32m    212\u001B[0m         _VARS_FNAME_H5, archive\u001B[38;5;241m=\u001B[39mzf, mode\u001B[38;5;241m=\u001B[39m\u001B[38;5;124m\"\u001B[39m\u001B[38;5;124mw\u001B[39m\u001B[38;5;124m\"\u001B[39m\n\u001B[0;32m    213\u001B[0m     )\n\u001B[0;32m    214\u001B[0m \u001B[38;5;28;01melse\u001B[39;00m:\n\u001B[0;32m    215\u001B[0m     \u001B[38;5;66;03m# Try opening the .h5 file, then writing it to `zf` at\u001B[39;00m\n\u001B[0;32m    216\u001B[0m     \u001B[38;5;66;03m# the end of the function call. This is more memory\u001B[39;00m\n\u001B[0;32m    217\u001B[0m     \u001B[38;5;66;03m# efficient than writing the weights into memory first.\u001B[39;00m\n",
      "File \u001B[1;32m~\\anaconda3\\Lib\\site-packages\\keras\\src\\saving\\saving_lib.py:923\u001B[0m, in \u001B[0;36mH5IOStore.__init__\u001B[1;34m(self, root_path, archive, mode)\u001B[0m\n\u001B[0;32m    922\u001B[0m         \u001B[38;5;28mself\u001B[39m\u001B[38;5;241m.\u001B[39mio_file \u001B[38;5;241m=\u001B[39m \u001B[38;5;28mself\u001B[39m\u001B[38;5;241m.\u001B[39marchive\u001B[38;5;241m.\u001B[39mopen(\u001B[38;5;28mself\u001B[39m\u001B[38;5;241m.\u001B[39mroot_path, \u001B[38;5;124m\"\u001B[39m\u001B[38;5;124mr\u001B[39m\u001B[38;5;124m\"\u001B[39m)\n\u001B[1;32m--> 923\u001B[0m     \u001B[38;5;28mself\u001B[39m\u001B[38;5;241m.\u001B[39mh5_file \u001B[38;5;241m=\u001B[39m h5py\u001B[38;5;241m.\u001B[39mFile(\u001B[38;5;28mself\u001B[39m\u001B[38;5;241m.\u001B[39mio_file, mode\u001B[38;5;241m=\u001B[39m\u001B[38;5;28mself\u001B[39m\u001B[38;5;241m.\u001B[39mmode)\n\u001B[0;32m    924\u001B[0m \u001B[38;5;28;01melse\u001B[39;00m:\n",
      "\u001B[1;31mAttributeError\u001B[0m: 'NoneType' object has no attribute 'File'",
      "\nDuring handling of the above exception, another exception occurred:\n",
      "\u001B[1;31mAttributeError\u001B[0m                            Traceback (most recent call last)",
      "Cell \u001B[1;32mIn[29], line 3\u001B[0m\n\u001B[0;32m      1\u001B[0m \u001B[38;5;28;01mimport\u001B[39;00m \u001B[38;5;21;01mjoblib\u001B[39;00m\n\u001B[1;32m----> 3\u001B[0m joblib\u001B[38;5;241m.\u001B[39mdump(model, \u001B[38;5;124m'\u001B[39m\u001B[38;5;124mwonderland_NN.joblib\u001B[39m\u001B[38;5;124m'\u001B[39m, compress\u001B[38;5;241m=\u001B[39m\u001B[38;5;241m3\u001B[39m)\n",
      "File \u001B[1;32m~\\anaconda3\\Lib\\site-packages\\joblib\\numpy_pickle.py:550\u001B[0m, in \u001B[0;36mdump\u001B[1;34m(value, filename, compress, protocol, cache_size)\u001B[0m\n\u001B[0;32m    547\u001B[0m \u001B[38;5;28;01mif\u001B[39;00m compress_level \u001B[38;5;241m!=\u001B[39m \u001B[38;5;241m0\u001B[39m:\n\u001B[0;32m    548\u001B[0m     \u001B[38;5;28;01mwith\u001B[39;00m _write_fileobject(filename, compress\u001B[38;5;241m=\u001B[39m(compress_method,\n\u001B[0;32m    549\u001B[0m                                                compress_level)) \u001B[38;5;28;01mas\u001B[39;00m f:\n\u001B[1;32m--> 550\u001B[0m         NumpyPickler(f, protocol\u001B[38;5;241m=\u001B[39mprotocol)\u001B[38;5;241m.\u001B[39mdump(value)\n\u001B[0;32m    551\u001B[0m \u001B[38;5;28;01melif\u001B[39;00m is_filename:\n\u001B[0;32m    552\u001B[0m     \u001B[38;5;28;01mwith\u001B[39;00m \u001B[38;5;28mopen\u001B[39m(filename, \u001B[38;5;124m'\u001B[39m\u001B[38;5;124mwb\u001B[39m\u001B[38;5;124m'\u001B[39m) \u001B[38;5;28;01mas\u001B[39;00m f:\n",
      "File \u001B[1;32m~\\anaconda3\\Lib\\pickle.py:487\u001B[0m, in \u001B[0;36m_Pickler.dump\u001B[1;34m(self, obj)\u001B[0m\n\u001B[0;32m    485\u001B[0m \u001B[38;5;28;01mif\u001B[39;00m \u001B[38;5;28mself\u001B[39m\u001B[38;5;241m.\u001B[39mproto \u001B[38;5;241m>\u001B[39m\u001B[38;5;241m=\u001B[39m \u001B[38;5;241m4\u001B[39m:\n\u001B[0;32m    486\u001B[0m     \u001B[38;5;28mself\u001B[39m\u001B[38;5;241m.\u001B[39mframer\u001B[38;5;241m.\u001B[39mstart_framing()\n\u001B[1;32m--> 487\u001B[0m \u001B[38;5;28mself\u001B[39m\u001B[38;5;241m.\u001B[39msave(obj)\n\u001B[0;32m    488\u001B[0m \u001B[38;5;28mself\u001B[39m\u001B[38;5;241m.\u001B[39mwrite(STOP)\n\u001B[0;32m    489\u001B[0m \u001B[38;5;28mself\u001B[39m\u001B[38;5;241m.\u001B[39mframer\u001B[38;5;241m.\u001B[39mend_framing()\n",
      "File \u001B[1;32m~\\anaconda3\\Lib\\site-packages\\joblib\\numpy_pickle.py:355\u001B[0m, in \u001B[0;36mNumpyPickler.save\u001B[1;34m(self, obj)\u001B[0m\n\u001B[0;32m    352\u001B[0m     wrapper\u001B[38;5;241m.\u001B[39mwrite_array(obj, \u001B[38;5;28mself\u001B[39m)\n\u001B[0;32m    353\u001B[0m     \u001B[38;5;28;01mreturn\u001B[39;00m\n\u001B[1;32m--> 355\u001B[0m \u001B[38;5;28;01mreturn\u001B[39;00m Pickler\u001B[38;5;241m.\u001B[39msave(\u001B[38;5;28mself\u001B[39m, obj)\n",
      "File \u001B[1;32m~\\anaconda3\\Lib\\pickle.py:578\u001B[0m, in \u001B[0;36m_Pickler.save\u001B[1;34m(self, obj, save_persistent_id)\u001B[0m\n\u001B[0;32m    576\u001B[0m reduce \u001B[38;5;241m=\u001B[39m \u001B[38;5;28mgetattr\u001B[39m(obj, \u001B[38;5;124m\"\u001B[39m\u001B[38;5;124m__reduce_ex__\u001B[39m\u001B[38;5;124m\"\u001B[39m, \u001B[38;5;28;01mNone\u001B[39;00m)\n\u001B[0;32m    577\u001B[0m \u001B[38;5;28;01mif\u001B[39;00m reduce \u001B[38;5;129;01mis\u001B[39;00m \u001B[38;5;129;01mnot\u001B[39;00m \u001B[38;5;28;01mNone\u001B[39;00m:\n\u001B[1;32m--> 578\u001B[0m     rv \u001B[38;5;241m=\u001B[39m reduce(\u001B[38;5;28mself\u001B[39m\u001B[38;5;241m.\u001B[39mproto)\n\u001B[0;32m    579\u001B[0m \u001B[38;5;28;01melse\u001B[39;00m:\n\u001B[0;32m    580\u001B[0m     reduce \u001B[38;5;241m=\u001B[39m \u001B[38;5;28mgetattr\u001B[39m(obj, \u001B[38;5;124m\"\u001B[39m\u001B[38;5;124m__reduce__\u001B[39m\u001B[38;5;124m\"\u001B[39m, \u001B[38;5;28;01mNone\u001B[39;00m)\n",
      "File \u001B[1;32m~\\anaconda3\\Lib\\site-packages\\keras\\src\\saving\\keras_saveable.py:34\u001B[0m, in \u001B[0;36mKerasSaveable.__reduce__\u001B[1;34m(self)\u001B[0m\n\u001B[0;32m     31\u001B[0m \u001B[38;5;28;01mimport\u001B[39;00m \u001B[38;5;21;01mkeras\u001B[39;00m\u001B[38;5;21;01m.\u001B[39;00m\u001B[38;5;21;01msrc\u001B[39;00m\u001B[38;5;21;01m.\u001B[39;00m\u001B[38;5;21;01msaving\u001B[39;00m\u001B[38;5;21;01m.\u001B[39;00m\u001B[38;5;21;01msaving_lib\u001B[39;00m \u001B[38;5;28;01mas\u001B[39;00m \u001B[38;5;21;01msaving_lib\u001B[39;00m\n\u001B[0;32m     33\u001B[0m buf \u001B[38;5;241m=\u001B[39m io\u001B[38;5;241m.\u001B[39mBytesIO()\n\u001B[1;32m---> 34\u001B[0m saving_lib\u001B[38;5;241m.\u001B[39m_save_model_to_fileobj(\u001B[38;5;28mself\u001B[39m, buf, \u001B[38;5;124m\"\u001B[39m\u001B[38;5;124mh5\u001B[39m\u001B[38;5;124m\"\u001B[39m)\n\u001B[0;32m     35\u001B[0m \u001B[38;5;28;01mreturn\u001B[39;00m (\n\u001B[0;32m     36\u001B[0m     \u001B[38;5;28mself\u001B[39m\u001B[38;5;241m.\u001B[39m_unpickle_model,\n\u001B[0;32m     37\u001B[0m     (buf,),\n\u001B[0;32m     38\u001B[0m )\n",
      "File \u001B[1;32m~\\anaconda3\\Lib\\site-packages\\keras\\src\\saving\\saving_lib.py:229\u001B[0m, in \u001B[0;36m_save_model_to_fileobj\u001B[1;34m(model, fileobj, weights_format)\u001B[0m\n\u001B[0;32m    225\u001B[0m             write_zf \u001B[38;5;241m=\u001B[39m \u001B[38;5;28;01mTrue\u001B[39;00m\n\u001B[0;32m    226\u001B[0m     \u001B[38;5;28;01mexcept\u001B[39;00m:\n\u001B[0;32m    227\u001B[0m         \u001B[38;5;66;03m# If we can't use the local disk for any reason, write the\u001B[39;00m\n\u001B[0;32m    228\u001B[0m         \u001B[38;5;66;03m# weights into memory first, which consumes more memory.\u001B[39;00m\n\u001B[1;32m--> 229\u001B[0m         weights_store \u001B[38;5;241m=\u001B[39m H5IOStore(\n\u001B[0;32m    230\u001B[0m             _VARS_FNAME_H5, archive\u001B[38;5;241m=\u001B[39mzf, mode\u001B[38;5;241m=\u001B[39m\u001B[38;5;124m\"\u001B[39m\u001B[38;5;124mw\u001B[39m\u001B[38;5;124m\"\u001B[39m\n\u001B[0;32m    231\u001B[0m         )\n\u001B[0;32m    232\u001B[0m \u001B[38;5;28;01melif\u001B[39;00m weights_format \u001B[38;5;241m==\u001B[39m \u001B[38;5;124m\"\u001B[39m\u001B[38;5;124mnpz\u001B[39m\u001B[38;5;124m\"\u001B[39m:\n\u001B[0;32m    233\u001B[0m     weights_store \u001B[38;5;241m=\u001B[39m NpzIOStore(\n\u001B[0;32m    234\u001B[0m         _VARS_FNAME_NPZ, archive\u001B[38;5;241m=\u001B[39mzf, mode\u001B[38;5;241m=\u001B[39m\u001B[38;5;124m\"\u001B[39m\u001B[38;5;124mw\u001B[39m\u001B[38;5;124m\"\u001B[39m\n\u001B[0;32m    235\u001B[0m     )\n",
      "File \u001B[1;32m~\\anaconda3\\Lib\\site-packages\\keras\\src\\saving\\saving_lib.py:923\u001B[0m, in \u001B[0;36mH5IOStore.__init__\u001B[1;34m(self, root_path, archive, mode)\u001B[0m\n\u001B[0;32m    921\u001B[0m     \u001B[38;5;28;01melse\u001B[39;00m:\n\u001B[0;32m    922\u001B[0m         \u001B[38;5;28mself\u001B[39m\u001B[38;5;241m.\u001B[39mio_file \u001B[38;5;241m=\u001B[39m \u001B[38;5;28mself\u001B[39m\u001B[38;5;241m.\u001B[39marchive\u001B[38;5;241m.\u001B[39mopen(\u001B[38;5;28mself\u001B[39m\u001B[38;5;241m.\u001B[39mroot_path, \u001B[38;5;124m\"\u001B[39m\u001B[38;5;124mr\u001B[39m\u001B[38;5;124m\"\u001B[39m)\n\u001B[1;32m--> 923\u001B[0m     \u001B[38;5;28mself\u001B[39m\u001B[38;5;241m.\u001B[39mh5_file \u001B[38;5;241m=\u001B[39m h5py\u001B[38;5;241m.\u001B[39mFile(\u001B[38;5;28mself\u001B[39m\u001B[38;5;241m.\u001B[39mio_file, mode\u001B[38;5;241m=\u001B[39m\u001B[38;5;28mself\u001B[39m\u001B[38;5;241m.\u001B[39mmode)\n\u001B[0;32m    924\u001B[0m \u001B[38;5;28;01melse\u001B[39;00m:\n\u001B[0;32m    925\u001B[0m     \u001B[38;5;28mself\u001B[39m\u001B[38;5;241m.\u001B[39mh5_file \u001B[38;5;241m=\u001B[39m h5py\u001B[38;5;241m.\u001B[39mFile(root_path, mode\u001B[38;5;241m=\u001B[39m\u001B[38;5;28mself\u001B[39m\u001B[38;5;241m.\u001B[39mmode)\n",
      "\u001B[1;31mAttributeError\u001B[0m: 'NoneType' object has no attribute 'File'"
     ]
    }
   ],
   "execution_count": 29
  },
  {
   "metadata": {},
   "cell_type": "markdown",
   "source": [
    "# !!! ТРОГАТЬ\n",
    "\n"
   ],
   "id": "f0aba5faaa63ce6a"
  },
  {
   "metadata": {
    "ExecuteTime": {
     "end_time": "2024-12-10T16:24:17.667995Z",
     "start_time": "2024-12-10T16:24:17.592100Z"
    }
   },
   "cell_type": "code",
   "source": [
    "model_test = Sequential()\n",
    "model_test.add(LSTM(10, input_shape=(X.shape[1], X.shape[2])))\n",
    "model_test.add(Dropout(0.2))\n",
    "model_test.add(Dense(y.shape[1], activation='softmax'))\n",
    "model_test.compile(loss='categorical_crossentropy', optimizer='adam')"
   ],
   "id": "34e1164751622e9e",
   "outputs": [
    {
     "name": "stderr",
     "output_type": "stream",
     "text": [
      "C:\\Users\\sanya\\anaconda3\\Lib\\site-packages\\keras\\src\\layers\\rnn\\rnn.py:204: UserWarning: Do not pass an `input_shape`/`input_dim` argument to a layer. When using Sequential models, prefer using an `Input(shape)` object as the first layer in the model instead.\n",
      "  super().__init__(**kwargs)\n"
     ]
    }
   ],
   "execution_count": 10
  },
  {
   "metadata": {
    "ExecuteTime": {
     "end_time": "2024-12-10T16:24:20.079236Z",
     "start_time": "2024-12-10T16:24:20.062441Z"
    }
   },
   "cell_type": "code",
   "source": "model_test.summary()",
   "id": "59efa607b6ddd478",
   "outputs": [
    {
     "data": {
      "text/plain": [
       "\u001B[1mModel: \"sequential_1\"\u001B[0m\n"
      ],
      "text/html": [
       "<pre style=\"white-space:pre;overflow-x:auto;line-height:normal;font-family:Menlo,'DejaVu Sans Mono',consolas,'Courier New',monospace\"><span style=\"font-weight: bold\">Model: \"sequential_1\"</span>\n",
       "</pre>\n"
      ]
     },
     "metadata": {},
     "output_type": "display_data"
    },
    {
     "data": {
      "text/plain": [
       "┏━━━━━━━━━━━━━━━━━━━━━━━━━━━━━━━━━┳━━━━━━━━━━━━━━━━━━━━━━━━┳━━━━━━━━━━━━━━━┓\n",
       "┃\u001B[1m \u001B[0m\u001B[1mLayer (type)                   \u001B[0m\u001B[1m \u001B[0m┃\u001B[1m \u001B[0m\u001B[1mOutput Shape          \u001B[0m\u001B[1m \u001B[0m┃\u001B[1m \u001B[0m\u001B[1m      Param #\u001B[0m\u001B[1m \u001B[0m┃\n",
       "┡━━━━━━━━━━━━━━━━━━━━━━━━━━━━━━━━━╇━━━━━━━━━━━━━━━━━━━━━━━━╇━━━━━━━━━━━━━━━┩\n",
       "│ lstm (\u001B[38;5;33mLSTM\u001B[0m)                     │ (\u001B[38;5;45mNone\u001B[0m, \u001B[38;5;34m10\u001B[0m)             │           \u001B[38;5;34m480\u001B[0m │\n",
       "├─────────────────────────────────┼────────────────────────┼───────────────┤\n",
       "│ dropout (\u001B[38;5;33mDropout\u001B[0m)               │ (\u001B[38;5;45mNone\u001B[0m, \u001B[38;5;34m10\u001B[0m)             │             \u001B[38;5;34m0\u001B[0m │\n",
       "├─────────────────────────────────┼────────────────────────┼───────────────┤\n",
       "│ dense (\u001B[38;5;33mDense\u001B[0m)                   │ (\u001B[38;5;45mNone\u001B[0m, \u001B[38;5;34m50\u001B[0m)             │           \u001B[38;5;34m550\u001B[0m │\n",
       "└─────────────────────────────────┴────────────────────────┴───────────────┘\n"
      ],
      "text/html": [
       "<pre style=\"white-space:pre;overflow-x:auto;line-height:normal;font-family:Menlo,'DejaVu Sans Mono',consolas,'Courier New',monospace\">┏━━━━━━━━━━━━━━━━━━━━━━━━━━━━━━━━━┳━━━━━━━━━━━━━━━━━━━━━━━━┳━━━━━━━━━━━━━━━┓\n",
       "┃<span style=\"font-weight: bold\"> Layer (type)                    </span>┃<span style=\"font-weight: bold\"> Output Shape           </span>┃<span style=\"font-weight: bold\">       Param # </span>┃\n",
       "┡━━━━━━━━━━━━━━━━━━━━━━━━━━━━━━━━━╇━━━━━━━━━━━━━━━━━━━━━━━━╇━━━━━━━━━━━━━━━┩\n",
       "│ lstm (<span style=\"color: #0087ff; text-decoration-color: #0087ff\">LSTM</span>)                     │ (<span style=\"color: #00d7ff; text-decoration-color: #00d7ff\">None</span>, <span style=\"color: #00af00; text-decoration-color: #00af00\">10</span>)             │           <span style=\"color: #00af00; text-decoration-color: #00af00\">480</span> │\n",
       "├─────────────────────────────────┼────────────────────────┼───────────────┤\n",
       "│ dropout (<span style=\"color: #0087ff; text-decoration-color: #0087ff\">Dropout</span>)               │ (<span style=\"color: #00d7ff; text-decoration-color: #00d7ff\">None</span>, <span style=\"color: #00af00; text-decoration-color: #00af00\">10</span>)             │             <span style=\"color: #00af00; text-decoration-color: #00af00\">0</span> │\n",
       "├─────────────────────────────────┼────────────────────────┼───────────────┤\n",
       "│ dense (<span style=\"color: #0087ff; text-decoration-color: #0087ff\">Dense</span>)                   │ (<span style=\"color: #00d7ff; text-decoration-color: #00d7ff\">None</span>, <span style=\"color: #00af00; text-decoration-color: #00af00\">50</span>)             │           <span style=\"color: #00af00; text-decoration-color: #00af00\">550</span> │\n",
       "└─────────────────────────────────┴────────────────────────┴───────────────┘\n",
       "</pre>\n"
      ]
     },
     "metadata": {},
     "output_type": "display_data"
    },
    {
     "data": {
      "text/plain": [
       "\u001B[1m Total params: \u001B[0m\u001B[38;5;34m1,030\u001B[0m (4.02 KB)\n"
      ],
      "text/html": [
       "<pre style=\"white-space:pre;overflow-x:auto;line-height:normal;font-family:Menlo,'DejaVu Sans Mono',consolas,'Courier New',monospace\"><span style=\"font-weight: bold\"> Total params: </span><span style=\"color: #00af00; text-decoration-color: #00af00\">1,030</span> (4.02 KB)\n",
       "</pre>\n"
      ]
     },
     "metadata": {},
     "output_type": "display_data"
    },
    {
     "data": {
      "text/plain": [
       "\u001B[1m Trainable params: \u001B[0m\u001B[38;5;34m1,030\u001B[0m (4.02 KB)\n"
      ],
      "text/html": [
       "<pre style=\"white-space:pre;overflow-x:auto;line-height:normal;font-family:Menlo,'DejaVu Sans Mono',consolas,'Courier New',monospace\"><span style=\"font-weight: bold\"> Trainable params: </span><span style=\"color: #00af00; text-decoration-color: #00af00\">1,030</span> (4.02 KB)\n",
       "</pre>\n"
      ]
     },
     "metadata": {},
     "output_type": "display_data"
    },
    {
     "data": {
      "text/plain": [
       "\u001B[1m Non-trainable params: \u001B[0m\u001B[38;5;34m0\u001B[0m (0.00 B)\n"
      ],
      "text/html": [
       "<pre style=\"white-space:pre;overflow-x:auto;line-height:normal;font-family:Menlo,'DejaVu Sans Mono',consolas,'Courier New',monospace\"><span style=\"font-weight: bold\"> Non-trainable params: </span><span style=\"color: #00af00; text-decoration-color: #00af00\">0</span> (0.00 B)\n",
       "</pre>\n"
      ]
     },
     "metadata": {},
     "output_type": "display_data"
    }
   ],
   "execution_count": 11
  },
  {
   "metadata": {
    "ExecuteTime": {
     "end_time": "2024-12-10T16:28:00.654096Z",
     "start_time": "2024-12-10T16:24:23.167208Z"
    }
   },
   "cell_type": "code",
   "source": "model_test.fit(X, y, epochs=20, batch_size=128)",
   "id": "5e02876686fb1f6f",
   "outputs": [
    {
     "name": "stdout",
     "output_type": "stream",
     "text": [
      "Epoch 1/20\n",
      "\u001B[1m1130/1130\u001B[0m \u001B[32m━━━━━━━━━━━━━━━━━━━━\u001B[0m\u001B[37m\u001B[0m \u001B[1m12s\u001B[0m 9ms/step - loss: 3.3079\n",
      "Epoch 2/20\n",
      "\u001B[1m1130/1130\u001B[0m \u001B[32m━━━━━━━━━━━━━━━━━━━━\u001B[0m\u001B[37m\u001B[0m \u001B[1m11s\u001B[0m 10ms/step - loss: 3.0824\n",
      "Epoch 3/20\n",
      "\u001B[1m1130/1130\u001B[0m \u001B[32m━━━━━━━━━━━━━━━━━━━━\u001B[0m\u001B[37m\u001B[0m \u001B[1m11s\u001B[0m 9ms/step - loss: 3.0679\n",
      "Epoch 4/20\n",
      "\u001B[1m1130/1130\u001B[0m \u001B[32m━━━━━━━━━━━━━━━━━━━━\u001B[0m\u001B[37m\u001B[0m \u001B[1m11s\u001B[0m 10ms/step - loss: 3.0493\n",
      "Epoch 5/20\n",
      "\u001B[1m1130/1130\u001B[0m \u001B[32m━━━━━━━━━━━━━━━━━━━━\u001B[0m\u001B[37m\u001B[0m \u001B[1m11s\u001B[0m 9ms/step - loss: 3.0332\n",
      "Epoch 6/20\n",
      "\u001B[1m1130/1130\u001B[0m \u001B[32m━━━━━━━━━━━━━━━━━━━━\u001B[0m\u001B[37m\u001B[0m \u001B[1m11s\u001B[0m 9ms/step - loss: 3.0174\n",
      "Epoch 7/20\n",
      "\u001B[1m1130/1130\u001B[0m \u001B[32m━━━━━━━━━━━━━━━━━━━━\u001B[0m\u001B[37m\u001B[0m \u001B[1m11s\u001B[0m 10ms/step - loss: 2.9852\n",
      "Epoch 8/20\n",
      "\u001B[1m1130/1130\u001B[0m \u001B[32m━━━━━━━━━━━━━━━━━━━━\u001B[0m\u001B[37m\u001B[0m \u001B[1m11s\u001B[0m 9ms/step - loss: 2.9503\n",
      "Epoch 9/20\n",
      "\u001B[1m1130/1130\u001B[0m \u001B[32m━━━━━━━━━━━━━━━━━━━━\u001B[0m\u001B[37m\u001B[0m \u001B[1m11s\u001B[0m 10ms/step - loss: 2.9288\n",
      "Epoch 10/20\n",
      "\u001B[1m1130/1130\u001B[0m \u001B[32m━━━━━━━━━━━━━━━━━━━━\u001B[0m\u001B[37m\u001B[0m \u001B[1m11s\u001B[0m 10ms/step - loss: 2.9109\n",
      "Epoch 11/20\n",
      "\u001B[1m1130/1130\u001B[0m \u001B[32m━━━━━━━━━━━━━━━━━━━━\u001B[0m\u001B[37m\u001B[0m \u001B[1m11s\u001B[0m 10ms/step - loss: 2.9009\n",
      "Epoch 12/20\n",
      "\u001B[1m1130/1130\u001B[0m \u001B[32m━━━━━━━━━━━━━━━━━━━━\u001B[0m\u001B[37m\u001B[0m \u001B[1m11s\u001B[0m 10ms/step - loss: 2.8882\n",
      "Epoch 13/20\n",
      "\u001B[1m1130/1130\u001B[0m \u001B[32m━━━━━━━━━━━━━━━━━━━━\u001B[0m\u001B[37m\u001B[0m \u001B[1m11s\u001B[0m 10ms/step - loss: 2.8796\n",
      "Epoch 14/20\n",
      "\u001B[1m1130/1130\u001B[0m \u001B[32m━━━━━━━━━━━━━━━━━━━━\u001B[0m\u001B[37m\u001B[0m \u001B[1m11s\u001B[0m 10ms/step - loss: 2.8734\n",
      "Epoch 15/20\n",
      "\u001B[1m1130/1130\u001B[0m \u001B[32m━━━━━━━━━━━━━━━━━━━━\u001B[0m\u001B[37m\u001B[0m \u001B[1m11s\u001B[0m 10ms/step - loss: 2.8699\n",
      "Epoch 16/20\n",
      "\u001B[1m1130/1130\u001B[0m \u001B[32m━━━━━━━━━━━━━━━━━━━━\u001B[0m\u001B[37m\u001B[0m \u001B[1m11s\u001B[0m 10ms/step - loss: 2.8612\n",
      "Epoch 17/20\n",
      "\u001B[1m1130/1130\u001B[0m \u001B[32m━━━━━━━━━━━━━━━━━━━━\u001B[0m\u001B[37m\u001B[0m \u001B[1m11s\u001B[0m 10ms/step - loss: 2.8522\n",
      "Epoch 18/20\n",
      "\u001B[1m1130/1130\u001B[0m \u001B[32m━━━━━━━━━━━━━━━━━━━━\u001B[0m\u001B[37m\u001B[0m \u001B[1m11s\u001B[0m 10ms/step - loss: 2.8483\n",
      "Epoch 19/20\n",
      "\u001B[1m1130/1130\u001B[0m \u001B[32m━━━━━━━━━━━━━━━━━━━━\u001B[0m\u001B[37m\u001B[0m \u001B[1m11s\u001B[0m 10ms/step - loss: 2.8444\n",
      "Epoch 20/20\n",
      "\u001B[1m1130/1130\u001B[0m \u001B[32m━━━━━━━━━━━━━━━━━━━━\u001B[0m\u001B[37m\u001B[0m \u001B[1m11s\u001B[0m 10ms/step - loss: 2.8388\n"
     ]
    },
    {
     "data": {
      "text/plain": [
       "<keras.src.callbacks.history.History at 0x13a51cd1d90>"
      ]
     },
     "execution_count": 12,
     "metadata": {},
     "output_type": "execute_result"
    }
   ],
   "execution_count": 12
  },
  {
   "metadata": {
    "ExecuteTime": {
     "end_time": "2024-12-02T19:43:18.210513Z",
     "start_time": "2024-12-02T19:42:39.725929Z"
    }
   },
   "cell_type": "code",
   "source": [
    "int_to_char = dict((i, c) for i, c in enumerate(chars))\n",
    "start = np.random.randint(0, len(dataX)-1)\n",
    "pattern = dataX[start]\n",
    "print(\"Seed:\")\n",
    "print(\"\\\"\", ''.join([int_to_char[value] for value in pattern]), \"\\\"\")\n",
    "# generate characters\n",
    "for i in range(1000):\n",
    "    x = np.reshape(pattern, (1, len(pattern), 1))\n",
    "    x = x / float(n_vocab)\n",
    "    prediction = model.predict(x, verbose=0)\n",
    "    index = np.argmax(prediction)\n",
    "    result = int_to_char[index]\n",
    "    seq_in = [int_to_char[value] for value in pattern]\n",
    "    sys.stdout.write(result)\n",
    "    pattern.append(index)\n",
    "    pattern = pattern[1:len(pattern)]\n",
    "    \n",
    "print(\"\\nDone\")"
   ],
   "id": "833875c010d9b3c4",
   "outputs": [
    {
     "name": "stdout",
     "output_type": "stream",
     "text": [
      "Seed:\n",
      "\" s or not.”\n",
      "\n",
      "“i’m a poor man, your majesty,” the hatter began, in a trembling voice,\n",
      "“—and i hadn’t b \"\n",
      "ege tiane io the say.”\n",
      "\n",
      "“i wash the corstuse of the canee?” said alice, “ho wou don’t keke the toedl of the say.”\n",
      "\n",
      "“h wash the corstuse ”ou aalit tile,” said alice, “ho wou don’t keke the toedl of the say.”\n",
      "\n",
      "“h wash the corstuse ”ou aalit tile,” said alice, “ho wou don’t keke the toedl of the say.”\n",
      "\n",
      "“h wash the corstuse ”ou aalit tile,” said alice, “ho wou don’t keke the toedl of the say.”\n",
      "\n",
      "“h wash the corstuse ”ou aalit tile,” said alice, “ho wou don’t keke the toedl of the say.”\n",
      "\n",
      "“h wash the corstuse ”ou aalit tile,” said alice, “ho wou don’t keke the toedl of the say.”\n",
      "\n",
      "“h wash the corstuse ”ou aalit tile,” said alice, “ho wou don’t keke the toedl of the say.”\n",
      "\n",
      "“h wash the corstuse ”ou aalit tile,” said alice, “ho wou don’t keke the toedl of the say.”\n",
      "\n",
      "“h wash the corstuse ”ou aalit tile,” said alice, “ho wou don’t keke the toedl of the say.”\n",
      "\n",
      "“h wash the corstuse ”ou aalit tile,” said alice, “ho wou don’t keke the toedl of the say.”\n",
      "\n",
      "“h wash the corstuse ”ou aalit tile,” said alice\n",
      "Done\n"
     ]
    }
   ],
   "execution_count": 31
  },
  {
   "metadata": {},
   "cell_type": "code",
   "outputs": [],
   "execution_count": null,
   "source": "",
   "id": "484dcf20b8470292"
  },
  {
   "metadata": {
    "ExecuteTime": {
     "end_time": "2024-12-10T16:29:55.606641Z",
     "start_time": "2024-12-10T16:29:55.603015Z"
    }
   },
   "cell_type": "code",
   "source": [
    "import keras\n",
    "from keras import layers\n",
    "\n",
    "import numpy as np\n",
    "import random\n",
    "import io"
   ],
   "id": "dacd63d8abcb2745",
   "outputs": [],
   "execution_count": 14
  },
  {
   "metadata": {
    "ExecuteTime": {
     "end_time": "2024-12-10T16:30:00.178135Z",
     "start_time": "2024-12-10T16:29:57.387886Z"
    }
   },
   "cell_type": "code",
   "source": [
    "path = keras.utils.get_file(\n",
    "    \"nietzsche.txt\",\n",
    "    origin=\"https://s3.amazonaws.com/text-datasets/nietzsche.txt\",\n",
    ")\n",
    "with io.open(path, encoding=\"utf-8\") as f:\n",
    "    text = f.read().lower()\n",
    "text = text.replace(\"\\n\", \" \")  # We remove newlines chars for nicer display\n",
    "print(\"Corpus length:\", len(text))\n",
    "\n",
    "chars = sorted(list(set(text)))\n",
    "print(\"Total chars:\", len(chars))\n",
    "char_indices = dict((c, i) for i, c in enumerate(chars))\n",
    "indices_char = dict((i, c) for i, c in enumerate(chars))\n",
    "\n",
    "# cut the text in semi-redundant sequences of maxlen characters\n",
    "maxlen = 40\n",
    "step = 3\n",
    "sentences = []\n",
    "next_chars = []\n",
    "for i in range(0, len(text) - maxlen, step):\n",
    "    sentences.append(text[i : i + maxlen])\n",
    "    next_chars.append(text[i + maxlen])\n",
    "print(\"Number of sequences:\", len(sentences))\n",
    "\n",
    "x = np.zeros((len(sentences), maxlen, len(chars)), dtype=\"bool\")\n",
    "y = np.zeros((len(sentences), len(chars)), dtype=\"bool\")\n",
    "for i, sentence in enumerate(sentences):\n",
    "    for t, char in enumerate(sentence):\n",
    "        x[i, t, char_indices[char]] = 1\n",
    "    y[i, char_indices[next_chars[i]]] = 1"
   ],
   "id": "8528d04b46b5280f",
   "outputs": [
    {
     "name": "stdout",
     "output_type": "stream",
     "text": [
      "Downloading data from https://s3.amazonaws.com/text-datasets/nietzsche.txt\n",
      "\u001B[1m600901/600901\u001B[0m \u001B[32m━━━━━━━━━━━━━━━━━━━━\u001B[0m\u001B[37m\u001B[0m \u001B[1m0s\u001B[0m 1us/step\n",
      "Corpus length: 600893\n",
      "Total chars: 56\n",
      "Number of sequences: 200285\n"
     ]
    }
   ],
   "execution_count": 15
  },
  {
   "metadata": {
    "ExecuteTime": {
     "end_time": "2024-12-10T16:30:12.860194Z",
     "start_time": "2024-12-10T16:30:12.818735Z"
    }
   },
   "cell_type": "code",
   "source": [
    "model = keras.Sequential(\n",
    "    [\n",
    "        keras.Input(shape=(maxlen, len(chars))),\n",
    "        layers.LSTM(128),\n",
    "        layers.Dense(len(chars), activation=\"softmax\"),\n",
    "    ]\n",
    ")\n",
    "optimizer = keras.optimizers.RMSprop(learning_rate=0.01)\n",
    "model.compile(loss=\"categorical_crossentropy\", optimizer=optimizer)"
   ],
   "id": "1cf5ead5cce3a216",
   "outputs": [],
   "execution_count": 16
  },
  {
   "metadata": {
    "ExecuteTime": {
     "end_time": "2024-12-10T16:30:35.562312Z",
     "start_time": "2024-12-10T16:30:35.558Z"
    }
   },
   "cell_type": "code",
   "source": [
    "def sample(preds, temperature=1.0):\n",
    "    # helper function to sample an index from a probability array\n",
    "    preds = np.asarray(preds).astype(\"float64\")\n",
    "    preds = np.log(preds) / temperature\n",
    "    exp_preds = np.exp(preds)\n",
    "    preds = exp_preds / np.sum(exp_preds)\n",
    "    probas = np.random.multinomial(1, preds, 1)\n",
    "    return np.argmax(probas)"
   ],
   "id": "970c97c5e068f1df",
   "outputs": [],
   "execution_count": 17
  },
  {
   "metadata": {
    "ExecuteTime": {
     "end_time": "2024-12-10T16:45:47.059576Z",
     "start_time": "2024-12-10T16:31:26.500441Z"
    }
   },
   "cell_type": "code",
   "source": [
    "epochs = 10\n",
    "batch_size = 128\n",
    "\n",
    "for epoch in range(epochs):\n",
    "    model.fit(x, y, batch_size=batch_size, epochs=1)\n",
    "    print()\n",
    "    print(\"Generating text after epoch: %d\" % epoch)\n",
    "\n",
    "    start_index = random.randint(0, len(text) - maxlen - 1)\n",
    "    for diversity in [0.2, 0.5, 1.0, 1.2]:\n",
    "        print(\"...Diversity:\", diversity)\n",
    "\n",
    "        generated = \"\"\n",
    "        sentence = text[start_index : start_index + maxlen]\n",
    "        print('...Generating with seed: \"' + sentence + '\"')\n",
    "\n",
    "        for i in range(400):\n",
    "            x_pred = np.zeros((1, maxlen, len(chars)))\n",
    "            for t, char in enumerate(sentence):\n",
    "                x_pred[0, t, char_indices[char]] = 1.0\n",
    "            preds = model.predict(x_pred, verbose=0)[0]\n",
    "            next_index = sample(preds, diversity)\n",
    "            next_char = indices_char[next_index]\n",
    "            sentence = sentence[1:] + next_char\n",
    "            generated += next_char\n",
    "\n",
    "        print(\"...Generated: \", generated)\n",
    "        print(\"-\")"
   ],
   "id": "db224c14d87f2be0",
   "outputs": [
    {
     "name": "stdout",
     "output_type": "stream",
     "text": [
      "\u001B[1m1565/1565\u001B[0m \u001B[32m━━━━━━━━━━━━━━━━━━━━\u001B[0m\u001B[37m\u001B[0m \u001B[1m31s\u001B[0m 20ms/step - loss: 1.8086\n",
      "\n",
      "Generating text after epoch: 0\n",
      "...Diversity: 0.2\n",
      "...Generating with seed: \" in respect to the exoteric class, stand\"\n",
      "...Generated:  s and superion to a superion of the superion of the superion to the stands the contrance of the superion of the superion of the selfous and superion to the despectation of the superion of the superion of the self to the superion of the superion of the self a strong the self-contration of the superion of the superion of the superion of the contrance of the as a superion of the superion of the self-\n",
      "-\n",
      "...Diversity: 0.5\n",
      "...Generating with seed: \" in respect to the exoteric class, stand\"\n",
      "...Generated:  s of the well to a sater and to the taste of the preserfent to superiled of the desprive one to see in the world to the man in the will in the sudenced, was the stands and the custen with he would to all to the one such a father man for the action of the string belong man ounter, the subless the self more for who are to the contrace, the serening to the to distromity and the stork a propoten and n\n",
      "-\n",
      "...Diversity: 1.0\n",
      "...Generating with seed: \" in respect to the exoteric class, stand\"\n",
      "...Generated:   ye has to wainned out only failf of dach, and a decopning, more portsess, virtues, \"immeases and hegartion of taited without was echoman phelobitial? still in the to the wead, , man to so, his .suchount to a lands of dangeroul \"from. beener ars, who lasce of subulities of cerfice: is your nober-whatestbe ranged and good for refation of a but revethery to ouns-adaited aill to actly can and is futl\n",
      "-\n",
      "...Diversity: 1.2\n",
      "...Generating with seed: \" in respect to the exoteric class, stand\"\n",
      "...Generated:  s: -knins taking in derpinchipcidece taste of what not wran utable another haptistic offulted caind ounloble themsand ormerer to accompat, it. at sure, excansiedly dupluce-wnouphy finith\" \".not to  depunt bahcamys and takes appectals, an. man, it wimed and dis do ao exthisy bot, a  them seasbels--cained \"fosl,cy-mustvented dom theepessing giveniose and milaceined:\" -whole has ve hel: fol trat bela\n",
      "-\n",
      "\u001B[1m1565/1565\u001B[0m \u001B[32m━━━━━━━━━━━━━━━━━━━━\u001B[0m\u001B[37m\u001B[0m \u001B[1m32s\u001B[0m 21ms/step - loss: 1.5491\n",
      "\n",
      "Generating text after epoch: 1\n",
      "...Diversity: 0.2\n",
      "...Generating with seed: \"nded, that the will is most infirm, and \"\n",
      "...Generated:  his complete of the strength of the strength of the command and he must sense of the strength and self-comment of the stakes of the strength of the strange, the state of the strength and the same the strength of the strength of the propose of the strength of the strength of the strength in the strength of the strange, the strength of the strength in the scholation of the strength and strength of t\n",
      "-\n",
      "...Diversity: 0.5\n",
      "...Generating with seed: \"nded, that the will is most infirm, and \"\n",
      "...Generated:  distaste resistoled as he be not as exist as the possess of the more expentions and self-strength in the macking to who master of a commangere which the strength is not be us and himself of the slave with the contendent the commoned of the exmperial man the states commangerous and a be some commpreter for all the most posserve to him the singer the strength of the manifest compands and in the matt\n",
      "-\n",
      "...Diversity: 1.0\n",
      "...Generating with seed: \"nded, that the will is most infirm, and \"\n",
      "...Generated:  omeent. a that who kant not con the treely the fainten2ly also with he appoch of his were samit.           i mare, in trenclusage, grat adbfliend of aguined whatever varblities and chirstine of gain of the comesuching--that nature aboutone's, by the eadinakly adm interpeine sartated as us and europe, they who gnedthing po meas form which something menred say uses, (they k and perhaps notpe upsess \n",
      "-\n",
      "...Diversity: 1.2\n",
      "...Generating with seed: \"nded, that the will is most infirm, and \"\n",
      "...Generated:  reg,  nomee, mast recaurally neres. in the kind fuelt corabousnession--wand mors more did acsonite. we asutolay a continuarian fyccgently pelduation who us obd tykand a poes          you, of schelansous to utsels--that whicr the molasts that is that bup ne-presponds ipe notonges dooin, with so-woman.=--ilhno es its awming of elemertioncety, for human lask idelesantions:a: suspic out, europe frie a\n",
      "-\n",
      "\u001B[1m1565/1565\u001B[0m \u001B[32m━━━━━━━━━━━━━━━━━━━━\u001B[0m\u001B[37m\u001B[0m \u001B[1m33s\u001B[0m 21ms/step - loss: 1.4590\n",
      "\n",
      "Generating text after epoch: 2\n",
      "...Diversity: 0.2\n",
      "...Generating with seed: \"rds ourselves!  260. in a tour through t\"\n",
      "...Generated:  he superiol that it is the still more consciousness and the world of the senses of the senses of the self-consciousness and as the self-contrary of the senses the senses of the senses of the profound to the sensible the senses of the senses of the self-consciousness of the senses and things to the senses the more so for the consciousness and as the self-consciousness of the self-consciousness and \n",
      "-\n",
      "...Diversity: 0.5\n",
      "...Generating with seed: \"rds ourselves!  260. in a tour through t\"\n",
      "...Generated:  he would be such as a fact is all that the self-certain still and one be one must be a morality in things are as the worthfulled and itself and the dangerous more evil to the standation as a present things of the reasonous men as it as the virtue of the does not been does men, that is been individual is be things that he was the simplicateour morality and this say his day been opinion of conceptio\n",
      "-\n",
      "...Diversity: 1.0\n",
      "...Generating with seed: \"rds ourselves!  260. in a tour through t\"\n",
      "...Generated:  his other man.wither. it jutt as not instincal wise.  the point as the same pave intise, in the certain amers a than \"in sermot, only senseming, or utilitarditance, paksic truic of means.                        no by thing. notore of god his formsly. is nature, in worth,\" his ortation? it be contrary accivable in all knowledge that he is coarther of the gives the \"gantlyful, as dogay. , explactact\n",
      "-\n",
      "...Diversity: 1.2\n",
      "...Generating with seed: \"rds ourselves!  260. in a tour through t\"\n",
      "...Generated:  he entination. this cladance of the evil of all5a,)a, dongarws-asnession of fraque, to be ha.k things of this preciace, his8c: will in hewarrohed. we, that only other? it dread unjempt most plyse syrmably instincts.\"--! wisulatuates! which onew always need, and uightes and an, and  forcied- gandful we susifiated, tout of of which you for fear1--that  iltive weak, and flinemy promine adumelf have t\n",
      "-\n",
      "\u001B[1m1565/1565\u001B[0m \u001B[32m━━━━━━━━━━━━━━━━━━━━\u001B[0m\u001B[37m\u001B[0m \u001B[1m32s\u001B[0m 20ms/step - loss: 1.4057\n",
      "\n",
      "Generating text after epoch: 3\n",
      "...Diversity: 0.2\n",
      "...Generating with seed: \"s, how his mind, after the least exertio\"\n",
      "...Generated:  ns of the subject of the prostically and the solitional sense and interest to the subject of the same subjection of the best to the present to the such a present to the same more and the subject of the subject of the subject of the profoundly and an all and the subject of the strength of the profound the self about the solitional only so that is the strange of the subject of the subject of the gre\n",
      "-\n",
      "...Diversity: 0.5\n",
      "...Generating with seed: \"s, how his mind, after the least exertio\"\n",
      "...Generated:  n, be one delicate consciousness of the contration of explaration of the restion, which would be the the philosopher from the great conscient to the intermorally of the process the consciousn of the experions to be there more his contrary, so the conscient of the still to the experience and the first to be contradict of developed to the remained anything to his prierous as for the subjection to hi\n",
      "-\n",
      "...Diversity: 1.0\n",
      "...Generating with seed: \"s, how his mind, after the least exertio\"\n",
      "...Generated:  n tomates recoccionized reveronedly relule, scorten sensea; of all signionation--i sisples? in this profurness or desire enligher resenses themselves a certain own and worst to wants to be the out of an accordined us the indegent conspict--wore be man a proscration of the larglize and sheridness and await of etrreat to truth of natural victious; philosophers,   clrost consquict which those or as t\n",
      "-\n",
      "...Diversity: 1.2\n",
      "...Generating with seed: \"s, how his mind, after the least exertio\"\n",
      "...Generated:  ns: in asmain will, in name: unbelienisal testening one man?   in wasten to moralitionablilipormented ger-and except oh, holdss,! their proble intermits be awart like in sycbepnegare to benome an ahhelowed truel ay a living againsting centurn: god are not thing? is up other forger, \"but \"noncelv\" you his spire mean bad a certain sense an indifidion; beyond in his c.-!unlighteon oa? with much betci\n",
      "-\n",
      "\u001B[1m1565/1565\u001B[0m \u001B[32m━━━━━━━━━━━━━━━━━━━━\u001B[0m\u001B[37m\u001B[0m \u001B[1m36s\u001B[0m 23ms/step - loss: 1.3785\n",
      "\n",
      "Generating text after epoch: 4\n",
      "...Diversity: 0.2\n",
      "...Generating with seed: \"and \"not for myself,\" for one not needin\"\n",
      "...Generated:  g of the head and the standing the same fact to the same a soul of the same the standing the same substate the subtle the sense of the subject of the specially and all the state the standed and subtle the sense of the standing the standing the stand of the standing the contradies and intended and sense of the state the standing the stand the state of the state the standed to the sense of the stand\n",
      "-\n",
      "...Diversity: 0.5\n",
      "...Generating with seed: \"and \"not for myself,\" for one not needin\"\n",
      "...Generated:  g to the sident of the processed is almost probably in the believe for the prestrain of the light of the art of the sound has in the end of such a sateral constrain to the conscience in the spirit a philosophy, the sentiments and everything from the still to the considered to the lightain and intellectual strencting and has been experiences and assume and destrisited him add as substrange of its s\n",
      "-\n",
      "...Diversity: 1.0\n",
      "...Generating with seed: \"and \"not for myself,\" for one not needin\"\n",
      "...Generated:  g does he syrmes?, is alsof often perhaps and habious, at its have asfuctude= of their lichless at all ofnessural other's ill-timeed be unwan de that is whanmen, periedicion psec are could a belong efficial mo; unosouchurdity timemonousle places and if every former's time of appanitrato-sto c; is remained and drnep pain to be called by a free dealing education of sicklessed, is regarded hemer simp\n",
      "-\n",
      "...Diversity: 1.2\n",
      "...Generating with seed: \"and \"not for myself,\" for one not needin\"\n",
      "...Generated:  g, hastle afflict into badness of trusts. and transh mannificiversions stimul, among the tempo,, song and moral, prhtedsion]-lyst pain upgosm belueving\"danous emplay; that \"origins,\" and please men earsciple, is have elunt even welf and \"bellaigmunces, from the constitious but p thingmange, whatever we kinds. the] repose dem the other rea effects the ctues in accord sonutionally elsminations, undo\n",
      "-\n",
      "\u001B[1m1565/1565\u001B[0m \u001B[32m━━━━━━━━━━━━━━━━━━━━\u001B[0m\u001B[37m\u001B[0m \u001B[1m33s\u001B[0m 21ms/step - loss: 1.3539\n",
      "\n",
      "Generating text after epoch: 5\n",
      "...Diversity: 0.2\n",
      "...Generating with seed: \"his predominant moral theory, in a manne\"\n",
      "...Generated:  r the same something in the soul the moral in the subtioning of the same more and distinct of the substant and in the power and interpratical intellectual the sense of the sublicies of the sublicies of the state of the same more and soul of the self-desire in the same time of the state of the something who would be and the sublicted to the sense of the sublicies of the subtiority of the strange of\n",
      "-\n",
      "...Diversity: 0.5\n",
      "...Generating with seed: \"his predominant moral theory, in a manne\"\n",
      "...Generated:  r of all in his forther it is the work of self-relacious, and love of the distrust has an only the uninterelf of the most spirit it is for the morality and most attempt of conscience, and event and another man is a disuigures and must be also for his own soul in the conscion in the results the sublicies and in our finer to the same traisly would be nature the contrast the sense of the delight in t\n",
      "-\n",
      "...Diversity: 1.0\n",
      "...Generating with seed: \"his predominant moral theory, in a manne\"\n",
      "...Generated:  rs of life of envianlows itself! such grate and unconmont man, who has not the same our became proporitying folly. he frence definition, every insiduents is systempofice, to be far lys to him, is, when a cormorst in fact of his riving lives for mearned sense!, to be whomonicgs as its destit would thereby result is and desuriently ramang out being cleature--as a learn in the samile, delight and the\n",
      "-\n",
      "...Diversity: 1.2\n",
      "...Generating with seed: \"his predominant moral theory, in a manne\"\n",
      "...Generated:  r, so, vertatice.\" on hmol to fair est-mence namelying fame--for convictly toogerous dutionedä forour dsouther the stut.--they\"--and,, may threour. a meant. we need these ape;acious. it. heremow systems and effores accorditud to our fear account as no tookour, as \"the act, this, only higher hils, on cest, be more glodabling he regard? what they youghd this is the deeper coss, of which cancon-insta\n",
      "-\n",
      "\u001B[1m1565/1565\u001B[0m \u001B[32m━━━━━━━━━━━━━━━━━━━━\u001B[0m\u001B[37m\u001B[0m \u001B[1m40s\u001B[0m 26ms/step - loss: 1.3349\n",
      "\n",
      "Generating text after epoch: 6\n",
      "...Diversity: 0.2\n",
      "...Generating with seed: \" of the next century.   26  =reaction as\"\n",
      "...Generated:   the contrary in the sense of the man from the conscience and the subject of the subject of the same a problem of the man of the soul of the strange of the subject of the conscience and the strange of the strange of the man for the like to be its and the same one must be the something the same the strange the something the sense of the strange of the contradictor of the sense of the same a soul of\n",
      "-\n",
      "...Diversity: 0.5\n",
      "...Generating with seed: \" of the next century.   26  =reaction as\"\n",
      "...Generated:   a man nature in which we have not to the possible thought the long the truth of the thing to his and to even the long so sacrifice of the most religion of man sense and anti-have a profound the free opinion of the spectarly similaristom and every even the believers and an assest to be proses the englahis of the entire to will as for this event the personal manifol to the comprehend the fine the m\n",
      "-\n",
      "...Diversity: 1.0\n",
      "...Generating with seed: \" of the next century.   26  =reaction as\"\n",
      "...Generated:   easi on virtues and excested and sight, what this rank badness--it should man conscience and things will conscience which long alsaverination has aim to hear more are long piet of the worth, to day nothing individual saill but the consure of the leque. but the us the uncenter his virtues. were is foreswhylly an--manver, the highest contraved complete in the come the gratrable of then only univi g\n",
      "-\n",
      "...Diversity: 1.2\n",
      "...Generating with seed: \" of the next century.   26  =reaction as\"\n",
      "...Generated:   holo painty-;and swibtenugened pintors religion morhobled, and word greeks, and rather one meens and lud, but bointer inner things not !ffeech of mank, wherebesplaxther hypother thise. are manifol, an ove cult be same though a longing. far satifised us even to velligies, graining which the modern methreat yeat? loker? ere actomenthum of knows things in even instinct feeling--but in enjoy to the m\n",
      "-\n",
      "\u001B[1m1565/1565\u001B[0m \u001B[32m━━━━━━━━━━━━━━━━━━━━\u001B[0m\u001B[37m\u001B[0m \u001B[1m35s\u001B[0m 22ms/step - loss: 1.3252\n",
      "\n",
      "Generating text after epoch: 7\n",
      "...Diversity: 0.2\n",
      "...Generating with seed: \"tion on the part of a being who is thoug\"\n",
      "...Generated:  ht to the highest such as the same a procest the serious and the seeming of the prompted the man of the most seems to him the something the something the serious and the process and such a sure, the significance of the same such a something the contempt of the same should be the same problem of the same a something the contrast that the stranges of the prompted to the same as the same a speak of t\n",
      "-\n",
      "...Diversity: 0.5\n",
      "...Generating with seed: \"tion on the part of a being who is thoug\"\n",
      "...Generated:  h a contemptation of the destructive and such presented as probable the masterical fact that it is all a point of the spirit is to be profound the procest desire, the reculaisity and instrume of himself is not the great man of a god is not the dangerous spirituality to the conscientes) to him to the like the same a little man and its fingled to pridect from the continually means of the glodishan a\n",
      "-\n",
      "...Diversity: 1.0\n",
      "...Generating with seed: \"tion on the part of a being who is thoug\"\n",
      "...Generated:  ht, distactifical, fuont which mlsence; condetion, real, a greatest sidridity the spiritual where the close of the women and human efficeral discle that the from the gains complited enjored of its easity has then be consistently parige, the sinfers. this dilaction; us own eils estains now \"him gain.\" in nature was aghing to greateon have led affard. there a bitra voich it with an almost individual\n",
      "-\n",
      "...Diversity: 1.2\n",
      "...Generating with seed: \"tion on the part of a being who is thoug\"\n",
      "...Generated:  ht the s., a \"indescripitantal way in the lainered--every cause of if eornosony--it is to opelignt but then be account, way of believity egoist if he reasous and psycious \"preferily out of pain. and it is anti--as toefulver of rear-whose fundamenteds is procee to xe-dutifedivation for contrults and respectable marid emby contemptative even tolisical lis even conplained certainfulwrung of the \"put \n",
      "-\n",
      "\u001B[1m1565/1565\u001B[0m \u001B[32m━━━━━━━━━━━━━━━━━━━━\u001B[0m\u001B[37m\u001B[0m \u001B[1m31s\u001B[0m 20ms/step - loss: 1.3104\n",
      "\n",
      "Generating text after epoch: 8\n",
      "...Diversity: 0.2\n",
      "...Generating with seed: \"ich the multitude, above all the reveren\"\n",
      "...Generated:  ce of the same as the spirit of the specially and the most and preservation of the sense of the special and the last and the more and all the conscious and impossible and and so the propossible the experiences and the most and for the propossible the properlest and so man of the consist of the more and the philosopher has be the possible the point of the subject of the stronger and in the propossi\n",
      "-\n",
      "...Diversity: 0.5\n",
      "...Generating with seed: \"ich the multitude, above all the reveren\"\n",
      "...Generated:  ce the individual considerable and his experiences now precisely the consist the consequently to so man himself the contrast to the derive the origin of all the agres something the really world--and and we were necessary reverenced the state of the the arrach in the more same with itself, and and the intention is more for an any of special and the operate soul of the most synthest and a promisal n\n",
      "-\n",
      "...Diversity: 1.0\n",
      "...Generating with seed: \"ich the multitude, above all the reveren\"\n",
      "...Generated:  ction and world-sudeing the modestard perhaps a masher that even with a skepling or great himself. in regard to the reacle nehobsed the admisted also definites the method with morbers vanity; you, one retarrem in the of hour not app forther mere such stall; his other man and ciriol.  222. an arty indical wisn so should have always is nature, explazation of menyival\" bo his masing to the men for th\n",
      "-\n",
      "...Diversity: 1.2\n",
      "...Generating with seed: \"ich the multitude, above all the reveren\"\n",
      "...Generated:  ce pathounous:  thors more a dogaus botiens so gat denurningly pla(plefule; be are remarkest conæcience lasting belongs to the among lichor capas aboutsroos had givet for go. many the false easies, burlices  rogi; sake, kwilly more good gomming! hind to two be connactions abouteh in heeghing of euthoneony; so should ner the one turn anm character invaluation. the master responsibien drran there it\n",
      "-\n",
      "\u001B[1m1565/1565\u001B[0m \u001B[32m━━━━━━━━━━━━━━━━━━━━\u001B[0m\u001B[37m\u001B[0m \u001B[1m36s\u001B[0m 23ms/step - loss: 1.3003\n",
      "\n",
      "Generating text after epoch: 9\n",
      "...Diversity: 0.2\n",
      "...Generating with seed: \"ling just as well as with it.--hence the\"\n",
      "...Generated:   problem and do the strength of the strange the strength of the subject of the stand and the subject of the conscious and probable to the profoundly and the probably the strength of the philosophers and the subject of the strength of the profoundly the distrustical and soul of the profoundly the conscious and the common--it is a surress of the spirit of a profoundly and strength of the spiritualit\n",
      "-\n",
      "...Diversity: 0.5\n",
      "...Generating with seed: \"ling just as well as with it.--hence the\"\n",
      "...Generated:   doubted to do be the spirit himself no one cause of the spiritument of the former with a common to us to the philosopher for love of an advantageous and ordinary instinction of his estable and instinction of its of the strangeness and such a respect, which is the streat souls and whom he subject of the morality of the conscious modern his the truth of his to them with the unilige to the truth to \n",
      "-\n",
      "...Diversity: 1.0\n",
      "...Generating with seed: \"ling just as well as with it.--hence the\"\n",
      "...Generated:   prodoco, at an its ideas they reterming that the vain se-mention of relations science of that wish in all them and and evil religion every ideally climtuantly the ors up  bout wheehev be power, one respect here whole much its dad as true of the popieffuction that it fi\"n. thus everything intertainity that in art of following \"full\" does it before their reduce, in a colefully, as the turnified wit\n",
      "-\n",
      "...Diversity: 1.2\n",
      "...Generating with seed: \"ling just as well as with it.--hence the\"\n",
      "...Generated:  ow, they are ciltius? and almisip stronh age rogable pride, this greecest wost allowedy: he has a be; philoto that, bringëated howives?\"-goodnernus ligh, but as easy it life to human of delight, severiugnegity--ad: pultigent and emotiona' happyrings of resumtidiesh ic. one formernification: a go, to as eternal hyphowe from human plebeblet quutudce--his own oince, but are endry ehilfor, causartaipk\n",
      "-\n"
     ]
    }
   ],
   "execution_count": 21
  },
  {
   "metadata": {},
   "cell_type": "code",
   "outputs": [],
   "execution_count": null,
   "source": "",
   "id": "946d20e14a575b0"
  }
 ],
 "metadata": {
  "kernelspec": {
   "display_name": "Python 3",
   "language": "python",
   "name": "python3"
  },
  "language_info": {
   "codemirror_mode": {
    "name": "ipython",
    "version": 2
   },
   "file_extension": ".py",
   "mimetype": "text/x-python",
   "name": "python",
   "nbconvert_exporter": "python",
   "pygments_lexer": "ipython2",
   "version": "2.7.6"
  }
 },
 "nbformat": 4,
 "nbformat_minor": 5
}
